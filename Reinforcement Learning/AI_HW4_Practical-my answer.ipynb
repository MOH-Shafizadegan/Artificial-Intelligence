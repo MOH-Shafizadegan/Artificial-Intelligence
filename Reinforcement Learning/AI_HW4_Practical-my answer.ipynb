{
  "cells": [
    {
      "cell_type": "markdown",
      "metadata": {
        "id": "0MJtQYNJx6Ex"
      },
      "source": [
        "<div align=center>\n",
        "\t\t\n",
        "<font size=5>\n",
        "In the Name of God\n",
        "<font/>\n",
        "<p></p>\n",
        "<br/>\n",
        "<br/>\n",
        "<font color=#FF7500>\n",
        "Sharif University of Technology - Departmenet of Computer Engineering\n",
        "</font>\n",
        "<p></p>\n",
        "<font color=blue>\n",
        "Artifical Intelligence - Dr. Mahdieh Soleimani\n",
        "</font>\n",
        "<br/>\n",
        "<br/>\n",
        "Fall 2022\n",
        "\n",
        "<hr/>\n",
        "<font color=red>\n",
        "Reinforcment Learning Practical Assignment (50 + 10 points)\n",
        "</font>\n",
        "</div>\n",
        "\n",
        "<ul>\n",
        "  <li>Some cell's outputs have not been deleted. you can use these to make sure your implementation is correct.</li>\n",
        "</ul>"
      ]
    },
    {
      "cell_type": "markdown",
      "metadata": {
        "id": "rgA9_usLx6Ey"
      },
      "source": [
        "In this notebook you will use the [openai gym](https://www.gymlibrary.dev/) library to train agents in two different reinforcment learning environments. the first environment is a very simple grid-world with discrete states. The second environment however, has continous states.  \n",
        "make sure to upload your model performance video alongside this notebook. We suggest running this notebook on google colab so that you wont face any package errors."
      ]
    },
    {
      "cell_type": "markdown",
      "metadata": {
        "id": "4uzpGHXRx6Ey"
      },
      "source": [
        "we will first install the necessary packages."
      ]
    },
    {
      "cell_type": "code",
      "execution_count": 9,
      "metadata": {
        "colab": {
          "base_uri": "https://localhost:8080/",
          "height": 1000
        },
        "id": "XO-JzYynx6Ez",
        "outputId": "bee76dcf-0dbd-48fa-f142-b6e39951df6c"
      },
      "outputs": [
        {
          "output_type": "stream",
          "name": "stdout",
          "text": [
            "Looking in indexes: https://pypi.org/simple, https://us-python.pkg.dev/colab-wheels/public/simple/\n",
            "Collecting gym==0.26\n",
            "  Downloading gym-0.26.0.tar.gz (710 kB)\n",
            "\u001b[K     |████████████████████████████████| 710 kB 4.8 MB/s \n",
            "\u001b[?25h  Installing build dependencies ... \u001b[?25l\u001b[?25hdone\n",
            "  Getting requirements to build wheel ... \u001b[?25l\u001b[?25hdone\n",
            "    Preparing wheel metadata ... \u001b[?25l\u001b[?25hdone\n",
            "Requirement already satisfied: cloudpickle>=1.2.0 in /usr/local/lib/python3.8/dist-packages (from gym==0.26) (1.5.0)\n",
            "Requirement already satisfied: importlib-metadata>=4.8.0 in /usr/local/lib/python3.8/dist-packages (from gym==0.26) (4.13.0)\n",
            "Requirement already satisfied: numpy>=1.18.0 in /usr/local/lib/python3.8/dist-packages (from gym==0.26) (1.21.6)\n",
            "Requirement already satisfied: gym-notices>=0.0.4 in /usr/local/lib/python3.8/dist-packages (from gym==0.26) (0.0.8)\n",
            "Requirement already satisfied: zipp>=0.5 in /usr/local/lib/python3.8/dist-packages (from importlib-metadata>=4.8.0->gym==0.26) (3.11.0)\n",
            "Building wheels for collected packages: gym\n",
            "  Building wheel for gym (PEP 517) ... \u001b[?25l\u001b[?25hdone\n",
            "  Created wheel for gym: filename=gym-0.26.0-py3-none-any.whl size=826301 sha256=862dc0a5e529bb58e4f7162a901e46ba074d21054b2937b320eb78adfb705ed9\n",
            "  Stored in directory: /root/.cache/pip/wheels/f1/f2/92/63d51de23bd3ef89d87af5663ef0a1b04781ccb9757b6f98d4\n",
            "Successfully built gym\n",
            "Installing collected packages: gym\n",
            "  Attempting uninstall: gym\n",
            "    Found existing installation: gym 0.25.2\n",
            "    Uninstalling gym-0.25.2:\n",
            "      Successfully uninstalled gym-0.25.2\n",
            "Successfully installed gym-0.26.0\n"
          ]
        },
        {
          "output_type": "display_data",
          "data": {
            "application/vnd.colab-display-data+json": {
              "pip_warning": {
                "packages": [
                  "gym"
                ]
              }
            }
          },
          "metadata": {}
        },
        {
          "output_type": "stream",
          "name": "stdout",
          "text": [
            "Looking in indexes: https://pypi.org/simple, https://us-python.pkg.dev/colab-wheels/public/simple/\n",
            "Requirement already satisfied: imageio in /usr/local/lib/python3.8/dist-packages (2.9.0)\n",
            "Collecting imageio_ffmpeg\n",
            "  Downloading imageio_ffmpeg-0.4.7-py3-none-manylinux2010_x86_64.whl (26.9 MB)\n",
            "\u001b[K     |████████████████████████████████| 26.9 MB 1.5 MB/s \n",
            "\u001b[?25hRequirement already satisfied: pillow in /usr/local/lib/python3.8/dist-packages (from imageio) (7.1.2)\n",
            "Requirement already satisfied: numpy in /usr/local/lib/python3.8/dist-packages (from imageio) (1.21.6)\n",
            "Installing collected packages: imageio-ffmpeg\n",
            "Successfully installed imageio-ffmpeg-0.4.7\n",
            "Looking in indexes: https://pypi.org/simple, https://us-python.pkg.dev/colab-wheels/public/simple/\n",
            "Collecting pygame\n",
            "  Downloading pygame-2.1.2-cp38-cp38-manylinux_2_17_x86_64.manylinux2014_x86_64.whl (21.8 MB)\n",
            "\u001b[K     |████████████████████████████████| 21.8 MB 1.3 MB/s \n",
            "\u001b[?25hInstalling collected packages: pygame\n",
            "Successfully installed pygame-2.1.2\n",
            "Looking in indexes: https://pypi.org/simple, https://us-python.pkg.dev/colab-wheels/public/simple/\n",
            "Collecting pyglet==1.5.1\n",
            "  Downloading pyglet-1.5.1-py2.py3-none-any.whl (1.0 MB)\n",
            "\u001b[K     |████████████████████████████████| 1.0 MB 5.2 MB/s \n",
            "\u001b[?25hInstalling collected packages: pyglet\n",
            "Successfully installed pyglet-1.5.1\n",
            "Reading package lists... Done\n",
            "Building dependency tree       \n",
            "Reading state information... Done\n",
            "The following package was automatically installed and is no longer required:\n",
            "  libnvidia-common-460\n",
            "Use 'apt autoremove' to remove it.\n",
            "The following additional packages will be installed:\n",
            "  freeglut3\n",
            "Suggested packages:\n",
            "  libgle3\n",
            "The following NEW packages will be installed:\n",
            "  freeglut3 python-opengl\n",
            "0 upgraded, 2 newly installed, 0 to remove and 20 not upgraded.\n",
            "Need to get 570 kB of archives.\n",
            "After this operation, 5,733 kB of additional disk space will be used.\n",
            "Get:1 http://archive.ubuntu.com/ubuntu bionic/universe amd64 freeglut3 amd64 2.8.1-3 [73.6 kB]\n",
            "Get:2 http://archive.ubuntu.com/ubuntu bionic/universe amd64 python-opengl all 3.1.0+dfsg-1 [496 kB]\n",
            "Fetched 570 kB in 1s (692 kB/s)\n",
            "Selecting previously unselected package freeglut3:amd64.\n",
            "(Reading database ... 124013 files and directories currently installed.)\n",
            "Preparing to unpack .../freeglut3_2.8.1-3_amd64.deb ...\n",
            "Unpacking freeglut3:amd64 (2.8.1-3) ...\n",
            "Selecting previously unselected package python-opengl.\n",
            "Preparing to unpack .../python-opengl_3.1.0+dfsg-1_all.deb ...\n",
            "Unpacking python-opengl (3.1.0+dfsg-1) ...\n",
            "Setting up freeglut3:amd64 (2.8.1-3) ...\n",
            "Setting up python-opengl (3.1.0+dfsg-1) ...\n",
            "Processing triggers for libc-bin (2.27-3ubuntu1.6) ...\n",
            "Reading package lists... Done\n",
            "Building dependency tree       \n",
            "Reading state information... Done\n",
            "ffmpeg is already the newest version (7:3.4.11-0ubuntu0.1).\n",
            "The following package was automatically installed and is no longer required:\n",
            "  libnvidia-common-460\n",
            "Use 'apt autoremove' to remove it.\n",
            "0 upgraded, 0 newly installed, 0 to remove and 20 not upgraded.\n",
            "Reading package lists... Done\n",
            "Building dependency tree       \n",
            "Reading state information... Done\n",
            "The following package was automatically installed and is no longer required:\n",
            "  libnvidia-common-460\n",
            "Use 'apt autoremove' to remove it.\n",
            "The following NEW packages will be installed:\n",
            "  xvfb\n",
            "0 upgraded, 1 newly installed, 0 to remove and 20 not upgraded.\n",
            "Need to get 785 kB of archives.\n",
            "After this operation, 2,271 kB of additional disk space will be used.\n",
            "Get:1 http://archive.ubuntu.com/ubuntu bionic-updates/universe amd64 xvfb amd64 2:1.19.6-1ubuntu4.12 [785 kB]\n",
            "Fetched 785 kB in 1s (1,059 kB/s)\n",
            "Selecting previously unselected package xvfb.\n",
            "(Reading database ... 126373 files and directories currently installed.)\n",
            "Preparing to unpack .../xvfb_2%3a1.19.6-1ubuntu4.12_amd64.deb ...\n",
            "Unpacking xvfb (2:1.19.6-1ubuntu4.12) ...\n",
            "Setting up xvfb (2:1.19.6-1ubuntu4.12) ...\n",
            "Processing triggers for man-db (2.8.3-2ubuntu0.1) ...\n",
            "Looking in indexes: https://pypi.org/simple, https://us-python.pkg.dev/colab-wheels/public/simple/\n",
            "Collecting pyvirtualdisplay\n",
            "  Downloading PyVirtualDisplay-3.0-py3-none-any.whl (15 kB)\n",
            "Installing collected packages: pyvirtualdisplay\n",
            "Successfully installed pyvirtualdisplay-3.0\n"
          ]
        }
      ],
      "source": [
        "!pip install gym==0.26\n",
        "!pip install imageio imageio_ffmpeg\n",
        "!pip install pygame\n",
        "!pip install pyglet==1.5.1 \n",
        "!apt install python-opengl\n",
        "!apt install ffmpeg\n",
        "!apt install xvfb\n",
        "!pip3 install pyvirtualdisplay"
      ]
    },
    {
      "cell_type": "code",
      "execution_count": null,
      "metadata": {
        "id": "_qngLbD4RnVx"
      },
      "outputs": [],
      "source": []
    },
    {
      "cell_type": "markdown",
      "metadata": {
        "id": "vjYtp6cyyXi-"
      },
      "source": [
        "the functions below will be used to make a video of the model performance. It will start the environment and choose the best action based on the given Qtable."
      ]
    },
    {
      "cell_type": "code",
      "execution_count": 1,
      "metadata": {
        "id": "-uB9baAkykMs"
      },
      "outputs": [],
      "source": [
        "from IPython.display import HTML\n",
        "from base64 import b64encode\n",
        "import imageio\n",
        "\n",
        "## comment this part if your not using google colab\n",
        "from pyvirtualdisplay import Display\n",
        "virtual_display = Display(visible=0, size=(1400, 900))\n",
        "virtual_display.start()\n",
        "######################\n",
        "\n",
        "def record_video_frozen_lake_env(env, Qtable, out_directory, fps=1, random_action=False):\n",
        "  images = []  \n",
        "  done = False\n",
        "  state, info = env.reset(seed=random.randint(0,500))\n",
        "  img = env.render()\n",
        "  images.append(img)\n",
        "  while not done:\n",
        "    # Take the action (index) that have the maximum expected future reward given that state\n",
        "    action = np.random.randint(4)  if random_action else np.argmax(Qtable[state][:])\n",
        "    state, reward, done, truncated, info = env.step(action)\n",
        "    img = env.render()\n",
        "    images.append(img)\n",
        "  imageio.mimsave(out_directory, [np.array(img) for i, img in enumerate(images)], fps=fps)\n",
        "\n",
        "def show_video(video_path, video_width = 600):\n",
        "  video_file = open(video_path, \"r+b\").read()\n",
        "  video_url = f\"data:video/mp4;base64,{b64encode(video_file).decode()}\"\n",
        "  return HTML(f\"\"\"<video width={video_width} controls><source src=\"{video_url}\"></video>\"\"\")"
      ]
    },
    {
      "cell_type": "markdown",
      "metadata": {
        "id": "281QULrBtRtK"
      },
      "source": [
        "## Part I: FrozenLake Environment (35 + 10 Points)"
      ]
    },
    {
      "cell_type": "code",
      "execution_count": 2,
      "metadata": {
        "id": "k2zC-9XIoYEL"
      },
      "outputs": [],
      "source": [
        "import numpy as np\n",
        "import gym\n",
        "import random\n",
        "from tqdm.notebook import tqdm"
      ]
    },
    {
      "cell_type": "markdown",
      "metadata": {
        "id": "clVAINP0xO17"
      },
      "source": [
        "In this exercise, we want to solve the FrozenLake environment. It is a simple grid-world environment where we have to reach a goal state while avoiding holes.  \n",
        "You can read more about this environment [here](https://www.gymlibrary.dev/environments/toy_text/frozen_lake/)"
      ]
    },
    {
      "cell_type": "markdown",
      "metadata": {
        "id": "YpWqhWmdy0rp"
      },
      "source": [
        "**[Question 1 (1 Points)]**  \n",
        "Create a <u>slippery</u> FrozenLake environment of size <u>4x4</u>"
      ]
    },
    {
      "cell_type": "code",
      "execution_count": 15,
      "metadata": {
        "id": "VcYInB5gzszF"
      },
      "outputs": [],
      "source": [
        "env = gym.make(\"FrozenLake-v1\", map_name=\"4x4\", is_slippery=True, render_mode='rgb_array')"
      ]
    },
    {
      "cell_type": "markdown",
      "metadata": {
        "id": "EfnH3pYryxwf"
      },
      "source": [
        "Let's run a random policy in this environement to get a better understanding of it."
      ]
    },
    {
      "cell_type": "code",
      "execution_count": 16,
      "metadata": {
        "colab": {
          "base_uri": "https://localhost:8080/",
          "height": 621
        },
        "id": "dzYhV3GSyxGq",
        "outputId": "d3a24793-9d37-4ace-e470-87eae74f67e6"
      },
      "outputs": [
        {
          "output_type": "execute_result",
          "data": {
            "text/plain": [
              "<IPython.core.display.HTML object>"
            ],
            "text/html": [
              "<video width=600 controls><source src=\"data:video/mp4;base64,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\"></video>"
            ]
          },
          "metadata": {},
          "execution_count": 16
        }
      ],
      "source": [
        "record_video_frozen_lake_env(env, None, 'frozenlake_random.mp4', fps=1, random_action=True)\n",
        "show_video('frozenlake_random.mp4', video_width = 600)"
      ]
    },
    {
      "cell_type": "markdown",
      "metadata": {
        "id": "wze5Ukspx1G0"
      },
      "source": [
        "**[Question 2 (1 Points)]**  \n",
        "Briefly describe the state space, action space, and reward function of this environment.\n",
        "\n",
        "**Answer:**  \n",
        "در اینجا فضایی که میتوانیم در آن حرکت کنیم یک صفحه گرید 4 در 4 است که در بخش نام نقشه، آن را مشخص کردیم.\n",
        "\n",
        "یک استیت شروع دارد که همان مربع سمت چپ و بالا است. یک استیت هدف دارد که مربع سمت راست و پایین است.\n",
        "در صورتی که در چاله ها بیفتیم نیز بازی تمام میشود. در واقع چاله ها و خانه جایزه، همگی استیت نهایی هستند و پس از رفتن به آنها اکشن دیگری نمیتوان انجام داد.\n",
        "\n",
        "فضای کارها یا همان اکشن ها هم چهار جهت بالا - پایین - راست - چپ است.\n",
        "البته طبعا در صورتی که در خانه های کناری نباشیم که این 4 حرکت میتواند به 3 یا 2 حرکت کاهش یابد.\n",
        "\n",
        "همچنین اینجا فضا غیرقطعی یا همان استوکستیک است.\n",
        "چرا که زمین یخی است و اگر تصمیم به حرکت در جهتی بگیریم، لزوما در همان جهت حرکت نکرده و به استیت دلخواه نمیرسیم.\n",
        "\n",
        "تابع پاداش هم همانطور که در داکیومنت به ان اشاره شده به صورت زیر است:\n",
        "\n",
        "Reach goal(G): +1\n",
        "\n",
        "Reach hole(H): 0\n",
        "\n",
        "Reach frozen(F): 0\n",
        "\n",
        "در صورتی که به خانه پایین سمت راست برسیم 1 امتیاز میگیریم و در صورتی که به خانه یخی رفته یا در گودال بیفتیم جایزه ای نمیگیریم.\n",
        "\n",
        "فضا گسسته است، فضای قابل مشاهده 16 استیت گسسته دارد و فضای حرکات هم 4 اکشن است."
      ]
    },
    {
      "cell_type": "markdown",
      "metadata": {
        "id": "JmelLdEG0Pjr"
      },
      "source": [
        "**[Question 3 (2 Points)]**  \n",
        "Complete the code for `initialize_q_table` function. It should create a Q-table of size (state_space, action_space) and initializes it. You are free to use whichever initialization you want (a good starting point is to initialize it with all zeros)"
      ]
    },
    {
      "cell_type": "code",
      "execution_count": 10,
      "metadata": {
        "id": "_BKgfgqI0XWW"
      },
      "outputs": [],
      "source": [
        "def initialize_q_table(state_space, action_space):\n",
        "  Qtable = [[0] * (action_space) for i in range(state_space)]\n",
        "  return Qtable"
      ]
    },
    {
      "cell_type": "code",
      "execution_count": 12,
      "metadata": {
        "id": "lWeutJTb0qUX",
        "colab": {
          "base_uri": "https://localhost:8080/"
        },
        "outputId": "2088795c-4e4a-4df5-a85f-9fbf44bc8d7d"
      },
      "outputs": [
        {
          "output_type": "stream",
          "name": "stdout",
          "text": [
            "[[0, 0, 0, 0], [0, 0, 0, 0], [0, 0, 0, 0], [0, 0, 0, 0], [0, 0, 0, 0], [0, 0, 0, 0], [0, 0, 0, 0], [0, 0, 0, 0], [0, 0, 0, 0], [0, 0, 0, 0], [0, 0, 0, 0], [0, 0, 0, 0], [0, 0, 0, 0], [0, 0, 0, 0], [0, 0, 0, 0], [0, 0, 0, 0]]\n"
          ]
        }
      ],
      "source": [
        "Qtable = initialize_q_table(16, 4) # creates a Q-table of size 16 * 4 s.t. \n",
        "                            # rows show the states and columns show the actions\n",
        "print(Qtable)"
      ]
    },
    {
      "cell_type": "markdown",
      "metadata": {
        "id": "9NHYE1Q2rMSU"
      },
      "source": [
        "**[Question 4 (2 Points)]**  \n",
        "Complete the code for `epsilon_greedy_policy` function. It should select the best action according to the current Q-function with probability $1-\\varepsilon$ and select a random action with probability $\\varepsilon$."
      ]
    },
    {
      "cell_type": "code",
      "execution_count": 20,
      "metadata": {
        "id": "YbOjqoTRrAqw"
      },
      "outputs": [],
      "source": [
        "def epsilon_greedy_policy(Qtable, state, epsilon):\n",
        "  random_action = np.random.choice([True, False], 1, p=[1 - epsilon, epsilon])\n",
        "  if random_action:\n",
        "    # based on Q-table\n",
        "    action = np.argmax(Qtable[state][:])\n",
        "  else:\n",
        "    # act randomly\n",
        "    action = np.random.randint(4)\n",
        "  return action"
      ]
    },
    {
      "cell_type": "markdown",
      "metadata": {
        "id": "Cgdt3n_ftE9E"
      },
      "source": [
        "**[Question 5 (4 Points)]**  \n",
        "You need to choose appropriate hyperparameters for the agent to learn.\n",
        "\n",
        "In particular, you must find a suitable learning rate and exploration parameters. To facilitate exploration, a common practice is to start with a high exploration rate ($\\varepsilon$) and gradually decrease it as the agent gets better. To implement this, you need to specify the starting exploration rate (`max_epsilon`), the final exploration rate (`min_epsilon`) and a decay rate which reduces the exploration rate after each update (see the `train` function below)."
      ]
    },
    {
      "cell_type": "code",
      "execution_count": 21,
      "metadata": {
        "id": "SrbwYgKZtFWc"
      },
      "outputs": [],
      "source": [
        "# Training parameters\n",
        "n_training_episodes = 50_000  # Total training episodes\n",
        "n_eval_episodes = 10_000\n",
        "learning_rate = 0.1 ##          # Learning rate\n",
        "\n",
        "# Environment parameters\n",
        "max_steps = 99               # Max steps per episode\n",
        "gamma = 0.95                 # Discounting rate\n",
        "\n",
        "# Exploration parameters\n",
        "max_epsilon = 0.9     ##       # Exploration probability at start\n",
        "min_epsilon = 0.05    ##        # Minimum exploration probability \n",
        "decay_rate = 10       ##  # Exponential decay rate for exploration prob"
      ]
    },
    {
      "cell_type": "markdown",
      "metadata": {
        "id": "y2hySBMAvmPk"
      },
      "source": [
        "**[Question 6 (10 Points)]**  \n",
        "Complete the `train` function which updates `Qtable` using the Q-learning update rule."
      ]
    },
    {
      "cell_type": "code",
      "execution_count": null,
      "metadata": {
        "id": "FCqTlP-7vnxs"
      },
      "outputs": [],
      "source": [
        "def train(n_training_episodes, min_epsilon, max_epsilon, decay_rate, env, max_steps, Qtable):\n",
        "  for episode in tqdm(range(n_training_episodes)):\n",
        "    # Adjust epsilon\n",
        "    epsilon = min_epsilon + (max_epsilon - min_epsilon)*np.exp(-decay_rate*episode)\n",
        "    # Reset the environment\n",
        "    state, info = env.reset()\n",
        "    step = 0\n",
        "    done = False\n",
        "\n",
        "    # repeat\n",
        "    for step in range(max_steps):\n",
        "      # You must:\n",
        "      # Take action A_t and observe R_{t+1}, S_{t+1}\n",
        "      # Update the Qtable with (S_t, A_t, R_{t+1}, S_{t+1})\n",
        "      # Be careful about episode termination and truncation\n",
        "      ...\n",
        "\n",
        "  return Qtable"
      ]
    },
    {
      "cell_type": "markdown",
      "metadata": {
        "id": "_sFV4Kn6zO8G"
      },
      "source": [
        "We are now ready to train our agent."
      ]
    },
    {
      "cell_type": "code",
      "execution_count": null,
      "metadata": {
        "colab": {
          "base_uri": "https://localhost:8080/",
          "height": 49,
          "referenced_widgets": [
            "a5eaf9ef6e764f5793d6ee51885d5094",
            "4eb63c62bdfc4a0187cb15fe735bf7a9",
            "630ccf49bc7045afbb6fd75aa773cc9c",
            "47f0b35c36bb498fb47f98f7609e7187",
            "c0183ca6bd2042f28e6460bb81ee56f3",
            "d27361677e1643d3b9b7713f9e8033a7",
            "0ac4ffa2eb644fc08b55b6c624aba10f",
            "d4f9b65743064b0c80e573523aaafb19",
            "2c1b137e0a7f45dbaf3e0e2fb4c9f065",
            "fa684dfe7f9d4e78b2f966a02ac64911",
            "0df16b501be443acb42de61e37070b75"
          ]
        },
        "id": "jduZzTMvzLBx",
        "outputId": "83da81ff-732e-4ea3-83bf-b3e61ac41d77"
      },
      "outputs": [
        {
          "data": {
            "application/vnd.jupyter.widget-view+json": {
              "model_id": "a5eaf9ef6e764f5793d6ee51885d5094",
              "version_major": 2,
              "version_minor": 0
            },
            "text/plain": [
              "  0%|          | 0/50000 [00:00<?, ?it/s]"
            ]
          },
          "metadata": {},
          "output_type": "display_data"
        }
      ],
      "source": [
        "Qtable_trained = train(n_training_episodes, min_epsilon, max_epsilon, decay_rate, env, max_steps, Qtable)"
      ]
    },
    {
      "cell_type": "markdown",
      "metadata": {
        "id": "OUlpdnRx75g9"
      },
      "source": [
        "Now, we will evaluate our agent. You don't need to write any code, just run the following cells as they are."
      ]
    },
    {
      "cell_type": "code",
      "execution_count": 22,
      "metadata": {
        "id": "BbQRzYEb8C3u"
      },
      "outputs": [],
      "source": [
        "def evaluate_agent(env, max_steps, n_eval_episodes, Q):\n",
        "  \"\"\"\n",
        "  Evaluate the agent for ``n_eval_episodes`` episodes and returns average reward and std of reward.\n",
        "  :param env: The evaluation environment\n",
        "  :param n_eval_episodes: Number of episode to evaluate the agent\n",
        "  :param Q: The Q-table\n",
        "  \"\"\"\n",
        "  episode_rewards = []\n",
        "  for episode in tqdm(range(n_eval_episodes)):\n",
        "    state, info = env.reset()\n",
        "    step = 0\n",
        "    terminated = False\n",
        "    total_rewards_ep = 0\n",
        "    \n",
        "    for step in range(max_steps):\n",
        "      action = np.argmax(Q[state][:])\n",
        "      new_state, reward, terminated, truncated, info = env.step(action)\n",
        "      total_rewards_ep += reward\n",
        "        \n",
        "      if terminated:\n",
        "        break\n",
        "      state = new_state\n",
        "    episode_rewards.append(total_rewards_ep)\n",
        "  mean_reward = np.mean(episode_rewards)\n",
        "  std_reward = np.std(episode_rewards)\n",
        "\n",
        "  return mean_reward, std_reward"
      ]
    },
    {
      "cell_type": "code",
      "execution_count": null,
      "metadata": {
        "colab": {
          "base_uri": "https://localhost:8080/",
          "height": 67,
          "referenced_widgets": [
            "dcd218f9711b4e9890d75883d017e3e4",
            "102cecdfcc5d47ada76435d97ac573ed",
            "c00a5b8d82d54c30803e7f6a26ba0322",
            "99784348358c41e599f210f16b9fc648",
            "108c385f845c4b09a8486aac1d0a4589",
            "4a0b04007e204de287035d2e7fe67c95",
            "c9533715f3b645a2aedff135a9bdc733",
            "a76c5a69f9184c0bb0763101e7fcc0ae",
            "7f2a9c443f8941d0b18d6d7f42c76ede",
            "486a4927595a48debdc1ece1951e85c0",
            "be568628a84b4ad6a06c68de278d851e"
          ]
        },
        "id": "61-viEdx8vbC",
        "outputId": "9acea518-c5da-4253-de69-2d1f64545b4b"
      },
      "outputs": [
        {
          "data": {
            "application/vnd.jupyter.widget-view+json": {
              "model_id": "dcd218f9711b4e9890d75883d017e3e4",
              "version_major": 2,
              "version_minor": 0
            },
            "text/plain": [
              "  0%|          | 0/1000 [00:00<?, ?it/s]"
            ]
          },
          "metadata": {},
          "output_type": "display_data"
        },
        {
          "name": "stdout",
          "output_type": "stream",
          "text": [
            "Mean_reward=0.73 +/- 0.44\n"
          ]
        }
      ],
      "source": [
        "mean_reward, std_reward = evaluate_agent(env, max_steps, n_eval_episodes, Qtable_trained)\n",
        "print(f\"Mean_reward={mean_reward:.2f} +/- {std_reward:.2f}\") # should be around 0.65"
      ]
    },
    {
      "cell_type": "markdown",
      "metadata": {
        "id": "8Oj-u9bi7Vct"
      },
      "source": [
        "Now let's see how well our model is doing."
      ]
    },
    {
      "cell_type": "code",
      "execution_count": null,
      "metadata": {
        "colab": {
          "base_uri": "https://localhost:8080/",
          "height": 621
        },
        "id": "NqP2b15M7U6Y",
        "outputId": "4a3714fa-7a56-40ec-b99d-cef30a6edf00"
      },
      "outputs": [
        {
          "data": {
            "text/html": [
              "<video width=600 controls><source src=\"data:video/mp4;base64,AAAAIGZ0eXBpc29tAAACAGlzb21pc28yYXZjMW1wNDEAAAAIZnJlZQAAygRtZGF0AAACrQYF//+p3EXpvebZSLeWLNgg2SPu73gyNjQgLSBjb3JlIDE1OSByMjk5MSAxNzcxYjU1IC0gSC4yNjQvTVBFRy00IEFWQyBjb2RlYyAtIENvcHlsZWZ0IDIwMDMtMjAxOSAtIGh0dHA6Ly93d3cudmlkZW9sYW4ub3JnL3gyNjQuaHRtbCAtIG9wdGlvbnM6IGNhYmFjPTEgcmVmPTMgZGVibG9jaz0xOjA6MCBhbmFseXNlPTB4MzoweDExMyBtZT1oZXggc3VibWU9NyBwc3k9MSBwc3lfcmQ9MS4wMDowLjAwIG1peGVkX3JlZj0xIG1lX3JhbmdlPTE2IGNocm9tYV9tZT0xIHRyZWxsaXM9MSA4eDhkY3Q9MSBjcW09MCBkZWFkem9uZT0yMSwxMSBmYXN0X3Bza2lwPTEgY2hyb21hX3FwX29mZnNldD0tMiB0aHJlYWRzPTMgbG9va2FoZWFkX3RocmVhZHM9MSBzbGljZWRfdGhyZWFkcz0wIG5yPTAgZGVjaW1hdGU9MSBpbnRlcmxhY2VkPTAgYmx1cmF5X2NvbXBhdD0wIGNvbnN0cmFpbmVkX2ludHJhPTAgYmZyYW1lcz0zIGJfcHlyYW1pZD0yIGJfYWRhcHQ9MSBiX2JpYXM9MCBkaXJlY3Q9MSB3ZWlnaHRiPTEgb3Blbl9nb3A9MCB3ZWlnaHRwPTIga2V5aW50PTI1MCBrZXlpbnRfbWluPTEgc2NlbmVjdXQ9NDAgaW50cmFfcmVmcmVzaD0wIHJjX2xvb2thaGVhZD00MCByYz1jcmYgbWJ0cmVlPTEgY3JmPTIzLjAgcWNvbXA9MC42MCBxcG1pbj0wIHFwbWF4PTY5IHFwc3RlcD00IGlwX3JhdGlvPTEuNDAgYXE9MToxLjAwAIAAAIHJZYiEAD//yh1jO0yjOa7H0vTKc9/SThZxfGADIFgZ4jiPywuKkU+f06/at9LXncGzI17nMQjoRCitnBVbJ9GWRNYa6TVUFQ+IjfCI+Q6K95PmlkrwOgJeF5ofSaKNU2F8dEsIR3Tuse19NlTdanU6FTH4QaOjGje6K2koOjg9HBglB+K2yc+LyCYxl42SPIFZolgwfnBpa/QpygCRPEB4nZM55oulcOOYaaYZKpqg/twxhNfNctSVPKColFzt1AHj17tDWEpKk4NXG80x5qoutMwlMq+/WCHsywWzsIgOqwplQJ4AAZzqMoqZ1b7OkD8iey/5UMqey2vFzoLGhKSPzwcKKyhywKsGtPF7+aK9a3Sg9cPNOeqmWzBYUyzpEaeVmddzj6QJkjPNCiWp9ScitvnwhjdNeYSsSbtjULWJGeQjGG9EHEU0gD7VtjztXdVLdqaoIGhqTrvXRGEUiynnq+Dp89eFIqmMBnrKMoJvpXky12W/YHZ6YMQwhP3RujaYnSVQ1C7/wHN+Wr44l2AGnBm6UWbrpL+dEj454BTGce6SOP4UHrrBn+Qp3FYFADa51IJJMTJ84orWOuwX8/4rv/1GEFS9lb20WGNVW4crr5PAai80dxNvs1e5pDJLn7YjluJrC4a6B94zZ+scgBuXdBvlgStZK6CXwWSbPfKT1OqHpR2kTnGVX+YflUXdAUBgDbtf8jzkHpS8kphZnvN3zo0mBKoF4w6LkrhaOdnHUX1B3l4gyHQ8jqKknyluEEC8pKLFjmQmQjJOWQo4oJZtBplrexvRtRKpG/jASZi8H0Pk4qXTZYzbHmpN535gFTrLnAIPB3oHRqBGbfL0Tu9qeNC7HKuj03+j17sUzvVGH2kL/DQEhmMFdyR+YN9rI/8SMMwQp+6pATJ1qiak+x4dyTzXhWEvjdsNKwmCh1h17pJQUC19uNf5Ts3c1OSo4+yhCH7pgeRJAWvaz/7lnSy6wQT5zavO6K3R3uW6/sJddtpTsblWTDyz13a4DopKU3SElit4ye2+K+AtK3MJ2a3IoIJOcMFQnqfaXnDNKXMXproXfQ/iYOabzzBGBpk6twcccwC+TUUumnEsD9+JWUC3gapvknSyK9aqUn+b7d5BpchJ/b5+4ewjBtCtFrWfubgsk6ZNy22To00VW+L2XOdbB2e5I73PCfwNI37htYm8dN5+xcJ0+GwGoot+PW6GN23FtP3gE3B7nhaBRHZd2alPtS++kRBca6Rn4PF4n47PHfyKNEmgW5XaLstamlwn7aWq/cvn4Oevn2o6LNK8A9Kxb5YErWSziwP8wUHCYDWasc/4uzRlDlVD3ks+uEiVFb2E9uJjp2BOaNEBqwkE57twboBjGq9AQQi0BuQkiZxqQidZV2JOeRsOGrKWNL4omdNpQTdTNOQjERFULtBExMYqkqSK37USqMG7WTnV+Stv/RErr4xccKtPP/nnU9d4U0b6+s7nemcVK/ZKW+Mcl3HFu1GfDlrGcJQ5eE8etdhCQ+81syqe5YB+lyyxZcaGGYIU/dUesa3tZy7uGWz/ts+YrLFKZj5O/kwNWE5UkoKB9vwFfaTzhIGUfSzDD+VCkYTuRJAXmfx/yKhUl6+V9jmXCq2kXOODnW0XnrIL1bV6HDHvPIVPra5j2nARUDQYmRPkH9Uj4ezTBwqS3IoIJQmt9jhCK+4lzaVG9fAfdOkSiaLJtnBlgjA0ydb6cccwMuIHUumnEJGY+JWUC3gqEIE/SCT6D5/P84JNpWL2mWJQV9w9hFzc6AdYBm+ULSWGE404e3wmiInxevpeBk1qrlRQBwgGsUiqLkbAXpwqoSjPzboNKAalG4JTGzD24tp+7/BKzZ2X4Z/gsdfWKSif94kCvFGXdYcyOm1BlcsQIUaJNADOv1ZIRyEAHBLhc1svKFw10IQu15Kdwwnx6+fZ75I61eIXUs27hwWOg9IPraIQviIV+dirBPwkSrUn0ntxMcrgsKO4gLqyMnPRgD9en97obEoqWgZyEkTONIUarKuxJzyNhjlZSxpfFh2/6cDVAyEyEZSxqhdoJ1tBplrex6dELlRi2ISG2zx+zXhviVc7yjqQmOILnnU9d4U0b7aGXO9M4qV9S198Y5LuILq9EiCmsrozhgiI/R3sISH3mRQcP4tgPyjZkYEj1SdajP3VHhXIxE/o9mGkwL1TIQS+jLYOrg23slQsWz8/ZtcWCnaIR+ra83PjuY65UHPY2RJAYOF1/ncetDy+V9Ro1eP1SLaykzrTsA+/1sP+9Df0OpeY5z/eJ2OkTifO0x5XyD+qR8WZ3g4VJbkUEEoLW+xwhFdjSfNKkfBgPunRv/wGDsZehVtwNMnXHHHHMDbggFLppw0xnPiVlAt4LBBI8EsivWy0Mji7JwZUuM2LcnSZyu7v6X/k15l3njfvtdIGnDv3s0RE+L13ayU1D1KaygcIBn2Y6/Da1tsgl501KQA6setvwbOb/2hVr0Ndphec6MS04Y0htAWaXHdWJfCZdPjz2eJStDz9cQuhPrQPaX4pfiNAZOzGS3gYcsPe1mmwnWOm7Q3gXmB0Drrp3AyuCF5dv9eLmkCXp9V/FUdHQpR/ZeBxqYvaMYkcEdu4aJil8CatmsPS6a4QVnsZp8hZobiJvI5xvHoVHzzxz6j6SCVujRfvoIN1X5ic1qUPv+jA9NCjWg22mWmVbBEpGOGQySfaCfF92QATt9I18WiZ32Se/lGLtjEPejzSFGY50ZZQuY1uXZ8XFDhm0j2MpCZb83qiCAKn7GZ81qFpo3ajdKzHz+AxdAanLgAlBk8UDp7QlPjT1H6l7WRNbalHoayWWhmOTNtyNMn3d0bqVEiDZrdsne0gVt4L6sdz/iH1UyG7VraTISPCkqeqo4Ug9PEJnc3icF7EN+HDCB95X/5hgqR/3jSgx1BwuQ45pUoANHXbi3HCSZfM3vpdXLWkZ4VjpOdO6pWHdfITa/ROWFyr674boiX2Rm3tkl048HRQVzf8txc8q1bqZ9b2036pnznCHaZFmNaxFmW48y4sUFwGhSGRsK24TGOPPz29zZhxP1DkS1vkGrPYp3zTl8H5oer3aFUoVoV0qpmbINzKjFQtTq7NG3Zm9RxisDR3e9uh8+fLleppcBaWDyUxjlnsE6mzkWwoNzwBxlagDALXA9aT4eOpIBzptrdUJl/J04vXAWSVsIAyGenqi/HBfs5Djr7rEPyiSEll5sXg3d1nLJtx8UBH9iTeO2UjO91E/vHGPmUeyarRZ3CbWCzGmI0U7Z1DIhGhcJr6bzNGHSdRX+lEHynHg/fNmPXMiDj9jVOl3GyzW4g2bF8JSm3y+8T49BP2LlEv2jPf10S+b/Q7ISSrpOgjWLpY7ySazbnI5iG3zTRIg8PBnMIVWMa1Vvdn3M4UUBRu+fySv8AiNeaoTK9sAcF7w7rS+zV/33bYW4pCLVKsxNNhakDDIad65RWSCfw6l/MlKoKf7OJCecRss//cTdTsahcIYCcu1UJRhgANbScHKcmSe9PbC3SE9ZClfACq9ObZ6DDIS/4chDu+YyPjcHBHJhAfHiSdog4UHYf+3sPE79+beElH13eIpSgbYYnLVHGcSJQbFT4HjDEsqboOtt5jSSInII6GzC4VozWZPNpitQDsiwEBUpLveFzvYqTPWoyAB8A48NMZ/ge/jNZRm4rokh8YQ71BsJwSSySwAUj4UOHRA7COjeaEhwZO+Kuk1aYClcOFEZqr7Rwx0QM8E/ZVGjpygPyul/7yi6o08bgjIYbrX7F5lr9o/OfGUtgetjeAsvD5+AUCkzwmoqMWX7UDEAAMS+MpZOEYqhJWpuSmVysyJM0a3LcBLJcQ9T9KlnS4vW9Pt7gsxhxGf5AJ0KXfHIDurnYQbBNkXmaftvLJH/2IzpUU/Vt9zvtYmW79IdrbDmzESTdh0IJA30ciHu/EM+AjWx5SBquZOkSr5dvCTWzQBeck1KmF2r3H3DG/nymZiWoe654AAJijyiE57sud3mYJrn9BOfwZ81PtwJ6nMLY1KZTls4t3mDxniKewX043klRUeI97me93UnwEM96XkO3RHMv6VcAiGXdGV7ZUBXSpFVyEED0ZO58CpmZYQyUlpwiL4mtb6CxKTpuZorECQxqt4sd/IpvaKiTnbRbqiTQyB8bDrVMUoE7AzTzqsYkbWPhLo+iH55OwubkG3xmfwHNg4KoKsMOkBPg2gUzok9rPtJj+DUEt09hyOeSIobV6gZ2rt4j+jkhbo4zSNlBuf8WRhivWCvtlnADrgW52SW+uvDiR0ZsfXbgneD+iYn/QsT30+PTMpVSPfUpceTsqmmM929qchRRmwgPkUdQDe6QOQo2aM/F2nc7QSxA7CdmttuiLeGpFMx0noK23hRJdOKq8G1Di/C93W1xTDQE5M9f7yr6jTxyqaGG59QHf5PXY/OfFSWwOQInRelbmAqOM+WqXPfYBvq6Y4biEsGuv37RdLGGUafJhJgypCwITyqh2i+/wi+TZJgmy1ZMOSVw9oy00FtyeA107JkjQrnYWljQaHWl6Lo8xBHOkgd2y5Uo9H4lP/u/Cn2tqEV4uO7lWWkFF16w1ZF9JRinAr7ywNUpTbc9w4uJdWNZazNH1/X+pqTcSDutDGHoPIlRkzeghZbez40Grwv01HUmC6PO3og/97MEbBTcbMd8/bjw4uzdbagRgUx3OQwhFoa4Ft5E4E8jynG9XelumXQovVq6mEq7fEFQ7aHKHShxZCCB6NFODXpmZNIdB68OEvaEFbGrdiGbSw/wTgIcbBgt/IBJF0Jm05up2NWpn3P8j8CSQSupMO4+X7l8HrzLXrH6Xz4qy7ajkvG2cyT4G00Nytix+nwaxk8B7rHftJmXpxwKKMhzTcI2BWRxkqGOkpQNwg5bo4yqRUxfh1jzXZ3bSVzrskf7ravzPOWim/uKx+EOXbAbWWI4k/BsZWLf6pRt7liZNQ26X/P4gq/8eSNKR8nmVgHadQoA90gchRs0Z+LtO53DQ88a9NRdyqErw1IpmPAqDO08ckQ1sQhRvPRAzwT9rI2s4QKREwAditqNPHQyqzoQ1kfnk/NuGLNyqraLAqGlkfUxBwV3sUTbj/1DBcA+T/jrdcuhlPEOVGKUoLdvbNGycfWK97/aYheyfkQD93mlwF0ItSC8L4UQ8SHACY+yDcqxTLVhDHGTyCeLK+DtUehKap665ZdUR+AIQz3Qa3zFgGrmsiA5pUP5C+ks2yTlS8aCnYJGR5WTveOzQBNR9e9pExu70xsB+nwBQH/qlxrKhkczGOKIz5bTVKxjbRWKzOQbJ8gPmMMn7BRsmAPXA+4iweleuSR8E3cXrcj3DcubYByLCj1UjDu7jmiIHeUxjU8Px3EICO5reEcir2MUo2Vz7Jq8pE5Ty8FcTatqCQcXdw1zV3a8Wllr79Rzax5h0b8AwLmphgJLWyNhiwCCnHAckzflgxAh7Ajl1i60fE3oeXIbnZ8Md3/gkYDdCYmkBBvrvxECdDrI1dR38sfnvYMdzMxvvWf2KdfhFfgdiYop/cCKmkrTDz0Xlskyh0PK3Kowyl7HR2d7FXVEawQ2Nn5Bf4ScwB+XPkzBn/qE1WCRe4QZKPXyLSu8oHUQX63Lob95ydzGnGZB/9AxUMQkZYIakJGuPBE4BYxPQg57fZT+xyeeREq7QCAcny0Nk4zpwc5OZZ35OP1Tpg2QtbSUteadX7yAi9JLT9WO8n4Mnhds4UvgQLgFafgZo0hRiC2Jc1rV/NhZMUiSSbXuq13PhmLF2e7U7+ldK5S1V+2BhQa6KiN2+uBT+CpwNjojlEDynGp7z3lS3jXXMqceq4+EQIkWQhMB5ed8tKHvfDCbrkyxZToPU9Osjy7XiIMnVBx0xEVk5H147hXUE4VwAhEjlQwa3sA/hbYTmaFxppTVUJOj96EcgR4bGtUaDDlI4z53quP2cb+kgVLfnUyvtp3DibRspemdLKmtllar+S4zi+pXl69DFw8/TSj4twY0tplJSs99ZJflvwRKevN1LOwPsynYEk74fVxAO+JgeeHDviFmaTueCr543s5oRTIS8H3kBnutr79bDK5V9+HBNBazGgXq2Hugs3oYbxryKy3Kj0oP60Dqu+i8/uUQI4Xuc1ZYbArO8Hcp7rmJcUuuqCa7rCU17oYPo0h3VqdqajcNVlLGSilR5YDdzmBpSBXxyaPhVelqO2ZgEovKVZNikVlfcrJx81aeTXE4ECD4oV6twSgiH/YKEHYs3Ib0jCCg27yS6NoTlLM0VuiQPfNBhCh1EDA7YuDqgb3dN0OobLeLKjCCIduKLohHIOMUWRyVqbUuPairUKZtCO6zZn32Rb8qWt66NnMQEY0pCemCt8UHap4psI8FmJwcbShgG4dLy1thNC4a4CrmurDrGtWLshEMWsER6rYmrlA97XwvneiMCdG3XqVtzjm8WZBe2AOCyqYI6SLfMeWAlQqh26kN8sB+7uq5AFSGXnqD+5Ck17OHJyE5rb/1w+7SWwm/1WCsaCpJDWeeObbFFftgj8BZuMjw6LimX1Sc/cCK71Ww7UqbOA0W+vH6XJNddmeJwgvTGGKPLIIPaPq0sfZ6hWJ+l4GZmlOFACCL5HLc61GPIubNZOrcJ0+d64btLudgFM9/BE+6qq7a/oNGAA6Q9meE8jCh0ECz9FB0gMBM/zsSxG0JyXvbvJ+C2UvXz+2MQcLQahN6pFfK93RwSq6L1mz6svXKB/TQ8Oqyw2B8bcRs6eruyJBJJCDte4JyzcL2iCM48dKL0zL0C/eEUcpeeKivw5gZqXltq2N3FX/edszAI0eAvxGKRWV4kYKOG2b9yIHUzK4FNoVx0j6T/sEyZqvM0N6Rg6KBJwbP7YMob+eijYkw4tGc/2PTMDyIMOdX0Fz7odQ2O8WVGCcTFhPd7rjkHGGx+nwUT1Z9A80luZtCO6zYQrRiAu6hu+4F3EsJ9PDtPVerfx546qFXpTsxODjaKmOljHHTW1LmyO8HdwTa4v+a6WZIpwEabRTDsTGpdDQJdo4pDO+aYz48aMbKijcZwORv64tqu0Ngq/8Mq//ddqINRv1fz2cDwDR9D+7hAR/chPy3nECliM1t/Zq/dpLaUu9lQEAAr8lFoUObbFE62nifexDGikxl+e7FQf62Qiu9VrZ6NyyrGjPbLX+fJUCSt6px7aNoWUeWQQe0fQTkLnwbHODd/aZUvyywCz7bAlhmuIyaAIQJ1Y3+uH+uG7S0DgBTPfrFPuqqx62+Aw5JxtEDABPIwocjvdCYe9p9F0yS4xxAtyJPlWftfklm7sClMQXC6ehJRLbsH/GtdHxCfzT7IE7MKBMtVDw6rLDYDRtxGzp6gcnuEkkIO1Ey4bNwO8vczjx0onF9qrKEngxRdz1f7uqcDS+Gpaegh65JE30+ISKlq3H/IEIl/7/PpQFpuqqQB0ymUEBCavfBY9sEv89dFVts/s11EjeUnRCy6wJ6KKuE7F0YiWwntF+RBhzqUncq3kA2h3iyowIRS5rkS9lH2DPVTRNam1Lj2j+uILbQjus1yTkYgLukszf8lqb0fFNi8NI3v488dVCiEp2YnBxtC97SxjjprahmMqGpzQ8i+L/mula+6cBGm0TBbExqXQyvxeM3bzEFVsSRbJi0/B1pNxBl+9m2KkQPaKL7c3N08ZOdxsNju7ytrWQP+SuYbVyqIjvme+1PSQACzJt0+mUvSQZUkb6j2k+f3EvRtzSrxJ29s1ode/U1iMKc/cs+2zs7Rntsklz1C1pQzRrb5MPBkoxWI8X1dPLXbWO6qwgGdk/spZSGiHOgRoA39BwdgDvYocQM/7ec0sS2VjPn4zdr4jnqCGmRbXmVojheiawzLRBv5bExtoDdR++ulsGYUYEs9druzkfRnTPf+Kz4U9vHqFobaYHRGBItc31OBNg+9asfwu2z7/CQYbPWUUdM1Fy8u4xA7Bhh4JrgXqz3uLQVLoZu7tVcygpr0vDiJTjKJYHi/Iwu8fRqmiSAuHcdjWNHh8iDaI5Eovf36y4AuV0Imss2cxllTtyMWXLHQiJkp3RvwsXH9c+a9owtE2wplNMFjEwJNsxzdgwWnnLjE8KhhuUU87Jcy2l7w0uaueM6esRteg91iSphPln3HTsRVwY/qpRan2MXl+RPwKtmmK2Jt5IcS7oNfM/njGAJ4yic1NQ9lG+uYFLBfGnHNJs7wWAy9mxuvCauCqfoma8CzGMoRE8Bg8wPDGjmdFbCiKGqUDa0bXIaXETUoMI0FEcrAwE/GX0DMo21PwYW0c+rPhc3fY4C40/X39v4IcTXLftbkKQYAitKI6Y3ICFac/QlWGYzKMLKCSplyBZjpBx8UftUTMicwgOBQOlKJMy0SWfN+STc6VY3GCSFh2JuaXSCTroj2KAb+XvCkWzmgfawbuo6lX4H2Z/AZvFifUwhJV7FovIQhc5Mw5FNnQu+75agHQ3gInh/4koV93MhQ8DAEtBQ/bM23KHb69pF5B45eYOoBE4wL3Y2O/BoWfOZQ950hUUPIHgwxteen0HqzcLymvSUQCj434p3B7UeQNHW11WN/yCOsmkQNf6zeqbjZ3cogqDQ7045MfE7GYXBjjff9wnq7fRkAjF95V8SdkLU+TCVgS94HNPkP1yIvqcHybWlg+eZdFyRMtzioMnNiiTdhfgus340ZkgSv0iWhkIRPXqMZTQa007oOE/OKpsrtwL33lvPrgNkgNdv8vtFAPuKreJrUl0VC7KafPC0I25BUUViozxQJJmQN61QZaaISaPohr+3zQ+85rENW7Q76LhfOUj2cxXucXrSiOlJfgiuCw9FmFprho+XlnoZQvhfGTdXfvDGjz4uvTP99RNffUp6Djso1IJFch51Ipn372slD6RFFKDK1v/nRmAP44YZwQltFSog2RJ6TTl067YDZPb31axDL6B0RBmbUKbKic+rOz80TVJKA8cGnRP59VkC2PPPVTtdkHtZz2VJ05kdoSrWr9AglkrcGeUu4jiowShjs+1UTX7t0Ew8L+Mmda88PPQ5TNyGLif8JiuJaRiiF9fzryshAL47XMjWd1uAT+28GRHiKhsd5LxZP0yhW0tkhCEm8MHJmHEa8JfcCAw3WCjnM2tkGZ1xOZYtMw98HrMzhG/mga+GaPjgafQVaE7cEiDu6W70eNioco0uvJJpdj3m2JoWjxB1jNU6Wdl6AnNJCwjmPbOpktQoaM8JIJzJ8R3LmxATwMadOKZORBtmvxWlP+kmKVzEUAhB3ZsRlmpm41Omg43jnUdiuEwu61Y8eW1xXk933ZXkL3vtVZ299tXkkd77ZI+jwo54WdMbxStg/IWnTlLRhxEIdzsGleIdYi9LaOeUJpF6CjYxLlvPrgNi7RM59HtFAOZsreJrU7cXeOCNPBvOxf2QVILrixLqupulP8RVLAOTXIj6Ia/kzysi1ZURYd4Pmvl5z3M9nMV7nGe9RcSIVdPUEMPNn4Kc9ECYmyHkjc2+aartgYTrjECrwjXvnJjZTjoWcfOUalv43qMP93Rb9OGL06nLuqDKvSL+xQAfzPkEMwYu7Xvn65EgmGFyZsm+ZPQnVrEMvoHREGZtQfsmTVtt7PDRNUkpt+HvjOFZg0FM4889V7sS5MVnPY+EasJkhKvc+/3+xNfFLo3Vi+UIJ/brQ2HSYtDN/vLebdvG1yfw89E1IXtbUzfwmKclpGKIYN/OvKyD+vjtcyNZ3e4BP7bwfdCgh3Vf29c7qtekar2LQejnDByZhw+VJBTB4sREKErp2EJQQjDVULFqAXnvG2s/ThJqAMdaNdWL3UXfIHKYIhBcghvc3gxiMIyswli7u8YfdeuVy0wIJpo8+2Ez6kwnHW662G0drySKDhHaSs4k+hL24xFY5XoqZcbBtmu8WwHrl0710EUAg/JiCXaZr25OlvXXQCTqOxXCYa+rIePLa46AM737M+pkbDVWbQxCYN6He93rtOm3ZS8BXq9fDYPyFp05kS0MhCFCUmzX6GZmvS2jnfCaRegn2Q9Ox8R0DhpIu4+j2igHNEJ7x1qkqLvHBGnhmuLC3IKj93PGeKBJMyoeJKU9miEmj6Ia/l2xQ4Fbfp+jwfNfL06s6mVx05r2tElxIhV1SF9XGLQW011oexNkPJGzaAw3v2wYTnSsCrwk5WqcX7IjkoZBDtJHtUlnrW1FafeJbBma9P+RHZYCa44HQO2+wVb3c8rUnpAd+a0q6qf/+KTyYZBGqQvzJgiKP9eePhZROtDL/KHywJFcmTcNuty0SDgOIgTsnbNp88KDYP1VZ1ce6Yl9++xYctr8HDBVoOHzYOS0R1q+JKa27Ssl/jXmVfHhuC2s7h10lSPvF8O4e9dYcreJosBdgqx78dKPvYlUM1Ip+ENxnETXpuMowrqSdLnm58jMZBLdlLto+p7ByV27NJrftwExvtg+jBMGqkmA7lyIufP+7gkoYpq0hydAGRBgXi8KWcKEqrx7iBytwhDRUa5mTgqTIEuSIev+iBK29j0wH/HpBj97LefndwMGc+I9UwpyXP040fJTG7XzpfOp3wqAeVa+MobkwjP5GAwf+yz4OhHbvz/2Bq6nijYw7kM9qAL6VTRKa8EPZSfTs/q5Qbq0BbuWMNPvP24QXsPMv72QWki0O58uSw38zveEisXuwSwGpM5Xd5ammjTbX8zm3e9eUYJ/97N7SVSEvbznmPYbAVowDQJWGWEvJ545j3mIKJ0cM0G4afosaB9mWAgcQh3FtSXk4Gwv4mWAMxS8SEwAb1MbQRBZggUrG2WFfFIfrQC3F0Mny2gH+30mUBEKkeBjMnyk3xrjtYGWYPd1oNK3437AXfx9QR+h+WIRjyFTztV+Peow0foQzdFfsHvPLS5+tUiBgEDOoLozKLCnb2NAIxpbS79fVe7idJrHoJkDNJhQembxVY5K74h/7eisvg9tggQGyg3bHxWGff3XeF/xio+327aXi1NQc7SqfymAMrjIdARHDOYfjZB978t6/uKKhRAPHJ5CaPL/CzwzladqWiCQIs+yY2PV123AYY8oHw2ujnDL7x43+xU1Y+APVhFwOYoNbVq2Gzoy1ljdJuh3Mc2PKBkaoFSD9Kpdoswe2u54THDB79jzCscIBAdzM8sA9jWcbS/Cuylnnu21LASqNt2QQV7rIIA3VOeW9yeiZ1MoFROX2tv3GeZU/kbQ25HVbAFGbbncM3C7ExNsJeH0XZDVdeGlvybZI6PzSASdER/cIUryzfUylMgtM7YeXuFN1tDBz8hDQrFE6uBjD1Rk7oINVZgg5XUScKMlBF8yO/avX7urBgl3e7Me9E+WrvVHSWe40hPzHMxCigxqylBnZspnVEhC6Lzt2NgUJIHTwMIGN9lNyUma4hBtyvE7ys033IBErWul1aNMf4uJoj8NwRS2F+e0zFuyNdr8FAg8wSkeIszAZ9bSBcgXHrbo/g9HhhHO6+rFHnw7OzjuLIkRUAsl2x+a4btzZsTF3zCV9+78qU/RPFrarmJPVzEsT3lScY43vJt/zX1j5oVEtik8/TQelBhuM/bmMOmxx8fSo1WjqQEWUSkPtJwgqDUMiReKPAwsf9kNdAMXiRsfKfMrLlh0W2KmC7EnPI23AoZPlLcWPJykod/x7bnsxOvuijiFU4+Uy1vZbrnKdf2/26Lo4Qp3D6cVU5MqNeMGT+9Pjl7Q8ouSSUXki+o1ScFj+O+SXhxTifdj99CpQtgKNsKyHJOCyve7yA1FrOBhsFFWk9SWEl3GrOXdrxjP+28YsC+6wud0LEYgrDujk2lJuGASrCV4v6HFQFDtPKEJzUonchZAxt9tw2EIuviotlyNJUh9tGi8VTBJgoHuRvE09EA5YFiCxp8e52F9tb6Aq7hRKhb7aQ5xjQDhUluRQQSgVb7HCEVrecM0pdTWmuheBANIWDH+NCBL3eKmC6XfwwhV9xKRj5YOagXtwgvYeOYoJQDwk+hRK/CN/JUVi9p6cMOfcPYSXZKjkG2ttEauZy8TSUsslusgTok+z5aZwInGgN8973kUjiOPdM1HOQlLMTJGptQtOInktsiKNnEERidMYwuNl/Ey9iHB4ilPye1LmPJdjs3Efvr1FlSpR0Af1QbwutQthdQN7Y7d/YITih4VsPBWTErqALFyNv0S/olL+P6l6RnK2SfRQ+ksHrKvobANr5bMt/UA5jfK22Mew/iHYXs0tPeHks51mcTFPoVfpwGhDhLGxYRX0s5Y5PeMwbq6R2xFmqlYmAMte9nK1kztBU1qDubUOg5gIW2WG5Js98sMzn6fcmVqFZaoAZLB9zrR0q92Gy6k7hEVJewJXTHe7m33LOcoLlZ1quH1WhrpDbt1/M8Saf5xlgb9V8QBpQuDXgZKjgepzwCF+la27Ir9VW4GtVtSG2n5Oows6mYHnzIpt0NKuDcA0OdUJvWO1kf+G/KqRH/bbKImUtWnLNf2k4G4Vl6GBvxxX8itxdM0Yxl4QgglUnLdpjL500YPDkyYZ/MedoPJpzOjBvwksLH8KoDM4hI2ilCkKnB9ZE9W8UkWHMVCTDlBXWR8Ip3A5f9LBOAplKZBXDDeIcIyRODuzbWxCtJZDq4GMPVGTv3HjYmDsvNaMxRXFErgpdfSjeKH+tCXd7syJtd1VuJ1moL3GkJ+a5dIcBzif0oM7NlQl90Y7Sxq6ubWyR76jCbWwirgM+P3i8FeKK8xs7NnAdLmBQIuldI9nuBAQYklheAtJfdCEMeF0sd6MirIguilEVwgM9Zocyv+HJZUYmB+5yvbUMwn6khDt5MePvCc981q8cTjiTSpZElm8DiiBvBhP3EWYmFY3SNwpJKIJzWHBIzxtC4TbAlM6dwcXLRuOw7A5GarFw0NNCMUQdzddZG7LF+Z8UJlOlDLkjo4uKovMm/m0VBq+EwjDmFXBGyZd8HIkwMBY1fpK0XkuCB0DYa5ApIxZKrFQazPvbW7jsHseYGZrfpuvJJlzKIlaZ53z1D/dVzTguLEXDKdOLl5Ttk3NNWxQn3dVn6F1R6MXwYKgM0dVR5uvHT3UlLLLT3bMUQf6KOBsECxPx8S3jaV9cFVCYnF4lBquIe8n8/KpeXhwV97gHO60phQmzE/hj3jCi0rvuLCBoWmaXmkKyz3Y6+1MKAb69bsAuZ13Cw6Geuwt+KklpIgyjhjWfx5ff4lvQOnYQ43mpim3Xx9lbrZNtEO6Afj+txjteYWavM26b09uCfdFYpG+IWGNH43PD/Dges6F0ZbXMz+fYeuzjAj81qnJOEQ7xyx8tCAkAW/fA7+QDkDbYsveVMJRR8OO+QrY9UYY+we+tBIRHRndCf7jTm2h2UdcRYSREvsYe/XifzeK2UgEcfdCkrytKeBv07YqT/L1rTCnsgjBBeCOPhn1L5h4PKQIYgHx2pFTX0tZFgN4aZDZw1PWLIqLJ4YEd5tsUtQuNZ1UZooCW4DHfa0GeNhBI21MuISC0a7SLrq/fGzuL7ng3ANbPRkdCOixVSIRefmXBW15lyyFFXF365tthHxMV/1LECIvBbNeg2CTZiioxfAlnW6y4N8+XmZoL+BuifswKZqQijqEtJu4cA/4KgdioKsJhrq5e3J5L4TehT2h5WjWM23y7sGChAyYMe2niqLVWqiSm5pcgttnN3v3JBiy+gw5ZozaLoFvNy7IPJb1dDsIcWgXQ6fRuFBHXVMlolPDM0B7PpNopoTLdleBGSDztO9XuUXZJyLWaZ4D8CYaGjhziwJtmLoWjLfuEMtcu7gLgKjn3cLIi0a/+5mcLkp2e0/9ImCdE9rg1CP0mTTCMlI7FcBsYj6wWaouJRlGF2PdJi0PzSx4ff3qckHBRrMYDFxOhcSWOgdNBi7anSffwLZ6zsrIi2V/RvN3N0S4QtbAJJZtTFqocwHy57s4aXuTzcVwiiO7I5bLvsk5lrEQCsEpE1ZYsfFXC/fZNNS1QlILiZ9K2tr0NyB5ukjwYr3NajY6satSc35pfJaGDJSZB2gNH3Bknn9IZwnfIE+v50j35qRRhX9LUEgSlXvY1wGO3NStOySn3qdITqFHQUwePsAG+y7UNiKVFh0PAcUIMXODkvBcq0221YsnYmMjcNWS/s+aF55w2REhehKZQ9zrAjpJXL2jXOW15Z1OjmECEZyw65TcNa2sDIaKERxmorOKBMKkY4Ajmq02g/Vgtik5bBLiMNAn3luBelKXvyG8K95Zol4NSl0hCRBzXxLh2D3GD8clVwIFB8C/gk5FlBgELImlvUrzZ34L9MB3QlwsA9xJsMdjrjmf/xJUTcJEhH3ReJPhUWMyGbFfTe0pHVzr6qTFcNIWoXA/pFUwMQ8OhFIa+54bLYHADsda8RCYtn7kMYKne1peRbbf7CqsAk1nlgatRQyds95eW/FXiSyZBLlGD2sN63vW0L00rWA66Ra+BzO5lkucqg+vZ5yW4eQZ8ITvm556zvRkZm7roRCzZ7LwEVHjWnYTGHpsxXsNwNW5wJ4BPb0vqNIuU3SyzG31YCQO9KpKD5eyugbu0q5eED0f2SzE8Pq2CS537/QoFY5s5BCQCJLKR8/+GrmXhDXkbrWuNelhmp2Nhs9AU6dNBlnuBR7GdkAXs+E09BIOD9L55C9n7RQFelMP4aw6WmbeH7JfC2bifv2faQyS7CGudwPELLL+5G+Trne5DYSQLN+DcUxxqnSWa19aZ7DCnzQsUk4GnGtsbOvL89KtDUsfoMK/NyiUeWo1TbtWy8a0m6MhYBHVSEiOjn1HwSN9jeTN5PMxMrHDmq46SKk7YRCMcieX4y51cY0SytuHCy0sC7pNil9GjfPHijOLxPVNrPH0FOEusTEIFkTW3epXXowuPX2mG7KCFITL7YqMWn/P+xSs13yiRXT4j21nWjb/KR7VqnaCO1tn03lHzNRn4eqViGcFUg+YkCmEwKqyogzT8Io7vknoRC+fgar/rKcfpiFCKjI1X+z8oErkURDcv/UlmLqjpayX6pY3Py8a3OVBdQjw+dJAPDDtp6TzhzxxNFDz11PlMDLuDL7Bk8MPuLp2o7O7UMWYhSQtekHCdQ6YKxsSNtTMLUNR/p0jT5MZubFDo5ccDywNPvBonKGLoaaKfE4aAspdcQ1wgutcKadZW1wZ1vLfzFcugbK1JwEQ1IFiHte0hQm5em5HeEqmRj/Z6OEGrTzgbfXCO833Mr0RJwK5ly/RrbyZUFwFdSvDDymCtlr/LuwYNgIZ469tPFUWqtYI3mEC5BbbVRE5MkGLlthP3XII5z3HszAVuUyvpQ7zhIEe9w7KJugQTETdNVnP5lCC2gYnArL2N39JCGUTapIX8eD0RrNmeR8JIgEw0NHDjiQwn4uhaMxn0j6MSi3zsCoQI0hZEWjX/3M4CQA0z2n/pEwaB79yAQcTTXk2tJSOxXAbGKbIXNUXEoyjC691keZAtoUF1FdDudmYDlyad94rUobuLhDWkEHbTqH8C2es7bjstoWNITdzdE3AG0jIjt7JmmPK4HBkhrRof+AAUIQLD+7I5bLvssllrEQCuEpE1ZYs1Y/Ywg2cmTduF7SjdoI805yHqEXIqJlobV8H4CDXwKvRO4nz3JTLI04pfkCWFulp579JGfPPUGyfgrpb7Sylx3hk+IGv4ZyfqG2wqhReUYy38a6I3tTgbls3hBn/fL90ukodDwHFIzG5x/MnLQvMYfTFk7E4sMYnm10HzQvPOGyIlL0JTKHudX7O3Gr4mTMObQnMwiREq1C9AKPZmCXKNhfCRQiXl1FZxRjhUjHAEc12m0H9sFsUnLYJcRggE+8qxlToyo+aZueMWmZGP7RwmlxRoAY/0ifDrS5VpLx7ljUTQH1NHZvfLklK14ZkXuoVQ04U7tbJAPi/uSbDH523ft/8SXf1ZMR//QkZjAy6lXVYCqsXIf2hY+BSwmp12NEk0xZjuGOtLpoSfyK9+yYTOls8EtqdGkTzlklVZ9zORCgaf/sIDi7aC0DNRgl1KmbIz/eMZba8kjIkIz7L9Dh1az/CkaLf8ShjlfaAKONw4e3l255m3MBWoVZOrxlEfomMNe1cFUIORzjFKA8Wp0av8xT9sSFpGp+x5cC0Zq0z6hkb2G8UiirTHQMryjeHPOL1RCz7NUT92YcYBNmtYB6Q6h2VuxKX4ntxzsbo9HJEipIRt6g+nk+W7m13qerifXjIC2I1Y/frxn0H1BX0Xl9H26NO1pgbG6Lfyq6bN6IyX980hxVXKy5HJFtR4W7/W9MCZP/MFBHYz9TsJymZimQbiEby16eHcpzhwCOFBKh1birD+jNzQsj84HBUxW1U7NVd8RNodiihXJpO4QPZDlsvw46Wb/YTzQexOJrbzPgC/Tvx6BBdFR89QXOEhgGjn7RYNS7AGmGul0nX+QPQ3p23c1ZOIs9N4UoEZ3Fj7KdCM3e03E8+I6o9JexnZBg2hYrEVoYK27obbJJlkRy3X+k7LRgR2iEQRIP+6xDArW4DO1wL3yPudZhnHVYRft6wLxYFxYNBqNM2lwx+jaG0IsEp/ZquVHJYwESmYGI7MLfCobUHlnGfCgwH/V1Kfij/RZrLpTImfexjKlAJ2Sx7+Up9LiC0PoCcQ5ErSEtrrbWq/vEI5L5VDcIIr1CUFl/SJUXzxVblGY36HKPzRwCyB+d3iUjxHcmwDxjA4RV67zG8uI+XRJ8WstiOp34C4G6aLAUS2fIDp3zO0cqneCKuc/wnzfHU4QypNp9pthbWw2qbm6fZGYG4uUIDpalj4xSS7f0sBEEM0JfcI4t++lgZtd5bhKWEVWOQnDFVV3YHkJ6V9a+t4ck68sBY9Xzzd6615lyJ3DLmg0FJ7hgbK7LG4SmM0wCD9K2Ru/hdebMsqihxuTdIob0+OzH+gB0KQRvc6hxnDMVkKzBUZ19YttTHSi443MUugvSuWkv4CdDSdLLzCg5/YJygVmBnv1urkPPp+dOnd3SogP/iTIbZoc+L8xuwUqVcNHwmbKo2HX/hgIn9s5W5Eulvif97V6jil5rIV62GZy/Vt2vtZfbvoJOLqf5kwGNfarAhILEH31eptmGUab0HllmmytzulDwoc3eJNo7iAi8ujAAWHSA533UpQckstxVTr+2Dm384PkGJLJ3xPn7jYhgjRKGunUZoORRfAXGzr4GO5qZ543M97/Y1kQ0TixNdo61+4cEtxae+jRzGFljfjwIb+xOJHyhz3EmMr8Gqy4FGcjbWMK5sY7KnBVrtSy/Mq+85iBR6SI9CbTfOLP22CJDzDL8CU/fVt2jRakqs7cuLNhM+Qpl3JMnIf20IYGQQcV/LvMau50y+N96JvaY9bEmClYQ5D2hw86Jx/Q2rWWj5HG/okaj2cP5iQZUqnuJ2mYqvoPgpWbuns2ObvriXlipslieyrsymaYSzZ0Y9mocil0PfcvwLJJQTLAFa8rTTqBzPCWUH1eV2wHvKLKR7uPftiPVji95qYsHTyuAzRcUKzoo8Po5qqLlveK4qd5ULZhUcLK31S0J2TSD2j75BqfD2BcGeUkNYjLWKT1EItfjq22Fcy24A5jaLNNnd/w/WqCWsE99FBonfPwi3kpeJrH6evOIyzov1sijuAZlh9voBP5rCLoVnFc+Mx5l8j8IQkOShM/r+4A2ZYsMVY/9UDEHVbZTrH0/JbjEbrWCJ0LX2fIVAAISSnJN2F+K7dKEFKMPKgpNo13XZ9SEvPY0vgolCmZQ1PWgCKRedHpMsDVWt47W0fT4hJJpbnf5AhEwndwRlvUoVJH2CQNK5llTyWxbUe2CyfBuVmN6RhLybZ+bP7YOrNW0lxsSYsKMJ/kx82y0dLQ6FEWPjCLRvT6ozMtPxMd+rWBIPmOMUpBzIYhKCfdHtIcPGQw3bqauZZGG0eGXJlQTcSa624J4bcfWYKYKNNGr5KmeZgoEd9ArpeWtvkrnf4O8y21Uun61kt6Ahi1gj2g5Fg2oHf04LQTHx8N4eLfg3K2+vv3WIYGUXP2Iy2CynQHmpc4TPep0Uj7ZZLesyG4Byf+sJeba59lMaG+Xriyw4wL/VBAxHsTrnnVLDfHDPhQYG91QgegqpR0RX0mmM2XJs8IQku0y4qBCk0QD87XOLi1rRAEuXKYsmEouQo76AXQIwf2tqsRp03PqZRiv5Y2D9omPvQDQR/NO8KeSI/dn7BsGmUqAWhOPZjpBjN+KHnPit8NbyGkl+PoEtInEvLLsIbWnwvYOxUeSFz1h61Fj5IGbXuKQ5MAckkTu5DcXKGdAU/eKLfU8ujhKtVoA88CQfev9OCP1AmPvHVfB/yE4cNVd2B5FqhEvjvbqfiKeIYKwyAyewTeZcieJg2yvlJmNQPle897eLmRXp1Kj1wD5pdfBX0qkTmqPGQBad9vxAMVTV0lg19+5XkrJtY+poA8/iZh+Lbd0bYvn+MMcyzsk45llJu12XmInXvroQsWYGe/WKnu8mbAcKu7pUQH8g2IbZobuptABmTSzKnJFY2kh8dsfDA0mZjoxakp+cp072sKcfvAmlZtxmZ071t2vtSDWh09OLqf5k4r63nvftOubOFrJk2zDKcKrMAYrqEjdLO5u89AN49JR19Be26UCEUFtD86/CpUZF6xCF7A3cIAI24FTyvt9a4wyNKa2LnKG14Nk45FF8BcbOvgY7mpoFrodbn5tcjRMEfqNLLcB3Dgl0xzvo0cxhaEWjAQ6pbt2kfKHPgjGdbJEJHPUZyNtZc8nTP0KSNPm2ml+Z1oneArN7RO/xjfFaatjH7YLwQNAJT99W3aNFrICMEY1qIk0jGpB3eFHeEEhD4yCDiv4/5n4NqGJNCXRN+LWrJEC61QORB/3DdFbz6HXyaz4VufJN7bt/Gd3MUO/nakQQvb4dhawFnnZ2hI6vIS+pPrJQhMwKNyNSw7KhArPDohK0zNCOzOchMN6r5hpbVybGyhR2h7yJelkgm25VnZy+bBfzcuKnIJFOdAKz0qIlK/S4rfBQ18Ue840S3gu5wG1koSRxoPP0fS2xTqcdpNuT52PfbMxJ+Q9o3yLNUUOGkINEIUyNThb0Pw9d0dM5ecMQcfhe+rgVZyWcR++HHc8XYt9rgp11s/0+5V8EXFLNHfetIdPfZABpQ9wHEN40hamYopJNHtWgDwMuVKP/DMEHXj6shFOuGigPlNTLfuyP24wld27MzPczCFe90HNVqaWtwnsBmn5B7wEOTIim0SYC0LVtGYMgjv6LeBQsJlF2czU1W3qbTmz7Osh03iTddDNXBBM4WQHlbFj77d672UAStSsE8cYBSXC1DWPAnp5ADQuHrAMQYo9U25fodlReoZ4RmUXEJvrKGG5GHU0KydpueGlzVzxWVmqpDzveRVmBF2BNtJMzGQMYlh0OldFxc/yG4lS0gybAtudVXZnG1lRqUeDOutdBiQzA4ddC0b+cuNOO4bB2WRBrxDPmgwtQDUbWiLT7o+WfDzWM6lkPVVBEStcka/xS7EIqi5vHPLqjN+6vB0+tKhNevIQitRB2R3NHFKjAOJ/KoSTeyLyDA048QarDf+iaxDCTIQ5MI+dWX6JxAPnmOE57JY+A/FG4RXNGswEMCnArBWHxUrZMBR0r4MRF2gbPQUMRniCN0lZT43q+oydOakfW/7FLnS7MOYHer3XnVgweLUmZskIzB+8DEqKOkcw+yuTJ/QMqGv+B385myOGPY0bUyIbcUz38KhbAv2hpKjOvkcVm7Z9CoeUGj3S1ewPQZKa4QfRWx+G+xmPdtOFKQFfb6ceIBVG9cp1q68zfsvAkp6xbsyqRGZe8mRAX3K+iLCWMr9pIur4fxIj6q7yLrtvaKjg9coBF3ZtSNv3nkfwvuz7USHbXLOioodg0zcmRi6WMIRyMnfn/ALgAa6E2iuWsyoCJM7oN77ng09RKfBoh+LhvmlfjXe4Fx6kUXI5r0FInOrEnWxAaoXi7hNiC/0X5DajiNk+M7JjpBLAN150UT6ipFi16gnSxewNsGQxzQRW8yvX+E3KMD7HrlVK/h4E2Go8WaMrAzBI13lTGBTZPjPvvcudUl1f710FhDwASd/t7/gzLHXZVUpQgBmC64sZWYr/U/d0cPlorARaIe+m/+T+Hs5GC2tlPRGrpLNCXcbMvYZE7vP6JG7DQNJPj/rtW/sCn2sLTinv7ln7UGuPaw2PI6/eNg84lEMlHWff5tuCJVvB/O6iI8y4agC6aDYzvEFcbHeUswhKf8JbMn4Zf0KNbEqjdIrm2wLsAa+fy467U2NTMpSK+dDodu5Lvr1pGD67MAhmv1GGMef3LPizbeOFKNccelOuWeutHWZq60E1XG++XCQF20dgwQTt9q2TV/bWWcG+smCvV04qFxFGtmYQ3Lr9Mqc0dTeDsgdcDKv03yprynabl4/25nm+CEP16XPsa9VM1DEDmgncHGlz/d19xtiOg8yAmK64OBi/C7+lTxIGkjnl9Waz68YuJ5Ercw1TI9qCoGYt5ZnMSoGbD46O/xMOP6N3fbKbEk8CI4uQEsNr0+OZx67Eam+EqlD5gguhwSOaBjqAzOC6Bp2SiDXEO4b9AeS8wVq7Eqe5kCf24iLKIXr2BSLXHOzCmPANskIw9UFp2qXlb3yVljhPNtJlvPO6IhqcOvjAFVMt5BSfMx/OR+mc4k9HzRRYGb19uj3A9WLBOhTegRZLqOlL/6thEnfzE0AzTNIiJ2IwcuQnGJlELm+hXO+DcBmx8pjSdz5MqsF0J3WWrb20mfqmt49WtlPsy2nqZv8xeOlfSkhW7DsIdKLo6e7MVaAAFl/BWD430nCjBu+WZ5cZC+Gf2a93cn33gsVkppew5BooVbrMab+zbxjHiug2F5JaGQgjLa1SUPhmLHug4T6Rxp9QGFiCpafEdA4e2B3Po9ooByuVbxNaqV5MOMpp9SXtF/ZBUgxmhpdV1N2DdupfezRCTR9ENgGcKdVI1gVmbSeKzuHNLUezmK9zjCjqokpL8hVesPRZhabFO2rRs9DKLyk+z37YMKX55pRR+MOLFMbKcdGALKm95qIJQejbl5N9NTl/Do+WkJlv8oEYkndckStnAlOPlwtXTHIiybkp8AjkQA6rJOlzXryFJ81+U+N9dlvQY1mpABIuWgu+1R8SA9vkc+17yFDu4f8NAktbqI2drOy9Yh/HVxFGpFDscEsmXNVBHfmQwKcCtQzW4lbJgKOlfBiJxYLa7GkurQJ5K5Ky9oD0NS3sEhs1PUDzxtjfjl+o8Du3nu9gf4JrmTr6zB+8DEvIBHt+frPicWXhFu668DNYlbrTL3RCVBnMKFq2ewsvJDLn1dGvb3gElvPGBjVijHLu380Iq8KytSubsKP8xI5e8sgFZMFX7rNCmUhGXE40l0YXsA4OqEWUhxlZhG+561nsuAiPZ54ahilJF1fD+JEf4/QSom29oqRFpygEXdm1I2/eeTai5qspqZ3H11INRlaJQFMyMvSxhCORk8FM8BcADXQm0Vy1mVAWDE+hvfc8GpPtN3x9Hmsaxj52FkJhhX/bsKoDTN7ceVz62iy4+jL5iEkkEXGZC7kjMudIuyLJyiv+YdUlo9YoWmDFVDzz/csaCEgyHRw5PxuUrQicydF54A7+BTWRMpUCqhCBj8NSxslPxm5qQZ7jNUGzduXHpnr+dLiAeJ9B1ZS2SvKjDOJnCK5DWr0A7ZsVnPl54SFSTZKAyow8yV5gsCYB75bIiQlGYEE/L/gQUXt8UgwHxeOUeWEv12qLW68bWFpxT5sODECyXHtYbHkdfvGIGbmDZqvgE86BM7Eq3g/nbY4oNq9LNdOql2SuZi9cz67kYd9KJDMn5MaFhLjYx8IYqb4W4cSLIt8pE3zYydBtYa7O23bojhfwRR8RpmF0mk6gHdTH2lFs0ywEY3fX45CmdctOcRXm6MnVJs0OqEb8qNTfhGbS6rk3FA7PfK+Wwt5MFerpxUOEvp3Js6UikY7Npuemoxhaisq1bus9io//juFBQPYFTlEGJT94JTz2QgX7Ee5PtZgknsUD82/gE4Dd+B/I1fdEQDt/YPRQTidJPZ76tKro+MJtC4Rsv2PM4dEQsxDHn6G2pPTr7gHbyVrkXVVQFR+BQ+0hemQBlBHObkNbCpZuiGQP5+1B7PAgqTQHVXOdYT4Me6nsy53oAmEKBGsUqP0lm44vuLDcC6wiC4vwcRnmpP/SNeBsuzX79rmyUtUn1p3pH8es8yMC5yllPtWBLvpPSdusKuFxaf7FI3nyk3jZEMXTI3vE3qZdQJDdhrptitj6gdkUQKXPZU6FwlkZynVpK4/tMAUmdn/CwH469hP6++wUk9ouVjoweBJSk4raQ6KuWtqkd70T5EW3hTHoSxF+oQTtQ8IBGN+34hPpEnxMDNYy90V1VJtGfy4agyWL6r3JbVHNvgghQn4v4ZbjloijrS6emydOpx7e4HQOMTxAhCzGGWh7XsL5FRXWW3E0DW6eaCi9+RDnrw8TX5seGbEkMWvr1w3hjDt6XNC+9yAeu3Cw1F7s5p0C5xM8bzQU0yrmfPxwXLeOlwCaifCtJcIQckGUQrXCePmWw46GtR+9ILVGd3hdDfwm1JA7rtfL6ueQ6h5fvCkXhqJgeUN3zKTa9YSKW8I66xydWME/XhTMtmdRu9DKUZnb+y0vGZlLYxf8yFCa0AMtKsc486cZiaHf3MiLa97vHLqxLYOzx9CsosyAnIFHL3/6azZxaRif138ffcAqDUPYtUJg6ca90gASrFNliPcSa7FGDmzZBkOiBzAg6OUtxnRNYbGyyeMUo/97XgjiiDiUF5a3tTaQ+VN4x4Rj6dCy4PSSijFMpo3wtMWV49yAbK57/LnS0o+ICWfvt3O3+KAAPiPhwOiDbWRM57lT9dixj4MAsoNtuPULXqPrYOmHgkSX4K2REqPzjMC+CuxCX0YhLquDbiyVC/0I1YklKLYydaX4FvPLfHXZulqYoRVnMtYj99LnrJdGMsJFEOcu9wa5BFNcYLZpakJ/y/MwoZrQcG6l5QNzfbfYZ4srC1FvtpBBtys+tiHcFBBKRTBUJ6n7a48xxm8mlFsLv1XjWYx/jQgS93ipgw8Zr6uhtD4NbuWGJ/D24QXsPJM08QNFod1uVfQcXZlJKlxvhuPUmcru7JBfAYpD29XblWh8dqGnfv0VrIsJifjs4XQRnnfdv97c5EXXzPNXVG1J00mUIHWUXPfPpUaimpJlZJwuNjUjZfhn+Cx19YpKH/7C8FgZMu6w5j/E/HZ5q5/B5pozjG/VkhHCQAcEuQM0+Xz8HPX/QtHwv3DMv7qZ9nvkjrWEUHcki7/oNspjEREinTC/LS5yxKZ88/i4ZS4XPBeODGrfX3dWgxYpSSaC1aNN/Col/GumIuietiTNtpz4gyHQ7azqSfKW4xQvKSgavGQmQjnQDm74h2iYxVJUkVhGolUdN7R1XWaTp8aUUDb/xKEQCvPfrX4kaa9cnTvcoQwUUsvzj1ALM9L+1RM9aMfhHJZdWGEp/5iC9WyjvbgJMOxDVwNA5r1Qno5Z2P4sYdyab3aCtTiEvoy6Um4Nt7JULjs/P2bXoaB2iy/Am4u45Flm6Tp5rGyJIDGomNqTsA2ZYrE5dBn4IJdDAS+29mEU9Zb4PhxaFIY8hKFsEzw8SbkqYcWHNM2kEQiJwcKktyKCCUMLfY4QiwOJc2lPvYwH3TqBBYLyq7VNEprwQ9lKG9n9XQV78Gt3LBdbD7cIL2HkYAVKeeEn0KjxMRv/6isXtBTI3Umcru5UyVPOH3kzHxOyhAj3rj+GEjKuVIOuDM/REftlFk+JJTX+99LvqC+Bc6eDM979CASOHJXqf5vcQPzC45eTq2X8S92Qrar2ELBmP5vhjQnU3ahOgc+vUWVKzHQB/abVRrgFJ/B/7AF2kHb4nwOO8Uc+ZRCkN/xlIm4/xgWiq6Sgc6TIf3lRswRGvGm4qHKA8R9P6z6u1yGjEx16dpZCBpceg3Ork3KsJ7d93pNwD2ydolwfi9cbqu5WO8QxnOJuLU7GmcC1ZYPGWvhYUilG4HctddH9+R46+wpvGhmmKAx69JcLmso5qjXWAMrjIdARHDkyo1s84vEX3NATbHABroyj5T7geFuWMa07UuvfLqK6JenuKW+ZIPOBx46DUvNs0PZr/tUc4BiJGt0pzfbXJh1AaybHUNDjcs4WK+FJltgdiLDj6jIF4BpW8I213ObSCcN+XqiP+22eWVOFCQo6d6tCz6nddZ57tvGl7TPuv64Gn/cgfVQ00Qsx6wPX1bxRB9XVuhWtKUaovZmzAzNRSC5FD5dY3r/XfDIbTkPKO76eeMfclfHKCu2o5SqEBy/6WCd05KUyCumG8Q4SkszIdmhNyyzkUTq4GMPVGTxwXjYmGsvNaMxRXFEru/ZfSjeKH4giXd7syaQd1VuJ1mqe08FCjqg2wolsFkJbKxNlAgKGb+mRgRuyIfVRnU5wHNtFxtAyQoKT+zMivGWAlc4xnoXitWUFWob0K75uaFgGoZsoN7X7Bp9eIS2n5ZzmlgIZhj68pRzK/4dAyWiYH7nK9t3zCfqSFQhLodl/Pz3zWtQg3KivfL4imZRSBSO4Mw/cRZiM1jdI3ClMqgnNXdNW+86totj4zKYw6/wl4fZT7uNyjxbzwTQjFd4JmxNPzF52ZfFCZTIRp5I6OLiqPgZrkPa/rBnsKHH0VohMiaE3O3KvOQuXIQr9CUHx/9///0euK7iMreEHEIArfY9K2sf8aQeTvzMil+4bHgqyeJ2p6OxLLZ3AbFjSombLr9XZoK2uvMS/aBtCudIpqTac9kl3u9nfV9ITbuwHDU1FVMT2Nj0pANgdMROTYr59CSjDk2WI+S75avgltScExIcXum/21nwAOA4E5D43JSYP78AN8xJmXgF9R8FSF1JhtwJlLBHpX8/Z2ivMj10yJ8sDbJTz3xV7be3CUTtbJfopcO6LCutszeE9deDTtFrYWas0AQO6zRYyh7EPBSpSaCFtOuMgC0bjwdizjLUQFcwDImbeZSeauJYxNl1QZLjjtG8KIgm+fzPzpQJsbsX9SQzOGrsKvbdFJzE6jr68Di6COoc5VZ901FwNGWThas1UFg55srLiBEbEwDfTq1xPSOHAyEbbpOJuODJQZouSjtOT9D1QZMZIu/V/ihSl1IFZCsSDZ9YxLa4gJGq52HlJiuGkMGeGxpDy0GIeHRwrHHo/qe28dl89a8Q54tn7kK0sMGqYm1xDUjNTdok1nlgatRxyds9577vM47EQ3ZguYGnW2oTBB7eZfGI2/2S7vaymAsS/8zJIUTGBibBbjSQOP/i4S9bXZyIhagHME1VR+WGNBM4QxLd9thEpQxNs/K+0/uGfcq9N0hMKcXogCN1QUVsdJjY1lQX4L5gsOvgdIRapTUKWEqZLI6k2nEbjZS0wnW3zlYnMKg2sOqodexvuCDJyZsrKxNVZogQbasGEkblJx0w4zDPxF2P0t0lJgvByIi7dMyQHcAeYd3t9PhbJrEB8jEVpMWdtBL8BGz/ejLpYgQpmPVgzf6cEXVHGaf2qE1TgeMMZk+4osFav4vfk9IzLFBhcKWfgNHOE5f5iYrXilABdr+MY9xQRY4+jAKUSBO/rbXDhNWmuJfnLlerNc9jlWe6PT3e1uK8uBnZY7UcigeimvFInEUzHof0LygYfkZcXq1ouiBngn7ewjpygT+9L/3mUPnK+KpVZ0K4J0ZjwWY/OfFc8fzd+QmQKBsR7uUJbE4xAEtM//s80MLwBPHDpVp21hvYGgWOSdab2aOIhjQqcoa5brFChkX8nu8+KmgH+dXkkGz6xjWHh5TQrnZMCjUaHUP7IYwRhHOkgd6mn7wagOCxMuHgLrXdZnK9SbrJPhq1MTRPV6RmU+ASazywNVmSxzGX5Goybn5hHGFr/OiWVewqmspuPSWDhnNXEbhD6ed0+su65NfoMHUasQtwKLX0AwkHqj+qvuspdzQCoQM6eqPa7fIewDj2lTX32HefGPBxr7kTD3IjlHS1MJXyND0Pd09B7LDIgtzBYe+fPgVMzIlV4WEXIGOZ1u3BL8y5vKmoAoNcmraKQmWSR3LD7UxNCE7aIUqZg5LOUrKYKSPwGR3wafFS0wfpfPQTS6kynt86NtY0lYt80Afp8LD/M6JI+2FaJYk44FxygBIHoTspc6gZ2ZSlA3MULdHGVP3QdJJxZGGJpILCjnKYBnL0I8WmtOXhUEMjCvzcodXSNZPwbGVi1YY9c6FsRiUN1b3HgiVYX2vxdKnEvzSNTYP7mUC3pO1Ges5IFnZCqHnjXqm/bboroYakUzHoX0Xkxw/LTkXbogsa4+gpwFNHTlAy9D1/vMXfOV7xWHzoOwPkjHgsx+c9sGufL4q4KJRmi9CiPoChgtWXwkC59jQRwqx+fkyczSZ9WOxaAdQtMnwbUOV9Ry9jDTjeCzZneRvJBvAngpVNz1XQmLQKQbb++waQHQ9GCm9QHMI58ysyWPTuFt250RGw5Mn8+B8XC/IB4YdtPSecsYVqiwG8si89wMu/OlR/J4X16YTMd08ji8M5V5PFb1SW9Q6YKhV3A1P0/qGo/06Rk0/3xs7i/a1A+6FMeLI7LAkvtQYmhTna6A404atD3BzBTV5LNWJiHy4oGsa0tgKhsLBEaIewvEATShVuFqLNMBKmCE4VZa//reMMT62e3JqUuB93U9WPLDqiu2qw5aeF2kHAxa0v0Cn8u7Bfots5Wum08VRaq0ZGqVZsgV8ekrpZ8KjOcNVHg+n4yZx3ZjkB9Y5Jdubvu5ee9w7KJugSI6tQLRKeFc95SC9bRTQmW49+ChwEHuyd2BkGPcyVbX+RAJhoaOHAPxhPxdC0ZhDpH0YlFvnYFQWvEhZEWjX/3MuDpaUirS7pEwTBXtcGoR+k8Ims0uyZXAbGJQUcjivCcSxMrX9V700cRJR7M/VptpcIAjSWg5+haG7i4QqpbLkQ9D+BbPWds86JGaPmrRA3EnkLWwCSWaSTFUOYEmc92cNL1SZuK4RP/dkctl32Ta/7iIBiAUiassSw/rkimmX8ROwpIYJlggeac5D1CLkQ04Bw5rOHoh/qh7z4q+YWpaL6jqFWEvm4Vj/Xb4WWjhTUSWX31LrHuKjIGIG1uXpzzq0plGHvGOU0sLsZuJqMD3ySkbeHOYdnLgajvlPrWO+zBBd2Mz50FyrTtS4Lm7AktAUbaB/NCmKjf9RRMNaEplD3OlaJAw6Vy5TXbXlnU6OZQIRnLDrhxw1rawHhIoRLDqis4oa3Rzm2xFJFyCOz2C2KTlsEuHQSC53LEBy+kVPjHXy/X8XDRa9QaOUk6DmO9O1uOx0/oC0LJlknyTrOvE7fJmIWKBZMfk/zZVo9VPY2lnw9j+xUoZhCihknHViw3zwnDouGwBayZIHOnPpqX2jNpquuPkzhdV0zTFmO4a60umhJ+2I7F5mx0PxrKUHphvlsrW7DPuZyIHrxEEhAcXbQTodCflZlf2VxR9qMN/TziCLP/ET2cNia6pjmpmUP/olsOo9zO4sSUmrOSPzvtyoJFc1WK689V7fp6cC9FuKYV2/GKRxYwDsUzEne7vOM0BAerzQnwK4+fpUTDyBmEGbA1pCn/9vJSYRmpEVVvP45mWtWKyYmc3gAJufmTERsqhx9kDWBSUON/ht66FN0es6QpFtca+Y8WmWkv0n7WXP04gFzLyu0w8jtLE3OidzXwlf1efsp+R4uBkuc7mPyQFC7f0jhavhytoTaxKXrE7zyDrQig/Ugw07+HTtzKYrefobIeWxRzhCaaCW48Jj1WMqpnn+jmn1j5Mjv/Ql2QT48hY7bWIYmeVmMx5iegTdxbbA0yfYQTuaBIuSL3oj2HjQ9t7FbrpeCWkar0vepUrIecqM6gbTIw9nx2MBEQ6l19IQOWPq9/sO1Vy76ylPmKwTU/PZvssvzjv7PY1l+Bs+o3ScfZMVxp9iU9whvEbm05+yDUd5ebf+W52HbwDjmJIpPAfc9AlwoyCIlGORUWYDid4f4jLQtTNQm15VEiHltYJcFzyLtf7GJ89VJQTYRhUPKv5WtKBG4anbhqcw5lnsG9s+FT2j5gp7xLImUBdX8XAGRHkX0RsZKsaM9taKwjbQWIfS++WPp4VO1kEHtH+4lBST4XBnlJDWIys3r1FcxyfQ9tr6J7Q39XWXGhQFrExPzZ5q1gnwFBCMDORYJbTmp6qLlhA6HEuFDu1aDDF/pERtDfO/iibFWIbnz2T79srKf+o9JJqsGK2KXQim4ZRxbN685VqvutfbTIyz9Nmxmu9lacHcp7MQWWv0Rsg2eEKgRiiO2Kx93VqcVVK9AvneGuh9HqY3dU4G7Wu2Qe3f0Ms1bPpYBh4kF+IxSKyu7zER01aeRsbFjpXAptBp3FA0Dc7h8gK6Yrl575/P3fmz+2DIGSyK3RLEVHgwhQq1CR1RcHVu21SawfsvenDMx7yNcyLG3MAtgz0HQfvs2pce0vUCJ3H9FPwP20jEBd0zcQrutwZL4Y+hCrVm/h2qzy42/8lTPMwTE3pwFvZf69SUcaNTmnNtEX/NdKzMf8BGm0Rf6xNXKB7svRIcCDvzLGbXvVzTQ00ClunAiIVTAaReQnrradoVQ7IxG+TlmeoKaPof+QcoP7kNO7WqnGWG0oJkjKztJa8Bv7FHFUDH3rdQoc22KJv587fcF8ZHh0XFMYxh/rZCK71Ws3o3LKsaM9sx3jCzm0K/cDvbRs+SjyyCD2j/gEXq6F4VQm0ieZV53ZBpQcoHNNcRk0SjWTq3vZIfKlVPy8A4BTPfnD7LGcamdsvc0lf98r3hPIwoc7vOslOocFWTnDSJhAtxWuCjwGvvU6X3nmMcM/j99Cb1SK8tLHOCVXRejIAnZhP6vTvuHVZYa+j7r3cp7SEakASSQg3dVa2a9tVBkkbnVqc9My9AvqiEPJufV/u6pwN+tTD0c6ldikTfT4hIsy9yP8gQiX+DnyBAWm6gpAHTKZQQD9698Fj2wS6Eq6KrbZ/ZpKJG8pOiFkigT0UVcJ1fozn+tXfL8iDDnbtBc+6HUKW/FlRbwDTtxRUIAPsGeOOxcFE9WfQRNFXyDzB5aaER2o2mCD8RSVRle39NbF4aRTfx546qFUpTsxODjaFpKljHHTW1BEckNTmhyHMX/NdK3+k4CNNoky2JjUuhjm7n7G/JxnxmhqT+UHdBxdhoYF8IN0vrOUYxDnpUCSGI25M3z94jVvVe5cA5P/WEuttc+ycd9noioeeIYwESmYGI8g9c86pYaY4Z8KDBITupT8UgTaay6UyJn4JV4Q/jMAWHSy4rioQD87Nwp31/OqbON4YsgjK27yco13tmknRFa2I06bn1MCjjKG537saS1NEGN+ThL/yfHkvlZkmmSY1IWSE8cL/DdwKihwX4jR9CSTzWQjosSpxseSeX7I4RG6+H1pQ/saJSD3nOzxISHzXNEnTswBlxtMaeEGteLkee6MJWi4PQw2Onngh0AJB+AY6cEftFfHVakNmnIJst1KRFGPwvUIl8d98sGjhGex7zOQ/HRpcV7SHuub5AscxqB8sNxFnSFsDif00lzq7+F18EyPh3nNUeMgC072pWXZD70KQRv9+YRGs3NY+poA8/igEPBfBwdUfwCTbS1Z2Ca8xE6jQtL3wz429c/7hz2ha108xBfT86eu7ulRAfsRVNN9PIb35YvgrwX05zF2Q0rpbY+F/Of2zlbkS6VWJ/3tYWy/Fis1e+u5xO9bdr7WOw79PTi6n+ZN6hfLjYEJB9jCX4AtuYZSpbZgDFdQkbpaICCa3ue2eYQKZEf0Ca2R5rT/zr8KlRkXrEIXsDd0eQjbdVPK+31rjDIlTXMaJQ2DhIKbrOXjJz5Et1br+BncXzPe/2NZEMYI+6UWW4DuHBLiuY1o3dHuzlLGAh1SMPfHrnX9ui/dbJEHnfbiwtYUdf8LP0KSNPlei28olI50eM+g06a6QXPkCnfsof5RFvmOn76tu0aLWOczanNEiRINORllozkP9qEPjIIOK/m9G5F/oYsg1LztOiNLVKsG4nrxK4bw0ienLtgSnhiH7tWR7D9YcVvdXPztSIIOmXlhav2c4gVI2xDJ6s7Ld4qMNgUbkabh2VCBGeCy19zyr6ryQ5CYb1WLtS2rk0cTyIZDmJZeXoiGolXzmbHf7b1Gzl+kzP+YTD2lREownuDvzfYDQzG774DoLuy7pJKEkcaD9TH0tsU6lw2Q5k+dlru9Qn0KQLbZlCI7up6afL0WJNzgLcgbKYFRQnAaJbaW85FUYwwhWpakMqXU73w7iHUZ98rtuG/9lIEzXo6y5u3deEvC+Y/TIPSEjEF7Dp5X9JvruJS8tOu6dKemnJJsDZcNlQ38JW452QG9PX9VWUK29yJIDRp57Vcf9wahVrT9YTTCJn0z7JXT+JLmKHh9EASNmbtA633sVqu+nZlmgEowu0pIV1NKfFiygTR251VN2CausJGUsY4k9kykDbx9udZWIbgnkiDgMjP8WRjKmTPUGnNxwiF91SW/SZK4stlb9gv3s3JwM9ieg5oASZkFaz9am4uyB8581pk5vqsauKM1qiAMI0/U5hl6/j5NNesyXigSTIqHMRHtpu+UGzh/yLiKewymJgoNwj2N4lBGSAHNhmVg+nG//qktUvD1cPRZhabI008F14WcLytjVdsDCu2a9guvnFhGG/ZEdgoDcBqYLhXch51DovD9OGL03fF5KDJAn8N3uQGwJxnBCW0RPfP1yH7bLYTqRV1tPQb8WGsvXscFrB3MePtq229xZR+9kEIOFpDqBxyECJ8SgnnqtHUxb7Wc9rAaiMjwYF/xg6jGbCUca6pqRhhF3R+orTZwjwVlGrS29WwwrSqJeMCwUX6PIpLLHDm5pdILWkNVooCNJfuV43y/VE9nLwAI/UEhzL/z9c5XkLEar2LQa8sZoyZh1IsLS2YP5Rb1e3jQt+3CLAMmZ2vR3thtMLWK5z48c7+/gENsnjl5g6fikY62kb2AzGvMni0rYabuIln+Rz3K5aYEFZSfwiJoNuxzF0ype/B+Fm8P6P1LN8Y2DP8mfUI2ZV85S6rWktMMqe39vvTk24HTaiX19KXDMvP0zX7RoZoU4sqRs5tw2h6JWBdyIlez4MLffMwpmxEKHFM9eifxWDdkvLTDVU9u3FVzEzq8a0x0GwvJLQyEFpo61FeIdZTb1O30ophL0ExEc3LefXAbFYxoJ8vtFAOYls8TWpnyMaXuaeBmVF/sgqHaC1iXVdTcVHQwa72aISaPohr/XYMMfysCV7mVItiYKk+0+cxXucU6JyTlJfjFldcYdBbTYPmBvQIbxLiZXGTdXfvLHcTIuvbu98qa++pMQx85RqS+reow/zUz328eKH62KKUGSpftt3uQG0BIIZgxeCrdG1yI2sMLkzTt8yehOrWIZfQOiIMzahU5FGrbb2eGiapJSBvtlwDmwQmmDsFdEcDAUhoJ0yBdhQAmSErD2uewYccOQ2tuLYAmsXgzqz7WlY2S3QTRYo4xvuKh4eee6ML24km+yLGwGLslEMU5nhv0DVLACtUWs71HSoN0AMkeIqDHHkvFl3RCZbS2SEHUEmqcmYcuIseFLxMxRyLV0NfEMYRhqqFi1BMfBvnoKrbBYZUTrRrNax9BVoTtwUJFJ8wWnAbXR7d0cD6RrVlJo/1znIDnncfUZn3HgnFOIxOqhUUraTQNUGXt8bQH02b5dGyGZy1uv+i2jxGhWvX6W37gL/ol3fSlAvyvSqbzDzlKpOWfY1R2K4TDn7fMBc2RYmO9bnKz6mRsNVaCbbVXkkd78RJAjwo54bBuZvQ8aNTEGwv1LQyEGIVYNK8Q6ze3qdvolTCXoJ9cwHQEWId4ZiIQ/wM8tt24+zxNaoxi7xwRp4U4pEqLA41G0FUWbMjjvN2LNuck1yI+iGv4trWhDphW57eD5r5eq8qudbFe5xqbkXEiFXYLBDDzZ+CnPa/qJsh5I3Dqsc9+2DCgRjuoo+08IWma++pXhFlTf0paUFSmuDrWwQkCR4dHy0Tk0CSUVaCLrkiVsyhayfLhaumORFk3JT4VdQYB1SiiK7QJeK/+ym6u7o0JNPX+qUXKTRkSv3n77aupz8ZsirZUNSCX2OdnmmEfO/zq3Q1PDmyj3d2CQ65h8BTLSLaCKxN5px/aogxK2TAUdK+DETqIHKtBQxGgBsqXwnUHuqzjYaCQ2amkKY4bY345fqPA7t543lIHBLcyIlV004Uc4TvK+35+8asQRUA+LV4Hf0gbI4Y9jRtTIlNxTPfwqFr7g6W5KjOvkcKiHb9Ni/tGdhDF7VYiBFzXi7g5I/xE4FrDSIRcAmOg7qIXWIWis/erwX4qvnlnEFVt7koUC5z1xvSdjn1OeL6NN9KRdXw/iRH/Ni4sRtvaKjkubsmSWq55vUR0L5KqplEgkNUJfEdUkrRKApmRizavUKhJN1snydnANdCbRXLWZUBW9LVNeUP6tALfvXOuSvCVY5mLjkJhhX/bsKnlSgNxctO1QbfzMzxEdGf5Utn+2/xVYjfUWEHDDVxZq6BCiifTSa1GmK8fDu0oabZAc+jhyfjcpWg1BqKw7546YgOn4DTmsZUnVZzPFSxgU2T40P47LnVJdX+9dOYy3eNfYc68Fw27vaLXjmEAMwXXFjK6TdUOwpvp8tFYHj5j303/yfw9nORAe+WyI1kZmB1Py/4EETnfJ/RI3WXx1uKMsGb99Tdj5rhfjFqw68JQ+T2sNjyOv3jdhX5hBIr4BSL2LnsXip/53IKKDavSzXTUZEkrmYvXM+u5GGthiQzJ97/ACjWxKo5ZUODi3DiRZFvlCfahJdcUpFfTu08Xcl3160jB9TNgjIH8RTqY+z8SIs23jhSjXHHlDvDTjiK83PJG/dZRb3y4SAu15EV0sdvtWyav7c8ig31kwV6unFQqQ3N7GzhFrTMd35QHuEp7tw3SJXTq5hOFFbPkEZdKf08//Kiyq944vjSsDfWsT49DFpJe0Jj3UGeVlsmDaDiar4qPEYD/uDU32wZ1c3fcxaUCoQNEtF0HTYxPRfhxbxmb6zmwD4iRBopJNPqLXVUB2kNnm0yAhRMENa7L/xW+GO/SXn2Vx76mpOzECkw5oV8F7tqKSEGUt2jdmstIxw4m3jPHmSY3HKzw6L/TL5kemRn7EO+rgBmnLoBz1xRpP3it3WGjoAoSJuvvkqhZ9FzXjtv9KGavqAuF+FTN9HOrQ4HhzT4/ek5ohOYodgZcSBVnLk6svRZzqgQxAwdyD1lacKmO6tjRpgJoa3ju3cBHeFOV+Zf1O7QdJIWhtJHPnZFFLxbavpR080+Ujjr/rFk6o8u9gNRb5fHz0PHlhTj2VbtZzD82+UwWbuvTq/AByF3b6sGvbv38tc+YcxyJspPNXbufOKUU86An+BiKtoiznrf/gHN+21iI5QYMdc7KHGufr054C9cD/QrZxYLpQ2Rizn3k8OW2ikmUWOZk+Lq45WxrqO0p+ep8uXJCBWc0S+wXUaSlKNAmS0rrP99zJi1GsosaREke88mKCAVNeg6Hlu0td0gcUwFIA8rq5GX/gWYcsD49+q7KFwBZy0cVHKzTgLasCTG7vkDToBzWaJY4VC1/CXZVF1IF2aJOc72ck0bCKAKllPli4w5YlLy0BKQvK+dilfamcIyHd5DbEgv9vgIgMr1GteToud5jEON898Et+rGuElzHiR2wt8eyGKn1wU7xgAnmBRCf2HACOuAm/Lr61VRE7yD3bY2eGUOT8ICUzGi1lBl2tELigQbmMRFHZ+Z1sU31/svwIn0cq2Qa7v/vDtMXr9VOqYLsSc8jkWeqZfGMU4sD/TiHJzOvISIJ86KOISTj5TLW9qFYrRU4v/fGfcsFvmH04q8yq2mU631gRTLrBgSYW7m2/4PBPMQYAPijnTO8WuVMD58igIL2IWi7ymaHI+EJ3iXlROAEuYXIqnX4hPMIr7GrOXpXaPck8upeC+6wuUrz5SVrdO6txxS1SuirE44v6LPD6c9PKEKzhqA8hZAyX+498x69FcPnyvnwlTgBNSglolF6ObqCA2tiIZP26nIJ/mhr35xyIGzix4x8gzTNpE1M/oOFSW5FBBKCRvscIRWS8eY4zN8j2tF5HY0M7VdqmiU14Ieyk5Ga+rmje+DW7lh5qH+3CC9h47iiEZRaHdbQ+yOLm+orF7ZC5GV9w9hKqlGNeMFHat4goDMmbpqfO0wDPWz+k7b3HK7QapobgBG+U/wvUOCFWHOZl+41Km9khxUZ8yriNSTKyXduVwh/V+Gf4LHX1ikoq/SvYoxRl3WHLB5tQZXa8nXLNNGzBRPavc/wSXP2z2Wmm88Bft10GsMTh5+gcP03f/5I62ZXtKr7Nd0XyBhSdqa/0y5N9rX8h6yK6NiJ7QA1CwKE+bMvoTz2gUKfiMapQQ+bsX5Gr7OillywwBG13l4gyHQ9nY1lLGl8Yjb/pwhFDITIR3j96F2gkG0GmWt7LqtqJVHLefKVetJjuNKKHg4wszPYkgejuthiWuPiIw50/LiDAzp6gKU3ciwBD0n13QuPmIYI3docW2oEh+/0e0jnB2CQMWUVaT1JYuYRiJ/R7PtJgXqdwgl9GXQdXBtuZKhctn5+zY4sFPeQj9Wl5p/Hcx12i9axVnMtYyoBFn5EN0NUpseyD0KkzOQtpXarhGjZ6cKwhiIEACjHTJ40ZkzHChrGfwxFvtpBAz+cHCpLcigglDW32OEIr0CXNpT72cB906jj+C8qu1TRKa8EPZSZ/Z/Vz9c97GPlhJtb9uEF7DyIAJGcvCT6FR4mI4A9RWL2mWJn1TIq7v0w2NCS2CFXRZShAj3omGc0t/HKi8RA3Mq9FNtxPFihxToOw81FGlv7MngwB5LlVoSb2prqsMYcUeDWStfeOPaojsu7TECO18K5MGnkd5mXYOU224/luXVPO51LtyPbbPkxfuM+y9+Pf3bGLaoaDRI+o4VuZ075fJHW5Bguq+N++VbVRajxalS0pEekkPXUywbaAms3PIMYQq1JYt3It4vo6/PPcyqVFBVDsp+34IdFEFI18N2nfMGmOFPxVYQBRtROv6qGP2NVczJ7/VQy4ON/3xXT5h481JOTRbWNBpbb/DpFetaWBYjiPAEXHJxZKi/DC3XBiHhs4jJs7HTdDRgcpWKdE2lUnofayJS2s6P6yb936BtkLAlx9pNYyAlgKQZqNl/2Tm3elvuyukss7DGkysJtUj0CtcbB8RzeGXqhPAOKa9khi7xwlBSHzBlxxetzrr5axXf3X5b13gZfaJ3ZhFYzeemXirWlkog002CCGEBPCGZF2p1EGQ7JI6QGx+MPe4WV2bPqO/os4m89Nkkh+GP7U0/jYLgBx1kmr/l/v16vLXuNkNwQs8lU01fSr3maSFqxh/hL5zdP6Sqe83+wZ/txn6ljmx9piXe6k+ahIQetKkmp4CAGf7k0cQTmy8H2+qof3/r0ErqQcb9W/p3ahuz3jlrY1egMtpufuvk4pcgfhGji+Zd4jdYt0nUN5wmtOcA0hjQQb2MmPVRcONtyjnpEywSoUMvpg0VMCCpUsyQYB/UQQuYyFzS8obWkW+VhOJqi6InRU/0PmrxNpk79drRAf1yF3ofXb5ZWZLCD8vt1FeIH2c0eMrX655SEfRNsQbA1/fHFsup55Z6onjXrSl6oj5lJCFaVRqeT5LtdmVdXwrqHs8rUzGlj5apiSYuP/PvxO2aOM+NukXOr6CNXAJYByPjzf8yyer1+7SeDjeTX4QmBOknB2cBz3fLheeauReRCsdE8Zc6shQJoytbfeeu2dniWTxKt05eCPc9ji3ev5DUL9W1q+R2GpxojR/PmmfSCRyp6SC6Wx4AKnYMS4qErd68BmYJPa8s2NBO9Wej432VJ39YshgweQmetbKBStHoQD6rM7C7/yRvlGaxNry1X22skJwXQMcpDuhETpkNoRjkTp3dwHHNk3qobi7pzHsr1+0AUajjrtZpFnB7dqoymc8DEot87Ap+gqZ/R5njp25jxKiWsPaf+kTNlJ+ayAQcTR9Suf/AHrxKd6h4TsE1RcSjKMLsyJqfmiRYrX396nJBwUazGAxcTtO0BPhApavJ6P1H3/C2es7NNEtoQtIZ1zdE7QG0jIjt79+UZV4D9QQ1o0P/h5uK4RULrSes9UYbTA0IagFRNms81P7GfsYQbNsPtb6lkIyGgvNQvVKhFx567wlJrFXARzqFuLoq5rmqzIGQWXT5UDlbGD7lowtev0PMICo3bua0r+nplhYKkTuz7DcbASS1Ksog9WP9TqJ3y54yyVY8VwG63oAGIxOwPe6Zz9zO77beqci78rd+/xsjcNWTBo+aF55w2REXPCVXiiotDSj7DsBkpV4tCczCJESrUL0Ao9lCk8o2GQzgH7y/k5R8BruVfYM4WR6bQgewWxSctglxJ2gPGrZchD5dAYMbhHkNqQf2jhM+kO0JGb7hhiMcSWNoDdaxqHn9xAkg3xv9KVre/WkK678F+kCPjPAPi/uSbC2gKdxL2zJQPq19ZWLeL9uZXAGyoiR+KCwLThjTJS28QdT+zMoMN0koMFaSOTq22r9kHAiX5cXYbhUuXrbkd+2LbHB72iDQhHaqO0N4F5gceQPpcc5d1AL9jwvaCMG6JGYWNdy/suTDHQrDOeQOlUAzsKRO+TN9JD3A+2zRBFls3uMO81F891mMPcaXQahSgxDU2FYUAqI2Yr2G4Grc4E8AoB7PgZhKlBkGfePa/QgzfmAW3b9lZUDd2nG/bDaO5MAqYF8y6j99piFNJ4Kvod77xO3DWdxbTTwcovxIxpmJssqJei3VFOdQ2c1FtvKWqC9YO3yALTfCp7yy6x+l88n3PwG8qY6TMkB3AHmHhaZc+Fyr4niAtkz66ks9c7gfkOReJb37/NXqV/HsgWb9K4pjjWqzIQcVG0m4IwF74DGVqfbfBJdMwdxJWGk6FRSl+blEf8IqY8GxlY4fMorL3RqZjUN3LQf7jJTVNWBdok32Nl/7X2P2OVZ7o9Pd7W4ry0umjT8z9qL+HC1ksC7pNjwIt5w5pijO7jum9hnH0FOFYsTEIFgrW3epXfowuPn2mG8QFFMY8x2Pzn/gVbQoljN+k5UcvslYgaymlmcfSshfODk+yfPA0fM1EGbRJ7VZkpifWjCdmvyaRbzacb7edPq5G8lZRm8bkU6a+GK8xLXij15Gq52CRG1Gh0y+QlxpDy0GIeEbam6+532qWl9Q/tftZz6e+LcpBYWTnA60E8Z9+46aWbPLA1WWo0MZfgW+xyWgX7H1szcD4uKlnAnhhBUe+wDdQqh1Z+ulRExjctGZkVBFj1YNPil5xaBYWdN5h9q03JqgBE7lxkzzjJ3No/9cYjNtNnf0aCAjvS1+wZFPt7T9hK/EmbK93teXMsJlF3/fd01RSEWqU+kUmXjtP+XN6btBpQIq0Kqq7FcUVX4kY0x6zFkyO6nY1t6DuPFVcXD66toXB7rErgiznemGJ6rIEvgHVYJsTrkwn/DkId3m1AnwuC8zolokpTVLyDsQGP34C35Q/LMChTM6xvMP0+euqOM92tUJ4TA8YZUMIrrJcAPo0iIsCynO0YYmTh6LR0vjKKr2MT/oWGrDA79eZ4k1mFoOSTelKAxqx0UY0q8oFkIH4/2235wSSySwAUj4iDVljtRvhjoSHifE4imY+2WXaUDG3DL56nofRAzwT9wFR05QKB+l/7zNfNeruzVZ0MsHyl5Qco/OfbDXRbOCftzFDcAJCEtP1Gd9hplVCpcbCWZWlAjHVyk17+tFODBAm8q2H5bL08gdzj15x0jS0/XOFaUMsWCsFbWx+Wgg5Mio88Hsy0H0h+tYtq6ZBYTB4O62/+hT5236PV5+hLZxs3QKd15agHTqwv0uKbX4L+RJW6SM57KB2R4J2PrGzSof6/gc8uleJWaLggbKh65yT60GZElLSVKVmFxAGyUUr6q+1ih6TBdy9Tcs0VhbbUWvMyb1Mj/hkChBxcCeJgQsTkdGhyjAqtSBX8gqFZOI4BCC4YWSeMWXmklQkNGbew1QuAaCK4yRnoXLl1DDeMbk7zm3r9WGagYS+He5hMwibD2QhWXm87LLuQ+kRi+Ff1/bUbm7kmQk1jGKa7tO6CPH95JUTAi/Mw2YH8JAU5OMmxek/P4I4fYwHIQo48GzfWSdMzhwP7gF3jmKQ6IbRG5c+5Iia7gNev/LIS7Jdljt4jf52+uxMzY+9+mgBvYi+FaqypyJP/Kmc+IlAPmIm46jA646b2Opky0IFH84haV47Z02kHWHkX3NIkmEmcfLzqKp2cM0fPdN4GRiqCaNOjC3gRHDlNXZvo9vUkwEHeuGlIcObYGHq4dUnahWgbEfEBPKD09eUv5z8ZmMx+rerGfUH2Rocar3CH9bfulG/by7M45vWjfpCUz0P0QJn7qY1/bZO9woehJ2woVROM2FpmnE6vl7sT1GZfq18u7IXuH1pwtR0odP6BASPDKfU4Q9jlrkQ6niG30Tjxwd/pz3q/C0L0FcYIZ1DQdKeQx7XQrOFuhKelCmwvcMwAnEWGEorHWWGfvKkqY9lpqXo6kt+ICNZdHN1MdY7uSKt7Glu+iTCoSNfOPbgTcdQX/BtWer1c5XCGJ1122xKjZgw/NS28/bORdTdwTh3+EIF66ghxChsbYXfR4aIY254ZSrDzHKsRP/mzeEKJ5lEPF41qOe4ybIN8xsrwhasjbOLRC1lQN6kl4XOZTDaYU/J5mhZb29TBqhqh32CLwG2YD8C2rLBihfGGBf6oIGI8mJNKnaDViQCoUTAk/3Hp+KQFjOHhwbrN4ECqVySL/d5SkK3jRQOHK2129VCPSTcXgnyxt69YRIMtYB6V5tQ2EGSLYndZhOkiHqMeQYzEZhpRFYXpiKwwcIlJmtMTmEiB8ezz5e59tc9xt0tQTUnKAH0sVYuUwYhZHJOHrswU0nsIUl0tKdbXUmhfjNQhv/ndACBS+G4uT0b/lZUoM5mjOSDoy/lAaRpqhbZRmVRAmr39KXIpawQnD20F3YHkLml9a+xqpyZspecSg5MIx1wJNyFZIH9jaEPmNQPmBDxzpe2B1+JWgZ1d/C7BeP57grjcm6RQ5h+WS7IfehSCN+roet9Y+poA8/icvbbsof5UA+iDqezqcrNfHkEaFpe+G+m3roAOue0LWvlULSJEiLTSFd/xf60eqab6ed0wVDtIlSrhou1jaSE89A/vmWZmOjFqSnifjbX4wsa+c4xgtTwZ8TvW3a+1OXkifpxdT/MptYHAI2BCPEDboAC29vmAB5fdNeRp1NVF8Rui5NfC9qInkeRDQZOIupE73VdBBA4pnXXtdk2y5jnCN4ie3vNE2UUVCtjVwcjZrF9JyKL4C42dfAx3NTPWBhnvf7GsiIWm8gmWW4DuHBLpRPfRo5jC0CtGAh1ScHBh8oc9+MN1skQhd0dUM//MbgL6e9JwVbCFOPzRx6x8SkACOweF8yE6zoZXY9Ymk2IZdtubvVxKjRBgiHdS0orjRD++L+nT1F1ptdH5bXEjFANFQ8quZDujjcBpOLJaJ68mf0o12iTINHczdyeVZbklEJ0rVeS+jKdQjoDMfTDRwUjt3T2bHN4FxLy6C2SxlxcKg1lkSaxrB/g6QvDBp67VEWSSgmuWUEvuvUkFxMr2xRJw1yioXAya70TtTfxw7I4viUV8AFsTkvyt9Cs6pQv1ljNQEObbZ3WMd6e37fndW/1f2zX7K1X9UnqrWvFsvzHtcSkPyqTN1RKPx2bbCuZc1nYDijNNm1/w/XjMjHZwZ/oRgZ0BwDY1jRmxF/XcWGXS4UPpMfYZD6TEGQwvzdrRhrQh4/hhCNhUKbbHiA0E1atsaBGcDLapb27zkMu3f2BHkvktxmxhNgb9/udPfhYYuDksvN7M/FdulVWlGHlQVelu4ve3r86PY0vgu0zk6PFbvWiYGPO//2fg6kmG7XGfT4hI8zblNj4kiYbvTsy7Sr6GzuAaGlddUM42xeke2CxXROjyuXnv5rfa4bP7YO8AHpywJBtcMPT/Joj7no6Wh0oL5NK4tHLOLYYw6/Zz9x/F4xnIWebXW5BiEoJ90f2blDCHDdupts28cKYKvLEyGQapXG4iDw3bOv3xS+yYBgezE4ONrivSgLey/2A8GDNwG3bB6XT9a1iMJVhGm1QteRYNqB7nfh/+R30etWgBAOMmm2f92QVjxiFUwdiXkJ6629u4e//0yesN10kcld8XNh1AzWgQuxw+5ypMsNpQS/EI+SHGVKCUgbUChfXahQ5tsUW9RtTubIEw5y0XFNLKrL+4EV3qt72kU2cBot9kuL/yqwsJ+0HL2jf850wPZWq/shTQhi8T9LwMzNKm13ssZ53Majy13ftqiBOreGlAcdKqfmtDgCmfAG/ssZxmuYzH2J48kjMfm+RhQ6lLBgV2qWfPrflgYozym3/S3dZh3DW5AM+SgB0LtB7DsCo8fdb+3eAAvXk67t6RBMtnDzmrLDYKh3g7lPhKonpX0bIO1uz6ycUe6HY1Fnmggs0bhqwFg2XJqS9X+7qnA7bCeKKXbUzZ4usOapjGD//+IBINriTeUBG9ASBhZhqL+mmYAiUojk3YJjN3aKrbZ/ZUuMnBs/tgvbO9hOKuE40sL4U24VUfIgw6AMN3TdDqFRfiyoxroIua5Gh5jkHGHGXVZYKJ6tdHv6grbaEkv1cPhGIC7qbvVXgXUVOvdSU9V0NZ0/lnkcI/yVM8zBLhNzcY46a2o0mo1OaSQCpdY1qZhRYrCNNoJZViauUDxgoW1KkYU4gz21L/aK3wbPUhL3Zq/7hyu+vPgnDjPGBPpyeElic7fX77P/O5nSaEHDxd6jXqgz8wfKjfk2xr57o6Omww43h9A1e6o2uKVf6Unywlg8JRClQ0RQST+k3rJ/kYegYBQEZBOwxoUINvh52joHfoC5aCwHXdxeCdwj8xBkVRIlBt9BLZpfZ47IZVpQemGlmqx4lGFBf7Z3/Io7jknirZ1Vvgmymx359aBhq+Gcbt74gAIKOzDXjEI5bdAYmAFH4QCc/YG+f18nyBxm1ClgCFCFAGB/+DCSNPfljJgQSvEOMH9TBH4g2QbkFmpONu6bLMEUI9Z9jVq2PbxPSLhVlaY44/mSK862jFocjBruzVAwB45Eq47CbrQr4Wx14yMLYcd/SBq0T1ducTB8xysY/Czy9+qAPELv0cpOv9M8EOOand6KNRJfdYhI5fPGGWSVE6Wv9Vl6s4lhtqN8t0R3Lo9M6ZRv/ov7Ojb8fUkp4lVkR8ksE/VTiMC6LJtxhuEer4egIpwDX4X+1X8K3poK2VAszMXksG0j0C7x88AeIHshX2ydDhY7iiDVvky4LPhBMwLLFrS5kDDxWA0yJl4KDO2lW2rzRKBg7ImWgvvnMHLADJR5QBtZgpvKLSxlHvj3u8l4nNttqaebSzUOPhp/ZUwOAVeCXyRK+4WgUGx1y1N1WHhm0zd5wFIgaHoYYfn9fw2XPnAYLZY/9MjeOHdn/z0VUOQyY1O74LTxDRmEhjdxXZ8PvvXBV8Pm2FuBF3dFvC3wy8M/IYExKiuO58IZrJBVuKKLwx2nHNi6gdfxbgr9n5a8OYEyf5VHewkxcYxm4eLmOtz4C8vihg1a2EnQMk+PU8f+TRxQXnaNl8eGAd/RXloV8F9QnJRvDFq3TrhuorkyI8+HQzQFehGkNlmOl/PYSt6QIOl3DfDw87CknKdx3Yb+lTP/rNmEE+X23YbD1pOcjr50Jy8O4EiN7EnG6MIayBsz9vKOn4t+HNFrKiBQRLByIp+ez5E4VtMXGWM82+fvznMlGBKH6zL2b84rdj9dGI9yfhB7VQFEM2ugJpvGQrIAch+hdhWwU95+yUHXDuaaf+g98YT0vr9wzaKV+AJGF7TB9RHybOtgO02ZRv4VmR7+T20VRZ3cOPNR9s16alVpjVe4zazc/1HLB4uc3irzTS26KT/eEUuZiUIqcL7TVZQKPMQsVKGkLHzWui6PH8v1St5SwwRhXcio6xdzQmFgbbTHXD/aCOcBfwDLIgyHNXRXkdardDMACSLkuv2zQf99bPVudmniQJ9nwk5zCuCeHpuI3qZ4HkTNCAn1yMtzdm74cwQQfYeP2y6KL5z7cWMoXQ5itR4PKnSjY/OorBrZ2KRdp2GPL/AZst0Ij/vtxs34ByAMDyMo7lJZa1cvcLLjtuJKVhj9QFiXYJ2B/7G/Vup48U5LfhJYhTzYFNoJLoRYxv24fR1IynVNUxhybuW198BApcxHTmyL/EWKAuu9xJ2lcw0A3FlKSkwgSKAX5uJ4iXPmAhz0w5rT0Ejojm0/6OcZAK9StIuseP6GfBFQbhkYvn9NbW6lc30XXQkmXCeAxapl+G1mRVvPuIbPBsHF6/iXWwgILet8btyRqbLpYAyjDfF7HJ3D7bzTcLl/pQcNB/QPHMS+sq+fHyj2TN/NfqgLnVCZPkR16AZm5DnemhrC3eKbvkRRRMNDyCQR9scibtkpbqxjBdVMwdBhNEptxCpAMgqpZEwrp8IEXamVck5VQebSUZsg7+UZSmu7298G9f8APNxy4vlN/MUgyuo4HMT7zWvRchggiplRvB/If7BBdjVFGc1As/lOg7pm5MohdKHcN+gPBeYK1diVPiOxQbqPbyqEVGahFvXOYlBFwDbJCOzmOadql5d0Oo7HL85faVX0GCqU7QLcNAp5vjn2Am2t31bhDDhcKyXqBowM9q2Mu0mG1odxJfglkHXWz0GIedQVbT7dehW6ifcHfd5wuPTH4bJ2CuOKffaJBsEURW4SWOwCXB8pfY6b+YB2geeqPq/ATESthbgD7MNOoBBvAF1ks1QYO0O8v+dUCZCxRnZWtU8RVkSZQilkTmVvPNUbJXNUXQlwjJTuXxrZne1vj9UMXLwHscndq6yXu2TQyEFd0niSh8MxHZS2jnYXMJeg3BCflvPrgNj62fr8DPLbdrts8TWoS1ReL3NO9HIth9i6+FbYNLqupvEW+6EPaaISaPohsAM3IMVvyLKTsAftkzHLlXTK46c17iXPi0+GKT2hxscemod2uhiL7d4Zg7AkYIERmiwyW1lhGRROspWbOIJx85RqPqi5DzqNcPv04YvTRJGHUGYodutigA/fdxnBCYNaKiDZEnB9OXTqxLPd299WsQy+gdEQZm55kVefWKm4M33sBPmaxM+/rD3k/Zlqz7aBjr7yf8b853+LSifKelqquCkFI+iatNbk3XYb294Q+a16pJw03JSkFkAfMT0PPa5/DELif8JivJaRiiE43qDysg2SwArVB8v0t0qDdJYqYUEPhiI3rnMcdmW0tkhC5kGYOTMOtT0/ktAla/VHl2u5hAhQeBkzO131c0+snyqsF2/jP334D2snjl5g6f7rZRFJSD/svmdhFS+BAWrKTR/rnOQHPO45zivFGVaU4gZHKaoEUn79pBpAKpV5c9QfJxuru01HEWg7MxC4WfpDAmP3o53MffSl6HQS7TNjn/uFL9hW4rSI0KFF1qskXJhSSsFZmRQZQ/OYF4mx7iSLZIoJ6pGZD32hXMBNiN623XxjxX8svgMmhkIMKW+40gBTR43qdvohamyu2bt3TsfEdA4cw3EPl9ooBziNnia1JjPDS9zTv/rrIfYuvRjuKos2ZHLTraeu7TRCTR9ENgYwefaC15HUeeHfTt4tJc9BGK9zjStW9fxsXVIvthu7i6R/g1AaqfsVXBh+Hg+wPzNzewOnyvapJ1LNnBKtrTUxNO2EUYVYeAn7aJ12V+2hUTuDGy3fR84a6zMDr5Cxs6YZXyULl+FWHdS7Pfv/VeRgD4ZHczuz09U8pwvdae866Q7E0JYDR7kzBLacz9nZIUYtnM4Mau6j0y6zbLlAK8X0NtkXjcVhv1kr/EbpD8dN5w0tvkf/rL1UenYH9qA2kvj+9mGn1zQYTatu4iRsU4GR5TiqgTX8O+eE/sVBHH599CXqU7Nnm5pgdIhKgLfItxg2wRlGFpxHc971p5cwiprXXpSzXJw3LTQjSmqFSDp+9wVUTi7oS3vNUUx0LVNeu1VfHxzdiXqi5xNdQrb1gtMe7Y/782UdgkRJFMWeWRZlCEG0rcr4019fyhZv0TKh68rUK5BsvNxKgl+mAM1fA91/zjn8dz4eiO55OxdGkPKbjNrAk+D7ku5fLr/CipCo3Sv2zy+KvalN5L+KD1rwl9Hytv8stkJwkLozyV/jNuDYpnIWe9aEUy1Wdep3uaPy9MtsEbrA+Ae+pTfD2P08HbpR6ufYo5MbC/9xfS4kjJNI16UJwhZ+X+eFZzmJE04Gu1ctWsKzhgA0s73p0Vj7FYq6fKEZnh5gzm83j7Kh/+d+qwyZX45ReICYwbi8qB56qob9I9AAAEKEGaJGxD/5jDI8e+MdSVQ25F+roGPxwBjtEBHCyFKDQGP8wU+lecwlJLZkcmQYCZGQDnNnM5TYYljeD58SfE10ziFh2O5nj3DzHiAHbf4uk6k46KED5WBcm87T361KZjw8l7TE3O/SW6JyPb1d4PZeaffKfqSV9zTcnLLuJduZxL1ksbhLciEaTW586DI0L+jjrFDadCP5Xj0zvnBxOQhEWeumPPza9P2aLXiw5SeNd8gIdb7O/Y0zRbJXAWbjSeKL9e5FV4zmkGppyns0IbBqKqqPzK33omnXSmomw6EEKeczNTzYaXZO3E/xTFUAHmqwKOw1/63G9WlRfpLg/44Ara+NsxfomG+i7rPhk661S5fpAJM87C7XoLQUWKUgEHs/TFrEgkMVa/aHbQCQbMkqe1nkRNOXP6sIbt688lGmyWMVDVYXU1xzRg1rhdlx9EG2raCn43DG+54lSZ7cs/pmXAfDvw4BafieXa5oEckJVJx8h/cJAXCQ87FzfqrwPQBK+EgV8JoJ1s7hCvBcdIsJymP/gXJgy6B1ru21CXy57HTYR2Fx1gewCuy1NLVaGsd7c4DuND4jk1YNaMm8W5mKZXltj2Z7zjdoG1Xj5BsDerXajmNpBlqSW/4r30E4bPfWkYFolJ7XlBNr4a+/QNjig0zC/cPnQ1V+Tz6r28aVC79j7JCY9Nv7MaB0Y988qXJ91pbk3/bSlvjpVm5UO85/b5H9J6KKqSmGerUaLTzQFSnK0p8f39yA6VurI+IkeTJxuaYcgGzxgodS8iGheDGqMq2+g762Kf8mrr9Owx5yLcyrHng1m0/qGBLggNpcXspGBuwoJPcFgYSfgPDt0fAb87iGwAhHquBWTE7dYY9bNTbnqI1Vd+Fh1Bu61EF7hZkV8MbxTsLR6lnHMllovqTF7o4Vo6zhdaTRpc4WL/8e9lh+XkcYYZnXrBKrmkTAMcH1mScALA5BfFJGxS0jKC1KCRlUh8x3vK6GVu/W0GVXKPSKe7hJVxs0tZQAIhM7eTmXEXSt6VUdFGKI//F2TINAdjGapmbYNlvHYSSbtnjVJyI2YiZsfrRk9i2fxKunWkxGFM67dx9NW8Fnf5ypedkxv4YZdKGUzhINdhmBO+udUR5M9C8M+eCLaWCHUvcyLCgcQU74JLbWi0vxuyTfFAoC+qLI6Eca75E1KKaKrgJHVR+U7jMW0Wg4sXZf2sMy4zJbSr23i5YyvzQn9qveCMpLIgCjb/Mc3jsKtiFnDYad0DWunB0zxrfR5j8stqyFrQP6RFCqH5gWejQCTP8tyad3b8pwKcmm8p6GUC2cSa00RQqcZ3nkm/bOqWvhZ4C7dP2ExUh1tajlbzriiOL7wJT7BNw8CQo3SODy1dvS82uYHInK0YDFghQKcWm/w1A8AixvLyWTM/kDRIAAACK0GeQniN/8zkrF2pWCw9CUC825RzO6yXJUgG/+Gc+C1Brd3Io3qsz/jrpADyXzAzujS8rxQ1WarMwALWkQu1kgcCLGLwb1LQqPvw4Tx3JOe9aqRg6CR9LpOPOOjMU/G6GIKYbtzvfRp7ofo0swAWw5n1CpuCkfEiejAasloa3P9RU48HHGo6H8f/ID7I6Zbd8AzwHZko4wzRJcAFAHGVAN1MEz5B16oFBqAVEWmW0uiiDOdXg6qONJkLkzJFj0v94SHUs0oOuWqWtBf+81fOtLF2wRkRubsDO4PS7rgkqrWRkJrzL1WPBH1aYM3I6//1Uw2dyzHymHSVMmU5QT660lihDDw93uOFLiv1ln4rW2rln4KygNoiu8znuCMlfGK369pTrI1cd6K0OwJoNQYmXXfrp/SIP5OFvx0KzHC/hTJC4LxKACgABGA2d4pePV1icJT6U5nG0CvqF/ILkP3FcV1e9afvHsPtuEyqIHtXmJfvIqIgZ4F1/X/N9raUbvIeVF6Dl7RGc2hnsgA0II13fIq6mSVsf55zOmwPVxmAoFyyutBaI2OW9t++L9U9MrBrf1y1bmZqdejDGBwaPKpdy4Q/GM+Jkkf8PUdzW4atpNxRr2bF8GKx+Ae3PhVpDGVLQrwfhk2mGM3fAAhgY9ShScfLM8YYt9n6g86BjXhIqW0Kc6K8qp94Hp9xzyrlo49uz1ixr7CctAcn5x5jWrcYe5SJt4eYhJlAc58gYQAAABEBnmF0RP+rVKk4SIYmbVJ0YAAAABYBnmNqRP/QrDx9+Y1XykhICZRxc46BAAAATUGaaEmoQWiZTAh//+pGKszDdAXDJ2jVD3+XHQGeR5dVyPCFXWmgpsbqHLRG6wmXSqP1txr3CKYP8B/eME/Gi50bC+mQUTb3As9+hYWxAAAAE0GehkURLG/I38k98FwVTPC90isAAAARAZ6ldET/0aF/uCfYosoXdIEAAAAJAZ6nakT/AAmYAAAALUGarEmoQWyZTAh///6pllO06HRtggJgNBh036nTqF3tiCiySlsJiu9EV8SW8AAAAAxBnspFFSxvA2vFHbUAAAMSAZ7pdET/1QRxURln1cDl6yLbzSpy7cZ/7WROcJ+scZykZHtnpQ4X60xg1FQu4ydq9J7DhRogdeGOshBqJozOyYcuaqRy7u51dJqMJ3hI/NtIWcQN72OxQOTjWJ+DFQ3Vu+E9bZf0Yqet/+MQaUGdLK0yl65J3EsdR8Fwi32Al73THQ0QRCpfbA9+/vC1+mCODyIl39p53SRamDTZLsXm3grS+g/bvOZKGt7fDiTPYJG75xOe1iNJeVJnIH3vOceuhmBNHQ5sHFraLL4b17/qBMMyzYuqUEdui1g8d2Mts/YHrxZLXXgdwwQdrlB11JQrkyo0BDKMONwfPgC1V/Es8sbO3+mZ187Y1jDhm1qTSupe1/kKExVL8uD5Yi5rSSl9qXqcblsoj09F6Eh/HYB+sFaJzZl9c4zigXGWHomjO1N03blLClVjvQePQyuo0LYkGzPgPoaxvYdUzq3MBrf+bE6KMuD48lJKzQkwPvHtZUrOdmSHDzBPEgsUklzUbyhkRcAtl0VuxysrqUVbWMNYOHT6SkEyNdAW2ImyC2VFalK0ytSKT/GksIdHy3R4TOYECz10jH21/uH0Hdb/BFzHys2JCw/ynI1Yo0XbajKuxrdlkHKO5C1y/FXjPV7+/aBknbv+n9YjYXYEle1mxE+LVWpla1cwxnaFUSAfEVn/T7l/NFPzSpgBtjlLfVO35Piit1Obum/cGV3e38vNmT8tsxq1IGMPPaLdDCxlJ0EANJQeJ5SbwrZ+mXQW58aeOBiX9I46wlHIeN6XIxSkgX+JbvG8/fEhX0/reqYMTeJx7blGkX8LwfiYONcOswUAMBfDsByrMq4rFf/NSKYylO2vgWlZcF1b9kP1mde/+I73SlrrGWICVbrZWSFDAn7McHbJVYyfWisO2quHPyX4dLy9Ns5VznmwegwgfqfepRCt5NDAURQsDGLsWH9rM6b2Zg6keOUXEjiNkA4KNfxQQ6BAZWOkXxFv2k09ew4EHiM/5G5zw+YSDtsTKqmc2x9Lmgpdlys2vgtq6pEovXQbeZYDIqXAAAADFwGe62pE/9UEcVEZZ9XA5esi280qcuxffT+Bdm5/2hrL6G4kwJKmon7f3Qbg6JHo5QRENx2VtWV7c6a3v7eKdS0h3XXEV/ml8LNLpHcwLaim1qpA1ngDCx1RCuYqxaRC/swBh5HQ/yfjEQA2HSytMtCnU3GsV1+FLvy9Osix/9Xfik6kcsS+PS58T+Kq9f/Vd99zQn62rwtvwX6Rq692FT6R9u85kobvbiHEmewSLy0Jffnin6Mg4+ja9XYRWP/kmPaityCHZVwwEPBfHgunbf5NLtVBSSwZsgI1x6WJ9mevAqQJWsW6ZTx5zFJrcgkzAnUzGeCBQ6Q4920MIh6rL9H9gjnJlXkgDEjlz2zJlommsvQa9NJegibL7cHAqgnNrLwnze553/G2i6QoM3ohvUDyjCOZgkV5fT5fEby82FUp8/HDzXXJsFXFBzbmcUusO/khdvfLggRBjN4tQVpt8OiSh6Omtipav9HABEZcc5EccpWNCgL+EwT/XzCPXr23RhIZImFNvbM0P8DCjH5A9JIOkTk0HbvcBOtPLTS04fwjircG1n1Faq4/uQoXkKVPxmodFQpBfZ0nu3fpe+b7gt/dMM3+gh3YNcTqvzETQKRGePhxZuzB8C2oDKn5qBe6Q1wxzUy+zGlO86Pk+ESLV+KzufKNRw1CqMf8K8gPXG58RWf9nL3gKUHvBKiyaO150c2spzBNR5hqnVUJxxqSqGnd2QGO8EH3AMs8/1iOKRzInQNla/m6nlJvCtn6ix/aNPhpUB6QTGZKk+Sp491NoMFCBEQKuUBM0aHlRXaGyNn8y+mOmEoyRgGti9Z4g/V2/rCAwHD8MlpsDwLYr/5qRkvMbaCNEfOMKZ7uAMvrM1cm26wKtYRMLpyvPj85fQikKPOjBoz8IRTFrRWHaYwGT9vquI94Oo563VITjrkyB+qTKlEK3k0L9hwn6GzmORgjh+IrTMHUjxybgUjbmW8rXD6VEVLQ3ufu+7hBEw/+v2HD71xbffuSqmuUKGFaOVoeuUB1CaCkSdknb3E0UCyJQiGg28ywGRUuAAAEy0Ga8EmoQWyZTAh3//CbqR3cUWqDQjho10M9cgTcNTCfwSVg9lcWvknDP39WikoQL7kpZ3KqR0//f8lWsqbcGlHeilWqUNwAa0pxpxyE1ReknI/zRbWbE4cwiGAbJWUTp668gPbr75vCNnrtZk2pOWzDfMry0HlTyIC8U8fsFXlER+ncoti381gUHjxVJlZH/jhP1PbHFW2MvsbqIgk+mNG3BbOQdtEbezOAuICtdcrC2TG6iCAxDyAWVo87hQPqHPnwEdeJkHkaSiqj8aN1fTCTFnP1v4U8qUee0BuR5vwBRsNSxT9tHoZE0GI1T2Co4SjH2zCztQ4EyEvYyyBXkUM2IBqEeY5a0qX9QiFHd+ER1mXSj27el1eIVg8HnIcjN2QRBL31QnQa6exWx8Qt466Mih/h43fpbtBoYV7hS8wkPpZA3XEwNHHQWThiYSZwAQaMuQeGPVi8IIChsgcwD/VKNdPOpeR+6Xaseq3bNuqnc5gcSg8RS0fQE38Z7YAgSwold81/yFzPejONaIlU543RKSc0O3Cz8Asbv0Up5PGXdX3fPpnwKgOPZRz4wflb4r2OuUohBYftBFlm248hR5sIPemBnu5glcTu4RrHThhAbcNkFUs9OYOYXtRCdezx/qqZ2GMSIR0fmkRCMGyQCWcv/D58cfpoHv4sBFT2YEuzAnsvyXQ5R+9vXMnu75CJPhaSYS6mEJthOf4qQHQgsWfT+4pQw+7L9kkkDlbR/0jwWmLvCuRNrU1Ap+Pd/O+cCDgu4RUvd9C8XIkeoB8epbrzCwhxG0N0zjhCs2db44Dwut23jW0fbOid3F6/V7CmljvBbCtXW4+/YE3tshxxkNYk3SJYmKWvj/fXlLE7DhIWU+fUnEdvM4ehiAxG/eqfRldBiLkUgytN9N6mORNer7AB4cb8DFfi16lhiDuJPEKePoxQzvtoq7Uy8K3HZ78kfhZPCXydj03zDkgdYosgi4B9cz9NRJxv7ziBUAXaNDkzCBl7cq9PSfbZfxV9TzYmvrmnT6+n4+qC+1nDjvvwWRpdmpZINRTRnSDYSN70B+zXm7Vc/EkULx/MRRQg4hbi14I6EA8rYH2QXOpmy9matRE7YO9ZNMljDXdRmMzGall1T3mC76SgJs34z/An6zMI1IEX5yX3f3TFg8nVIxfx0P/py8TcghSwL9KBPgOybnyi2G3a8qsNnKMKF21G0L85mwQNz1P1x9nQ4qZC1+7qPHlG9s/27K3aGkRtbSyIGg7WZiS0CXBBPds3fwsrG4N3geWqwbwIueoTnfyARd1BGFhexJXE8CapcSpKvrPMJEAFtARq7kG2l9HRuxtv99h8BWDWHgKTg9fj9FuaOjmzVaR1tMkgH5k01UWKkNkVO1aV1CLAuy4hDj/koaQAwZi1Srt/hzQl8S1hY7EwLIISYEdnPicp42SESRBSf+5gNPBpE3Ew7bDFCvq4AYFzawu4QiSeopRRWa4E3APcy1efgmDc4JZKeJdcNPSQ3eL6qmDSh/asd3xDXp8Iz12rVIyZtfBS7YXxB/XvsmiiCKlCgpKUvX+EGDVvepWX8ukqQ0C1iHAilmogfWO7L7B8RWX642OtwXTyHBzjzS/KH2HZ66tO8DxDFKVEEZQ8QQAAAbVBnw5FFSxvyN/JPfBqI1uQwt5WCwKT4g2Vfl/qzEzf/nTgJ9MclaeekgZXnjtTmDAELcoIzLrnI/JnhsbxCiW3C0vK94VHYfjPm9HqBIzv1MicWq9REZiVZ6afsX+wIPhORsBHdCJpBui3WmhHKAiB2/wvH3ArAjQ0Gyv8nyDMSAmvHIc6dTWMc4UrvAx14KtzR1FLT1OlgQm3Qv4khXHni3ztDH2vuhxyYEMtYWPfU4CiHqB6yVH3Q4zmHQXe+kTDMrlSyKZb3TL7UdbyGQiv76cvRgtCpDGOGqoE1JTMQOqbggsf6s9+qWfq2EM7q8VoUfezJy6jqQqNlOtsU6Z8TDtv0AjXKzWC3FiKLi0Xgaxr/5yAmkCP6/bk9ZkpI1IbkI61CMkvYAV5iMHodbbK9qtdiyARlcyS/TBa3kYfpuEHiBqSgZCUSzWsa3uEUlfx6z6VU1KEGwVvxX8gvdp7itwv0oSnQghUIQmBKQ3/hz3qM6yWl40HW+0HtU5aQo/ZBRpSe+LkQifZN8KaOMbXESul+d62R78j9Og6ndb4Kq2WX8xaaPGOU4tiSRbfenVCasoOgQAAAgQBny10RP/LgVrjSz5phoqIy2WKBebfP1i99RpIKMj7g+HL/88YYUCqRLO4LG9Z4Zd3o43dnMzEUist/eJ1aigAAVKdAYva73ZhGJoU0EgrUe6YAYGjg/nN6djvIy9S9WQ0arF05axOIbJsPpoj8fFEMwwPNzlIO8VunehlKogvgeIdmz8C+mz62PNJ/2JBuQvbSJkj8byWJ/rfgL5XusZGXuz3xs+/bahbrRQVqLjXSNxYfBTiklRV8Y/U0lyqqXi0a0YKuQJ90GONatVMu0EvrSTW1nV/EYr1ThNX1zeBzQMVvW0o/EVZb5x0AM04/CwLvSvFa+664MUlKeO93q0cZYfkT8ZJtuIm3gpAyTyheBa4eZ+k5g+WdZSy4WXkR/PeXg5gB2u/w+k9I01T4tKSRpr5rQHMd43n74SPZvfY8JFrgPN2AkWx36fs+fV+3i5y2/p/voAdY7AcqzCF9vAFxVBbMAc3bNcImxVNfeTNyXXh0rbtYgVrmKJe9zBehWXEWxcRyWttGEIgq7TItaKw7Dd3nn5L8Ol4r6Y563VITTPeoB+nx6pRCt5NCwASurAhwxyMEcPls9mYOpHjjXOjRetTuHcHqtIUOLgZWOjUNgUsKxyuuOyA+x4zfuSqmVHHFMvFytD1yZNFNAgCzsk7elSLngzXISNBt5lgMX/CjghyQhcAAAAQAZ8vakT/AOwbhZaNGS/kwwAAApxBmzRJqEFsmUwId//qRhG7T0PAx8fe+b9bc5ZV9AkG8KZn9abnBQb1yVr73umVRS6HV1aG1Cruu0xEjjFSyVGrBZSDcj3lVAmQDUl3ni5zYpV7E0UCCOhkXIyJvT5zjRHq1STohAXSGyv2gaLud1JLDTwzn33iBKskma+Ejg3/NukDdUMxfQfnSzPl4uSoxxTMFu+Z40QZ0OwBoYMjJE6+C96IThLCzTFX0ySTfaNh60Ml2w0qXfHLzsTL/LzLFN4cQbjtLdaugWQYrlji72hsGtL/mogdZP+s8MeXHhHT63Aj6LcGeFnQLubNdNe4oVWft2PH4B5Uex5xGploG2bDV9bEJbHjZfKSETpbbuKi8te/2jYxSmKejNxMqPRekJtKNqLCPvF3EkMHOAGbUqFJjyKPBY7G10qz4oSNSt2u8RmiID0eed0DbBK0UodOyNuTehlyd3RcR1UtpScUonNpGB85zHgoKVLctlHSJHfgakw1RDWB+SLP+L9TVuzVpPhNJdV+0NzcFHrLh4r5KUD9WazjIW5ZVWHEVcjj8AfuObFWF7KPYZojT3ESg2OObJInJhUlY13qkxTcfI9ZDOJJhUdkwopkxa4r7y/VVkUZ4jSEvAfS0F0FSt+r9UOI4s3dHASiF+J7/IJ6c6mnWdbXWUtAfTYhUso2Z0opxwk5U5mrLQHCkq+5CFLvFXjPlxrX71yrCBfUKxvjMextCKouCO7gBgGSHF/XKl5A7OrcD6vvONVm+H/cM+WtJOxp0sTkSbyWy2YmEnIIy5Av/T7a6Bu+iowXbWvoCsauTCKfBG8lKspFQyYJRJBL0TXl4AKyEuUfnSkskziQzIEUmiCTQsAAvlAg5pJqJdZcnCz0a1aH3nY3i+YsmU4r4QAAABlBn1JFFSxvA4EnbO++vOmhDj8kkhTOOE6BAAAAFAGfcXRE/wUH0FryWPwC+wEeuIp9AAAB0wGfc2pE/wUIS3Rsq17JQuUEwg0DV9E24n2O2FzlTeWRf/7pwE+mPhVTNYGaWJviuiNKEXW+hPNMHQxr5luafKABxLW0uwSKbSmUNzRubNrV2U1mp8NSs9sN9ZaKC/H8PMErP6kMhWN6fyiVmkooSx0w14FmWhEMOJXcC6WrsSvQEFW0mz4TYt9/A7Iv0FRaz/8ugdiVuNQhUx5NeswQrjPx/P5sVR0IiERgU5gl0fIitDe7JMZJH+s2pu7HaInTIoyBq1hZujwEIIzIqqapvuyNBbQxT0AgjVZjrrb5npDnx3AOGh29VuwmHZ8K0uN4U2+NunPF+kVjf2yrTHqILHC668BDFl4fFWChRkU4w8I4JFcaMOtPpf9iPicamAG00Y4C/Rmw9J96LGLs+UK+EsAKAXybcMcs0iOIHPmgmFR5doabaUF9CPxq/tjy3gw69KEQcaM2cVqTjQY9HwVHrHCiw4p60heMPl2L9W7naiHuE6amKc938wCY/WmCkQrCIckNEuqn1obcBcRqI3pMW7cIbKmEXM0FP0I4XYuEFdDwXRizPUrBRoswEa6X6EHcj9OloJBWrKzMplah4e6A6AII0auRpXRoRjHrM4EgKP9906HsAAAB/kGbdkmoQWyZTBRMO//+qZYAt2cztNbXtasAC4K1EGDvPFN0ZAtGT8yQTVbMP8RbW/E7aDH6jal0eWarmj3XNduGG3Lgd5zLELtUL4nm8ITkaB2Os4f5U6CknrpfbQLfFCHuruIamvsitXt9HkpwCllQCgoyvLUdfRtWHeHDwE5IoUltO3ZZFC5q/kV4tjrmJlDywVFcBLtrkAICQhq8F5kIZEf4MqbJoa7avc4vP2Lk+Xo11Ga7NG82ZkUxotnyXiRWoO7IKAHZT5ghrfLjOzhRgOUmOaThlHSg3YYssi6Y1zmmaxp7WOVyEWttWGT8eNXoaPl3ZKfQSIczutv5HskmJIH1h3T3u6gwdJxf4kKS0H6FKPtXj36WPTr3FZd7PVpKXhgHvv6W6EK0cb2jVMkzb5hRahJ5o6cMw+N4wUad3v3kSVls+JAsawCg2/dt6bl1TkNMXcnYDoYApHrefyU8Xwq+7n6IKB8wQeCcNF/lA+4fKHYeu63sg+oXGiS0osOlgvjgWjHbNgqIuVE57YxC+SV0Er+m8AeVy94l61kkB8K8dse3i0TsKdV+44QyEzpnoaJLmZN1k7VkcMuLsUlMBmtvlU5r5wApiGjZXuJZX+DW5ylU2uiHw31beqCYc0remRLcTt1p3i4j6nzwMozn3YNiFnkozQKUpQl8XQAAAvMBn5VqRP/VDpXWIEOWKBebfP1iycN5IKMz/u2HL/88YYUZnhFCGjr8MUFjczbLrP5cLYoxpZ+d5nQ/NJV2uPHPOkX5SI/OlhSCEQFJiPNz+SNIN6DJe0aUGnlf6B+XJxEWs8txQfcA2+xbnxNiG/gZbrnzSF6ZSE01cgQceVADDEub8B9LekCq0bbMR0e8Wl8UaniCEPOL8/n128EY7/U8FwlO3ObcA2I3T2tA/TCYaP67ZJEorqTWPvMLeN2XA3DDHk/7R3xAwo9EzDKnemzsOaDn6KxjEEo24dV25Q04JdZkzqgdBD5aooJ2mPKdeBvZgDlvRBTzOBqTwpi6ytfhqRSqtVxRHMMJF95PYzRcbeREVryFeisHNXzZVtOElUDh7Z7HB8sc5TfExDZ2SfN7NCuj214/bWTh0hfZu4+hboSl8ad9shUu8I8QyHTlWv4zSh7is1zDRS01ktFHl7xvfivTRjSB20v1u+CyLrFo8mAX4v+NI3TPEFenJW+7Rg1k3RWdeIS+a3SYKYfA3lPKaO/1S2EmlsyMDGKIhJ6+vL7AemqgSt2IKrwMR2nkkogI2b+xMRYxiPM1SecvtT7Fk/d3u3DJgo/rKh12S+fC76GwGmjejXYwEu8eo+rW+ypGPtHlkghpxE+vs7kLiJnQb8gBPOZv+rgAG03ahzZOWGMRVLu6jeh6zDsdZFwxVk/IfgZI9VNBzZ9Wi17WHOOiPdiFcIHy5Ad0m4G8IxWk0XRcxkGLxdPqiwF9rKexZxIaFQ47sS1VtIfDRkHG8Kl/J/uyTcX3OULOmwKVNqq6AQRBozLEgENEA5bHrJ3dHIJuruTDarEY322p/OgVhxALtvjfeoVh1bmMaVDXT6Gki8hDSx3ulC88cr5llUj2nPRn0LCDXm6Kq4lFowiD4NcVqqVJ08EF7rR3/AJMNIMYdNrpuBnewE2YpLcBVwuJ7sLb+HSXFb9mfcp8AtkO+0VvKY3XJYOFsv39nXoFvASHbh35gAAAABpBm5lJ4QpSZTAh3/6plgB6GFcoigx/8+5pgQAAAu1Bn7dFNExfBHrxw8gtZgOVh0PJ3EbhFJZ5E2ZDJm2kmCbs2A+2TQtQmqKP6A7EmvIv2IipCzebrf7b4/LWaB27mHSAEm391EVBNQrrUgL0glT8SkK8zevkRci9VMpUmpF27dSSVcD8bOqGYJlNI/7XRDO9XMT21UsLbgLT+CrNy+ilYuFaJCfxJd5O12kCrnSBV2APNEEVF82AOQdXLfwcoLoBj5q/uG0MwtQquZe2mnv4C+a1fjUloQIjiLfDKjBsjN9BaXegATVCGmHJlrwZ9UvkE2O5fvC0MMvd02nADoUlNVEWQEv8A5wLUXEEgpV055+wXO3gkjbi1CuAEnxFlOlIpJCBxf1xAubqunDiUyZLbvFrZa12pX1U5qL+EMrxxmaCGB3OXToIZajZjk+DP+dgFTZQYXeflJpxEhxrLR9/8R71Kh6ugxgEUcPEpOF2OQ69ksCFi+7n1M0clNrESfLw9/QQeoC3HGZvtBJaraEqESzQxg35lafgliBeJr0mP9dpLeOrc4uo2zFgS+y25GELLcT9voOsRih5T91z8dFt1kjsocbpZRu29gi1qZryubrh06Nw36rAKFdhN1r8rzK4+j41FGP/1if8LA23Z04762ffHt6gKQHzSpgBTDTc6N9/iswTRZ4ap1UMuv6SXYpQMXeCGwKUP3BBlO52/FHk85yg6yb7O5hd4Vs/Ut0IiFTqRW2hVjPxBSIVPKVE2QmFKkepZ5fuGxmBDL745LMXdHuwE9r+sVbkVarRjSbJKoVEQnZGoGTdVp+GoR5fS6QUGxD9ajrYOuylBOC67I2bGIUGTKPXWI+tpjVc0CqLEhR5pENecbYn+NaKw6tQaNaoMfbmkgRhCtmCcuT7uTP0pW78cd5NEiizANhu3Rkxa1hRZhyxucTl8RJTdemVZ86HsPJJJCAMEKWcE8/g5mhvXQtgDxmwxvltU8d9GEQKEn3/SNbEJirOoTnZBXSuu9ehMUBnNUSLpDLvUQAAAc8Bn9hqRP8FA7cpqJ122f+KrwFXRV24DI5l/IBK880KGQk9IQHV64Fnr3xQLQ19vaYgp0LiBWEOiLDajyO2y/MAGForC1df/+25XOvjLf55jz6jYvNuAHuao02VfcxZSLyv7Rp5hjI9wLpIoKuyBmm/Qa5eQXNaRPntUbTJtnd+N4y2U+gAre1PlsR5tNhCnvAJNQFdAiAOZFkdM+5sCSQpmHg48uRvQ4vI33wD6SV9sG0/pTmFoIzND++MdhYV44QcLDGx5P1JMpYYhUMVuJVv8zjeCa71AaGdZjm4tBnCv05bmozXpAnAfnZ7Jd2mPbpO2RiT+GZ60vtUtDzGmcuXtYYRatKbps9rTY0LmRZfh1qrBv7c18q2+XtoSxOm0QYpEzlITmYsDHFYBi9Yf18f8jejyuikWV5K5nvP6ntGhOEZebWF8qxWMuiF4gu6nKPHecQA1nnQVUgwD/tHI+1thhvHfGGIrycg84g9giSFp/at6tT/aek/95KA4F3VAyNAHY5fCogugseDFGlWGgT4mVTfuZ4FnDx2BxJUhxVcY36bKrYMdT3Io9rYSRr4NwBukGPAYS9jLiGgv7vPFEJgRzHRWYFJx8KLVWKXNxtGAAAB2EGb20moQWiZTBTw3/6nhAFl1ODtXK4oF2bswF2E53F3ijMm3rPnwwm3GCjLDanx4mDMgzxtrpfGvTfCc6rspzy+v3TncjM21i7iikFO8M95f//sOEKB7NxD09G33pSpuui+/Vj0f3bj5Nz9nBVr1C0ofViHfvQJyf+xnGbnCkkWE+VBYZAJN1LrOWjFGsBRgmuubDm/s1bDxXft8Rdho/hYWqJ/vuSmWnkQSdSnMNI+nLHwAvjhOeAJM2xCYFj41a7PlkZoGj1H9hAfH/UbsFMy6Y9iqL2vBZuJqmCV5rCSktGqTbtB1DxgYfYUbLGk6zfdu5kNHWg3XaJ+Wn8TivwhOIqnD4S6FbGrwww1QaAaFeqNu86xmwvhKtUgglJkQHpK9nh4awlrcJP4HdAcifN5qrDvt91biXvsuu5LI/c8Xdfv81wZ2GeLFjdXqbjvfiLsicthjp6kxOm6WS7O8Ao1cjJIaczFlswCbeqSrB9PHtx4OaAfJjed7WTnJNKFyacxDEmBme/E6ZckEMJJt4rRxeQYacqw1Ssk6HTB7YZJSAVIsGcbuB1zXl7sMZJ84mqcJ/HuitiR2HKjwjApzwWTTOlb0w/BfvPpaBU9HmiUO7BxgZIY1jEAAAAdAZ/6akT/BQhLdGyrXyCrMa8PF97488Kssj5xvUAAAAJRQZv/SeEKUmUwIb/mECSChcwt230VSjKxu18usm3pd3lcdSbDCf8Dfh7K74lOyaDeYeL+teSbvKcS1CCW9kcGyWUkODPoa6G24Av08+W6qZU1Mnmr/nI196dWOuXa6io6ZIO59nyibtMNVoJ+BO7eCwYXn2BaMhDf5RLioFrGaDVLNSLa6yqXnAGYafs9VzpRqHEyvLqUWhMEkmmcCSIumFLMjl3Ov7qZDsStgfOQl+fUVmgjrqSUEKKfzhUxQnwnh9kZGDIB8UW33qPFzm6/fL4PTStnzEn10dQfADeHmT7mXNGQvBA1W4+NYMu27JgTbwZVNY7EFXxYjDcQBHBJ6F92oeW5nXsbnGKeZWltu4S0WoH3y9PXxtOjmYkanKi0PxxwxvpI8v2sfuyb6G+uvhoFC3yUuSbbPXcmuTFxfNr8I0ITy9D73URgwLuzPCmpH4JzDZFokEDNftem1CEHmlFDnCO9KGp62ckohwjcZdcP36E6/CHfeHyfssEtAW+WGUhuOnChFg+Boz76NO/7ub6qOP4Lvev8HK4gzxvbGGFnGaaw0ghw5BlxBd74XZuvp/97eLdzGnSCdpKt+lmJWh5X0LDorEsdQDSjaZzMFA++UietAdcHRaHifqqBhTYZGxw9Td8iHdKFe6csnp23E3ET5U9GZE0eRpQ3PeYW9d5HrH9orgXK9mVobZT3Z/N+i8RUX58MDnTyPKWZaJ+G5h/tHwOIQoGA1W7vsUAPjdnIvwM1Xr5knBN614l4qIqLl+jTfwCq6561W81mdJX+w+EAAAAYQZ4dRTRMb8F49xyfiJJaBT2yMirrrQ7hAAAAFAGePHRE/8uBWtuEubQ6NOigCfXAAAAAEAGePmpE/9CsTOokngywy1AAAAAsQZojSahBaJlMCGf/5eRzVSvRoO0msjzAvzPht0dXhDu0MziA747/CaHheUcAAAGwQZ5BRREsb8jfyT3wRMeRhbysFhn0LcOcRGxZndM//7o4a0+70g0ekaGYqnbFGNpXAj2h+zO+LxJHp8wvn4mc6Em9fctFbnPePwQNom0A8BeSqVQRzqQYGjldIhwMIeX8zxYLXySQB8Nyo6mP6RsVwjP0L1KvxG2gH6T5BpRQsQMhjWR5LS+1x3Aw6OcxppFuwe26Kxiu1HwIr52juWxWzzRQ4yxu4+XBWDTePSgTdBDmV1Zr4ZcsbV1kQXgRP2FCCiceyLRDA0Ky6G78OkBB4Bg1gf8ARm5TuPueJiBvktFJmkIB8oLBktrs3jQj0eLdMZPI2OF6+g6Ii1HNv56rmEmu8PDfV8Bn63Jhrk4fnoj3na/Vd0qa+obrNqK6bbU1QzUjy+ZKjhSGiEKJjeE8t4ORGfO88LjJpjYrzcOPHWL/Xe9LNwN/v1BS+fxhlBAXRQ55oYgmJcrLKwUak76TQY7YrWXlAIpBBz2Hevbo8yl7j9NXNxZ9ruhc56Y72WTnenn1+u6+1gEUJQVqEIeGBlTesy5Tuq21hbLMAEEqn3Cw4tiN3lOLHVCarUiOHoIuAAAAEwGeYHRE/7kfB5oVbq1tNjUtkeEAAAIDAZ5iakT/BQhLdGyrXv/AEGtVrrECHLFAvNvn6xe+o0kMCqm7Ycv/zxhhRmeEUIaOvwmsWNzNsus/lwtijGlnicU1XrzyXxv72E13ZhGJoU0Ea4LNZ27P1Es/nNcsSNUivKnuUpyHdX8D3cq4c++ILhnkt+yIk8E9f8ykmTP6pkgXwfgl4HiHZs/Avpsspbsk/+gSRwzkC/ySAzRyfxdgI23kXOqcvMMX+oia4rmHDpyytRDdcVsQTXCcUfil1pk8xJcrkjRNjM/BxuRXixyNllb+tXsGM9mmUl9BbWCpzRpLqOoOWFEWmL2bPVcSX7qSIJ0BzS2XyPNdhfddcGDytPTNXHF3Sd2ImTPhBoRB3BSs32NeJ6FYkdOSNknJCS1so2p7UUYokE4aCdu/w+k9I01TzebIxSkgX+CPXICZo0CYBve73lU/zL6Y6Fdc5Oi0qGEuUverJjFhAYArXwyWmwC24uALiqC7rgXkmZ0LgS+37GDAy67IwjpTGUeaRuBrsZQlSAQ7wQUMCewu2WBmoeEn1orDrwyjM8zJ4gkRQPqXd+O5zYXkIH6fkDWPK3k0KohuK/VzsxYf2svoyI5LXL5QX/wn8KcmbaKZ9elA7Ix8EvLGG0vEEv3TrryIp8a9u8wRe5iag4OsqqZzZnj00E/Ft6tlXGcH87+/gm//8ywGWD4AAAAdQZpmSahBbJlMCGf//p4QBW0D4/SxLMYfzdmzl+UAAAAfQZ6ERRUsX7VOEdhmq7Xei7gihLw8Q4XS4spgyIRpHwAAABMBnqVqRP/QrDx94iYgM6HM1APBAAACl0GaqUmoQWyZTAhf//6MsAWxHnSSlIMIUyWBHMt9RBHQRuUlIl6unj5zsp1wqFnuONk6AJfBrOrlPS5Ym97clxfFDcX4R9uEQzcL5edWI1CVn+pKqaVFiazgiwjivopouLdeSA0TylgWcCSDQCgXX4qENhnTW78i1KkCtdnnn7OhatGIFkui17Y8YAKFWWPd64KAJ9LQ41/TKtgLKNjl9FjC5wcdc4o7XDSrce4F81HxAKf8eZoQVSN0dbVuM6m987frTYvw5q8YBM1KNUrWtpSkY5DJjlnyJ0m9k3K1v8Dgy0N4MXYfeJvyCjQkv7xFYO/wPfs4FmUG6YBPYkB9ftIEzga5MWgtStTGJ6nUEF46+9+A/IUzrUSeLfwZR0SMMhLZqESGhVI99QfsvXGaA5IR6e0HEVyHOwUM+zAQcHvfQNLVQsndVOn/KNSNuE1LkAwYMEg3YPTilv9FGWmr9RJWRAo0DjLPHgI0aqDp0pQvTw+lM3Fn1CsaZhFIT7oMKlPFr15LsiK4uVI4vgg9R34qb5yUmxklVGHabVD3kosWrQxyzCeWWgyK3fvH06vPCbDq+00O0Fmm8Gb4tLVtSwcsIurOrFOw7MtA+kA9iYCiIFEzpWGeA2sFS6VN/8NBE+hHIx8KiBXUYkh8loA11D62fuEeh+FML85ZTsheAdgQdeUOCHGEvWZpJwwq9hiXWJrSmCTQ9CPi5bQD2J1wwz44F/wn5qufiEttZCLtRv6uAyIEp9o80o6ImDrGAqxfo6csENw7xNnMcjBHD6HojktcvlBHn3l27CZXeuGHyI3huj4Jf4pfUznlX6eqb068bPvS/TBJJ8lbZH1lVTObMVQegnnFPVsrCoYUsBZNO0C3hCdzjW4o0QAAABdBnsdFFSxfBHlX0gPQLdBm9+2Rl/2HIwAAAdsBnuhqRP8FCEojWAsQIX14K4Bm213hlGENp4HTcb2tE57q9M24HrdyJaKCdY7gWhKUHM+xFb4Ipsm0AXY3Wo5o//oubKB+7P//fJY0W1smg5LekndQkLrWQIbQxMiYX1Qko7DYKGwxkfyzTSHYkhURebAdOZgdS2qUbFz9eeBIeFwxlck+7dsIJkJcg4rnkSaavkfsNhTltljpKLv87ELrbTkoQ3dAzYcvREwAHCCebfkYD6AFU0IQISGXIslYw+7xYv8r/kisny+Wzh19BlGyg4RU/2pkdBx+k5q4iuEaNIcNEQ8w4pLr6ilhUBtVWEsntft2m40ldoP7L7ag5DYpEDzv7/5Wxp4GizwSyHyiz4T83W2pKe4G6OuGBX6m9qbL74GkAb5U/p5iEqkhrpQvcdi2EDUogCH/JBD3Sa2AyPOpT1rtngNYqhZFJPhSsvxvhTY9a2/9itSuAbt9aqeVSAn06+NNHE5umWO9ncxX1HhQzOZCzBjb6cS9t+wZKwON0QEPBdO+NIbrrY5YccgtZhtxM/JW770PK/t2zV3Dvqk6nMox058KB2dFSMQ851b66Og5Ygu01kdAWq1BuwAhAPAdiVu7aRVXF9IqvuyMT1OpVi4TjXzpKRuMAAACnEGa7UmoQWyZTAhX//44QBWvB7ZNfquqYygnxfBmUs5x8BG3863219sxQqlGAz/uPoMl+ewpzpblAjmwpW9LVRk1C6tHzciJHfGi3fwNfhSBv1uIk9zdb+r1tX7kLukBjIm6fmImIY5C2NdFqVejm+WLnC3hTj6gdSbkD490jFMd4GkaY7Wr8D2D54Nj3P9DVuXlfDD/XkkUUArXmBpdeP5Sf7NtsC58Ncr8B9R4wSABHTfNDPPOD/A+6URaA01oEGdHs320Hmlo67dca6bT2uwa+JupNnuNC3PmrtxLGf0xlCWH3Cgej8sCWswUdy68VGkvOvVZbO0agSSqIaB1DmbeWSaTCC3zZXeOO0+00DOjkSixv4D4KRtzJHnGsz2NtnO82nnuZ6eM4tGHsses6mVeWejGijvQVwkhDkDa9Wk8pjHqM3hvBz6lmD1VTp+zdCqe3BUB7DPoNzjLUMCHAxuxMi3wtjGWJakImy+08KsDU58KoEQc8TRqLOZZTqaJpdPeqVbNhDI6AU8vn8Dl7nz21el3kh4CV0T15vOEC+Tupd0GEmni/auX+S5vEMrinHQpDfRUSJzhJ/f+GuFcntxa8MUoZCnCeLWNF2crzeHB29Z5isZU2jmcCaHFfc/EusAjyVAy/ZyItPlHlqub8QgtSUoy7qnKZJgihGtpJKfJMZ5yrrgmB0EkzBf+Mf+4qJy8vepVa27II4ah/3WrkpOj0ivx69J3bDChZfj9waNifsKyGsMSRUCSF4nGgSwVwBtlwDQd7SuL6C5nOQAnMbcbGA3Xq9kBdwPjByeQL8T0qp5qnwNd8jS2nQ2nZY/hlb4FStEt927DzdPnkjdIvhbpR9Z3VHbH56x9SPLm+4aF88ODwRDyoXl7kU6pAAACMEGfC0UVLG8DgTaTuWyEFHLmWUbdeoI5cCzeVD8fNdx+hhwbTja1JfsaPYIqVvhTdGok+cbZKvLQQe4qBVLqwERo9auJdJ+SOs69h9dJ8HtLjYAFiFYU49RH3s5BpRPL//6DGMTcG32l/3oZZ91fpEEmjchXixUwDA6aMPlE8J6WK6P8jnmy8wAu917VWsXV/jYFwDn7RMN5/65+V4PeSpqon7ZZ+6Jt/CdUsuB3XjTLAY0X3SY+lgJBsfD9Tkwx9N5kgqudv1NegXzaB8EY4q26A/rTmOtYqEPC+xuqEulHGbB9p1TSziuVWHcDgiZi+60rM3VniJ96Nn8o9HzUgUtMe5Pq9rGrGsK5Dsw/4VTAYbIqdg1nlE1ktMK5PgKUlD35ivCzKVe00V6G7Eocg/REQAveYHm2YsUR+iXxq/wEKZy2n7H/OXIdcNVzFTj5N6FrLqyQaGDRP/Z6xnNLfug+3VezsS593YC//1TUW5Ai9AkMUFQbPeGCZ1OxxHdY7UhQgmYW5b6rNfzSIHAhZKtRyscRaFlYfoqu8Q+9JLppWsh7EN3UppiXMW+SvyqwtO1s6nfdb40BtKNYIlXlmlB4V6FJSFerA6ku/MsHkjAuS38ZUiut0pPYKpHrcIFJpbFYfGWaTTARcYCPKNeGvSqQZPGCOmoApd1qpmcFSQAjWz4WRozlOMcAX46H3/koB1E93Yro3gkgoKQC+E7XuN7j9OyXPUD/OFRajjFmHgRVAAACNAGfKnRE/wDz9V8Tha6xAhyxQLzb5+sWTaNJDAvn/ScEdvsfZIIp+f+q8MUYy6/Smhk1l+Zs929DGEK195GGrvH3b7W6PMEl80rZ17D6YlSb8re0htqpQWu7wyzZyDSign//QZTbbiPLD15ZV1WSA3NCehmCQSxdyvJhFO75quB6z54NuEvV6V86vhLfhu4A0XmBEhhzXEYF1+12HJ+AvqwwF+3iCbwjZpRMWZztpo6qATy2lOIY3wCSPjeaWRefpD2BXMqP/mjruqZ0hNAYmml5n8UVUjaapTUaAeRBz9WSsz5JoM4MGhHJRXYD/YjiGRvEqWxF36qfyUorMkBaoatHfyxVv5wT6XHHPJ1WQpuHvyxhdXEmLd1wgDzNhX5kMEiPbVrh80e0Nq/tFn8rUSXETaCWumJPdcL3CHTe3HfoPgZGGjiP382jiEB1OLQ9ORWV4e/6IFxOH82E4eWbV/IH3PGT25qEVKQ8H9qkr3cH4/2+PZQ4IlKyDp32tpd1Lz/pBRJDiY7rkSZiNf6lUQij1TZFS2VLo3XNofKtbofury065oScvtD1599FbYpWAosMHWWHhY8aN5M6frZe5J8l9r+mA/N0NO91UGGMaohOdNJ/16HPpobAZYRJXoj3pZde6hCABpl4ChWlsnb24+HsXL41H9hpC43PVd4UR0+1cRetdjmEukqM1boazPUXo5cLPNojVtmgjardi7HorxLCHkNXd094diFmtO/bLAcvRZbDcgAAAgcBnyxqRP8Ayk4XcALsnmR+AoXRURlssUC82+frFk2jSQwJeDpDl/+eMMLyzwihDR1+GKCxuZtl1n8uFsUY0sr0oNzFgdgKbDfHAYva8EIwjE0KaCNcFms7dn6iWfzmuWJGqRXlT3KU5Dur+B7uVcOffQ0R+PZESWY0nuZSTJn9U70EbRamQDG4PzfwL6bPrYuRn/QOHJC69WNv14eSxP9JhzAO91EzS92e+N/WIxXMLW8l61FxokQi5w1TilQY7ak+oP5RVitRq0ajcvIrxQ5TIS12/rZsclq3GJCoLKN54qIECq+c3TBnnp6wnH6riS/deo0mhrmx+Q0AfPF+kVj+rM5SL1SJCJulsiaZVhox2kjAhzdjX4Q8bWb6TmcsqWv++JX/JYAkf3l4OBAdLv8PpPSNNU+USkkaa+a0B3neN5++Ejezaq21FwxN4nHoRQd+n7PoTfu4uct92KAGAKN8MlpsA01efjTNSL225wqSldaIne/jK2940eBClbPgrXMUS+bXvy2ac+LdxHJa4Sr3yOrtMi1orDrDNRO5mQdhIis7Uu78dzmpsmQP0/DVKIVvJoWACV1YgUuxYrcsvnj2Zg6keONdONF5Rfppee21Uvi0Ev4XocDuRoIag1UpwERck46aNJwYpL1r2l4uVoeuTJqJoEAbdjNL1LVjH6TbJGkW8ywGdcEAAAASQZswSahBbJlMCEf//eEAAKCBAAABkUGfTkUVLF8AX8T8YscvYJm7//P+BP9IW0aR3yy0GWGGCWEqeA0oKNfgFp8x1SFVoRDsIIVbhy1E69/FbUplVGxpCGqR8zd5pWk921SfTt9eAcjY7FzfuVQ3BxKcjCK6lzOEcCrYiHw1WuRnE8wAkgvoaKJ81xAm/y6q3lzH6wtVkp5ZiW3oqjr08KtprrMT93gSD71BDeqdoZItTCMPDKQOvD8ccxFoi9j3+gEy3wJTfKVVJgjG9wPhG33YpEZYmIk6zOQ9jxi4CgMGfjGcrBRUjoCLtnZ3jYW2Gcvr7Cc9Mt9hVENPcAMHrf/ufJNTUHYXXORUczHJNwmP37SUUJoBT0tLZU51EQEaHgr7iAl378iWMLoK5PwTN5Po/bRCaPP26YaQXA4QAc4Nwagql1+m37+Qfnvo9sIMFhynaGg1YtqMGPB/ayUZpoo3jyow7hRrDAHpQkmr7Dy83pIOjSTpsZectRCNGlX95jAcu1bAJKtjqhXDci/r+9bcuZybpp7cVbu0wbPPyGcXJKiUYS0JAAADEQGfb2pE/wDfYTzsVu//3/An+kLaNHj41lyjwFfs+l1jN3it7V4dVQK79LGm69D27vJzMpM2tSmVUbGkIVXqhC3rsKTjQZvdO31Y6iXjsXOAYqzi95S+pYO5B2T49OlBtYlYOMxZovThrH4DDaVPBz+anqseM9g1j3hZlBWX7o7z/McMUyHXUlgvTn+SwVVwTavJZAVRjJPni1LWOEW41WcKqqMFITV5mQyVM3cCgD0c7nxibZPf9T0Pl4Df8IjgzweQR3bqWaR7zsrosLQ5bm7nptn1Tc2kZz+tqENF5CGsY2BQt2Q9vFbCXxGwbkxY0CHRzHhVtvO3C1/5cy564rG48CAouBcNNwATfKIPGKSQI03QA17XiEKHBFnSJpBv21jXh5YzABeptfOZoEImYgyVBkRRzOlXL8rzzqPGhwKlve2HXEp2X8Qd3hdEtKGdw/cXpZgARU49WLzavXn/GpAlxaQuwFuXzBWvFZnw5B74EJmqXZDHbrX1G2XLbSwP0ZmhsY5YR20FSAYNKtNkn0eZNMxcQuPOaathcXMaGJ+Qmkqse+zNZep1W8UPFYHzDeeflG5RthDQi5D1xzAfeR9r/1KuUGngrKaaG9yITKH7jBhpC0ptZc6zO01TIlpH8d9/DZCBgskQEsWjy6VUA5uoEUC+D7nkr3TnnNrgtKO6U34ONZvb91mK/AYI6yvx4cjPm0nYcfljWtXX7FTPXHPQNEJZVIu4EAsEvcPwOAr5jQ07bDlh3Fcrpvd+Anv6N/kHk/24WfX/G5GGh+2ypTqzJ58jelYk8Ma1oSV51ygI03/g+bTB9sJCObg5WRZnW+bHfYSZRuaTkyDBTEI67sVxQkWWm3F9dZ4hTZ8yJyJKnSAItR+wLppVW8I5N9qpROEfWcMrwPjtbzrC79hIN7Y99dSxDVvpQQW84xWvicfSdwxP7BpZNn6QCnQLiAELpSgmzK3cFV/c8rxswW7QkoDYgmM7UXy49j269fP4h8JScIQe8QhB1ONXbdGKvdMPmcMUJE4Ga0IBhl0EZQ6dF+YQAAADZUGbc0moQWyZTAif8yAANJ6GusQH8ZwOYvB+bUd9gGUPU8muV1wPB1Y6bOMR3iCaxM7zj1qNhnEt/N9SCC4RBK5APP/228a+PsUV/2dS1gbmF365ak74bH9fkbNzGbP6pXNbyHcp6xFs8Mci9UMzp0E5XbUttjBMEHYI8XljLECm3MC7pt3U/z0/y3XpCNJ6c5AE+EMZsCyP8lQBtkXTDZW9IMQRMPEIhIBBFQlWWeayh9sk5Z5JS+EdVrTuYT3/AGl1di/OPllu5LTFJFMgIs5xf1j8qXBuO48UAvvljL4hgXNrTui9Duw9SdJcTQlM2T/aFOvd1lmjolYULkQuJoCIe2jmwoHV1pQhUEYkLri+BeV1Je2x5KJW3mHkFcBbhTSDcCC5NtSBzgrZaifPzvk62o29zQS1lFohUVl1XRdXRo0u8dYKoMRV0Yj8hFstrWrFx8Ke3WRmYe0vcUpuTAvFEm+YVzaIf4+cWwupqJ9pCxVg8FHdfWvznfobpYoKBhRBCPCPUpKsxOomLhcGC6r+3L2JRGNV4u2PqpFNg4Qxcq2cwtfN+wRw1jelqGhAwcXBiiu5XYaY3PHhtvBhfBQfhwIjOpsfytrpjLGX8y604Yg18F1R4OfKeXr9VRXpDZvuh8Vi7ztDsrpn3av8ILFUzljbxg15XjptmDzXJUU2dQ0v19ZovG43r5NmVYxYEU5mdH5GUMsgge0BXpsp8EEMHcQTaFOxFbBcnAbV4frgoQ/9PXeK1ToXlzB2quI7mU+Lpx7ZVKQot0bZrfCP52mg6zTvjmga4AFqT9wcTPQO4IIYjjEsxc+Hkesk76cFH9mHMirNfZl2CqMhIf4z2wSDbn76wDVL8F9L+o4NAIjHlsqP1GiIx834fyPIUFfKoobGIi84xKiN+PY3riBdjIQTO0ESQvdRqMQDE9yntWRA0GXkdMmBO15rnqtApi4AZngO1W6bPNBlVmwsyVEu2MyQbOkoIh6RzLVcAZiUNogbxK5AhFB2/FHWLKRFwTSfhFTXx7yi6SQ919eFUiAFuX9782BfHkVxZDBKWR+0FoBmqKkF4VYnWPBe16i0iEOEPlqPm2BAli+lcNIJ0mlqYDlqqOcas7WzyWW0OJ+VfRMajeqBT5wtqq8kNV9j2C7ITb8d44TAAAAAGEGfkUUVLF8AJsq+0i6kL/9tPhA1hjgIwQAAAeEBn7JqRP8AK4FLq5DjBL//f8Cf6Qto0ePjWXKPAV+z6XWM3eK4RPlJSTjQdtzGqc/Su/Sxpu6Rx/t3eTmZfCrdF3aPeKH7cgMNK5/sRoM/cAkNiqpNaOPX/hR3QoDO9CRlDSYigpv4or0GNAm4L3qeKWLXagVGC+ztIuUMSP6ylUkygcxZIl9zHDFe4HLJ2lgpPrhfCOs2KdZtAk9ev/C+GmgEBouCF5/8/pjxfzpmT65XXTc7I1ydNSbof/VGPEYMY0u9poWrULec381gkbOqwVoacB1qSLRsWJqEEzMzIwt87eK2lk5n3DV7/UBF4zz8+vRVinfQ1pphPT5ClRGF3ULAAC2b2DNKBOt/8ruIJhr4ChZvIAeLpL/onWU7rTGC2hkX9M0UvsAnAOvJ+1mcjIcrdxmIuxr73wrKnRTOGkL/7yfYthjxkTKIT5XfjA/HIVDO25i6cJJUYA1e4IrWKLHg+wpB3mPocMOmZitIA0+2+B8+QOTcJ+1eW+T3EAhOhna+axd2GQi04YP14qpxFmihy5xpbW4FNJrygFLLXGnjDe8FL6vSmvPKxDAUCqvuZ2wWSWj3Ech84352DpeqVRieJyz3P1jQFBaE+mxJwmUG57EHmB55KpM6v05id9rAAAAFWm1vb3YAAABsbXZoZAAAAAAAAAAAAAAAAAAAA+gAAMsgAAEAAAEAAAAAAAAAAAAAAAABAAAAAAAAAAAAAAAAAAAAAQAAAAAAAAAAAAAAAAAAQAAAAAAAAAAAAAAAAAAAAAAAAAAAAAAAAAAAAAAAAAIAAASEdHJhawAAAFx0a2hkAAAAAwAAAAAAAAAAAAAAAQAAAAAAAMsgAAAAAAAAAAAAAAAAAAAAAAABAAAAAAAAAAAAAAAAAAAAAQAAAAAAAAAAAAAAAAAAQAAAAAEAAAABAAAAAAAAJGVkdHMAAAAcZWxzdAAAAAAAAAABAADLIAAAgAAAAQAAAAAD/G1kaWEAAAAgbWRoZAAAAAAAAAAAAAAAAAAAQAAADQAAVcQAAAAAAC1oZGxyAAAAAAAAAAB2aWRlAAAAAAAAAAAAAAAAVmlkZW9IYW5kbGVyAAAAA6dtaW5mAAAAFHZtaGQAAAABAAAAAAAAAAAAAAAkZGluZgAAABxkcmVmAAAAAAAAAAEAAAAMdXJsIAAAAAEAAANnc3RibAAAAJdzdHNkAAAAAAAAAAEAAACHYXZjMQAAAAAAAAABAAAAAAAAAAAAAAAAAAAAAAEAAQAASAAAAEgAAAAAAAAAAQAAAAAAAAAAAAAAAAAAAAAAAAAAAAAAAAAAAAAAAAAAABj//wAAADFhdmNDAWQADP/hABhnZAAMrNlBAIaEAAADAAQAAAMACDxQplgBAAZo6+PLIsAAAAAYc3R0cwAAAAAAAAABAAAANAAAQAAAAAAUc3RzcwAAAAAAAAABAAAAAQAAAYhjdHRzAAAAAAAAAC8AAAABAACAAAAAAAEAAUAAAAAAAQAAgAAAAAABAAAAAAAAAAEAAEAAAAAAAQABQAAAAAABAACAAAAAAAEAAAAAAAAAAQAAQAAAAAABAAFAAAAAAAEAAIAAAAAAAQAAAAAAAAABAABAAAAAAAEAAUAAAAAAAQAAgAAAAAABAAAAAAAAAAEAAEAAAAAAAQABQAAAAAABAACAAAAAAAEAAAAAAAAAAQAAQAAAAAABAADAAAAAAAEAAEAAAAAAAQABAAAAAAACAABAAAAAAAEAAMAAAAAAAQAAQAAAAAABAAFAAAAAAAEAAIAAAAAAAQAAAAAAAAABAABAAAAAAAEAAUAAAAAAAQAAgAAAAAABAAAAAAAAAAEAAEAAAAAAAQABAAAAAAACAABAAAAAAAEAAQAAAAAAAgAAQAAAAAABAAFAAAAAAAEAAIAAAAAAAQAAAAAAAAABAABAAAAAAAEAAQAAAAAAAgAAQAAAAAABAAEAAAAAAAIAAEAAAAAAHHN0c2MAAAAAAAAAAQAAAAEAAAA0AAAAAQAAAORzdHN6AAAAAAAAAAAAAAA0AACEfgAABCwAAAIvAAAAFQAAABoAAABRAAAAFwAAABUAAAANAAAAMQAAABAAAAMWAAADGwAABM8AAAG5AAACCAAAABQAAAKgAAAAHQAAABgAAAHXAAACAgAAAvcAAAAeAAAC8QAAAdMAAAHcAAAAIQAAAlUAAAAcAAAAGAAAABQAAAAwAAABtAAAABcAAAIHAAAAIQAAACMAAAAXAAACmwAAABsAAAHfAAACoAAAAjQAAAI4AAACCwAAABYAAAGVAAADFQAAA2kAAAAcAAAB5QAAABRzdGNvAAAAAAAAAAEAAAAwAAAAYnVkdGEAAABabWV0YQAAAAAAAAAhaGRscgAAAAAAAAAAbWRpcmFwcGwAAAAAAAAAAAAAAAAtaWxzdAAAACWpdG9vAAAAHWRhdGEAAAABAAAAAExhdmY1OC4yOS4xMDA=\"></video>"
            ],
            "text/plain": [
              "<IPython.core.display.HTML object>"
            ]
          },
          "execution_count": 90,
          "metadata": {},
          "output_type": "execute_result"
        }
      ],
      "source": [
        "record_video_frozen_lake_env(env, Qtable_trained, 'frozenlake_trained.mp4', fps=1)\n",
        "show_video('frozenlake_trained.mp4', video_width = 600)"
      ]
    },
    {
      "cell_type": "markdown",
      "metadata": {
        "id": "nWvKPz_0zlhR"
      },
      "source": [
        "Next, we will take a look at the Q-function that was learned."
      ]
    },
    {
      "cell_type": "code",
      "execution_count": null,
      "metadata": {
        "colab": {
          "base_uri": "https://localhost:8080/"
        },
        "id": "X8yC8f4Mzc-h",
        "outputId": "f43f7e36-155d-42fe-ea4d-cae17797b208"
      },
      "outputs": [
        {
          "name": "stdout",
          "output_type": "stream",
          "text": [
            "[[0.17090947 0.15969102 0.15896396 0.16305849]\n",
            " [0.10256435 0.10856763 0.1140592  0.15983941]\n",
            " [0.16046423 0.11472546 0.1146616  0.10826095]\n",
            " [0.07636022 0.07684796 0.06865409 0.09055459]\n",
            " [0.20403803 0.14215731 0.11476416 0.14217332]\n",
            " [0.         0.         0.         0.        ]\n",
            " [0.19319866 0.09034817 0.07615846 0.04248669]\n",
            " [0.         0.         0.         0.        ]\n",
            " [0.12034438 0.19251666 0.16802529 0.26483621]\n",
            " [0.21438076 0.3775153  0.26654141 0.25762537]\n",
            " [0.40131312 0.20638162 0.21217005 0.1691528 ]\n",
            " [0.         0.         0.         0.        ]\n",
            " [0.         0.         0.         0.        ]\n",
            " [0.31539734 0.39471826 0.49837923 0.2726786 ]\n",
            " [0.49497368 0.72876589 0.55465896 0.54439282]\n",
            " [0.         0.         0.         0.        ]]\n"
          ]
        }
      ],
      "source": [
        "print(Qtable_trained)"
      ]
    },
    {
      "cell_type": "markdown",
      "metadata": {
        "id": "W_uLOGVo0mCv"
      },
      "source": [
        "**[Question 7 (5 Points)]**  \n",
        "Assume that `Qtable_trained` is the correct Q-function for the final epsilon-greedy policy that was used in training. What is the value function that corresponds to this policy? Write down the relation between $V_\\pi$ and $Q_\\pi$ and use it to complete the following code block."
      ]
    },
    {
      "cell_type": "markdown",
      "metadata": {
        "id": "QV1yNSlX4Xhn"
      },
      "source": [
        "**Answer:**\n",
        "$$V_\\pi (s) = \\cdots$$"
      ]
    },
    {
      "cell_type": "code",
      "execution_count": null,
      "metadata": {
        "id": "tgvG3JPb4q4o"
      },
      "outputs": [],
      "source": [
        "Vtable_trained = ..."
      ]
    },
    {
      "cell_type": "markdown",
      "metadata": {
        "id": "hrBSciQw4wBD"
      },
      "source": [
        "Take a look at the value function"
      ]
    },
    {
      "cell_type": "code",
      "execution_count": null,
      "metadata": {
        "id": "ZZ7aWMbOpAwZ"
      },
      "outputs": [],
      "source": [
        "print(Vtable_trained)"
      ]
    },
    {
      "cell_type": "markdown",
      "metadata": {
        "id": "JI8bzC7azyAq"
      },
      "source": [
        "**[Question 8 (5 Points)]**  \n",
        "Write a function to generate a visualization for the value function using a heatmap. In a few words, explain what you see."
      ]
    },
    {
      "cell_type": "code",
      "execution_count": null,
      "metadata": {
        "id": "LUnArCcV0VMp"
      },
      "outputs": [],
      "source": [
        "def visualize(Vtable):\n",
        "  ..."
      ]
    },
    {
      "cell_type": "code",
      "execution_count": null,
      "metadata": {
        "id": "N51kKbFFpGFh"
      },
      "outputs": [],
      "source": [
        "visualize(Vtable_trained)"
      ]
    },
    {
      "cell_type": "markdown",
      "metadata": {
        "id": "HyNca-10ruQm"
      },
      "source": [
        "**[Question 9 (5 Points)]**  \n",
        "Can we use a pure greedy policy for Q-learning? Explain."
      ]
    },
    {
      "cell_type": "markdown",
      "metadata": {
        "id": "JqX18Ic-siGm"
      },
      "source": [
        "**Answer:**\n",
        "\n",
        "..."
      ]
    },
    {
      "cell_type": "markdown",
      "metadata": {
        "id": "EVUwDSzC_YP8"
      },
      "source": [
        "**[Bonus Question (10 Points)]**  \n",
        "Think about the role of the discount factor in this environment and experiment.  \n",
        "1. Explain why it is not the best idea to set $\\gamma = 1$ for a navigation task. You might find it easier to reason about a deterministic (i.e., non-slippery) environment. (5 Points)\n",
        "2. If we had used $\\gamma = 1$, the value of states could be interpreted in a meaningful way. Think about what $V^*(s)$ would be if we had set $\\gamma = 1$ and trained until we got the optimal value function. (5 Points)"
      ]
    },
    {
      "cell_type": "markdown",
      "metadata": {
        "id": "GttKYjfu_cvg"
      },
      "source": [
        "**Answer:**\n",
        "\n",
        "..."
      ]
    },
    {
      "cell_type": "markdown",
      "metadata": {
        "id": "WLiFCIek6s8v"
      },
      "source": [
        "# Part II: Mountain Car Environment (15 point)"
      ]
    },
    {
      "cell_type": "markdown",
      "metadata": {
        "id": "7R36a4nH7MuZ"
      },
      "source": [
        "The Mountain Car MDP is a deterministic MDP that consists of a car placed stochastically at the bottom of a sinusoidal valley, with the only possible actions being the accelerations that can be applied to the car in either direction. The goal of the MDP is to strategically accelerate the car to reach the goal state on top of the right hill."
      ]
    },
    {
      "cell_type": "markdown",
      "metadata": {
        "id": "VlyLlwIG8qjw"
      },
      "source": [
        "lets create the environment."
      ]
    },
    {
      "cell_type": "code",
      "execution_count": null,
      "metadata": {
        "id": "eBMSm62o8qBs"
      },
      "outputs": [],
      "source": [
        "env = gym.make(\"MountainCar-v0\", render_mode='rgb_array')"
      ]
    },
    {
      "cell_type": "markdown",
      "metadata": {
        "id": "CUOtuKcv8_Qw"
      },
      "source": [
        "The state of the car is represented by its velocity and position along the x axis. the velocity is a number between -0.07, 0.07 and the position is a number between -1.3, 0.6. There are 3 discrete deterministic actions: (0:Accelerate to the left, 1:Don’t accelerate, 2:Accelerate to the right)\n",
        "The starting position of the car is different each time we run the environment."
      ]
    },
    {
      "cell_type": "markdown",
      "metadata": {
        "id": "3exMYOjN9oza"
      },
      "source": [
        "In order to use the same Q learning algorithm on this environment we need to somehow discretize the states. We can easily do this by dividing the range of the observation into smaller range.   \n",
        "its important how small we divide these range. if the step size is too big we might not achieve a good accuracy and if the step size is too small we will have a bigger observation space.  "
      ]
    },
    {
      "cell_type": "markdown",
      "metadata": {
        "id": "dK9XEjBb-jTB"
      },
      "source": [
        "**[Question 10 (5 Points)]**  \n",
        "implement the next  discretization function."
      ]
    },
    {
      "cell_type": "code",
      "execution_count": null,
      "metadata": {
        "id": "VwdauAFa8-yi"
      },
      "outputs": [],
      "source": [
        "def discretize(x, min_value, step_size):\n",
        "    ....\n",
        "\n",
        "assert(discretize(0.222, 0.1, 0.1)==1)\n",
        "assert(discretize(0.134, 0.1, 0.1)==0) "
      ]
    },
    {
      "cell_type": "markdown",
      "metadata": {
        "id": "XeSrhR6t_b4-"
      },
      "source": [
        "we will use step size 0.1 for the position and the step size 0.01 for the velocity. the following function will discretize a state using the function you implemented above."
      ]
    },
    {
      "cell_type": "code",
      "execution_count": null,
      "metadata": {
        "id": "KltzG8ay7QUO"
      },
      "outputs": [],
      "source": [
        "def discretize_state(state, step_velocity=0.01, step_position=0.1):\n",
        "  position , velocity = state\n",
        "  position = discretize(position, -1.3, step_position)\n",
        "  velocity = discretize(velocity, -0.07, step_velocity)\n",
        "  if position==19:\n",
        "    position = 18\n",
        "  if velocity==14:\n",
        "    velocity = 13\n",
        "  return (position, velocity)"
      ]
    },
    {
      "cell_type": "markdown",
      "metadata": {
        "id": "pyBvbk-iAgbj"
      },
      "source": [
        "the function below will run the mountain car experiment and output a video. We will use it to run an agent with a random policy."
      ]
    },
    {
      "cell_type": "code",
      "execution_count": null,
      "metadata": {
        "colab": {
          "base_uri": "https://localhost:8080/",
          "height": 453
        },
        "id": "sjZNzcBrAf4t",
        "outputId": "e97d8edb-0179-4a9c-b675-c558886c475f"
      },
      "outputs": [
        {
          "name": "stderr",
          "output_type": "stream",
          "text": [
            "WARNING:imageio_ffmpeg:IMAGEIO FFMPEG_WRITER WARNING: input image is not divisible by macro_block_size=16, resizing from (600, 400) to (608, 400) to ensure video compatibility with most codecs and players. To prevent resizing, make your input image divisible by the macro_block_size or set the macro_block_size to 1 (risking incompatibility).\n"
          ]
        },
        {
          "data": {
            "text/html": [
              "<video width=600 controls><source src=\"data:video/mp4;base64,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\"></video>"
            ],
            "text/plain": [
              "<IPython.core.display.HTML object>"
            ]
          },
          "execution_count": 139,
          "metadata": {},
          "output_type": "execute_result"
        }
      ],
      "source": [
        "def record_video_mountain_car_env(env, Qtable, out_directory, fps=1, random_action=False, max_episode=500):\n",
        "  images = []  \n",
        "  truncated, done = False, False\n",
        "  state, info = env.reset(seed=random.randint(0,500))\n",
        "  state = discretize_state(state)\n",
        "  img = env.render()\n",
        "  images.append(img)\n",
        "  episode = 0\n",
        "  while episode < max_episode and not done:\n",
        "    # Take the action (index) that have the maximum expected future reward given that state\n",
        "    action = np.random.randint(3)  if random_action else np.argmax(Qtable[state[0]][state[1]][:])\n",
        "    state, reward, done, truncated, info = env.step(action)\n",
        "    state = discretize_state(state)\n",
        "    img = env.render()\n",
        "    images.append(img)\n",
        "    episode += 1\n",
        "  imageio.mimsave(out_directory, [np.array(img) for i, img in enumerate(images)], fps=fps)\n",
        "\n",
        "def show_video(video_path, video_width = 600):\n",
        "  video_file = open(video_path, \"r+b\").read()\n",
        "  video_url = f\"data:video/mp4;base64,{b64encode(video_file).decode()}\"\n",
        "  return HTML(f\"\"\"<video width={video_width} controls><source src=\"{video_url}\"></video>\"\"\")\n",
        "\n",
        "record_video_mountain_car_env(env, None, 'mountaincar_random.mp4', fps=15, random_action=True)\n",
        "show_video('mountaincar_random.mp4', video_width = 600)"
      ]
    },
    {
      "cell_type": "markdown",
      "metadata": {
        "id": "WIETFj_sDR5s"
      },
      "source": [
        "**[Question 11 (2 Points)]**  \n",
        "Implement the next functions like you did the previous part. "
      ]
    },
    {
      "cell_type": "code",
      "execution_count": null,
      "metadata": {
        "id": "2w7fNw4NC2mj"
      },
      "outputs": [],
      "source": [
        "def initialize_q_table(step_size_velocity, step_size_pos, action_space):\n",
        "  # Qtable should be of the shape (discrete position value, discrete velocity value, action_no)\n",
        "  ...\n",
        "\n",
        "def epsilon_greedy_policy(Qtable, state, epsilon):\n",
        "  ...\n",
        "\n",
        "Qtable = initialize_q_table(0.01, 0.1, 3)"
      ]
    },
    {
      "cell_type": "markdown",
      "metadata": {
        "id": "RWSMO5cIE6NE"
      },
      "source": [
        "**[Question 12 (8 Points)]**  \n",
        "Change the previous train function so it works in this environment."
      ]
    },
    {
      "cell_type": "code",
      "execution_count": null,
      "metadata": {
        "id": "zAHvbfxpC9XR"
      },
      "outputs": [],
      "source": [
        "def train(n_training_episodes, min_epsilon, max_epsilon, decay_rate, env, max_steps, Qtable):\n",
        "  for episode in tqdm(range(n_training_episodes)):\n",
        "    # Adjust epsilon\n",
        "    epsilon = min_epsilon + (max_epsilon - min_epsilon)*np.exp(-decay_rate*episode)\n",
        "    # Reset the environment\n",
        "    state, info = env.reset()\n",
        "    state = discretize_state(state)\n",
        "    step = 0\n",
        "    done = False\n",
        "\n",
        "    # repeat\n",
        "    for step in range(max_steps):\n",
        "      ...\n",
        "\n",
        "  return Qtable"
      ]
    },
    {
      "cell_type": "markdown",
      "metadata": {
        "id": "3CHmdB4BFYow"
      },
      "source": [
        "Now lets train our model. You can change the hyperparameters if you want."
      ]
    },
    {
      "cell_type": "code",
      "execution_count": null,
      "metadata": {
        "id": "tBoHqoLhEnJt"
      },
      "outputs": [],
      "source": [
        "# Training parameters\n",
        "n_training_episodes = 20_000  # Total training episodes\n",
        "learning_rate = 0.1           # Learning rate\n",
        "\n",
        "# Environment parameters\n",
        "max_steps = 200               # Max steps per episode\n",
        "gamma = 0.95                 # Discounting rate\n",
        "\n",
        "# Exploration parameters\n",
        "max_epsilon = 1.0             # Exploration probability at start\n",
        "min_epsilon = 0.01            # Minimum exploration probability \n",
        "decay_rate = 2e-3            # Exponential decay rate for exploration prob"
      ]
    },
    {
      "cell_type": "code",
      "execution_count": null,
      "metadata": {
        "colab": {
          "base_uri": "https://localhost:8080/",
          "height": 49,
          "referenced_widgets": [
            "d7ccda985a374d65a64f7c3ad8dc8feb",
            "ae0db86ec61e411a821fbf186123bb1c",
            "ba7d003efb8b4ba791043bf0e0af7df1",
            "365e1e153fd2492eb2a159722dfd4192",
            "634647540302493ba3ba760e7abe817c",
            "89d601dd731e4538b524baa03b67dd34",
            "ab04550a80ec4914937d16903ea5cc73",
            "126b68c9ed524c6d983398434fec7750",
            "de7fb2d7dd1b4edf8dc5df8711361ab1",
            "fd39de5b77054f8d8a2263f3519bc476",
            "d65d74349ea8401584fcfae30b785a1a"
          ]
        },
        "id": "6emQyg3JFg1n",
        "outputId": "8be668f9-6de1-4e99-afc5-272f009b00d4"
      },
      "outputs": [
        {
          "data": {
            "application/vnd.jupyter.widget-view+json": {
              "model_id": "d7ccda985a374d65a64f7c3ad8dc8feb",
              "version_major": 2,
              "version_minor": 0
            },
            "text/plain": [
              "  0%|          | 0/20000 [00:00<?, ?it/s]"
            ]
          },
          "metadata": {},
          "output_type": "display_data"
        }
      ],
      "source": [
        "Qtable_trained = train(n_training_episodes, min_epsilon, max_epsilon, decay_rate, env, max_steps, Qtable)"
      ]
    },
    {
      "cell_type": "markdown",
      "metadata": {
        "id": "wlH7J3jQg5Ra"
      },
      "source": [
        "Now let us inspect how well our model is doing. In order to pass the assignment, the car must reach the goal."
      ]
    },
    {
      "cell_type": "code",
      "execution_count": null,
      "metadata": {
        "colab": {
          "base_uri": "https://localhost:8080/",
          "height": 453
        },
        "id": "TKkzIikqHOXw",
        "outputId": "410c05c2-d384-45d7-f634-385772bca979"
      },
      "outputs": [
        {
          "name": "stderr",
          "output_type": "stream",
          "text": [
            "WARNING:imageio_ffmpeg:IMAGEIO FFMPEG_WRITER WARNING: input image is not divisible by macro_block_size=16, resizing from (600, 400) to (608, 400) to ensure video compatibility with most codecs and players. To prevent resizing, make your input image divisible by the macro_block_size or set the macro_block_size to 1 (risking incompatibility).\n"
          ]
        },
        {
          "data": {
            "text/html": [
              "<video width=600 controls><source src=\"data:video/mp4;base64,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\"></video>"
            ],
            "text/plain": [
              "<IPython.core.display.HTML object>"
            ]
          },
          "execution_count": 144,
          "metadata": {},
          "output_type": "execute_result"
        }
      ],
      "source": [
        "record_video_mountain_car_env(env, Qtable_trained, 'mountaincar_random.mp4', fps=15)\n",
        "show_video('mountaincar_random.mp4', video_width = 600)"
      ]
    }
  ],
  "metadata": {
    "colab": {
      "provenance": []
    },
    "interpreter": {
      "hash": "ad2bdc8ecc057115af97d19610ffacc2b4e99fae6737bb82f5d7fb13d2f2c186"
    },
    "kernelspec": {
      "display_name": "Python 3.8.8 ('base')",
      "language": "python",
      "name": "python3"
    },
    "language_info": {
      "codemirror_mode": {
        "name": "ipython",
        "version": 3
      },
      "file_extension": ".py",
      "mimetype": "text/x-python",
      "name": "python",
      "nbconvert_exporter": "python",
      "pygments_lexer": "ipython3",
      "version": "3.8.8"
    },
    "widgets": {
      "application/vnd.jupyter.widget-state+json": {
        "0ac4ffa2eb644fc08b55b6c624aba10f": {
          "model_module": "@jupyter-widgets/controls",
          "model_module_version": "1.5.0",
          "model_name": "DescriptionStyleModel",
          "state": {
            "_model_module": "@jupyter-widgets/controls",
            "_model_module_version": "1.5.0",
            "_model_name": "DescriptionStyleModel",
            "_view_count": null,
            "_view_module": "@jupyter-widgets/base",
            "_view_module_version": "1.2.0",
            "_view_name": "StyleView",
            "description_width": ""
          }
        },
        "0df16b501be443acb42de61e37070b75": {
          "model_module": "@jupyter-widgets/controls",
          "model_module_version": "1.5.0",
          "model_name": "DescriptionStyleModel",
          "state": {
            "_model_module": "@jupyter-widgets/controls",
            "_model_module_version": "1.5.0",
            "_model_name": "DescriptionStyleModel",
            "_view_count": null,
            "_view_module": "@jupyter-widgets/base",
            "_view_module_version": "1.2.0",
            "_view_name": "StyleView",
            "description_width": ""
          }
        },
        "102cecdfcc5d47ada76435d97ac573ed": {
          "model_module": "@jupyter-widgets/controls",
          "model_module_version": "1.5.0",
          "model_name": "HTMLModel",
          "state": {
            "_dom_classes": [],
            "_model_module": "@jupyter-widgets/controls",
            "_model_module_version": "1.5.0",
            "_model_name": "HTMLModel",
            "_view_count": null,
            "_view_module": "@jupyter-widgets/controls",
            "_view_module_version": "1.5.0",
            "_view_name": "HTMLView",
            "description": "",
            "description_tooltip": null,
            "layout": "IPY_MODEL_4a0b04007e204de287035d2e7fe67c95",
            "placeholder": "​",
            "style": "IPY_MODEL_c9533715f3b645a2aedff135a9bdc733",
            "value": "100%"
          }
        },
        "108c385f845c4b09a8486aac1d0a4589": {
          "model_module": "@jupyter-widgets/base",
          "model_module_version": "1.2.0",
          "model_name": "LayoutModel",
          "state": {
            "_model_module": "@jupyter-widgets/base",
            "_model_module_version": "1.2.0",
            "_model_name": "LayoutModel",
            "_view_count": null,
            "_view_module": "@jupyter-widgets/base",
            "_view_module_version": "1.2.0",
            "_view_name": "LayoutView",
            "align_content": null,
            "align_items": null,
            "align_self": null,
            "border": null,
            "bottom": null,
            "display": null,
            "flex": null,
            "flex_flow": null,
            "grid_area": null,
            "grid_auto_columns": null,
            "grid_auto_flow": null,
            "grid_auto_rows": null,
            "grid_column": null,
            "grid_gap": null,
            "grid_row": null,
            "grid_template_areas": null,
            "grid_template_columns": null,
            "grid_template_rows": null,
            "height": null,
            "justify_content": null,
            "justify_items": null,
            "left": null,
            "margin": null,
            "max_height": null,
            "max_width": null,
            "min_height": null,
            "min_width": null,
            "object_fit": null,
            "object_position": null,
            "order": null,
            "overflow": null,
            "overflow_x": null,
            "overflow_y": null,
            "padding": null,
            "right": null,
            "top": null,
            "visibility": null,
            "width": null
          }
        },
        "126b68c9ed524c6d983398434fec7750": {
          "model_module": "@jupyter-widgets/base",
          "model_module_version": "1.2.0",
          "model_name": "LayoutModel",
          "state": {
            "_model_module": "@jupyter-widgets/base",
            "_model_module_version": "1.2.0",
            "_model_name": "LayoutModel",
            "_view_count": null,
            "_view_module": "@jupyter-widgets/base",
            "_view_module_version": "1.2.0",
            "_view_name": "LayoutView",
            "align_content": null,
            "align_items": null,
            "align_self": null,
            "border": null,
            "bottom": null,
            "display": null,
            "flex": null,
            "flex_flow": null,
            "grid_area": null,
            "grid_auto_columns": null,
            "grid_auto_flow": null,
            "grid_auto_rows": null,
            "grid_column": null,
            "grid_gap": null,
            "grid_row": null,
            "grid_template_areas": null,
            "grid_template_columns": null,
            "grid_template_rows": null,
            "height": null,
            "justify_content": null,
            "justify_items": null,
            "left": null,
            "margin": null,
            "max_height": null,
            "max_width": null,
            "min_height": null,
            "min_width": null,
            "object_fit": null,
            "object_position": null,
            "order": null,
            "overflow": null,
            "overflow_x": null,
            "overflow_y": null,
            "padding": null,
            "right": null,
            "top": null,
            "visibility": null,
            "width": null
          }
        },
        "2c1b137e0a7f45dbaf3e0e2fb4c9f065": {
          "model_module": "@jupyter-widgets/controls",
          "model_module_version": "1.5.0",
          "model_name": "ProgressStyleModel",
          "state": {
            "_model_module": "@jupyter-widgets/controls",
            "_model_module_version": "1.5.0",
            "_model_name": "ProgressStyleModel",
            "_view_count": null,
            "_view_module": "@jupyter-widgets/base",
            "_view_module_version": "1.2.0",
            "_view_name": "StyleView",
            "bar_color": null,
            "description_width": ""
          }
        },
        "365e1e153fd2492eb2a159722dfd4192": {
          "model_module": "@jupyter-widgets/controls",
          "model_module_version": "1.5.0",
          "model_name": "HTMLModel",
          "state": {
            "_dom_classes": [],
            "_model_module": "@jupyter-widgets/controls",
            "_model_module_version": "1.5.0",
            "_model_name": "HTMLModel",
            "_view_count": null,
            "_view_module": "@jupyter-widgets/controls",
            "_view_module_version": "1.5.0",
            "_view_name": "HTMLView",
            "description": "",
            "description_tooltip": null,
            "layout": "IPY_MODEL_fd39de5b77054f8d8a2263f3519bc476",
            "placeholder": "​",
            "style": "IPY_MODEL_d65d74349ea8401584fcfae30b785a1a",
            "value": " 20000/20000 [07:36&lt;00:00, 41.86it/s]"
          }
        },
        "47f0b35c36bb498fb47f98f7609e7187": {
          "model_module": "@jupyter-widgets/controls",
          "model_module_version": "1.5.0",
          "model_name": "HTMLModel",
          "state": {
            "_dom_classes": [],
            "_model_module": "@jupyter-widgets/controls",
            "_model_module_version": "1.5.0",
            "_model_name": "HTMLModel",
            "_view_count": null,
            "_view_module": "@jupyter-widgets/controls",
            "_view_module_version": "1.5.0",
            "_view_name": "HTMLView",
            "description": "",
            "description_tooltip": null,
            "layout": "IPY_MODEL_fa684dfe7f9d4e78b2f966a02ac64911",
            "placeholder": "​",
            "style": "IPY_MODEL_0df16b501be443acb42de61e37070b75",
            "value": " 50000/50000 [01:05&lt;00:00, 842.63it/s]"
          }
        },
        "486a4927595a48debdc1ece1951e85c0": {
          "model_module": "@jupyter-widgets/base",
          "model_module_version": "1.2.0",
          "model_name": "LayoutModel",
          "state": {
            "_model_module": "@jupyter-widgets/base",
            "_model_module_version": "1.2.0",
            "_model_name": "LayoutModel",
            "_view_count": null,
            "_view_module": "@jupyter-widgets/base",
            "_view_module_version": "1.2.0",
            "_view_name": "LayoutView",
            "align_content": null,
            "align_items": null,
            "align_self": null,
            "border": null,
            "bottom": null,
            "display": null,
            "flex": null,
            "flex_flow": null,
            "grid_area": null,
            "grid_auto_columns": null,
            "grid_auto_flow": null,
            "grid_auto_rows": null,
            "grid_column": null,
            "grid_gap": null,
            "grid_row": null,
            "grid_template_areas": null,
            "grid_template_columns": null,
            "grid_template_rows": null,
            "height": null,
            "justify_content": null,
            "justify_items": null,
            "left": null,
            "margin": null,
            "max_height": null,
            "max_width": null,
            "min_height": null,
            "min_width": null,
            "object_fit": null,
            "object_position": null,
            "order": null,
            "overflow": null,
            "overflow_x": null,
            "overflow_y": null,
            "padding": null,
            "right": null,
            "top": null,
            "visibility": null,
            "width": null
          }
        },
        "4a0b04007e204de287035d2e7fe67c95": {
          "model_module": "@jupyter-widgets/base",
          "model_module_version": "1.2.0",
          "model_name": "LayoutModel",
          "state": {
            "_model_module": "@jupyter-widgets/base",
            "_model_module_version": "1.2.0",
            "_model_name": "LayoutModel",
            "_view_count": null,
            "_view_module": "@jupyter-widgets/base",
            "_view_module_version": "1.2.0",
            "_view_name": "LayoutView",
            "align_content": null,
            "align_items": null,
            "align_self": null,
            "border": null,
            "bottom": null,
            "display": null,
            "flex": null,
            "flex_flow": null,
            "grid_area": null,
            "grid_auto_columns": null,
            "grid_auto_flow": null,
            "grid_auto_rows": null,
            "grid_column": null,
            "grid_gap": null,
            "grid_row": null,
            "grid_template_areas": null,
            "grid_template_columns": null,
            "grid_template_rows": null,
            "height": null,
            "justify_content": null,
            "justify_items": null,
            "left": null,
            "margin": null,
            "max_height": null,
            "max_width": null,
            "min_height": null,
            "min_width": null,
            "object_fit": null,
            "object_position": null,
            "order": null,
            "overflow": null,
            "overflow_x": null,
            "overflow_y": null,
            "padding": null,
            "right": null,
            "top": null,
            "visibility": null,
            "width": null
          }
        },
        "4eb63c62bdfc4a0187cb15fe735bf7a9": {
          "model_module": "@jupyter-widgets/controls",
          "model_module_version": "1.5.0",
          "model_name": "HTMLModel",
          "state": {
            "_dom_classes": [],
            "_model_module": "@jupyter-widgets/controls",
            "_model_module_version": "1.5.0",
            "_model_name": "HTMLModel",
            "_view_count": null,
            "_view_module": "@jupyter-widgets/controls",
            "_view_module_version": "1.5.0",
            "_view_name": "HTMLView",
            "description": "",
            "description_tooltip": null,
            "layout": "IPY_MODEL_d27361677e1643d3b9b7713f9e8033a7",
            "placeholder": "​",
            "style": "IPY_MODEL_0ac4ffa2eb644fc08b55b6c624aba10f",
            "value": "100%"
          }
        },
        "630ccf49bc7045afbb6fd75aa773cc9c": {
          "model_module": "@jupyter-widgets/controls",
          "model_module_version": "1.5.0",
          "model_name": "FloatProgressModel",
          "state": {
            "_dom_classes": [],
            "_model_module": "@jupyter-widgets/controls",
            "_model_module_version": "1.5.0",
            "_model_name": "FloatProgressModel",
            "_view_count": null,
            "_view_module": "@jupyter-widgets/controls",
            "_view_module_version": "1.5.0",
            "_view_name": "ProgressView",
            "bar_style": "success",
            "description": "",
            "description_tooltip": null,
            "layout": "IPY_MODEL_d4f9b65743064b0c80e573523aaafb19",
            "max": 50000,
            "min": 0,
            "orientation": "horizontal",
            "style": "IPY_MODEL_2c1b137e0a7f45dbaf3e0e2fb4c9f065",
            "value": 50000
          }
        },
        "634647540302493ba3ba760e7abe817c": {
          "model_module": "@jupyter-widgets/base",
          "model_module_version": "1.2.0",
          "model_name": "LayoutModel",
          "state": {
            "_model_module": "@jupyter-widgets/base",
            "_model_module_version": "1.2.0",
            "_model_name": "LayoutModel",
            "_view_count": null,
            "_view_module": "@jupyter-widgets/base",
            "_view_module_version": "1.2.0",
            "_view_name": "LayoutView",
            "align_content": null,
            "align_items": null,
            "align_self": null,
            "border": null,
            "bottom": null,
            "display": null,
            "flex": null,
            "flex_flow": null,
            "grid_area": null,
            "grid_auto_columns": null,
            "grid_auto_flow": null,
            "grid_auto_rows": null,
            "grid_column": null,
            "grid_gap": null,
            "grid_row": null,
            "grid_template_areas": null,
            "grid_template_columns": null,
            "grid_template_rows": null,
            "height": null,
            "justify_content": null,
            "justify_items": null,
            "left": null,
            "margin": null,
            "max_height": null,
            "max_width": null,
            "min_height": null,
            "min_width": null,
            "object_fit": null,
            "object_position": null,
            "order": null,
            "overflow": null,
            "overflow_x": null,
            "overflow_y": null,
            "padding": null,
            "right": null,
            "top": null,
            "visibility": null,
            "width": null
          }
        },
        "7f2a9c443f8941d0b18d6d7f42c76ede": {
          "model_module": "@jupyter-widgets/controls",
          "model_module_version": "1.5.0",
          "model_name": "ProgressStyleModel",
          "state": {
            "_model_module": "@jupyter-widgets/controls",
            "_model_module_version": "1.5.0",
            "_model_name": "ProgressStyleModel",
            "_view_count": null,
            "_view_module": "@jupyter-widgets/base",
            "_view_module_version": "1.2.0",
            "_view_name": "StyleView",
            "bar_color": null,
            "description_width": ""
          }
        },
        "89d601dd731e4538b524baa03b67dd34": {
          "model_module": "@jupyter-widgets/base",
          "model_module_version": "1.2.0",
          "model_name": "LayoutModel",
          "state": {
            "_model_module": "@jupyter-widgets/base",
            "_model_module_version": "1.2.0",
            "_model_name": "LayoutModel",
            "_view_count": null,
            "_view_module": "@jupyter-widgets/base",
            "_view_module_version": "1.2.0",
            "_view_name": "LayoutView",
            "align_content": null,
            "align_items": null,
            "align_self": null,
            "border": null,
            "bottom": null,
            "display": null,
            "flex": null,
            "flex_flow": null,
            "grid_area": null,
            "grid_auto_columns": null,
            "grid_auto_flow": null,
            "grid_auto_rows": null,
            "grid_column": null,
            "grid_gap": null,
            "grid_row": null,
            "grid_template_areas": null,
            "grid_template_columns": null,
            "grid_template_rows": null,
            "height": null,
            "justify_content": null,
            "justify_items": null,
            "left": null,
            "margin": null,
            "max_height": null,
            "max_width": null,
            "min_height": null,
            "min_width": null,
            "object_fit": null,
            "object_position": null,
            "order": null,
            "overflow": null,
            "overflow_x": null,
            "overflow_y": null,
            "padding": null,
            "right": null,
            "top": null,
            "visibility": null,
            "width": null
          }
        },
        "99784348358c41e599f210f16b9fc648": {
          "model_module": "@jupyter-widgets/controls",
          "model_module_version": "1.5.0",
          "model_name": "HTMLModel",
          "state": {
            "_dom_classes": [],
            "_model_module": "@jupyter-widgets/controls",
            "_model_module_version": "1.5.0",
            "_model_name": "HTMLModel",
            "_view_count": null,
            "_view_module": "@jupyter-widgets/controls",
            "_view_module_version": "1.5.0",
            "_view_name": "HTMLView",
            "description": "",
            "description_tooltip": null,
            "layout": "IPY_MODEL_486a4927595a48debdc1ece1951e85c0",
            "placeholder": "​",
            "style": "IPY_MODEL_be568628a84b4ad6a06c68de278d851e",
            "value": " 1000/1000 [00:02&lt;00:00, 742.43it/s]"
          }
        },
        "a5eaf9ef6e764f5793d6ee51885d5094": {
          "model_module": "@jupyter-widgets/controls",
          "model_module_version": "1.5.0",
          "model_name": "HBoxModel",
          "state": {
            "_dom_classes": [],
            "_model_module": "@jupyter-widgets/controls",
            "_model_module_version": "1.5.0",
            "_model_name": "HBoxModel",
            "_view_count": null,
            "_view_module": "@jupyter-widgets/controls",
            "_view_module_version": "1.5.0",
            "_view_name": "HBoxView",
            "box_style": "",
            "children": [
              "IPY_MODEL_4eb63c62bdfc4a0187cb15fe735bf7a9",
              "IPY_MODEL_630ccf49bc7045afbb6fd75aa773cc9c",
              "IPY_MODEL_47f0b35c36bb498fb47f98f7609e7187"
            ],
            "layout": "IPY_MODEL_c0183ca6bd2042f28e6460bb81ee56f3"
          }
        },
        "a76c5a69f9184c0bb0763101e7fcc0ae": {
          "model_module": "@jupyter-widgets/base",
          "model_module_version": "1.2.0",
          "model_name": "LayoutModel",
          "state": {
            "_model_module": "@jupyter-widgets/base",
            "_model_module_version": "1.2.0",
            "_model_name": "LayoutModel",
            "_view_count": null,
            "_view_module": "@jupyter-widgets/base",
            "_view_module_version": "1.2.0",
            "_view_name": "LayoutView",
            "align_content": null,
            "align_items": null,
            "align_self": null,
            "border": null,
            "bottom": null,
            "display": null,
            "flex": null,
            "flex_flow": null,
            "grid_area": null,
            "grid_auto_columns": null,
            "grid_auto_flow": null,
            "grid_auto_rows": null,
            "grid_column": null,
            "grid_gap": null,
            "grid_row": null,
            "grid_template_areas": null,
            "grid_template_columns": null,
            "grid_template_rows": null,
            "height": null,
            "justify_content": null,
            "justify_items": null,
            "left": null,
            "margin": null,
            "max_height": null,
            "max_width": null,
            "min_height": null,
            "min_width": null,
            "object_fit": null,
            "object_position": null,
            "order": null,
            "overflow": null,
            "overflow_x": null,
            "overflow_y": null,
            "padding": null,
            "right": null,
            "top": null,
            "visibility": null,
            "width": null
          }
        },
        "ab04550a80ec4914937d16903ea5cc73": {
          "model_module": "@jupyter-widgets/controls",
          "model_module_version": "1.5.0",
          "model_name": "DescriptionStyleModel",
          "state": {
            "_model_module": "@jupyter-widgets/controls",
            "_model_module_version": "1.5.0",
            "_model_name": "DescriptionStyleModel",
            "_view_count": null,
            "_view_module": "@jupyter-widgets/base",
            "_view_module_version": "1.2.0",
            "_view_name": "StyleView",
            "description_width": ""
          }
        },
        "ae0db86ec61e411a821fbf186123bb1c": {
          "model_module": "@jupyter-widgets/controls",
          "model_module_version": "1.5.0",
          "model_name": "HTMLModel",
          "state": {
            "_dom_classes": [],
            "_model_module": "@jupyter-widgets/controls",
            "_model_module_version": "1.5.0",
            "_model_name": "HTMLModel",
            "_view_count": null,
            "_view_module": "@jupyter-widgets/controls",
            "_view_module_version": "1.5.0",
            "_view_name": "HTMLView",
            "description": "",
            "description_tooltip": null,
            "layout": "IPY_MODEL_89d601dd731e4538b524baa03b67dd34",
            "placeholder": "​",
            "style": "IPY_MODEL_ab04550a80ec4914937d16903ea5cc73",
            "value": "100%"
          }
        },
        "ba7d003efb8b4ba791043bf0e0af7df1": {
          "model_module": "@jupyter-widgets/controls",
          "model_module_version": "1.5.0",
          "model_name": "FloatProgressModel",
          "state": {
            "_dom_classes": [],
            "_model_module": "@jupyter-widgets/controls",
            "_model_module_version": "1.5.0",
            "_model_name": "FloatProgressModel",
            "_view_count": null,
            "_view_module": "@jupyter-widgets/controls",
            "_view_module_version": "1.5.0",
            "_view_name": "ProgressView",
            "bar_style": "success",
            "description": "",
            "description_tooltip": null,
            "layout": "IPY_MODEL_126b68c9ed524c6d983398434fec7750",
            "max": 20000,
            "min": 0,
            "orientation": "horizontal",
            "style": "IPY_MODEL_de7fb2d7dd1b4edf8dc5df8711361ab1",
            "value": 20000
          }
        },
        "be568628a84b4ad6a06c68de278d851e": {
          "model_module": "@jupyter-widgets/controls",
          "model_module_version": "1.5.0",
          "model_name": "DescriptionStyleModel",
          "state": {
            "_model_module": "@jupyter-widgets/controls",
            "_model_module_version": "1.5.0",
            "_model_name": "DescriptionStyleModel",
            "_view_count": null,
            "_view_module": "@jupyter-widgets/base",
            "_view_module_version": "1.2.0",
            "_view_name": "StyleView",
            "description_width": ""
          }
        },
        "c00a5b8d82d54c30803e7f6a26ba0322": {
          "model_module": "@jupyter-widgets/controls",
          "model_module_version": "1.5.0",
          "model_name": "FloatProgressModel",
          "state": {
            "_dom_classes": [],
            "_model_module": "@jupyter-widgets/controls",
            "_model_module_version": "1.5.0",
            "_model_name": "FloatProgressModel",
            "_view_count": null,
            "_view_module": "@jupyter-widgets/controls",
            "_view_module_version": "1.5.0",
            "_view_name": "ProgressView",
            "bar_style": "success",
            "description": "",
            "description_tooltip": null,
            "layout": "IPY_MODEL_a76c5a69f9184c0bb0763101e7fcc0ae",
            "max": 1000,
            "min": 0,
            "orientation": "horizontal",
            "style": "IPY_MODEL_7f2a9c443f8941d0b18d6d7f42c76ede",
            "value": 1000
          }
        },
        "c0183ca6bd2042f28e6460bb81ee56f3": {
          "model_module": "@jupyter-widgets/base",
          "model_module_version": "1.2.0",
          "model_name": "LayoutModel",
          "state": {
            "_model_module": "@jupyter-widgets/base",
            "_model_module_version": "1.2.0",
            "_model_name": "LayoutModel",
            "_view_count": null,
            "_view_module": "@jupyter-widgets/base",
            "_view_module_version": "1.2.0",
            "_view_name": "LayoutView",
            "align_content": null,
            "align_items": null,
            "align_self": null,
            "border": null,
            "bottom": null,
            "display": null,
            "flex": null,
            "flex_flow": null,
            "grid_area": null,
            "grid_auto_columns": null,
            "grid_auto_flow": null,
            "grid_auto_rows": null,
            "grid_column": null,
            "grid_gap": null,
            "grid_row": null,
            "grid_template_areas": null,
            "grid_template_columns": null,
            "grid_template_rows": null,
            "height": null,
            "justify_content": null,
            "justify_items": null,
            "left": null,
            "margin": null,
            "max_height": null,
            "max_width": null,
            "min_height": null,
            "min_width": null,
            "object_fit": null,
            "object_position": null,
            "order": null,
            "overflow": null,
            "overflow_x": null,
            "overflow_y": null,
            "padding": null,
            "right": null,
            "top": null,
            "visibility": null,
            "width": null
          }
        },
        "c9533715f3b645a2aedff135a9bdc733": {
          "model_module": "@jupyter-widgets/controls",
          "model_module_version": "1.5.0",
          "model_name": "DescriptionStyleModel",
          "state": {
            "_model_module": "@jupyter-widgets/controls",
            "_model_module_version": "1.5.0",
            "_model_name": "DescriptionStyleModel",
            "_view_count": null,
            "_view_module": "@jupyter-widgets/base",
            "_view_module_version": "1.2.0",
            "_view_name": "StyleView",
            "description_width": ""
          }
        },
        "d27361677e1643d3b9b7713f9e8033a7": {
          "model_module": "@jupyter-widgets/base",
          "model_module_version": "1.2.0",
          "model_name": "LayoutModel",
          "state": {
            "_model_module": "@jupyter-widgets/base",
            "_model_module_version": "1.2.0",
            "_model_name": "LayoutModel",
            "_view_count": null,
            "_view_module": "@jupyter-widgets/base",
            "_view_module_version": "1.2.0",
            "_view_name": "LayoutView",
            "align_content": null,
            "align_items": null,
            "align_self": null,
            "border": null,
            "bottom": null,
            "display": null,
            "flex": null,
            "flex_flow": null,
            "grid_area": null,
            "grid_auto_columns": null,
            "grid_auto_flow": null,
            "grid_auto_rows": null,
            "grid_column": null,
            "grid_gap": null,
            "grid_row": null,
            "grid_template_areas": null,
            "grid_template_columns": null,
            "grid_template_rows": null,
            "height": null,
            "justify_content": null,
            "justify_items": null,
            "left": null,
            "margin": null,
            "max_height": null,
            "max_width": null,
            "min_height": null,
            "min_width": null,
            "object_fit": null,
            "object_position": null,
            "order": null,
            "overflow": null,
            "overflow_x": null,
            "overflow_y": null,
            "padding": null,
            "right": null,
            "top": null,
            "visibility": null,
            "width": null
          }
        },
        "d4f9b65743064b0c80e573523aaafb19": {
          "model_module": "@jupyter-widgets/base",
          "model_module_version": "1.2.0",
          "model_name": "LayoutModel",
          "state": {
            "_model_module": "@jupyter-widgets/base",
            "_model_module_version": "1.2.0",
            "_model_name": "LayoutModel",
            "_view_count": null,
            "_view_module": "@jupyter-widgets/base",
            "_view_module_version": "1.2.0",
            "_view_name": "LayoutView",
            "align_content": null,
            "align_items": null,
            "align_self": null,
            "border": null,
            "bottom": null,
            "display": null,
            "flex": null,
            "flex_flow": null,
            "grid_area": null,
            "grid_auto_columns": null,
            "grid_auto_flow": null,
            "grid_auto_rows": null,
            "grid_column": null,
            "grid_gap": null,
            "grid_row": null,
            "grid_template_areas": null,
            "grid_template_columns": null,
            "grid_template_rows": null,
            "height": null,
            "justify_content": null,
            "justify_items": null,
            "left": null,
            "margin": null,
            "max_height": null,
            "max_width": null,
            "min_height": null,
            "min_width": null,
            "object_fit": null,
            "object_position": null,
            "order": null,
            "overflow": null,
            "overflow_x": null,
            "overflow_y": null,
            "padding": null,
            "right": null,
            "top": null,
            "visibility": null,
            "width": null
          }
        },
        "d65d74349ea8401584fcfae30b785a1a": {
          "model_module": "@jupyter-widgets/controls",
          "model_module_version": "1.5.0",
          "model_name": "DescriptionStyleModel",
          "state": {
            "_model_module": "@jupyter-widgets/controls",
            "_model_module_version": "1.5.0",
            "_model_name": "DescriptionStyleModel",
            "_view_count": null,
            "_view_module": "@jupyter-widgets/base",
            "_view_module_version": "1.2.0",
            "_view_name": "StyleView",
            "description_width": ""
          }
        },
        "d7ccda985a374d65a64f7c3ad8dc8feb": {
          "model_module": "@jupyter-widgets/controls",
          "model_module_version": "1.5.0",
          "model_name": "HBoxModel",
          "state": {
            "_dom_classes": [],
            "_model_module": "@jupyter-widgets/controls",
            "_model_module_version": "1.5.0",
            "_model_name": "HBoxModel",
            "_view_count": null,
            "_view_module": "@jupyter-widgets/controls",
            "_view_module_version": "1.5.0",
            "_view_name": "HBoxView",
            "box_style": "",
            "children": [
              "IPY_MODEL_ae0db86ec61e411a821fbf186123bb1c",
              "IPY_MODEL_ba7d003efb8b4ba791043bf0e0af7df1",
              "IPY_MODEL_365e1e153fd2492eb2a159722dfd4192"
            ],
            "layout": "IPY_MODEL_634647540302493ba3ba760e7abe817c"
          }
        },
        "dcd218f9711b4e9890d75883d017e3e4": {
          "model_module": "@jupyter-widgets/controls",
          "model_module_version": "1.5.0",
          "model_name": "HBoxModel",
          "state": {
            "_dom_classes": [],
            "_model_module": "@jupyter-widgets/controls",
            "_model_module_version": "1.5.0",
            "_model_name": "HBoxModel",
            "_view_count": null,
            "_view_module": "@jupyter-widgets/controls",
            "_view_module_version": "1.5.0",
            "_view_name": "HBoxView",
            "box_style": "",
            "children": [
              "IPY_MODEL_102cecdfcc5d47ada76435d97ac573ed",
              "IPY_MODEL_c00a5b8d82d54c30803e7f6a26ba0322",
              "IPY_MODEL_99784348358c41e599f210f16b9fc648"
            ],
            "layout": "IPY_MODEL_108c385f845c4b09a8486aac1d0a4589"
          }
        },
        "de7fb2d7dd1b4edf8dc5df8711361ab1": {
          "model_module": "@jupyter-widgets/controls",
          "model_module_version": "1.5.0",
          "model_name": "ProgressStyleModel",
          "state": {
            "_model_module": "@jupyter-widgets/controls",
            "_model_module_version": "1.5.0",
            "_model_name": "ProgressStyleModel",
            "_view_count": null,
            "_view_module": "@jupyter-widgets/base",
            "_view_module_version": "1.2.0",
            "_view_name": "StyleView",
            "bar_color": null,
            "description_width": ""
          }
        },
        "fa684dfe7f9d4e78b2f966a02ac64911": {
          "model_module": "@jupyter-widgets/base",
          "model_module_version": "1.2.0",
          "model_name": "LayoutModel",
          "state": {
            "_model_module": "@jupyter-widgets/base",
            "_model_module_version": "1.2.0",
            "_model_name": "LayoutModel",
            "_view_count": null,
            "_view_module": "@jupyter-widgets/base",
            "_view_module_version": "1.2.0",
            "_view_name": "LayoutView",
            "align_content": null,
            "align_items": null,
            "align_self": null,
            "border": null,
            "bottom": null,
            "display": null,
            "flex": null,
            "flex_flow": null,
            "grid_area": null,
            "grid_auto_columns": null,
            "grid_auto_flow": null,
            "grid_auto_rows": null,
            "grid_column": null,
            "grid_gap": null,
            "grid_row": null,
            "grid_template_areas": null,
            "grid_template_columns": null,
            "grid_template_rows": null,
            "height": null,
            "justify_content": null,
            "justify_items": null,
            "left": null,
            "margin": null,
            "max_height": null,
            "max_width": null,
            "min_height": null,
            "min_width": null,
            "object_fit": null,
            "object_position": null,
            "order": null,
            "overflow": null,
            "overflow_x": null,
            "overflow_y": null,
            "padding": null,
            "right": null,
            "top": null,
            "visibility": null,
            "width": null
          }
        },
        "fd39de5b77054f8d8a2263f3519bc476": {
          "model_module": "@jupyter-widgets/base",
          "model_module_version": "1.2.0",
          "model_name": "LayoutModel",
          "state": {
            "_model_module": "@jupyter-widgets/base",
            "_model_module_version": "1.2.0",
            "_model_name": "LayoutModel",
            "_view_count": null,
            "_view_module": "@jupyter-widgets/base",
            "_view_module_version": "1.2.0",
            "_view_name": "LayoutView",
            "align_content": null,
            "align_items": null,
            "align_self": null,
            "border": null,
            "bottom": null,
            "display": null,
            "flex": null,
            "flex_flow": null,
            "grid_area": null,
            "grid_auto_columns": null,
            "grid_auto_flow": null,
            "grid_auto_rows": null,
            "grid_column": null,
            "grid_gap": null,
            "grid_row": null,
            "grid_template_areas": null,
            "grid_template_columns": null,
            "grid_template_rows": null,
            "height": null,
            "justify_content": null,
            "justify_items": null,
            "left": null,
            "margin": null,
            "max_height": null,
            "max_width": null,
            "min_height": null,
            "min_width": null,
            "object_fit": null,
            "object_position": null,
            "order": null,
            "overflow": null,
            "overflow_x": null,
            "overflow_y": null,
            "padding": null,
            "right": null,
            "top": null,
            "visibility": null,
            "width": null
          }
        }
      }
    }
  },
  "nbformat": 4,
  "nbformat_minor": 0
}