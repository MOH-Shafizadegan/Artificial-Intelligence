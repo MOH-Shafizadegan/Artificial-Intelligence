{
  "cells": [
    {
      "cell_type": "markdown",
      "metadata": {
        "id": "0MJtQYNJx6Ex"
      },
      "source": [
        "<div align=center>\n",
        "\t\t\n",
        "<font size=5>\n",
        "In the Name of God\n",
        "<font/>\n",
        "<p></p>\n",
        "<br/>\n",
        "<br/>\n",
        "<font color=#FF7500>\n",
        "Sharif University of Technology - Departmenet of Computer Engineering\n",
        "</font>\n",
        "<p></p>\n",
        "<font color=blue>\n",
        "Artifical Intelligence - Dr. Mahdieh Soleimani\n",
        "</font>\n",
        "<br/>\n",
        "<br/>\n",
        "Fall 2022\n",
        "\n",
        "<hr/>\n",
        "<font color=red>\n",
        "Reinforcment Learning Practical Assignment (50 + 10 points)\n",
        "</font>\n",
        "</div>\n",
        "\n",
        "<ul>\n",
        "  <li>Some cell's outputs have not been deleted. you can use these to make sure your implementation is correct.</li>\n",
        "</ul>"
      ]
    },
    {
      "cell_type": "markdown",
      "metadata": {
        "id": "rgA9_usLx6Ey"
      },
      "source": [
        "In this notebook you will use the [openai gym](https://www.gymlibrary.dev/) library to train agents in two different reinforcment learning environments. the first environment is a very simple grid-world with discrete states. The second environment however, has continous states.  \n",
        "make sure to upload your model performance video alongside this notebook. We suggest running this notebook on google colab so that you wont face any package errors."
      ]
    },
    {
      "cell_type": "markdown",
      "metadata": {
        "id": "4uzpGHXRx6Ey"
      },
      "source": [
        "we will first install the necessary packages."
      ]
    },
    {
      "cell_type": "code",
      "execution_count": null,
      "metadata": {
        "colab": {
          "base_uri": "https://localhost:8080/"
        },
        "id": "XO-JzYynx6Ez",
        "outputId": "5010a731-a607-486a-8e06-694f40393ba0"
      },
      "outputs": [
        {
          "output_type": "stream",
          "name": "stdout",
          "text": [
            "Looking in indexes: https://pypi.org/simple, https://us-python.pkg.dev/colab-wheels/public/simple/\n",
            "Requirement already satisfied: gym==0.26 in /usr/local/lib/python3.8/dist-packages (0.26.0)\n",
            "Requirement already satisfied: importlib-metadata>=4.8.0 in /usr/local/lib/python3.8/dist-packages (from gym==0.26) (4.13.0)\n",
            "Requirement already satisfied: gym-notices>=0.0.4 in /usr/local/lib/python3.8/dist-packages (from gym==0.26) (0.0.8)\n",
            "Requirement already satisfied: numpy>=1.18.0 in /usr/local/lib/python3.8/dist-packages (from gym==0.26) (1.21.6)\n",
            "Requirement already satisfied: cloudpickle>=1.2.0 in /usr/local/lib/python3.8/dist-packages (from gym==0.26) (1.5.0)\n",
            "Requirement already satisfied: zipp>=0.5 in /usr/local/lib/python3.8/dist-packages (from importlib-metadata>=4.8.0->gym==0.26) (3.11.0)\n",
            "Looking in indexes: https://pypi.org/simple, https://us-python.pkg.dev/colab-wheels/public/simple/\n",
            "Requirement already satisfied: imageio in /usr/local/lib/python3.8/dist-packages (2.9.0)\n",
            "Requirement already satisfied: imageio_ffmpeg in /usr/local/lib/python3.8/dist-packages (0.4.7)\n",
            "Requirement already satisfied: pillow in /usr/local/lib/python3.8/dist-packages (from imageio) (7.1.2)\n",
            "Requirement already satisfied: numpy in /usr/local/lib/python3.8/dist-packages (from imageio) (1.21.6)\n",
            "Looking in indexes: https://pypi.org/simple, https://us-python.pkg.dev/colab-wheels/public/simple/\n",
            "Requirement already satisfied: pygame in /usr/local/lib/python3.8/dist-packages (2.1.2)\n",
            "Looking in indexes: https://pypi.org/simple, https://us-python.pkg.dev/colab-wheels/public/simple/\n",
            "Requirement already satisfied: pyglet==1.5.1 in /usr/local/lib/python3.8/dist-packages (1.5.1)\n",
            "Reading package lists... Done\n",
            "Building dependency tree       \n",
            "Reading state information... Done\n",
            "python-opengl is already the newest version (3.1.0+dfsg-1).\n",
            "The following package was automatically installed and is no longer required:\n",
            "  libnvidia-common-460\n",
            "Use 'apt autoremove' to remove it.\n",
            "0 upgraded, 0 newly installed, 0 to remove and 22 not upgraded.\n",
            "Reading package lists... Done\n",
            "Building dependency tree       \n",
            "Reading state information... Done\n",
            "ffmpeg is already the newest version (7:3.4.11-0ubuntu0.1).\n",
            "The following package was automatically installed and is no longer required:\n",
            "  libnvidia-common-460\n",
            "Use 'apt autoremove' to remove it.\n",
            "0 upgraded, 0 newly installed, 0 to remove and 22 not upgraded.\n",
            "Reading package lists... Done\n",
            "Building dependency tree       \n",
            "Reading state information... Done\n",
            "The following package was automatically installed and is no longer required:\n",
            "  libnvidia-common-460\n",
            "Use 'apt autoremove' to remove it.\n",
            "The following additional packages will be installed:\n",
            "  xserver-common\n",
            "Recommended packages:\n",
            "  xfonts-base\n",
            "The following NEW packages will be installed:\n",
            "  xvfb\n",
            "The following packages will be upgraded:\n",
            "  xserver-common\n",
            "1 upgraded, 1 newly installed, 0 to remove and 21 not upgraded.\n",
            "Need to get 812 kB of archives.\n",
            "After this operation, 2,271 kB of additional disk space will be used.\n",
            "Get:1 http://archive.ubuntu.com/ubuntu bionic-updates/main amd64 xserver-common all 2:1.19.6-1ubuntu4.13 [27.3 kB]\n",
            "Get:2 http://archive.ubuntu.com/ubuntu bionic-updates/universe amd64 xvfb amd64 2:1.19.6-1ubuntu4.13 [785 kB]\n",
            "Fetched 812 kB in 0s (6,833 kB/s)\n",
            "(Reading database ... 126376 files and directories currently installed.)\n",
            "Preparing to unpack .../xserver-common_2%3a1.19.6-1ubuntu4.13_all.deb ...\n",
            "Unpacking xserver-common (2:1.19.6-1ubuntu4.13) over (2:1.19.6-1ubuntu4.12) ...\n",
            "Selecting previously unselected package xvfb.\n",
            "Preparing to unpack .../xvfb_2%3a1.19.6-1ubuntu4.13_amd64.deb ...\n",
            "Unpacking xvfb (2:1.19.6-1ubuntu4.13) ...\n",
            "Setting up xserver-common (2:1.19.6-1ubuntu4.13) ...\n",
            "Setting up xvfb (2:1.19.6-1ubuntu4.13) ...\n",
            "Processing triggers for man-db (2.8.3-2ubuntu0.1) ...\n",
            "Looking in indexes: https://pypi.org/simple, https://us-python.pkg.dev/colab-wheels/public/simple/\n",
            "Requirement already satisfied: pyvirtualdisplay in /usr/local/lib/python3.8/dist-packages (3.0)\n"
          ]
        }
      ],
      "source": [
        "!pip install gym==0.26\n",
        "!pip install imageio imageio_ffmpeg\n",
        "!pip install pygame\n",
        "!pip install pyglet==1.5.1 \n",
        "!apt install python-opengl\n",
        "!apt install ffmpeg\n",
        "!apt install xvfb\n",
        "!pip3 install pyvirtualdisplay"
      ]
    },
    {
      "cell_type": "code",
      "execution_count": null,
      "metadata": {
        "id": "_qngLbD4RnVx",
        "colab": {
          "base_uri": "https://localhost:8080/"
        },
        "outputId": "5e178088-4439-41ca-85a0-00f0015f75fd"
      },
      "outputs": [
        {
          "output_type": "stream",
          "name": "stdout",
          "text": [
            "Reading package lists... Done\n",
            "Building dependency tree       \n",
            "Reading state information... Done\n",
            "E: Unable to locate package Xvfb\n"
          ]
        }
      ],
      "source": [
        "!apt install Xvfb --fix-missing"
      ]
    },
    {
      "cell_type": "markdown",
      "metadata": {
        "id": "vjYtp6cyyXi-"
      },
      "source": [
        "the functions below will be used to make a video of the model performance. It will start the environment and choose the best action based on the given Qtable."
      ]
    },
    {
      "cell_type": "code",
      "execution_count": null,
      "metadata": {
        "id": "-uB9baAkykMs"
      },
      "outputs": [],
      "source": [
        "from IPython.display import HTML\n",
        "from base64 import b64encode\n",
        "import imageio\n",
        "\n",
        "## comment this part if your not using google colab\n",
        "from pyvirtualdisplay import Display\n",
        "virtual_display = Display(visible=0, size=(1400, 900))\n",
        "virtual_display.start()\n",
        "######################\n",
        "\n",
        "def record_video_frozen_lake_env(env, Qtable, out_directory, fps=1, random_action=False):\n",
        "  images = []  \n",
        "  done = False\n",
        "  state, info = env.reset(seed=random.randint(0,500))\n",
        "  img = env.render()\n",
        "  images.append(img)\n",
        "  while not done:\n",
        "    # Take the action (index) that have the maximum expected future reward given that state\n",
        "    action = np.random.randint(4)  if random_action else np.argmax(Qtable[state][:])\n",
        "    state, reward, done, truncated, info = env.step(action)\n",
        "    img = env.render()\n",
        "    images.append(img)\n",
        "  imageio.mimsave(out_directory, [np.array(img) for i, img in enumerate(images)], fps=fps)\n",
        "\n",
        "def show_video(video_path, video_width = 600):\n",
        "  video_file = open(video_path, \"r+b\").read()\n",
        "  video_url = f\"data:video/mp4;base64,{b64encode(video_file).decode()}\"\n",
        "  return HTML(f\"\"\"<video width={video_width} controls><source src=\"{video_url}\"></video>\"\"\")"
      ]
    },
    {
      "cell_type": "markdown",
      "metadata": {
        "id": "281QULrBtRtK"
      },
      "source": [
        "## Part I: FrozenLake Environment (35 + 10 Points)"
      ]
    },
    {
      "cell_type": "code",
      "execution_count": null,
      "metadata": {
        "id": "k2zC-9XIoYEL"
      },
      "outputs": [],
      "source": [
        "import numpy as np\n",
        "import gym\n",
        "import random\n",
        "from tqdm.notebook import tqdm"
      ]
    },
    {
      "cell_type": "markdown",
      "metadata": {
        "id": "clVAINP0xO17"
      },
      "source": [
        "In this exercise, we want to solve the FrozenLake environment. It is a simple grid-world environment where we have to reach a goal state while avoiding holes.  \n",
        "You can read more about this environment [here](https://www.gymlibrary.dev/environments/toy_text/frozen_lake/)"
      ]
    },
    {
      "cell_type": "markdown",
      "metadata": {
        "id": "YpWqhWmdy0rp"
      },
      "source": [
        "**[Question 1 (1 Points)]**  \n",
        "Create a <u>slippery</u> FrozenLake environment of size <u>4x4</u>"
      ]
    },
    {
      "cell_type": "code",
      "execution_count": null,
      "metadata": {
        "id": "VcYInB5gzszF"
      },
      "outputs": [],
      "source": [
        "env = gym.make(\"FrozenLake-v1\", map_name=\"4x4\", is_slippery=True, render_mode='rgb_array')"
      ]
    },
    {
      "cell_type": "markdown",
      "metadata": {
        "id": "EfnH3pYryxwf"
      },
      "source": [
        "Let's run a random policy in this environement to get a better understanding of it."
      ]
    },
    {
      "cell_type": "code",
      "execution_count": null,
      "metadata": {
        "colab": {
          "base_uri": "https://localhost:8080/",
          "height": 621
        },
        "id": "dzYhV3GSyxGq",
        "outputId": "7eed9e53-dcc4-46b2-d540-6a3a5a662d09"
      },
      "outputs": [
        {
          "output_type": "execute_result",
          "data": {
            "text/plain": [
              "<IPython.core.display.HTML object>"
            ],
            "text/html": [
              "<video width=600 controls><source src=\"data:video/mp4;base64,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\"></video>"
            ]
          },
          "metadata": {},
          "execution_count": 11
        }
      ],
      "source": [
        "record_video_frozen_lake_env(env, None, 'frozenlake_random.mp4', fps=1, random_action=True)\n",
        "show_video('frozenlake_random.mp4', video_width = 600)"
      ]
    },
    {
      "cell_type": "markdown",
      "metadata": {
        "id": "wze5Ukspx1G0"
      },
      "source": [
        "**[Question 2 (1 Points)]**  \n",
        "Briefly describe the state space, action space, and reward function of this environment.\n",
        "\n",
        "**Answer:**  \n",
        "در اینجا فضایی که میتوانیم در آن حرکت کنیم یک صفحه گرید 4 در 4 است که در بخش نام نقشه، آن را مشخص کردیم.\n",
        "\n",
        "یک استیت شروع دارد که همان مربع سمت چپ و بالا است. یک استیت هدف دارد که مربع سمت راست و پایین است.\n",
        "در صورتی که در چاله ها بیفتیم نیز بازی تمام میشود. در واقع چاله ها و خانه جایزه، همگی استیت نهایی هستند و پس از رفتن به آنها اکشن دیگری نمیتوان انجام داد.\n",
        "\n",
        "فضای کارها یا همان اکشن ها هم چهار جهت بالا - پایین - راست - چپ است.\n",
        "البته طبعا در صورتی که در خانه های کناری نباشیم که این 4 حرکت میتواند به 3 یا 2 حرکت کاهش یابد.\n",
        "\n",
        "همچنین اینجا فضا غیرقطعی یا همان استوکستیک است.\n",
        "چرا که زمین یخی است و اگر تصمیم به حرکت در جهتی بگیریم، لزوما در همان جهت حرکت نکرده و به استیت دلخواه نمیرسیم.\n",
        "\n",
        "تابع پاداش هم همانطور که در داکیومنت به ان اشاره شده به صورت زیر است:\n",
        "\n",
        "Reach goal(G): +1\n",
        "\n",
        "Reach hole(H): 0\n",
        "\n",
        "Reach frozen(F): 0\n",
        "\n",
        "در صورتی که به خانه پایین سمت راست برسیم 1 امتیاز میگیریم و در صورتی که به خانه یخی رفته یا در گودال بیفتیم جایزه ای نمیگیریم.\n",
        "\n",
        "فضا گسسته است، فضای قابل مشاهده 16 استیت گسسته دارد و فضای حرکات هم 4 اکشن است."
      ]
    },
    {
      "cell_type": "markdown",
      "metadata": {
        "id": "JmelLdEG0Pjr"
      },
      "source": [
        "**[Question 3 (2 Points)]**  \n",
        "Complete the code for `initialize_q_table` function. It should create a Q-table of size (state_space, action_space) and initializes it. You are free to use whichever initialization you want (a good starting point is to initialize it with all zeros)"
      ]
    },
    {
      "cell_type": "code",
      "execution_count": null,
      "metadata": {
        "id": "_BKgfgqI0XWW"
      },
      "outputs": [],
      "source": [
        "def initialize_q_table(state_space, action_space):\n",
        "  Qtable = np.array([[0.0] * (action_space) for i in range(state_space)])\n",
        "  return Qtable"
      ]
    },
    {
      "cell_type": "code",
      "execution_count": null,
      "metadata": {
        "id": "lWeutJTb0qUX",
        "colab": {
          "base_uri": "https://localhost:8080/"
        },
        "outputId": "8983faa3-2a61-4407-d62f-3aa63b2bb7d1"
      },
      "outputs": [
        {
          "output_type": "stream",
          "name": "stdout",
          "text": [
            "[[0. 0. 0. 0.]\n",
            " [0. 0. 0. 0.]\n",
            " [0. 0. 0. 0.]\n",
            " [0. 0. 0. 0.]\n",
            " [0. 0. 0. 0.]\n",
            " [0. 0. 0. 0.]\n",
            " [0. 0. 0. 0.]\n",
            " [0. 0. 0. 0.]\n",
            " [0. 0. 0. 0.]\n",
            " [0. 0. 0. 0.]\n",
            " [0. 0. 0. 0.]\n",
            " [0. 0. 0. 0.]\n",
            " [0. 0. 0. 0.]\n",
            " [0. 0. 0. 0.]\n",
            " [0. 0. 0. 0.]\n",
            " [0. 0. 0. 0.]]\n"
          ]
        }
      ],
      "source": [
        "Qtable = initialize_q_table(16, 4) # creates a Q-table of size 16 * 4 s.t. \n",
        "                            # rows show the states and columns show the actions\n",
        "print(Qtable)"
      ]
    },
    {
      "cell_type": "markdown",
      "metadata": {
        "id": "9NHYE1Q2rMSU"
      },
      "source": [
        "**[Question 4 (2 Points)]**  \n",
        "Complete the code for `epsilon_greedy_policy` function. It should select the best action according to the current Q-function with probability $1-\\varepsilon$ and select a random action with probability $\\varepsilon$."
      ]
    },
    {
      "cell_type": "code",
      "execution_count": null,
      "metadata": {
        "id": "YbOjqoTRrAqw"
      },
      "outputs": [],
      "source": [
        "def epsilon_greedy_policy(Qtable, state, epsilon):\n",
        "  random_action = np.random.choice([True, False], 1, p=[1 - epsilon, epsilon])\n",
        "  if random_action:\n",
        "    # based on Q-table\n",
        "    action = np.argmax(Qtable[state][:])\n",
        "  else:\n",
        "    # act randomly\n",
        "    action = np.random.randint(4)\n",
        "  return action"
      ]
    },
    {
      "cell_type": "markdown",
      "metadata": {
        "id": "Cgdt3n_ftE9E"
      },
      "source": [
        "**[Question 5 (4 Points)]**  \n",
        "You need to choose appropriate hyperparameters for the agent to learn.\n",
        "\n",
        "In particular, you must find a suitable learning rate and exploration parameters. To facilitate exploration, a common practice is to start with a high exploration rate ($\\varepsilon$) and gradually decrease it as the agent gets better. To implement this, you need to specify the starting exploration rate (`max_epsilon`), the final exploration rate (`min_epsilon`) and a decay rate which reduces the exploration rate after each update (see the `train` function below)."
      ]
    },
    {
      "cell_type": "code",
      "execution_count": null,
      "metadata": {
        "id": "SrbwYgKZtFWc"
      },
      "outputs": [],
      "source": [
        "# Training parameters\n",
        "n_training_episodes = 50_000  # Total training episodes\n",
        "n_eval_episodes = 10_000\n",
        "learning_rate = 0.1 ##          # Learning rate\n",
        "# Environment parameters\n",
        "max_steps = 99               # Max steps per episode\n",
        "gamma = 0.95              # Discounting rate\n",
        "# Exploration parameters\n",
        "max_epsilon = 1.0    ##       # Exploration probability at start\n",
        "min_epsilon = 0.05    ##        # Minimum exploration probability \n",
        "decay_rate = 2e-3     ##  # Exponential decay rate for exploration prob"
      ]
    },
    {
      "cell_type": "markdown",
      "metadata": {
        "id": "y2hySBMAvmPk"
      },
      "source": [
        "**[Question 6 (10 Points)]**  \n",
        "Complete the `train` function which updates `Qtable` using the Q-learning update rule."
      ]
    },
    {
      "cell_type": "code",
      "execution_count": null,
      "metadata": {
        "id": "FCqTlP-7vnxs"
      },
      "outputs": [],
      "source": [
        "def train(n_training_episodes, min_epsilon, max_epsilon, decay_rate, env, max_steps, Qtable):\n",
        "  for episode in tqdm(range(n_training_episodes)):\n",
        "    # Adjust epsilon\n",
        "    epsilon = min_epsilon + (max_epsilon - min_epsilon)*np.exp(-decay_rate*episode)\n",
        "    # Reset the environment\n",
        "    state, info = env.reset()\n",
        "    step = 0\n",
        "    done = False\n",
        "\n",
        "    # repeat\n",
        "    for step in range(max_steps):\n",
        "      next_action = epsilon_greedy_policy(Qtable, state, epsilon)\n",
        "      next_state, reward, done, truncated, prob = env.step(next_action)\n",
        "      Qtable[state][next_action] += learning_rate * ((reward + gamma * max(Qtable[next_state][:])) -  Qtable[state][next_action])\n",
        "      if done or truncated:\n",
        "        break\n",
        "      # if episode in [100, 1000, 3000, 4000]:\n",
        "      #   print(Qtable)\n",
        "      # state = next_state\n",
        "      \n",
        "      # if truncated:\n",
        "      #   break\n",
        "      # if terminated and reward == 1:\n",
        "      #   break\n",
        "      # if terminated:\n",
        "      #   continue\n",
        "      state =next_state\n",
        "      # print(Qtable)\n",
        "      # if next_state == 15:\n",
        "      #   break\n",
        "\n",
        "      # You must:\n",
        "      # Take action A_t and observe R_{t+1}, S_{t+1}\n",
        "      # Update the Qtable with (S_t, A_t, R_{t+1}, S_{t+1})\n",
        "      # Be careful about episode termination and truncation\n",
        "\n",
        "\n",
        "  return Qtable"
      ]
    },
    {
      "cell_type": "markdown",
      "metadata": {
        "id": "_sFV4Kn6zO8G"
      },
      "source": [
        "We are now ready to train our agent."
      ]
    },
    {
      "cell_type": "code",
      "execution_count": null,
      "metadata": {
        "colab": {
          "base_uri": "https://localhost:8080/",
          "height": 49,
          "referenced_widgets": [
            "748fc8535f5f49af87a468cd9379e8fa",
            "f86227409ad5466cb0226ba3f12c70c4",
            "7900378156ec4a399df6ee9ed3e2de62",
            "39b9dc9043a14d74bce828613bf87fc8",
            "ecc7ba156a2e4505b678a08a95ce7fa4",
            "381274a5317f4d5a9d86fc3bada327e0",
            "7853d32026d24a62be24d47d4251e834",
            "fa45b4c8c7ae40a9892cdd27ea2ed067",
            "5cfff1536a5c4693b4868db414ee0ddf",
            "d91c8b2dd63f476eb1977cfb530ce895",
            "ba9557772a844d1e8091eecffaf28293"
          ]
        },
        "id": "jduZzTMvzLBx",
        "outputId": "b74c9dcc-ea0f-4ac6-b69b-46aaefe25e79"
      },
      "outputs": [
        {
          "output_type": "display_data",
          "data": {
            "text/plain": [
              "  0%|          | 0/50000 [00:00<?, ?it/s]"
            ],
            "application/vnd.jupyter.widget-view+json": {
              "version_major": 2,
              "version_minor": 0,
              "model_id": "748fc8535f5f49af87a468cd9379e8fa"
            }
          },
          "metadata": {}
        }
      ],
      "source": [
        "Qtable_trained = train(n_training_episodes, min_epsilon, max_epsilon, decay_rate, env, max_steps, Qtable)"
      ]
    },
    {
      "cell_type": "markdown",
      "metadata": {
        "id": "OUlpdnRx75g9"
      },
      "source": [
        "Now, we will evaluate our agent. You don't need to write any code, just run the following cells as they are."
      ]
    },
    {
      "cell_type": "code",
      "execution_count": null,
      "metadata": {
        "id": "BbQRzYEb8C3u"
      },
      "outputs": [],
      "source": [
        "def evaluate_agent(env, max_steps, n_eval_episodes, Q):\n",
        "  \"\"\"\n",
        "  Evaluate the agent for ``n_eval_episodes`` episodes and returns average reward and std of reward.\n",
        "  :param env: The evaluation environment\n",
        "  :param n_eval_episodes: Number of episode to evaluate the agent\n",
        "  :param Q: The Q-table\n",
        "  \"\"\"\n",
        "  episode_rewards = []\n",
        "  for episode in tqdm(range(n_eval_episodes)):\n",
        "    state, info = env.reset()\n",
        "    step = 0\n",
        "    terminated = False\n",
        "    total_rewards_ep = 0\n",
        "    \n",
        "    for step in range(max_steps):\n",
        "      action = np.argmax(Q[state][:])\n",
        "      new_state, reward, terminated, truncated, info = env.step(action)\n",
        "      total_rewards_ep += reward\n",
        "        \n",
        "      if terminated:\n",
        "        break\n",
        "      state = new_state\n",
        "    episode_rewards.append(total_rewards_ep)\n",
        "  mean_reward = np.mean(episode_rewards)\n",
        "  std_reward = np.std(episode_rewards)\n",
        "\n",
        "  return mean_reward, std_reward"
      ]
    },
    {
      "cell_type": "code",
      "execution_count": null,
      "metadata": {
        "colab": {
          "base_uri": "https://localhost:8080/",
          "height": 67,
          "referenced_widgets": [
            "69f88260d8e04290bbbbb6bc56ce5386",
            "436966bdb1e74a00b147a675c568ce2e",
            "72460e4430934f879d6e143ac62985b5",
            "a22eb9500d4e4eafb316f0cd53adf68d",
            "1d0a689f23ed413caaa4ba5d377b0c6f",
            "d37406b6b2104a4bae202e2db6d26794",
            "e4405999266043fda0699a61333ebea5",
            "93f9e982729d42d9b41ae7a845b6c2dc",
            "7a256b7f9bf1454bbff26f0f7d09e1ef",
            "c4424f22f07b4f32b1fe9bdc7af2bb6e",
            "d8a3a2f33dcc4d958b611fa1d967bde1"
          ]
        },
        "id": "61-viEdx8vbC",
        "outputId": "85062f53-2b42-48c1-fa86-396ccc300af5"
      },
      "outputs": [
        {
          "output_type": "display_data",
          "data": {
            "text/plain": [
              "  0%|          | 0/10000 [00:00<?, ?it/s]"
            ],
            "application/vnd.jupyter.widget-view+json": {
              "version_major": 2,
              "version_minor": 0,
              "model_id": "69f88260d8e04290bbbbb6bc56ce5386"
            }
          },
          "metadata": {}
        },
        {
          "output_type": "stream",
          "name": "stdout",
          "text": [
            "Mean_reward=0.73 +/- 0.44\n"
          ]
        }
      ],
      "source": [
        "mean_reward, std_reward = evaluate_agent(env, max_steps, n_eval_episodes, Qtable_trained)\n",
        "print(f\"Mean_reward={mean_reward:.2f} +/- {std_reward:.2f}\") # should be around 0.65"
      ]
    },
    {
      "cell_type": "markdown",
      "metadata": {
        "id": "8Oj-u9bi7Vct"
      },
      "source": [
        "Now let's see how well our model is doing."
      ]
    },
    {
      "cell_type": "code",
      "execution_count": null,
      "metadata": {
        "colab": {
          "base_uri": "https://localhost:8080/",
          "height": 621
        },
        "id": "NqP2b15M7U6Y",
        "outputId": "e83cb81e-fbb1-4fba-e3e7-bafec727f23b"
      },
      "outputs": [
        {
          "output_type": "execute_result",
          "data": {
            "text/plain": [
              "<IPython.core.display.HTML object>"
            ],
            "text/html": [
              "<video width=600 controls><source src=\"data:video/mp4;base64,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\"></video>"
            ]
          },
          "metadata": {},
          "execution_count": 58
        }
      ],
      "source": [
        "record_video_frozen_lake_env(env, Qtable_trained, 'frozenlake_trained.mp4', fps=1)\n",
        "show_video('frozenlake_trained.mp4', video_width = 600)"
      ]
    },
    {
      "cell_type": "markdown",
      "metadata": {
        "id": "nWvKPz_0zlhR"
      },
      "source": [
        "Next, we will take a look at the Q-function that was learned."
      ]
    },
    {
      "cell_type": "code",
      "execution_count": null,
      "metadata": {
        "colab": {
          "base_uri": "https://localhost:8080/"
        },
        "id": "X8yC8f4Mzc-h",
        "outputId": "3b1e1128-1cd7-41bb-ebcc-702eea3dc1f9"
      },
      "outputs": [
        {
          "output_type": "stream",
          "name": "stdout",
          "text": [
            "[[0.20269507 0.18582763 0.18530024 0.17879222]\n",
            " [0.098043   0.10043817 0.10290614 0.16684431]\n",
            " [0.1216646  0.16366317 0.1199958  0.11811473]\n",
            " [0.07375519 0.07015653 0.07974444 0.12185037]\n",
            " [0.22435887 0.18235852 0.1698705  0.16502996]\n",
            " [0.         0.         0.         0.        ]\n",
            " [0.24479964 0.09567415 0.09345489 0.05772987]\n",
            " [0.         0.         0.         0.        ]\n",
            " [0.16389729 0.21171557 0.10605217 0.27904754]\n",
            " [0.17478359 0.3495127  0.25177763 0.2844629 ]\n",
            " [0.41293038 0.32733532 0.26405318 0.15468624]\n",
            " [0.         0.         0.         0.        ]\n",
            " [0.         0.         0.         0.        ]\n",
            " [0.35451062 0.39604231 0.47698317 0.37195987]\n",
            " [0.54646497 0.75176887 0.55330316 0.54013237]\n",
            " [0.         0.         0.         0.        ]]\n"
          ]
        }
      ],
      "source": [
        "print(Qtable_trained)"
      ]
    },
    {
      "cell_type": "markdown",
      "metadata": {
        "id": "W_uLOGVo0mCv"
      },
      "source": [
        "**[Question 7 (5 Points)]**  \n",
        "Assume that `Qtable_trained` is the correct Q-function for the final epsilon-greedy policy that was used in training. What is the value function that corresponds to this policy? Write down the relation between $V_\\pi$ and $Q_\\pi$ and use it to complete the following code block."
      ]
    },
    {
      "cell_type": "markdown",
      "metadata": {
        "id": "QV1yNSlX4Xhn"
      },
      "source": [
        "**Answer:**\n",
        "\n",
        "$V_π(s) = max_{a ∈ A}(Q_π(s, a))$"
      ]
    },
    {
      "cell_type": "code",
      "execution_count": null,
      "metadata": {
        "id": "tgvG3JPb4q4o"
      },
      "outputs": [],
      "source": [
        "# Vtable_trained = np.array([[0.0] * (4) for i in range(4)])\n",
        "# for state in range(16):\n",
        "#   a = 0.0\n",
        "#   for action in range(4):\n",
        "#     a += np.argmax(Qtable_trained[state][:]) * Qtable_trained[state][action]\n",
        "#   Vtable_trained[state // 4][state % 4] = a\n",
        "Vtable_trained = np.amax(Qtable_trained, axis = 1).reshape(4, 4)"
      ]
    },
    {
      "cell_type": "markdown",
      "metadata": {
        "id": "hrBSciQw4wBD"
      },
      "source": [
        "Take a look at the value function"
      ]
    },
    {
      "cell_type": "code",
      "execution_count": null,
      "metadata": {
        "id": "ZZ7aWMbOpAwZ",
        "colab": {
          "base_uri": "https://localhost:8080/"
        },
        "outputId": "67890e73-6b16-4cb4-8c49-7d443eaa1919"
      },
      "outputs": [
        {
          "output_type": "stream",
          "name": "stdout",
          "text": [
            "[[0.20269507 0.16684431 0.16366317 0.12185037]\n",
            " [0.22435887 0.         0.24479964 0.        ]\n",
            " [0.27904754 0.3495127  0.41293038 0.        ]\n",
            " [0.         0.47698317 0.75176887 0.        ]]\n"
          ]
        }
      ],
      "source": [
        "print(Vtable_trained)"
      ]
    },
    {
      "cell_type": "markdown",
      "metadata": {
        "id": "JI8bzC7azyAq"
      },
      "source": [
        "**[Question 8 (5 Points)]**  \n",
        "Write a function to generate a visualization for the value function using a heatmap. In a few words, explain what you see."
      ]
    },
    {
      "cell_type": "code",
      "execution_count": null,
      "metadata": {
        "id": "LUnArCcV0VMp"
      },
      "outputs": [],
      "source": [
        "def visualize(Vtable):\n",
        "  import seaborn as sns\n",
        "  import pandas as pd\n",
        "  import numpy as np\n",
        "  df = pd.DataFrame(Vtable_trained)\n",
        "  p1 = sns.heatmap(df)"
      ]
    },
    {
      "cell_type": "code",
      "execution_count": null,
      "metadata": {
        "id": "N51kKbFFpGFh",
        "colab": {
          "base_uri": "https://localhost:8080/",
          "height": 265
        },
        "outputId": "90ea0de2-7f57-4db4-dd95-7ee5e4f76963"
      },
      "outputs": [
        {
          "output_type": "display_data",
          "data": {
            "text/plain": [
              "<Figure size 432x288 with 2 Axes>"
            ],
            "image/png": "[encoded data removed]"
          },
          "metadata": {
            "needs_background": "light"
          }
        }
      ],
      "source": [
        "visualize(Vtable_trained)"
      ]
    },
    {
      "cell_type": "markdown",
      "metadata": {
        "id": "HyNca-10ruQm"
      },
      "source": [
        "**[Question 9 (5 Points)]**  \n",
        "Can we use a pure greedy policy for Q-learning? Explain.\n"
      ]
    },
    {
      "cell_type": "markdown",
      "metadata": {
        "id": "JqX18Ic-siGm"
      },
      "source": [
        "**Answer:**\n",
        "در ابتدا پاسخ به این سوال را به دو بخش تقسیم میکنیم.\n",
        "اگر منظور سوال این است که بالاخره به جواب میرسیم پاسخ بله است.\n",
        "چون روش از نوع سیاست خاموش است که یعنی در رندوم ترین حالت هم حرکت کنیم بالاخره به جواب میرسیم.\n",
        "\n",
        "اما اگر منظور سوال این است که آیا از لحاظ زمان و بهینگی مناسب است قطعا خیر.\n",
        "چراکه بهتر است کمه از سیاستی که به دست آمده نیز استفاده کرده و در برخی جاها برای تصمیم گیری کلی از آن استفاده کنیم نه اینکه کاملا رندوم حرکت کنیم.\n",
        "\n",
        "همچنین در این سوال خاص که اصلا مناسب نیست چراکه پاداش ها از نوع تنک هستند و اگر کاملا رندوم حرکت کنیم بسیار دیر سیاست بهینه را متوجه میشویم.\n",
        "\n",
        ".  نیاز داریم به طور رندوم جاهای دیگر را نیز بررسی کنیم.\n",
        "چراکه ممکن است یک چیز خوبی ببینیم اما اگر جاهای دیگر را بررسی کنیم، اطلاعات جدیدی به دست آورده و جاهای بهتری را پیدا کنیم.\n",
        "برای همین همواره باید با یک احتمال کمی به جای دیگری نیز برویم.\n",
        "البته این اتفاق در ابتدا میتواند بیشتر باشد و هر چه اطلاعاتمان بیشتر شده و ایجنت پخته تر میشود، این رفتن به جاهای جدید کمتر شود."
      ]
    },
    {
      "cell_type": "markdown",
      "metadata": {
        "id": "EVUwDSzC_YP8"
      },
      "source": [
        "**[Bonus Question (10 Points)]**  \n",
        "Think about the role of the discount factor in this environment and experiment.  \n",
        "1. Explain why it is not the best idea to set $\\gamma = 1$ for a navigation task. You might find it easier to reason about a deterministic (i.e., non-slippery) environment. (5 Points)\n",
        "2. If we had used $\\gamma = 1$, the value of states could be interpreted in a meaningful way. Think about what $V^*(s)$ would be if we had set $\\gamma = 1$ and trained until we got the optimal value function. (5 Points)"
      ]
    },
    {
      "cell_type": "markdown",
      "metadata": {
        "id": "GttKYjfu_cvg"
      },
      "source": [
        "**Answer:**\n",
        "\n",
        "1.\n",
        "\n",
        "این مهم است چون هر چه زودتر به مقصد برسیم بهتر است.\n",
        "در مسائل مسیریابی ما عجله داریم تا زود به جواب و مقصد برسیم پس باید گاما را کم کنیم تا جوایز دیرتر کم ارزش تر شوند.\n",
        "\n",
        "اما اگر گاما را زیاد کنیم، در حال ارزش بخشیدن به جوایز دیرتر هستیم.\n",
        "در صورتی که این نادرست است چون ممکن است کارهای بیهوده ای نیز ایجنت در مسیر خود انجام دهد اما چون گاما زیاد است آن را در نظر نمیگیرد.\n",
        "\n",
        "همچنین ممکن است به لوپ بینهایت نیز بخوریم.\n",
        "من در همین کد این را آزمایش کردم و گاما را برابر با 1 گذاشتم و آموزش داده و فیلم را اجرا کردم اما رم سیستم اورفلو کرد و احتمالا به لوپ بی نهایت برخورد کرده است.\n",
        "\n",
        "2.\n",
        "\n",
        "برای بررسی شهودی و دقیقتر، همین کار را بر روی کد تست کردم.\n",
        "یعنی گاما را در بخش پارامترها برابر با 1 گذاشتم.\n",
        "سپس خروجی را برای \n",
        "\n",
        "Vtable_trained\n",
        "\n",
        "مشاهده کردم.\n",
        "\n",
        "![Capture3.PNG](data:image/png;base64,iVBORw0KGgoAAAANSUhEUgAAAb0AAAE2CAYAAAD1WUxfAAAAAXNSR0IArs4c6QAAAARnQU1BAACxjwv8YQUAAAAJcEhZcwAAEnQAABJ0Ad5mH3gAADc6SURBVHhe7d0HdFV1uvfxd633vWXee6c4zsWCFKU4thlHx4IivddBem/Su/QiUqVL70UEAaVI79KbtNDB0JIAIZSQQPpJAs+7n787CHtCsv/x+c/aZ7+/31rfdYfksMeJ3HzY++xz8r/ef/99ejQMwzAM88ucxgE9DMMwzLdzGgf0MAzDMN/OaRzQwzAMw3w7p3FAD8MwDPPtnMYBPQzDMMy3cxoH9DAMwzDfzmmcN9B7cJ/SY69TWvQVhBBCGt1PiLG/kQrufjrdT4yl9MQYre4HEuwDeGdO47yBnvUFDoQdpZTz+xBCCGmUdvOi/Y1Ubg/SA5QafZlSb1/SKj3upn0E78xpHNBDCKEgzhh6t4GeuQE9hBDKUUbQS7PQu3WBUm+e1yr9XpR9BO/MaRzQQwihIM4MeimUeuMnSo06p1V6bKR9BO/MaRzQQwihIM4YetfPUiDyjFZpMdfsI3hnTuOAHkIIBXGm0FOQXTulVVrMVfsI3pnTOKCHEEJBnBH0UpN/huzqSa3S7lyxj+CdOY0DegghFMQZQ48hu3Jcq7ToCPsI3pnTOKCHEEJBnDH0rhyjQESIVmm3w+wjeGdO44AeQggFcWbQS6JAuAVZ2BGt0m5fto/gnTmNA3oIIRTEGUEvYKEXdpgClw9plXZL/p/l185pHNBDCKEgzhR6KZcOUsrFA1ql3rhgH8E7cxoH9BBCKIgzg14ipVywIMvkvy+rUqPO20fwzpzGAT2EEArijKHHxw/dq1Vq1E/2Ebwzp3FADyGEgjgj6KVY6IXuoZSfdmmVev2cfQTvzGkc0EMIoSDODHoJP0N2bodWqZFn7SN4Z07jgB5CCAVxxtA7t5NSzm7XKvXaGfsI3pnTOKCHEEJBnBn04inlzDZKObVFq9Srp+wjeGdO44AeQggFcUbQS7bQO7WVUk5u1ir1ygn7CN6Z0zighxBCQZwx9CzEko9v0Co14rh9BO/MaRzQQwihIM4MenGUfGKjBdk6rVLDj9lH8M6cxgE9hBAK4oyhd3w9JR9bq1VqeIh9BO/MaRzQQwihIM4Yesess7ejq7VKtb6Pe21O44AeQggFcUbQS7LQC1lDyUdWaZV6+Yh9BO/MaRzQQwihIM4MevcsxFZS8qHlWqVeOmQfwTtzGgf0EEIoiDOGHkP243dapV48YB/BO3MaB/QQQiiIM4PeXUo+uIySD3yrVeqF/fYRvDOncUAPIYSCOCPoJVro8dnb/sVapVr/PF6b0zighxBCQZwx9PYvoeR9i7RKDd1rH8E7cxoH9BBCKIgzht4+6+xtz0KtUn/aYx/BO3MaB/QQQiiIM4Ne7M+Q7ZqvVeq53fYRvDOncUAPIYSCOBPo3U+IpSQLsaQdc7UKnNlhH8E7cxoH9BBCKIgzg14MJe2cR0nbZ2sVOLPdPoJ35jQuR+jdv3+frl+/Ttu2baOFCxfSzJkzadasWbR06VI6ceIE3b17136kywE9hBDKUcbQ47O3bbO0CpzeZh8h68XExNCOHTuoc+fO1Lp1axo9ejQdOPDPr/FLSUmhixcv0tChQ6lbt27UqVMn9Vh2Ji0tzX5U1nMap40e/8Nu375d/Rd/8cUXNHLkyMcaNmwYff3113TqVNY/TPDSpUu0bt06BeacWTNp57K5FHV4Y6b/UhFCCGWeMfT47G3rDK0Cp36wj/DkPXjwgI4ePUpdunShQYMG0ZgxY6h79+7KlDt37qiTqoxFRETQnDlzqGvXrupxY8eOpX79+lH//v0pLi7OflTWcxqnjd7p06epffv21LFjR5o+fTqtX79eic1nfStWrFD/Izp06ECTJk2yf0fmO378uPr9/D+mR/dP6btpoyl835pM/6UihBDKPCPoxd/5+extyzStAqe22kd48hITE2n58uVUrlw5unDhAiUlJSnYGMH9+/dTamqq/UhSOLInX375JYWHh1NUVBTNnj2bihcvTtHR0fajsp7TOG30du7cSe+99576B3hU5IwFAgEFXrNmzeyPuBgubyKEUI4yhh6fvW2eqlfIBoqPj6fbt2/TrVu3VHx1kGHjMzxeWFiYejqsRYsW6rE8dmXEiBE0efJk9diMnTx5knr06EEDBw6kQ4cOKQQnTpxIjRs3ptjYWPtRWc9pnDZ6u3btUujxf/mj/3AZY31HjRpFzZs3tz/iYkAPIYRylDH0tkynpE0WQhqFrp5J06ZNoypVqlCFChVUbdq0oVWrVj08g+OnvqZMmUK9evWihIQE9bEjR47Q+PHj1ZXCjI/xGMV9+/ZR6dKl6e2336ZXX32VatasqT7GJ1hu5jROG73Lly+r5+4YNRaYgWOd+exu8ODB6n8gX59dtmyZ/TtcDOghhFCOMoNetIXYFEpaP0GrmL3L1Y0ne/bsod27d6sYtMjIyIdXBvnsjc3o06ePutTJCwkJoQkTJqgzukfRu3r1qrpHhK1ZtGgRffPNN+oxfEOL2xsmncZpo8f/kGfOnKEZM2aoJx4ZQIaP/y+fno4bN47Wrl2r/ke6HtBDCKEcZQS9OAu9DZMoae2XWgVCNthHePJCQ0PV/Rx8X0gGcPxcHt+owqZkQMjjS5p8IrVy5Up1yZShW7JkCRUtWlTd5JKenm4/8slzGqeNXsb4+uy1a9fo2LFj6lST/6HPnj1L9+7de3jt1vWAHkII5Shj6PHZ25qxWgWOrreP8OTdvHmTFixYQLVq1VL/mV96wJc/BwwYoF72xi9TyBjfIMk3vPDTamwLX9Lkx7777rvqFQCP3vTypDmNyzF6ogN6CCGUo8ygd/vns7fVY7QKHFlnH+HJ48ucGzdupLJlyyrMGC++UshnfnxplM/m+H4RxvDHH3+kJk2aqEuffFn03Llz6vnAkiVL/uvu3jQyoIcQQjnKHHrjKGnVKK0CR9baR8h6fGmSL3HySw/YnUaNGqnn7Bgyfr6PX9LA94/w6/YYyOrVq1OZMmWoVKlS6n4SfgotOTnZPlrWcxoH9BBCKIgzgt49Cz0+e1s5UqvA4TX2EbIeX8Lkm1T4pQp8CZNvduF3+eLLlfzaPf4cP9/HZ3sMH5/x8VkhP55vemEcM3vJXGZzGgf0EEIoiDOG3qrRlLTiC60Ch1bbR/DOnMYBPYQQCuLMoHeLkr63zt6WD9MqcHClfQTvzGkc0EMIoSDOGHrLh1PSd4O1ChxYYR/BO3MaB/QQQiiIM4LeXQu9ZdbZ27eDtAJ6bgf0EEIoR5lB76Z15jaUkpZ8rlVg/3L7CN6Z0zighxBCQZwx9L4dTEmLPtMqsE/j7Sf/RXMaB/QQQiiIM4bekkGU9E1/rQJ7l9pH8M6cxgE9hBAK4oygF2uht3ggJS3sp1Vgz3f2Ebwzp3FADyGEgjgz6N2wEBtASfN7axXYvcQ+gnfmNA7oIYRQEGcMvQXW2dtXvbQK7FxsH8E7cxoH9BBCKIgzht78PpQ0t4dWgR2L7CN4Z07jgB5CCAVxRtCLibLO3HpT0pxPtQrs+MY+gnfmNA7oIYRQEGcMvXk9KWl2N60C2xfaR/DOnMYBPYQQCuJMoZc4pyclzuyqVWDbAvsI3pnTOKCHEEJBnDH0ZnenxBldtAr88LV9BO/MaRzQQwihIM4IeneuW2du3ShxaketAlvn20fwzpzGAT2EEArijKE33Tp7m9xeq8Dmr+wjeGdO44AeQggFccbQm9qJEie10yqwaZ59BO/MaRzQQwihIM4IetEWelM6UuKENloFNs61j+CdOY0DegghFMSZQS+SEid3oMTxrbUKbJxjH8E7cxoH9BBCKIgzht6k9pT4ZSutAhtm20fwzpzGAT2EEArijKE3oR0ljv1Eq8D6WfYRvDOncR5C7wilhO5FAiWc3U0R+9dT2N51SKBr+9ZT4o+bkFAxBzZm+nVGOSv64kn7G6nc7t+20PuyLSWOaalVYB3Qc7f0NArw31pOb0UC/bR5Mb1S6O/0Qu7XkEAVX/o7hX1UEwm14K3ymX6dUc7q1WuQ/Y1UbvdvX7PO3FpR4shmWgXWzLCP4J05jfMOenyWcmoLEujM+oX01FMF6H//2/NIoHd+V5AuvlYOCTUj3/uZfp1RzmrTrqf9jVRuCr3Rn1DCiKZapayebh/BO3MaB/R8GNCTDejJBvRkM4VewqiWlDC8sVYpq6bZR/DOnMYBPR8G9GQDerIBPdmMoHfLQm9kc0oY1kirlJVAz92AnmhATzagJxvQk80MelcpYUQzShjaUKuU76faR/DOnMYBPR8G9GQDerIBPdmMoTe8KSUMbqBVyoop9hG8M6dxQM+HAT3ZgJ5sQE82I+jdtNAb0pgSBtbTKmXZZPsI3pnTOKDnw4CebEBPNqAnmzH0BjekhAF1tEpZOtE+gnfmNA7o+TCgJxvQkw3oyWYGvSuUMKgBJfSvrRXQczugJxrQkw3oyQb0ZDOG3sD6lNCvllYp302wj+CdOY0Dej4M6MkG9GQDerIZQe/GFYofUI/i+3ysVfK34+0jeGdO44CeDwN6sgE92YCebMbQ61+X4nvX0Cp5yZf2Ebwzp3FAz4cBPdmAnmxATzZj6PWtQ/E9/6FV8mKg525ATzSgJxvQkw3oyWYEvagI68ytNsV3r65V8jfj7CN4Z07jgJ4PA3qyAT3ZgJ5sxtDr+THFd6uqVfLCsfYRvDOncUDPhwE92YCebEBPNmPo9fiY4rpU0Sp5wRj7CN6Z0zig58OAnmxATzagJ5sp9OI+rUFxnStrlfz1aPsI3pnTOKDnw4CebEBPNqAnmxH0rlvodfsHxXWspFXyfKDnbkBPNKAnG9CTDejJZga9cIrrUo3i2lfUKvmrUfYRvDOncUDPhwE92YCebEBPNmPodbLQa1dBq+R5I+0jeGdO44CeDwN6sgE92YCebMbQ61iV4tqU1yp5LtBzN6AnGtCTDejJBvRkM4JepIVe+8p0r1U5rZJmj7CP4J05jQN6PgzoyQb0ZAN6splC717bSnSvZRmtkmZ9YR/BO3MaB/R8GNCTDejJBvRkM4Zeawu95hZmGiXNBHruBvREA3qyAT3ZgJ5sJtBLvxZGd1tVpLvNSmuVOGO4fYSsd//+fUpKSqJbt27RzZs3KSYmhpKTk+3PPr4HDx6oz925c0c99vbt23T37l31cTdzGgf0fBjQkw3oyQb0ZDOGXssKdLdJKa0Sp7tDj/FasWIFlS1blj744ANq164dbdy40f7s42McN23aRE2bNqXixYtT1apVqX///hQXF2c/Ius5jQN6PgzoyQb0ZAN6shlDr4WFXmMLM40Spw2zj/Dk8Rna7t27qWHDhjR//nxat24dffbZZwqyyMhIdRaYMT7DO336NDVr1oxmzJhBmzdvph07dtC+ffsoEAjYj8p6TuOAng8DerIBPdmAnmxG0Ltqode0PMU2KKlV4pTs0YuNjaUlS5aoM7YrV65QSkoKLV68mHr27KnO6B7F7OrVqwrGDh06UEhICKWlpVF6ejolJibi8ib6JaAnG9CTDejJZgq92MblKLZuCa1ujexDFy9epD179qizOe7IkSOPncHx52fOnElt2rSh+Ph49TF+/KhRo2j8+PEKtIwdO3aMOnfuTGPHjqX169erx/HHoqOjHzsjzGpO44CeDwN6sgE92YCebMbQa2ihV8fCTKPT3VrStGnTqEqVKlShQgUV47Zq1SpKTU1Vxz558iRNnjyZ+vTp8xA4PoubMGECDRw4kBISEtTHePv376eaNWsq+OrVq0eVK1em1q1b0+rVq9VzfW7mNA7o+TCgJxvQkw3oyWYEvSsWeg3KUkyt4lrdHfe5OnvjOyz5zkyO78xkoDIuR+qgx8/dMaAM37Zt2yg0NJRmzZpFpUqVovDwcHW5M7s5jQN6PgzoyQb0ZAN6shlDr56FXk0LM40Sxg+1j/Dk6VzePHz4MLVs2ZKGDh2qfh8/38c3s1SsWJEOHDjw8PdnNadxQM+HAT3ZgJ5sQE82U+jF1ClLd2oU0yrhyyH2EZ48vpGFb1xxcyPLhQsXaNy4cfT555+r/8yXSDds2KDO9Pi5wkeBfNKcxgE9Hwb0ZAN6sgE92YyhV7sM3aluYaZR/Ljs0eMbUPgGlwYNGqg7M9euXatestCvXz91yZIvYfJdm3yZk4HcuXMndezYkRYtWqRQ5LPB+vXrq8d45vIma8x6ZzX+PL+qXl33vRFFd45tocTjGzP9Jo70AnqyAT3ZgJ5sRtCLCKM7NS30qlmYaRQ/Nnv0ePzi9GXLllGZMmWoSJEi6lIn353JJvDzfcuXL6fLly+rxzJ8o0ePpho1alCJEiXok08+UZc4szMmY07jjKB35swZpXNWY+n79u2r7u6pWrkSTRrYlUI3L8z0mzjSC+jJBvRkA3qyGUPvH2UoulIxreJHu0Mv47V2zrch47NAfp6Ob3zJOIvjj/G7r/DNMY8+1lOv0+Prs71797Z/lfn4fwDfxcP47dm1k85t/ZZiDq3J9Js40gvoyQb0ZAN6shlBLzyMoquVodsVi2kVN8odev/KOY3TRi8iIkK9DiOr6tatSx9//LH9O1wMz+mJBvRkA3qyAT3ZjKFX1UKvvIWZRnEjfYgeX7Z87bXXFGzNmzdXt5M+WosWLdQ12mrVqtm/w8WAnmhATzagJxvQk80UercrW+iVtTDTKG6ED9Hbvn07vfHGG7Rlyxb1ugm+g8bZ8OHDqXHjxvbvcDGgJxrQkw3oyQb0ZDOBXhqjV6kM3SpTTKt7X/gQPX7fMz6j41tH+UlIfkLSGd+VM2SIxv94oCca0JMN6MkG9GQzgl5YGN2qUIZuliqm1b3hPkTv3r176gYUBu9JP9ohKipKvZDQ9YCeaEBPNqAnG9CTzRR6N8uVpRslimt1d6gP0TMyoCca0JMN6MkG9GQzhd6NMmUpqlhxre4Oyf5tyP7VcxoH9HwY0JMN6MkG9GQzgt7lMIoqZaFX1MJMo9jBQM/dgJ5oQE82oCcb0JPNGHoly9H1D0toFTsI6Lkb0BMN6MkG9GQDerKZQu968XIUWaSEVjGfAz13A3qiAT3ZgJ5sQE82U+hFFi9P194vqVXMwGH2Ebwzp3FAz4cBPdmAnmxATzYT6KVeCqNrH5Wnq++V1OrOZ0DP3YCeaEBPNqAnG9CTzRR6Vz8sT1feKalV9ACg525ATzSgJxvQkw3oyWYKvStFKlDE26W0ut1/uH0E78xpHNDzYUBPNqAnG9CTzQh6F8Mo4v2KFP630lrd7gf03A3oiQb0ZAN6sgE92cygF07h71aisDfLaHWr7xf2Ebwzp3FAz4cBPdmAnmxATzZj6L1TiS7/pYxWt/oAPXcDeqIBPdmAnmxATzYT6AUs9ML+bqH3hoWZRjd7Az13A3qiAT3ZgJ5sQE82U+hdfqsyXXq9rFY3ewE9dwN6ogE92YCebEBPNiPoXQinS29VyfTfX1bd6DXCPoJ35jQO6PkwoCcb0JMN6MlmCr0Lb1ah86+U1yqqB9BzN6AnGtCTDejJBvRkM4Xe+b9UpZ9eLq/V9e4j7SN4Z07jgJ4PA3qyAT3ZgJ5sJtBLsdALfaMa/VS4glbXu4+yj+CdOY0Dej4M6MkG9GQDerIZQe98OP30enU6V6iiVpGfAj13A3qiAT3ZgJ5sQE82U+ide606nS1YUatr3YCeuwE90YCebEBPNqAnmxn0IujcK9XpTIFKWl3rCvTcDeiJBvRkA3qyAT3ZTKF35s816NSLlbW62mW0fQTvzGkc0PNhQE82oCcb0JPNBHrJoRF06uWP6WT+Klpd6TzGPoJ35jQO6PkwoCcb0JMN6MlmCr2ThT+mE/mqaBUB9FwO6IkG9GQDerIBPdlMoXei0Md0LG9VrcI7jbWP4J05jQN6PgzoyQb0ZAN6splC73jBmhSSp5pWYUDP5YCeaEBPNqAnG9CTzRR6xwrWoqMvVNMqrCPQczdG79xOSjm+AQkUtnUR1SlfiaoUK4ME6lK6Il2r2RAJNe/D8pl+80Y5yxR6IQVq0RELMp0uAz2XS0+llBObKPnQciTRwWWUvPcbJNXOeZS0egwSamn/tpl+80Y5ywR6SRZ6R16qTYdzV9fqUodx9hG8M6dxQM+PAT3ZgJ5oQE82I+j9dIUO5a9DPz5XQ6uL7b+0j+CdOY0Den4M6MkG9EQDerKZQu+ghd4BCzKdLgA9lwN6sgE92YCeaEBPNhPoJVro/Zi/Lu1/toZW54GeywE92YCebEBPNKAnmyn0DuSrR/ue/Vir0Hbj7SN4Z07jgJ4fA3qyAT3RgJ5sptDbn7ce7X2mplZAz+2AnmxATzagJxrQk80Uenst9HZbkOn0E9BzOaAnG9CTDeiJBvRkM4Xenrz1adcztbQ6126CfQTvzGkc0PNjQE82oCca0JPNBHoJFnq78jagHblqaXWmLdBzN6AnG9CTDeiJBvRkM4XejjwNaVuu2lqdbjvRPoJ35jQO6PkxoCcb0BMN6MlmBr2rtN1C74dcdbQ6BfRcDujJBvRkA3qiAT3ZTKAXb6H3g4XeFgsynU4CPZcDerIBPdmAnmhATzZT6G3N04g256qr1cm2k+wjeGdO44CeHwN6sgE90YCebKbQ22Kht8mCTKcTQM/lgJ5sQE82oCca0JPNFHqb8jSmDRZkOh13iV5KSgpdvXqVdu3aRdu2baOjR49SVFSU/dnMd+fOHTp8+DDt37+f7t27Rw8ePLA/k/WcxgE9Pwb0ZAN6ogE92UygF2eht8FCb12uelqFtJ1sHyHrXblyhWbOnEklSpSgIkWKUJMmTWjJkiWUlpZmP+LxMXBbt26lGjVqUJkyZejEiRNPfKxzTuOAnh8DerIBPdGAnmym0FuftzGteaaeVkddoMeAbdq0icqVK0c7d+6kS5cu0ciRI6ljx450+fJlSk9Ptx/58/jxCQkJ1KdPHypatCi1aNEC6CFHQE82oCca0JPNFHpr8zah1c/U1+pIu+zRu3nzJi1YsIBq165NN27cUHitWrWKBgwYQEuXLlWXPh9dXFwcffXVVzRp0iRq1aoVtW/fHughR0BPNqAnGtCTzRR6ayz0VlqQ6bSl7mDau3cvzZkzR12+5JYtW0anTp16eAYXGhpK06dPV2d2fAbH4+fpxowZQ6NHj6bExET1MV5ycjKdPXuWOnToQBs3blSf5/8M9NDjAT3ZgJ5oQE82E+jds9BbbaH3vQWZTmuq96MVK1ZQjx49qGvXrqpRo0bR7t27HyJ18uRJmjx5srpcmQFcSEgITZgwgQYOHPgQQl5ERATNmzePBg0aROfPn1eYAj30zwE92YCeaEBPNlPorbTQW2FBptMhF5c3+axvypQp1KtXr4fAHTlyhMaPH69wy/jY/fv31Z2dVapUUc/9hYeH05dffqme0+Nf8+P4MdnNaRzQ82NATzagJxrQk80Uet/na0rLnm2g1cF2U+wjPHlhYWE0a9YshVd8fLz6GCM2YsQIdQaYlJSkPsbP7fGl0dy5c9Obb75J77zzDr344ouUK1cuKlasmDp75JcuZDencUDPjwE92YCeaEBPNlPoLbfQ+86CTKcDLtDjMzTGjO/evHDhgkKOL1t26dKF9u3bR6mpqepxfBYXGRmp7vTklyv88MMP1L17d6pevTrNnz9f3QST8dis5jQO6PkxoCcb0BMN6MlmAr27FnpL8zelJRZkOu1vnz16/BIEvpzZuXNndTmTb0759NNP1csWrl27pl6wzs/ZRUdH27/jl+E5PZR5QE82oCca0JPNFHrfWugteq6BVvtcoMeLiYlRz9d16tRJvQyBb3bhszy+3MlngTt27FBnec5t2bKFZsyYoS6ROl/P96Q5jQN6fgzoyQb0RAN6splCb0n+ZvTNcw212tt+qn0E78xpHNDzY0BPNqAnGtCTzRR6iy30FlqQ6bQH6Lkc0JMN6MkG9EQDerKZQC/WQm/Ri81owfMNtdoN9FwO6MkG9GQDeqIBPdmMoBd6lRZa6M23INNpVweg525ATzagJxvQEw3oyWYKva8t9OZZkOm0E+i5HNCTDejJBvREA3qymUAvxkLvq5ea0ZzcDbXaAfRcDujJBvRkA3qiAT3ZTKE310JvlgWZTtv9ih6/Uv769evq3a/5p98GAgH7Mz+PfwIuvzmo6wE92YCebEBPNKAnmyn05ljozbQg02mbH9GLjY1V73nG75M2dOhQ9X/5Zx3x28lkvCUMv+iQ31stq/EPDly3bp360RNzZs6gHfPH0vUf5mf+TRzpBfRkA3qiAT3ZTKE3u0Azmm5BptMPfkSPz+66deumXkXfr18/9X5pbdq0oYkTJ9Lp06fV+6rNnTuX2rVrZ/+OzHf8+HH1M5X4R0/0+LQbfTeuH4VtnJ35N3GkF9CTDeiJBvRkM4HeHQu9WRZ6015oqNXWjj5Ej8/yPvroo4c/1p3f5XrDhg3qxz8MHjyYjh07RlOnTs0WvceGy5uyAT3ZgJ5oQE82U+jNsNCbakGm0xY/osdvBlq0aFH1nB6Pn9/jszs+y2vWrJk6c6tfvz61bdtWfd7VgJ5sQE82oCca0JPNFHrTLPQmWZDptNmP6PGPda9QoQIdPnz44Q/743fN5h/rzh/j5/k+/PBDqlGjhvqcqwE92YCebEBPNKAnmwn0oi30phRsRhPzNNRqox/R43e35ne55p9+m4Fexvis78cff1Q/KoJ/wq3rAT3ZgJ5sQE80oCebKfQmWeiNtyDTaYMf0eOXJ/DPOeIfDfGkH+B3+/ZtioiIsH/lYkBPNqAnG9ATDejJZgq9iRZ64yzIdFrvR/SMDOjJBvRkA3qiAT3ZTKE33kJvrAWZTuuAnssBPdmAnmxATzSgJ5tJ9MZYkOkE9NwO6MkG9GQDeqIBPdlMoHfbQm9coWY0Om9DrdZ2AnruBvRkA3qyAT3RgJ5sptAbY6E3woJMpzVAz+WAnmxATzagJxrQk80UeqMs9IZbkOm0qtMU+wjemdM4oOfHgJ5sQE80oCebCfRuWeiNLNSUhuVtoNVKoOdyQE82oCcb0BMN6MlmCr0vLPSGWJDp9D3QczmgJxvQkw3oiQb0ZDOF3nALvcEWZDqtAHouB/RkA3qyAT3RgJ5sptAbZqE3yIJMJ6DndkBPNqAnG9ATDejJZgK9mxZ6Qyz0BlqQ6bQM6Lkc0JMN6MkG9EQDerKZQu/zwk2of776Wn3XebJ9BO/MaRzQ82NATzagJxrQk80UegMt9PpZkOkE9NwO6MkG9GQDeqIBPdlMoHfDQu8zC72+FmQ6fQv0XA7oyQb0ZAN6ogE92Uyh199Cr3e+elotAXouB/RkA3qyAT3RgJ5sptDrV7gx9bIg02kx0HM5oCcb0JMN6IkG9GQzhV5fC72eFmQ6LQJ6Lgf0ZAN6sgE90YCebKbQ62Oh192CTKdvgJ7LAT3ZgJ5sQE80oCebCfSiLPR6Wuh1y1dXq4WdJ9lH8M6cxgE9Pwb0ZAN6ogE92Uyh171wI+piQabTAqDnckBPNqAnG9ATDejJZgq9Ty30OluQ6fQ10HM5oCcb0JMN6IkG9GQzgd51C71uhRtSp3x1tJrfeaJ9BO/MaRzQ82NATzagJxrQk80Uel0t9DpYkOn0FdBzOaAnG9CTDeiJBvRkM4PeFepsodc+X22t5gE9lwN6sgE92YCeaEBPNlPodSrcgNpakOk0F+i5HNCTDejJBvREA3qymUAv0kKvo4VeGwsyneYAPZcDerIBPdmAnmhATzZT6LUrXJ8+yVdLq1mdJ9hH8M6cxgE9Pwb0ZAN6ogE92Uyh17ZwPWqZr6ZWQM/lEhMSqHXDZlSlRDkkUKvadSjm4Gr1Fwkk0KmtFDi/Fwm1fPr4TL95o5xlCr02FnotLMh0mtl5vH0E78xpnCfQu3s3jgr/+YNM/4Ui/QoXeItuHd5AKed2IokuHqDU25eQUCsWzs/0zy3KWSbQu2ah18pCr1m+j7WaAfTcDejJBvSEA3qiAT3ZTKH3SeG61NSCTCeg53JATzagJxzQEw3oyWYKvZYWek0syHSaBvTcDejJBvSEA3qiAT3ZTKHXrFBdapi3hlZTO31pH8E7cxoH9HwY0BMO6IkG9GQzgd5VC72mhepQg7z/0GoK0HM3oCcb0BMO6IkG9GQzhV6TQrWpXt7qWk3uNM4+QtaLj4+nEydO0PTp02nixIm0fPlyOnfunP3ZX3bnzh3auXMnzZgxg6ZOnUqzZ8+mzZs307179+jBgwf2o7Ke0zig58OAnnBATzSgJ5sZ9CKocaFaVNeCTKdJLtFj4IYNG0bNmjWjFi1aUNu2bRVsCQkJj2EWFhamsOvQoYOqZcuW1KdPH9qxYwcFAgH7UVnPaRzQ82FATzigJxrQk80Ueg0t9OpYkOk00QV6qamptGrVKipevDidPn1anfVNmjRJwXfq1ClKS0uzH0kUHR1Nhw8fpri4OEpPT6cjR47Q8OHDqU2bNpYbd+1HZT2ncUDPhwE94YCeaEBPNhPoXbHQa2ChVytvNa0mdBprH+HJu3r1Ks2dO5caNWpEsbGx6sxuy5YtNHToUPXx5ORk+5FE9+/fV2d0GWd//HvnzJlDNWvWpJiYGPWx7OY0Duj5MKAnHNATDejJZgq9+oVqUs28VbXqXas7rVixgnr06EFdu3ZVjRo1inbv3v3wDO7s2bPqkmW3bt3U5UzewYMHady4ceosLjExUX0ss/FxBg0aRAMHDlRnf27mNA7o+TCgJxzQEw3oyWYKvbqFPqYaeapo9VnDvrR37151NjZz5kzVsmXL1GVLvjzJO3nyJE2ePFk9N5cBXEhICE2YMEFhlgGhc5cvX6bx48dT9+7dad++fXhOD/0S0BMO6IkG9GQzhV7tgjWougWZTuM6jrGP8OTpnunxJU5+bo8vffbs2VNB+ujzftnNaRzQ82FATzigJxrQk80EehEWejUt9KrlqazV2I6j7SM8eVk9p8dniM7n9PjlCWvWrKEGDRooLPnXOnMaB/R8GNATDuiJBvRkM4XexxZ6VSzIdBrjAj2+e3PlypXq7s0zZ85kefcmA8cvT+DHzps3T4HJEOrMaRzQ82FATzigJxrQk80UejUK/oMq56mk1WgX6PGZHV/iHDJkiHqdXvPmzdVLEPiF6jdu3KClS5cq6CIjI+n48ePqtXn58+enatWqKRj5Jhl+QfuTnvtzzmkc0PNhQE84oCca0JPNFHr/KFidKuWpqNXojqPsI2Q9Prtj0DLekYVvdmEI+dLmnj171Lu18PN4ERER6gxv7Nix6uYXfjxfAuXX+T16GTSrOY0Dej4M6AkH9EQDerKZQC88NJyqFaxGFS3IdBrlEr1/5ZzGAT0fBvSEA3qiAT3ZTKFXtUA1qvBCBa1GdhxpH8E7cxoH9HwY0BMO6IkG9GQzhV7lAlWp7AvltRoB9NwN6MkG9IQDeqIBPdlMoVexQBUq80I5rYZ3HGEfwTtzGgf0fBjQEw7oiQb0ZDOBXpiFXoUClalU7rJaDe8A9FwN6MkG9IQDeqIBPdlMoVf+pcpU0oJMp2EdvrCP4J05jQN6PgzoCQf0RAN6splCr9xLlahE7jJaDQV67gb0ZAN6wgE90YCebGbQC6OyL1Wk4rlLazW0w3D7CN6Z0zig58OAnnBATzSgJ5sJ9C5b6JV+sQJ99HwprQYDPXcDerIBPeGAnmhATzZT6JV8sTx9+HxJrQZ1GGYfwTtzGgf0fBjQEw7oiQb0ZDOFXgkLvSIWZDp9DvTcDejJBvSEA3qiAT3ZTKFX7MVy9P7zJbQa2H6ofQTvzGkc0PNhQE84oCca0JPNBHqXfgqjj/KXpfeeK67VZ0DP3YCebEBPOKAnGtCTzRR6RfOXoXefK6bVgPZD7CN4Z07jgJ4PA3rCAT3RgJ5sZtC7TB9a6P39uY+0AnouB/RkA3rCAT3RgJ5sptArkr8Uvf1cUa36tx9sH8E7cxqXY/T4R75z6enp6ifh8n/mn2SblJT02I97dzOgJxvQEw7oiQb0ZDOB3kULvffylaS/PfuhVn3bDbKP4J05jcsReoza6dOn6dixY3T9+nWFHf96/vz5tHr1arp48aL9SHcDerIBPeGAnmhATzZj6OUtQW8+84FWfdt9bh/BO3Map41eZGSkwq1Dhw7UvHlzGjRoEE2aNIm6dOlCQ4YMoU6dOtHQoUNp165d9u/IfBk/Kr5r167Uvn0Heurp/Na/wGf+6V8o0g/oCQf0RAN6splC7528xemvzxTRqo8f0QsJCaFGjRop6KZNm6aQa9iwIc2ZM4d++OEHWrx4MfXv35+++CLrNx69dOkSrVu3jmbOnEkTJkykZ5572foX+Ow//QtF+gE94YCeaEBPNlPo/d1C741n3teqd7uB9hG8M6dx2ujt3r2bihcvrs74+Hm8MWPGUJ06ddRzefzcHl/6nDFjBrVp08b+HdkPlzdlA3rCAT3RgJ5sptB7O28xet2CTKdebX2I3p49e6hUqVIUFRWlfr1o0SLq27ev+s88hm/27NnUtm1b+yPZD+jJBvSEA3qiAT3ZTKB34adL9Faej+i1XO9p1bPtZ/YRvDOncdro7du3j8qVK0fh4eHqzk2+iSU2Ntb+LKkzPr7s2a5dO/sj2Q/oyQb0hAN6ogE92Uyh97c8RenVXO9q5Uv0oqOj1dleYmKiOqtzLi4ujg4ePEhbt261P5L9gJ5sQE84oCca0JPNFHp/zfMh/fl/3tGqR5sB9hG8M6dx2ugxdHyG96SlpKSoM79Hz/6yG9CTDegJB/REA3qymULvjRc+oMJ/elurT9v0t4/gnTmN00bPxICebEBPOKAnGtCTzQR65y30Xs9dhApZkOnUDei5G9CTDegJB/REA3qymULvtdzvU8E/vaVVtzb97CN4Z07jgJ4PA3rCAT3RgJ5sRtA7d5Feef59eunpv2nVtfUvd/J7ZU7jgJ4PA3rCAT3RgJ5sptD78/Pv0YtPv6lVF6DnbkBPNqAnHNATDejJZgK9UAu9ws+/Q/n++BetOrfuYx/BO3MaB/R8GNATDuiJBvRkM4Veoefeprx/fEOrTq1620fwzpzGAT0fBvSEA3qiAT3ZTKFX8Nm3KM9Tr2vVsVUv+wjemdM4oOfDgJ5wQE80oCebGfQu0EsWermfek2rDkDP3YCebEBPOKAnGtCTzRR6Lz77N3r+D69q1eET+X+WXzuncUDPhwE94YCeaEBPNhPo/WShl/+ZN+m537+iVXug525ATzagJxzQEw3oyWYKvXy5/krPWpDp1K5lD/sI3pnTOKDnw4CecEBPNKAnmyn08lroPfP7P2vVtmV3+wjemdM4oOfDgJ5wQE80oCebKfReyPUG/el3hbVq0/JT+wjemdM4oOfDgJ5wQE80oCebCfTOnT1Puf/ndXr6t4W0at0C6Lka0JMN6AkH9EQDerKZQu+5P71Gf/zvglq1atHNPoJ35jQO6PkwoCcc0BMN6MlmCr1nn36NnrIg0+mT5kDP1YCebEBPOKAnGtCTzRR6zzz9Kv3hvwpo9UnzrvYRvDOncUDPhwE94S4CPcmAnmym0Mv19Cv0u/96SauWQM/dgJ5sQE84oCca0JPNBHpnLfT+549/pt/+3xe1atGsi30E78xpHNDzYUBPOKAnGtCTzRR6Tz/1Mv3Xb/Jr1bxZZ/sI3pnTOKDnw4CecEBPNKAnmxn0QumpPxSm3/wmn1bNmgI9VwN6sgE94YCeaEBPNhPonTkTSn/4QyH6z//Mq1XTpp3sI3hnTuOAng8DesIBPdGAnmym0Pv97wvSf/xHHq2aNAF6rgb0ZAN6wgE90YCebKbQ+93vC9C//8cLWjVp0tE+QtaLiYmhHTt2UOfOnal169Y0evRoOnDggP3ZX3b//n2Kjo6mSZMmUZcuXahjx440Y8YMun37tvqcmzmNA3o+DOgJB/REA3qymULvt78rQP/277m1atykg32EJ+/Bgwd09OhRhdigQYNozJgx1L17dwXfnTt3HsOMf71lyxZq06YNDR06lD7//HMaMGAALV68mJKSkuxHZT2ncUDPhwE94YCeaEBPNlPo/fdvX6L/Y0GmU+PG2aOXmJhIy5cvp3LlytGFCxcUXnPmzFEI7t+/n1JTU+1H8j/HGRo4cKAC7+LFixQWFqbO9OrWravOFt3MaZwn0IuLi6eixapRnrx/83zPPv8G/SnXK5l+zisV/aA8RR/fToEL+z1fwtlddO/0jkw/55nCjlDanfCgKDHqAiVcP5/p57zS+uVLM/1z68VyPfsqPfPc65l+ziv17jPU/k4qt9DQi1Sw0PuZ/vdlVbv2vSg+Pl5dfrx165aKcWLY+AyPx3DNmjWLWrRooR7L27lzJ40YMYImT5782Bnc7t27qWbNmrR9+3br5OiuOgtcs2YN/fWvf6UbN248PGZWcxrnCfTuW//gN2/epsjrNzzfrl17rL+VzKPIyKhMP++Fbt68RfdTU+hBWsDznTx2hLZt3pjp5zzV/fSg6NDBA7Rvz+5MP+eVkpMSM/1z68W++245rV27IdPPeaW7d+/Z30nllpaWRtcz+e/KrpCQ4zRt2jSqUqUKVahQQcWXJletWvXwDO7UqVM0ZcoU6tWrFyUkJKiPHTlyhMaPH68ud2Z8jLd161YqXbo0nThx4iGGmzZtUlbxWeKjZ4VPmtM4T6AXTNu8eTP16NHD1d8wsOy3bNkydekCkxlfJpo4caL9K+zXbty4cTR//nz7V1h2Y7D4MuSePXvUWRrHoEVGRj58ru7kyZPqjK5Pnz7qUicvJCSEJkyYoC5lPooeP59XsmRJOn36NCUnJ6uP8ffgIkWK0Pnz5ykQCKiPZTWncUBPcytWrKBGjRoBPaHxN+lOnbx3m3Owjm8K4G8cmMz69u2rzkAwuYWGhtL06dPVnZgZwPFzefxnl29myYCQx3d4Vq5cmX788Ud1KZS/765fv57efvttunLlCqWnp9uPfPKcxgE9zQE92QE92QE92QE9+d28eZMWLFhAtWrVUv+ZL6Xy5U++K3Pp0qWUkpJiP5Lo8OHD6vLowoULKSoqSj2vt2TJEipevLh6KYObOY0DeppbvXo1ffLJJ0BPaF9//TX17Cl/99n/r+NLm8OGDbN/hf3a8XNMU6dOtX+FSYwvc27cuJHKli1Lu3btokuXLtHIkSPVmR9fGmXY+Pk7xjA8PFydFbZv35727t2rHs9ng/w9Iy4uzj5i1nMaB/Q0x9ejFy1aZP8K+7U7ePAgrVy50v4V9mvHl4P4iX5MZnwpjZ+XwmQXERGhMOMzNnaHr57x91U+e+Pn+/glDZcvX1bP2fENK3ynJz+399FHH6kXtPNLGRhFN3MaB/Q0x9eVr1+/bv8K+7Xjv9XxJQ5MZvxiXreXfbDsx7feu309GOZ+fAnz6tWr6qUK27ZtUze78PdVvhuTkePP8fN9fEWNb2A5fvy4Osvjx/OJx6MvgchuTuOAHoZhGObbOY0DehiGYZhv5zQO6LkcX1uOjY1Vl+L4kgdf5nT7hqfY4+PLEvfu3VPv1sDvqsCXOLGcjb+W/GeTL2ny15P/fPIlzkff1QLTG389M95NhOOv56O30WPBNadxQM/l+NbZrl270ocffqheN8JPtuK5qJyN77oaPHgwlSpVit59913q3bu3/RlMd/zNmP9s8nsRlilTRt0Y0Lx5c3UjgNsn+rFfxq/74q9nxYoV1deTb57gmyi+/fZb+xFYsM1pHNBzMf5/hG7duql3DuHX6fFrTPj/KfhdBzLeOw5zP35i+vvvv3/4/nv8OhwsZ2P0+MW+33zzjbprk9/BYuzYsdS0aVN1+/ejr3nCsh+fOfOVHP468p2wfJPFqFGj1Jshu30HEMxbcxoH9LIZ/yHn14rUqVNHfWPJeJudhg0b0ty5c9VttZje+C8R165dU9+s+S8SQC/n47vd+PIw3/nGf1b57I7fkLdGjRrqL2VuX8uE/TJ+2oK/lgwgf32/+uorql+/Ph06dOjhW2FhwTOncUAvm/E3Df7bHr8gnd/zjceXNfldGvgSHV8KwXI2/jryi1KBntz4m/TatWvV5U5+aydcicjZ+OvIryHl1+nxz3DjF0fjTC845zQO6GUzfo0OvykyX97k14nw+KYBvsTJ7xLOf5vGcjagJzs+M+H3I+SfMl21alV1mc7NexNij4+/jvyXXb5E/Je//EX93Dd+Dp/PovlzWHDNaRzQy2ZAz9yAnuz40htfgWjVqpV6zpTPVrCcjS9x8l2b/PQF/6gcPtPjy/E40wu+OY0DetkMlzfNDejJjM8++IyOf6I0vychv4k332qPs5JfP/668k0t/fr1U2+TxS+1wYJrTuOAXjbLuJGldu3a/3QjC39zwY0sOR/QkxnfyMJndvzTKhg+fhsnLGfjs2O+I5bPmjP+MrFu3Tp19yb//z9eUxp8cxoH9LJZxh98fo0e32nI31z40ib/RGB+I1rcKKA//sbC75/HP06kZcuW6qcsb9++Xb3bOl4ErDd+SQL/AE5+3on/YsY/EYDfn/DAgQPqR7HgEqfe+MrOuXPnaMOGDerPJP/kbn5Xf0bv6NGjuHszCOc0Dui5HN/JxX/wP/jgA6pUqZL6Kb98poLpj7+x8OUifuHvyy+/TAUKFKCiRYuqsxR+o1nM/fhmFf4ZZPny5VM/Tbp06dLqRdX16tVTr9vjdxHC3I+fr+e/jPGPveGvJf8Z5ac2+GuMBeecxgE9l+PLnI++DRl/48adcTkb3yTAl4n4eSc+G+HXmPHXlc+a8TXVG38t+ew442uY8dZZ/M2bz0rwVnl6468Xv4VbxteRw9uQBfecxgE9DMMwzLdzGgf0MAzDMN/OaRzQwzAMw3w7p3FAD8MwDPPtnMYBPQzDMMy3cxoH9DAMwzDfzmkc0MMwDMN8O6dxQA/DMAzz7ZzGAT0MwzDMt3vcuPfp/wG77P1VxWnxsQAAAABJRU5ErkJggg==)\n",
        "\n",
        "\n",
        "نمای مقدارهای مربوط به وی را مشاهده میکنید.\n",
        "همانطور که میبینید استیت هایی که اصلا امتیاز خاصی نباید داشته باشند پرارزش شدند.\n",
        "در واقع تعداد خوبی از مقادیر وی که باید کم ارزش باشند پر ارزش میشوند چراکه جوایز دیر هم باارزش شده اند.\n",
        "\n",
        "همچنین میانگین ریوارد که در نوتبوک پرینت میشود نیز به جای اینکه تقریبا 0.65 باشد صفر میشود.\n",
        "\n",
        "دلیلش هم این است که دیگر نمیتواند جدول کیو ما را به درستی به مقصد هدایت کند چراکه استیت های بی ارزش را پرارزش در نظر گرفته است.\n",
        "\n",
        "همچنین موقع  نمایش حرکات گرافیکی نیز رم اورفلو میکند چراکه ایجنت همینطور طولش میدهد تا برنده شود و برایش زمان و سرعت اهمیتی ندارد چراکه هیچ معیاری برای کم شدن ارزش پیروزی برایش وجود ندارد از لحاظ زمانی.\n",
        "\n",
        "همچنین همۀ مقادیر اعداد بزرگ و بارزشی هستند در صورتی که اینطور نباید باشند.\n"
      ]
    },
    {
      "cell_type": "markdown",
      "metadata": {
        "id": "WLiFCIek6s8v"
      },
      "source": [
        "# Part II: Mountain Car Environment (15 point)"
      ]
    },
    {
      "cell_type": "markdown",
      "metadata": {
        "id": "7R36a4nH7MuZ"
      },
      "source": [
        "The Mountain Car MDP is a deterministic MDP that consists of a car placed stochastically at the bottom of a sinusoidal valley, with the only possible actions being the accelerations that can be applied to the car in either direction. The goal of the MDP is to strategically accelerate the car to reach the goal state on top of the right hill."
      ]
    },
    {
      "cell_type": "markdown",
      "metadata": {
        "id": "VlyLlwIG8qjw"
      },
      "source": [
        "lets create the environment."
      ]
    },
    {
      "cell_type": "code",
      "execution_count": null,
      "metadata": {
        "id": "eBMSm62o8qBs"
      },
      "outputs": [],
      "source": [
        "env = gym.make(\"MountainCar-v0\", render_mode='rgb_array')"
      ]
    },
    {
      "cell_type": "markdown",
      "metadata": {
        "id": "CUOtuKcv8_Qw"
      },
      "source": [
        "The state of the car is represented by its velocity and position along the x axis. the velocity is a number between -0.07, 0.07 and the position is a number between -1.3, 0.6. There are 3 discrete deterministic actions: (0:Accelerate to the left, 1:Don’t accelerate, 2:Accelerate to the right)\n",
        "The starting position of the car is different each time we run the environment."
      ]
    },
    {
      "cell_type": "markdown",
      "metadata": {
        "id": "3exMYOjN9oza"
      },
      "source": [
        "In order to use the same Q learning algorithm on this environment we need to somehow discretize the states. We can easily do this by dividing the range of the observation into smaller range.   \n",
        "its important how small we divide these range. if the step size is too big we might not achieve a good accuracy and if the step size is too small we will have a bigger observation space.  "
      ]
    },
    {
      "cell_type": "markdown",
      "metadata": {
        "id": "dK9XEjBb-jTB"
      },
      "source": [
        "**[Question 10 (5 Points)]**  \n",
        "implement the next  discretization function."
      ]
    },
    {
      "cell_type": "code",
      "execution_count": null,
      "metadata": {
        "id": "VwdauAFa8-yi"
      },
      "outputs": [],
      "source": [
        "def discretize(x, min_value, step_size):\n",
        "    counter = -1\n",
        "    while min_value <= x:\n",
        "      counter += 1\n",
        "      min_value += step_size\n",
        "    return counter\n",
        "\n",
        "assert(discretize(0.222, 0.1, 0.1)==1)\n",
        "assert(discretize(0.134, 0.1, 0.1)==0) "
      ]
    },
    {
      "cell_type": "markdown",
      "metadata": {
        "id": "XeSrhR6t_b4-"
      },
      "source": [
        "we will use step size 0.1 for the position and the step size 0.01 for the velocity. the following function will discretize a state using the function you implemented above."
      ]
    },
    {
      "cell_type": "code",
      "execution_count": null,
      "metadata": {
        "id": "KltzG8ay7QUO"
      },
      "outputs": [],
      "source": [
        "def discretize_state(state, step_velocity=0.01, step_position=0.1):\n",
        "  position , velocity = state\n",
        "  position = discretize(position, -1.3, step_position)\n",
        "  velocity = discretize(velocity, -0.07, step_velocity)\n",
        "  if position==19:\n",
        "    position = 18\n",
        "  if velocity==14:\n",
        "    velocity = 13\n",
        "  return (position, velocity)"
      ]
    },
    {
      "cell_type": "markdown",
      "metadata": {
        "id": "pyBvbk-iAgbj"
      },
      "source": [
        "the function below will run the mountain car experiment and output a video. We will use it to run an agent with a random policy."
      ]
    },
    {
      "cell_type": "code",
      "execution_count": null,
      "metadata": {
        "colab": {
          "base_uri": "https://localhost:8080/",
          "height": 454
        },
        "id": "sjZNzcBrAf4t",
        "outputId": "81a8b7c0-bdd5-4fbd-ef90-a4644587da46"
      },
      "outputs": [
        {
          "output_type": "stream",
          "name": "stderr",
          "text": [
            "WARNING:imageio_ffmpeg:IMAGEIO FFMPEG_WRITER WARNING: input image is not divisible by macro_block_size=16, resizing from (600, 400) to (608, 400) to ensure video compatibility with most codecs and players. To prevent resizing, make your input image divisible by the macro_block_size or set the macro_block_size to 1 (risking incompatibility).\n"
          ]
        },
        {
          "output_type": "execute_result",
          "data": {
            "text/plain": [
              "<IPython.core.display.HTML object>"
            ],
            "text/html": [
              "<video width=600 controls><source src=\"data:video/mp4;base64,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\"></video>"
            ]
          },
          "metadata": {},
          "execution_count": 73
        }
      ],
      "source": [
        "def record_video_mountain_car_env(env, Qtable, out_directory, fps=1, random_action=False, max_episode=500):\n",
        "  images = []  \n",
        "  truncated, done = False, False\n",
        "  state, info = env.reset(seed=random.randint(0,500))\n",
        "  state = discretize_state(state)\n",
        "  img = env.render()\n",
        "  images.append(img)\n",
        "  episode = 0\n",
        "  while episode < max_episode and not done:\n",
        "    # Take the action (index) that have the maximum expected future reward given that state\n",
        "    action = np.random.randint(3)  if random_action else np.argmax(Qtable[state[0]][state[1]][:])\n",
        "    state, reward, done, truncated, info = env.step(action)\n",
        "    state = discretize_state(state)\n",
        "    img = env.render()\n",
        "    images.append(img)\n",
        "    episode += 1\n",
        "  imageio.mimsave(out_directory, [np.array(img) for i, img in enumerate(images)], fps=fps)\n",
        "\n",
        "def show_video(video_path, video_width = 600):\n",
        "  video_file = open(video_path, \"r+b\").read()\n",
        "  video_url = f\"data:video/mp4;base64,{b64encode(video_file).decode()}\"\n",
        "  return HTML(f\"\"\"<video width={video_width} controls><source src=\"{video_url}\"></video>\"\"\")\n",
        "\n",
        "record_video_mountain_car_env(env, None, 'mountaincar_random.mp4', fps=15, random_action=True)\n",
        "show_video('mountaincar_random.mp4', video_width = 600)"
      ]
    },
    {
      "cell_type": "markdown",
      "metadata": {
        "id": "WIETFj_sDR5s"
      },
      "source": [
        "**[Question 11 (2 Points)]**  \n",
        "Implement the next functions like you did the previous part. "
      ]
    },
    {
      "cell_type": "code",
      "execution_count": null,
      "metadata": {
        "id": "2w7fNw4NC2mj"
      },
      "outputs": [],
      "source": [
        "def initialize_q_table(step_size_velocity, step_size_pos, action_space):\n",
        "  # Qtable should be of the shape (discrete position value, discrete velocity value, action_no)\n",
        "  size_of_velocity = discretize(0.07, -0.07, step_size_velocity) + 1\n",
        "  size_of_pos = discretize(0.6, -1.3, step_size_pos) + 1\n",
        "  Qtable = np.array([[[0.0] * (action_space) for i in range(size_of_velocity)] for j in range(size_of_pos)])\n",
        "  return Qtable\n",
        "\n",
        "\n",
        "def epsilon_greedy_policy(Qtable, state, epsilon):\n",
        "  random_action = np.random.choice([True, False], 1, p=[1 - epsilon, epsilon])\n",
        "  if random_action:\n",
        "    # based on Q-table\n",
        "    action = np.argmax(Qtable[state[0]][state[1]][:])\n",
        "  else:\n",
        "    # act randomly\n",
        "    action = np.random.randint(3)\n",
        "  return action\n",
        "\n",
        "Qtable = initialize_q_table(0.01, 0.1, 3)\n",
        "# print(Qtable)\n",
        "# print(np.size(Qtable))\n",
        "# print(np.size(Qtable[0]))\n",
        "# print(np.size(Qtable[0][0]))\n",
        "# print(np.size(Qtable[0][0][0]))"
      ]
    },
    {
      "cell_type": "markdown",
      "metadata": {
        "id": "RWSMO5cIE6NE"
      },
      "source": [
        "**[Question 12 (8 Points)]**  \n",
        "Change the previous train function so it works in this environment."
      ]
    },
    {
      "cell_type": "code",
      "execution_count": null,
      "metadata": {
        "id": "zAHvbfxpC9XR"
      },
      "outputs": [],
      "source": [
        "def train(n_training_episodes, min_epsilon, max_epsilon, decay_rate, env, max_steps, Qtable):\n",
        "  for episode in tqdm(range(n_training_episodes)):\n",
        "    # Adjust epsilon\n",
        "    epsilon = min_epsilon + (max_epsilon - min_epsilon)*np.exp(-decay_rate*episode)\n",
        "    # Reset the environment\n",
        "    state, info = env.reset()\n",
        "    state = discretize_state(state)\n",
        "    step = 0\n",
        "    done = False\n",
        "\n",
        "    # repeat\n",
        "    for step in range(max_steps):\n",
        "      action = epsilon_greedy_policy(Qtable, state, epsilon)\n",
        "      next_state, reward, first_bool, second_bool, info = env.step(action)\n",
        "      next_state = discretize_state(next_state)\n",
        "      Qtable[state[0]][state[1]][action] += learning_rate * ((reward + gamma * max(Qtable[next_state[0]][next_state[1]][:])) -  Qtable[state[0]][state[1]][action])\n",
        "      if first_bool or second_bool:\n",
        "        break\n",
        "      state = next_state\n",
        "\n",
        "\n",
        "  return Qtable"
      ]
    },
    {
      "cell_type": "markdown",
      "metadata": {
        "id": "3CHmdB4BFYow"
      },
      "source": [
        "Now lets train our model. You can change the hyperparameters if you want."
      ]
    },
    {
      "cell_type": "code",
      "execution_count": null,
      "metadata": {
        "id": "tBoHqoLhEnJt"
      },
      "outputs": [],
      "source": [
        "# Training parameters\n",
        "n_training_episodes = 20_000  # Total training episodes\n",
        "learning_rate = 0.1           # Learning rate\n",
        "\n",
        "# Environment parameters\n",
        "max_steps = 200               # Max steps per episode\n",
        "gamma = 0.95                 # Discounting rate\n",
        "\n",
        "# Exploration parameters\n",
        "max_epsilon = 1.0             # Exploration probability at start\n",
        "min_epsilon = 0.01            # Minimum exploration probability \n",
        "decay_rate = 2e-3            # Exponential decay rate for exploration prob"
      ]
    },
    {
      "cell_type": "code",
      "execution_count": null,
      "metadata": {
        "colab": {
          "base_uri": "https://localhost:8080/",
          "height": 49,
          "referenced_widgets": [
            "aff7435879594991948555b1906a0e01",
            "e8280f74ffaf47d49f55a34b607b5aa8",
            "b84fb2dbfce74523a50c1e5db005d80a",
            "72b85eb7e3464240b2f8f55872332f12",
            "4f16fa8e8ed6461d9c992ee221e53c12",
            "ec5799bede774b6aba466ce8a38c24f9",
            "29fcc56f9d944c81a983275c8204b155",
            "91f87a291e9f4ae087552cf6259ea725",
            "d71199e579d6412e8841e9eada241389",
            "427b3452512e4ef99d485b4aa6a68818",
            "e41d4266bd024e5e9dbc5d535140b556"
          ]
        },
        "id": "6emQyg3JFg1n",
        "outputId": "53e5b780-dee1-4015-e0eb-efa6470fb84f"
      },
      "outputs": [
        {
          "output_type": "display_data",
          "data": {
            "text/plain": [
              "  0%|          | 0/20000 [00:00<?, ?it/s]"
            ],
            "application/vnd.jupyter.widget-view+json": {
              "version_major": 2,
              "version_minor": 0,
              "model_id": "aff7435879594991948555b1906a0e01"
            }
          },
          "metadata": {}
        }
      ],
      "source": [
        "Qtable_trained = train(n_training_episodes, min_epsilon, max_epsilon, decay_rate, env, max_steps, Qtable)"
      ]
    },
    {
      "cell_type": "markdown",
      "metadata": {
        "id": "wlH7J3jQg5Ra"
      },
      "source": [
        "Now let us inspect how well our model is doing. In order to pass the assignment, the car must reach the goal."
      ]
    },
    {
      "cell_type": "code",
      "execution_count": null,
      "metadata": {
        "colab": {
          "base_uri": "https://localhost:8080/",
          "height": 454
        },
        "id": "TKkzIikqHOXw",
        "outputId": "67d4ddb7-3240-425c-d37e-a521aa3542c0"
      },
      "outputs": [
        {
          "output_type": "stream",
          "name": "stderr",
          "text": [
            "WARNING:imageio_ffmpeg:IMAGEIO FFMPEG_WRITER WARNING: input image is not divisible by macro_block_size=16, resizing from (600, 400) to (608, 400) to ensure video compatibility with most codecs and players. To prevent resizing, make your input image divisible by the macro_block_size or set the macro_block_size to 1 (risking incompatibility).\n"
          ]
        },
        {
          "output_type": "execute_result",
          "data": {
            "text/plain": [
              "<IPython.core.display.HTML object>"
            ],
            "text/html": [
              "<video width=600 controls><source src=\"data:video/mp4;base64,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\"></video>"
            ]
          },
          "metadata": {},
          "execution_count": 79
        }
      ],
      "source": [
        "record_video_mountain_car_env(env, Qtable_trained, 'mountaincar_random.mp4', fps=15)\n",
        "show_video('mountaincar_random.mp4', video_width = 600)"
      ]
    }
  ],
  "metadata": {
    "colab": {
      "provenance": []
    },
    "interpreter": {
      "hash": "ad2bdc8ecc057115af97d19610ffacc2b4e99fae6737bb82f5d7fb13d2f2c186"
    },
    "kernelspec": {
      "display_name": "Python 3.8.8 ('base')",
      "language": "python",
      "name": "python3"
    },
    "language_info": {
      "codemirror_mode": {
        "name": "ipython",
        "version": 3
      },
      "file_extension": ".py",
      "mimetype": "text/x-python",
      "name": "python",
      "nbconvert_exporter": "python",
      "pygments_lexer": "ipython3",
      "version": "3.8.8"
    },
    "widgets": {
      "application/vnd.jupyter.widget-state+json": {
        "748fc8535f5f49af87a468cd9379e8fa": {
          "model_module": "@jupyter-widgets/controls",
          "model_name": "HBoxModel",
          "model_module_version": "1.5.0",
          "state": {
            "_dom_classes": [],
            "_model_module": "@jupyter-widgets/controls",
            "_model_module_version": "1.5.0",
            "_model_name": "HBoxModel",
            "_view_count": null,
            "_view_module": "@jupyter-widgets/controls",
            "_view_module_version": "1.5.0",
            "_view_name": "HBoxView",
            "box_style": "",
            "children": [
              "IPY_MODEL_f86227409ad5466cb0226ba3f12c70c4",
              "IPY_MODEL_7900378156ec4a399df6ee9ed3e2de62",
              "IPY_MODEL_39b9dc9043a14d74bce828613bf87fc8"
            ],
            "layout": "IPY_MODEL_ecc7ba156a2e4505b678a08a95ce7fa4"
          }
        },
        "f86227409ad5466cb0226ba3f12c70c4": {
          "model_module": "@jupyter-widgets/controls",
          "model_name": "HTMLModel",
          "model_module_version": "1.5.0",
          "state": {
            "_dom_classes": [],
            "_model_module": "@jupyter-widgets/controls",
            "_model_module_version": "1.5.0",
            "_model_name": "HTMLModel",
            "_view_count": null,
            "_view_module": "@jupyter-widgets/controls",
            "_view_module_version": "1.5.0",
            "_view_name": "HTMLView",
            "description": "",
            "description_tooltip": null,
            "layout": "IPY_MODEL_381274a5317f4d5a9d86fc3bada327e0",
            "placeholder": "​",
            "style": "IPY_MODEL_7853d32026d24a62be24d47d4251e834",
            "value": "100%"
          }
        },
        "7900378156ec4a399df6ee9ed3e2de62": {
          "model_module": "@jupyter-widgets/controls",
          "model_name": "FloatProgressModel",
          "model_module_version": "1.5.0",
          "state": {
            "_dom_classes": [],
            "_model_module": "@jupyter-widgets/controls",
            "_model_module_version": "1.5.0",
            "_model_name": "FloatProgressModel",
            "_view_count": null,
            "_view_module": "@jupyter-widgets/controls",
            "_view_module_version": "1.5.0",
            "_view_name": "ProgressView",
            "bar_style": "success",
            "description": "",
            "description_tooltip": null,
            "layout": "IPY_MODEL_fa45b4c8c7ae40a9892cdd27ea2ed067",
            "max": 50000,
            "min": 0,
            "orientation": "horizontal",
            "style": "IPY_MODEL_5cfff1536a5c4693b4868db414ee0ddf",
            "value": 50000
          }
        },
        "39b9dc9043a14d74bce828613bf87fc8": {
          "model_module": "@jupyter-widgets/controls",
          "model_name": "HTMLModel",
          "model_module_version": "1.5.0",
          "state": {
            "_dom_classes": [],
            "_model_module": "@jupyter-widgets/controls",
            "_model_module_version": "1.5.0",
            "_model_name": "HTMLModel",
            "_view_count": null,
            "_view_module": "@jupyter-widgets/controls",
            "_view_module_version": "1.5.0",
            "_view_name": "HTMLView",
            "description": "",
            "description_tooltip": null,
            "layout": "IPY_MODEL_d91c8b2dd63f476eb1977cfb530ce895",
            "placeholder": "​",
            "style": "IPY_MODEL_ba9557772a844d1e8091eecffaf28293",
            "value": " 50000/50000 [01:54&lt;00:00, 432.44it/s]"
          }
        },
        "ecc7ba156a2e4505b678a08a95ce7fa4": {
          "model_module": "@jupyter-widgets/base",
          "model_name": "LayoutModel",
          "model_module_version": "1.2.0",
          "state": {
            "_model_module": "@jupyter-widgets/base",
            "_model_module_version": "1.2.0",
            "_model_name": "LayoutModel",
            "_view_count": null,
            "_view_module": "@jupyter-widgets/base",
            "_view_module_version": "1.2.0",
            "_view_name": "LayoutView",
            "align_content": null,
            "align_items": null,
            "align_self": null,
            "border": null,
            "bottom": null,
            "display": null,
            "flex": null,
            "flex_flow": null,
            "grid_area": null,
            "grid_auto_columns": null,
            "grid_auto_flow": null,
            "grid_auto_rows": null,
            "grid_column": null,
            "grid_gap": null,
            "grid_row": null,
            "grid_template_areas": null,
            "grid_template_columns": null,
            "grid_template_rows": null,
            "height": null,
            "justify_content": null,
            "justify_items": null,
            "left": null,
            "margin": null,
            "max_height": null,
            "max_width": null,
            "min_height": null,
            "min_width": null,
            "object_fit": null,
            "object_position": null,
            "order": null,
            "overflow": null,
            "overflow_x": null,
            "overflow_y": null,
            "padding": null,
            "right": null,
            "top": null,
            "visibility": null,
            "width": null
          }
        },
        "381274a5317f4d5a9d86fc3bada327e0": {
          "model_module": "@jupyter-widgets/base",
          "model_name": "LayoutModel",
          "model_module_version": "1.2.0",
          "state": {
            "_model_module": "@jupyter-widgets/base",
            "_model_module_version": "1.2.0",
            "_model_name": "LayoutModel",
            "_view_count": null,
            "_view_module": "@jupyter-widgets/base",
            "_view_module_version": "1.2.0",
            "_view_name": "LayoutView",
            "align_content": null,
            "align_items": null,
            "align_self": null,
            "border": null,
            "bottom": null,
            "display": null,
            "flex": null,
            "flex_flow": null,
            "grid_area": null,
            "grid_auto_columns": null,
            "grid_auto_flow": null,
            "grid_auto_rows": null,
            "grid_column": null,
            "grid_gap": null,
            "grid_row": null,
            "grid_template_areas": null,
            "grid_template_columns": null,
            "grid_template_rows": null,
            "height": null,
            "justify_content": null,
            "justify_items": null,
            "left": null,
            "margin": null,
            "max_height": null,
            "max_width": null,
            "min_height": null,
            "min_width": null,
            "object_fit": null,
            "object_position": null,
            "order": null,
            "overflow": null,
            "overflow_x": null,
            "overflow_y": null,
            "padding": null,
            "right": null,
            "top": null,
            "visibility": null,
            "width": null
          }
        },
        "7853d32026d24a62be24d47d4251e834": {
          "model_module": "@jupyter-widgets/controls",
          "model_name": "DescriptionStyleModel",
          "model_module_version": "1.5.0",
          "state": {
            "_model_module": "@jupyter-widgets/controls",
            "_model_module_version": "1.5.0",
            "_model_name": "DescriptionStyleModel",
            "_view_count": null,
            "_view_module": "@jupyter-widgets/base",
            "_view_module_version": "1.2.0",
            "_view_name": "StyleView",
            "description_width": ""
          }
        },
        "fa45b4c8c7ae40a9892cdd27ea2ed067": {
          "model_module": "@jupyter-widgets/base",
          "model_name": "LayoutModel",
          "model_module_version": "1.2.0",
          "state": {
            "_model_module": "@jupyter-widgets/base",
            "_model_module_version": "1.2.0",
            "_model_name": "LayoutModel",
            "_view_count": null,
            "_view_module": "@jupyter-widgets/base",
            "_view_module_version": "1.2.0",
            "_view_name": "LayoutView",
            "align_content": null,
            "align_items": null,
            "align_self": null,
            "border": null,
            "bottom": null,
            "display": null,
            "flex": null,
            "flex_flow": null,
            "grid_area": null,
            "grid_auto_columns": null,
            "grid_auto_flow": null,
            "grid_auto_rows": null,
            "grid_column": null,
            "grid_gap": null,
            "grid_row": null,
            "grid_template_areas": null,
            "grid_template_columns": null,
            "grid_template_rows": null,
            "height": null,
            "justify_content": null,
            "justify_items": null,
            "left": null,
            "margin": null,
            "max_height": null,
            "max_width": null,
            "min_height": null,
            "min_width": null,
            "object_fit": null,
            "object_position": null,
            "order": null,
            "overflow": null,
            "overflow_x": null,
            "overflow_y": null,
            "padding": null,
            "right": null,
            "top": null,
            "visibility": null,
            "width": null
          }
        },
        "5cfff1536a5c4693b4868db414ee0ddf": {
          "model_module": "@jupyter-widgets/controls",
          "model_name": "ProgressStyleModel",
          "model_module_version": "1.5.0",
          "state": {
            "_model_module": "@jupyter-widgets/controls",
            "_model_module_version": "1.5.0",
            "_model_name": "ProgressStyleModel",
            "_view_count": null,
            "_view_module": "@jupyter-widgets/base",
            "_view_module_version": "1.2.0",
            "_view_name": "StyleView",
            "bar_color": null,
            "description_width": ""
          }
        },
        "d91c8b2dd63f476eb1977cfb530ce895": {
          "model_module": "@jupyter-widgets/base",
          "model_name": "LayoutModel",
          "model_module_version": "1.2.0",
          "state": {
            "_model_module": "@jupyter-widgets/base",
            "_model_module_version": "1.2.0",
            "_model_name": "LayoutModel",
            "_view_count": null,
            "_view_module": "@jupyter-widgets/base",
            "_view_module_version": "1.2.0",
            "_view_name": "LayoutView",
            "align_content": null,
            "align_items": null,
            "align_self": null,
            "border": null,
            "bottom": null,
            "display": null,
            "flex": null,
            "flex_flow": null,
            "grid_area": null,
            "grid_auto_columns": null,
            "grid_auto_flow": null,
            "grid_auto_rows": null,
            "grid_column": null,
            "grid_gap": null,
            "grid_row": null,
            "grid_template_areas": null,
            "grid_template_columns": null,
            "grid_template_rows": null,
            "height": null,
            "justify_content": null,
            "justify_items": null,
            "left": null,
            "margin": null,
            "max_height": null,
            "max_width": null,
            "min_height": null,
            "min_width": null,
            "object_fit": null,
            "object_position": null,
            "order": null,
            "overflow": null,
            "overflow_x": null,
            "overflow_y": null,
            "padding": null,
            "right": null,
            "top": null,
            "visibility": null,
            "width": null
          }
        },
        "ba9557772a844d1e8091eecffaf28293": {
          "model_module": "@jupyter-widgets/controls",
          "model_name": "DescriptionStyleModel",
          "model_module_version": "1.5.0",
          "state": {
            "_model_module": "@jupyter-widgets/controls",
            "_model_module_version": "1.5.0",
            "_model_name": "DescriptionStyleModel",
            "_view_count": null,
            "_view_module": "@jupyter-widgets/base",
            "_view_module_version": "1.2.0",
            "_view_name": "StyleView",
            "description_width": ""
          }
        },
        "69f88260d8e04290bbbbb6bc56ce5386": {
          "model_module": "@jupyter-widgets/controls",
          "model_name": "HBoxModel",
          "model_module_version": "1.5.0",
          "state": {
            "_dom_classes": [],
            "_model_module": "@jupyter-widgets/controls",
            "_model_module_version": "1.5.0",
            "_model_name": "HBoxModel",
            "_view_count": null,
            "_view_module": "@jupyter-widgets/controls",
            "_view_module_version": "1.5.0",
            "_view_name": "HBoxView",
            "box_style": "",
            "children": [
              "IPY_MODEL_436966bdb1e74a00b147a675c568ce2e",
              "IPY_MODEL_72460e4430934f879d6e143ac62985b5",
              "IPY_MODEL_a22eb9500d4e4eafb316f0cd53adf68d"
            ],
            "layout": "IPY_MODEL_1d0a689f23ed413caaa4ba5d377b0c6f"
          }
        },
        "436966bdb1e74a00b147a675c568ce2e": {
          "model_module": "@jupyter-widgets/controls",
          "model_name": "HTMLModel",
          "model_module_version": "1.5.0",
          "state": {
            "_dom_classes": [],
            "_model_module": "@jupyter-widgets/controls",
            "_model_module_version": "1.5.0",
            "_model_name": "HTMLModel",
            "_view_count": null,
            "_view_module": "@jupyter-widgets/controls",
            "_view_module_version": "1.5.0",
            "_view_name": "HTMLView",
            "description": "",
            "description_tooltip": null,
            "layout": "IPY_MODEL_d37406b6b2104a4bae202e2db6d26794",
            "placeholder": "​",
            "style": "IPY_MODEL_e4405999266043fda0699a61333ebea5",
            "value": "100%"
          }
        },
        "72460e4430934f879d6e143ac62985b5": {
          "model_module": "@jupyter-widgets/controls",
          "model_name": "FloatProgressModel",
          "model_module_version": "1.5.0",
          "state": {
            "_dom_classes": [],
            "_model_module": "@jupyter-widgets/controls",
            "_model_module_version": "1.5.0",
            "_model_name": "FloatProgressModel",
            "_view_count": null,
            "_view_module": "@jupyter-widgets/controls",
            "_view_module_version": "1.5.0",
            "_view_name": "ProgressView",
            "bar_style": "success",
            "description": "",
            "description_tooltip": null,
            "layout": "IPY_MODEL_93f9e982729d42d9b41ae7a845b6c2dc",
            "max": 10000,
            "min": 0,
            "orientation": "horizontal",
            "style": "IPY_MODEL_7a256b7f9bf1454bbff26f0f7d09e1ef",
            "value": 10000
          }
        },
        "a22eb9500d4e4eafb316f0cd53adf68d": {
          "model_module": "@jupyter-widgets/controls",
          "model_name": "HTMLModel",
          "model_module_version": "1.5.0",
          "state": {
            "_dom_classes": [],
            "_model_module": "@jupyter-widgets/controls",
            "_model_module_version": "1.5.0",
            "_model_name": "HTMLModel",
            "_view_count": null,
            "_view_module": "@jupyter-widgets/controls",
            "_view_module_version": "1.5.0",
            "_view_name": "HTMLView",
            "description": "",
            "description_tooltip": null,
            "layout": "IPY_MODEL_c4424f22f07b4f32b1fe9bdc7af2bb6e",
            "placeholder": "​",
            "style": "IPY_MODEL_d8a3a2f33dcc4d958b611fa1d967bde1",
            "value": " 10000/10000 [00:06&lt;00:00, 1503.22it/s]"
          }
        },
        "1d0a689f23ed413caaa4ba5d377b0c6f": {
          "model_module": "@jupyter-widgets/base",
          "model_name": "LayoutModel",
          "model_module_version": "1.2.0",
          "state": {
            "_model_module": "@jupyter-widgets/base",
            "_model_module_version": "1.2.0",
            "_model_name": "LayoutModel",
            "_view_count": null,
            "_view_module": "@jupyter-widgets/base",
            "_view_module_version": "1.2.0",
            "_view_name": "LayoutView",
            "align_content": null,
            "align_items": null,
            "align_self": null,
            "border": null,
            "bottom": null,
            "display": null,
            "flex": null,
            "flex_flow": null,
            "grid_area": null,
            "grid_auto_columns": null,
            "grid_auto_flow": null,
            "grid_auto_rows": null,
            "grid_column": null,
            "grid_gap": null,
            "grid_row": null,
            "grid_template_areas": null,
            "grid_template_columns": null,
            "grid_template_rows": null,
            "height": null,
            "justify_content": null,
            "justify_items": null,
            "left": null,
            "margin": null,
            "max_height": null,
            "max_width": null,
            "min_height": null,
            "min_width": null,
            "object_fit": null,
            "object_position": null,
            "order": null,
            "overflow": null,
            "overflow_x": null,
            "overflow_y": null,
            "padding": null,
            "right": null,
            "top": null,
            "visibility": null,
            "width": null
          }
        },
        "d37406b6b2104a4bae202e2db6d26794": {
          "model_module": "@jupyter-widgets/base",
          "model_name": "LayoutModel",
          "model_module_version": "1.2.0",
          "state": {
            "_model_module": "@jupyter-widgets/base",
            "_model_module_version": "1.2.0",
            "_model_name": "LayoutModel",
            "_view_count": null,
            "_view_module": "@jupyter-widgets/base",
            "_view_module_version": "1.2.0",
            "_view_name": "LayoutView",
            "align_content": null,
            "align_items": null,
            "align_self": null,
            "border": null,
            "bottom": null,
            "display": null,
            "flex": null,
            "flex_flow": null,
            "grid_area": null,
            "grid_auto_columns": null,
            "grid_auto_flow": null,
            "grid_auto_rows": null,
            "grid_column": null,
            "grid_gap": null,
            "grid_row": null,
            "grid_template_areas": null,
            "grid_template_columns": null,
            "grid_template_rows": null,
            "height": null,
            "justify_content": null,
            "justify_items": null,
            "left": null,
            "margin": null,
            "max_height": null,
            "max_width": null,
            "min_height": null,
            "min_width": null,
            "object_fit": null,
            "object_position": null,
            "order": null,
            "overflow": null,
            "overflow_x": null,
            "overflow_y": null,
            "padding": null,
            "right": null,
            "top": null,
            "visibility": null,
            "width": null
          }
        },
        "e4405999266043fda0699a61333ebea5": {
          "model_module": "@jupyter-widgets/controls",
          "model_name": "DescriptionStyleModel",
          "model_module_version": "1.5.0",
          "state": {
            "_model_module": "@jupyter-widgets/controls",
            "_model_module_version": "1.5.0",
            "_model_name": "DescriptionStyleModel",
            "_view_count": null,
            "_view_module": "@jupyter-widgets/base",
            "_view_module_version": "1.2.0",
            "_view_name": "StyleView",
            "description_width": ""
          }
        },
        "93f9e982729d42d9b41ae7a845b6c2dc": {
          "model_module": "@jupyter-widgets/base",
          "model_name": "LayoutModel",
          "model_module_version": "1.2.0",
          "state": {
            "_model_module": "@jupyter-widgets/base",
            "_model_module_version": "1.2.0",
            "_model_name": "LayoutModel",
            "_view_count": null,
            "_view_module": "@jupyter-widgets/base",
            "_view_module_version": "1.2.0",
            "_view_name": "LayoutView",
            "align_content": null,
            "align_items": null,
            "align_self": null,
            "border": null,
            "bottom": null,
            "display": null,
            "flex": null,
            "flex_flow": null,
            "grid_area": null,
            "grid_auto_columns": null,
            "grid_auto_flow": null,
            "grid_auto_rows": null,
            "grid_column": null,
            "grid_gap": null,
            "grid_row": null,
            "grid_template_areas": null,
            "grid_template_columns": null,
            "grid_template_rows": null,
            "height": null,
            "justify_content": null,
            "justify_items": null,
            "left": null,
            "margin": null,
            "max_height": null,
            "max_width": null,
            "min_height": null,
            "min_width": null,
            "object_fit": null,
            "object_position": null,
            "order": null,
            "overflow": null,
            "overflow_x": null,
            "overflow_y": null,
            "padding": null,
            "right": null,
            "top": null,
            "visibility": null,
            "width": null
          }
        },
        "7a256b7f9bf1454bbff26f0f7d09e1ef": {
          "model_module": "@jupyter-widgets/controls",
          "model_name": "ProgressStyleModel",
          "model_module_version": "1.5.0",
          "state": {
            "_model_module": "@jupyter-widgets/controls",
            "_model_module_version": "1.5.0",
            "_model_name": "ProgressStyleModel",
            "_view_count": null,
            "_view_module": "@jupyter-widgets/base",
            "_view_module_version": "1.2.0",
            "_view_name": "StyleView",
            "bar_color": null,
            "description_width": ""
          }
        },
        "c4424f22f07b4f32b1fe9bdc7af2bb6e": {
          "model_module": "@jupyter-widgets/base",
          "model_name": "LayoutModel",
          "model_module_version": "1.2.0",
          "state": {
            "_model_module": "@jupyter-widgets/base",
            "_model_module_version": "1.2.0",
            "_model_name": "LayoutModel",
            "_view_count": null,
            "_view_module": "@jupyter-widgets/base",
            "_view_module_version": "1.2.0",
            "_view_name": "LayoutView",
            "align_content": null,
            "align_items": null,
            "align_self": null,
            "border": null,
            "bottom": null,
            "display": null,
            "flex": null,
            "flex_flow": null,
            "grid_area": null,
            "grid_auto_columns": null,
            "grid_auto_flow": null,
            "grid_auto_rows": null,
            "grid_column": null,
            "grid_gap": null,
            "grid_row": null,
            "grid_template_areas": null,
            "grid_template_columns": null,
            "grid_template_rows": null,
            "height": null,
            "justify_content": null,
            "justify_items": null,
            "left": null,
            "margin": null,
            "max_height": null,
            "max_width": null,
            "min_height": null,
            "min_width": null,
            "object_fit": null,
            "object_position": null,
            "order": null,
            "overflow": null,
            "overflow_x": null,
            "overflow_y": null,
            "padding": null,
            "right": null,
            "top": null,
            "visibility": null,
            "width": null
          }
        },
        "d8a3a2f33dcc4d958b611fa1d967bde1": {
          "model_module": "@jupyter-widgets/controls",
          "model_name": "DescriptionStyleModel",
          "model_module_version": "1.5.0",
          "state": {
            "_model_module": "@jupyter-widgets/controls",
            "_model_module_version": "1.5.0",
            "_model_name": "DescriptionStyleModel",
            "_view_count": null,
            "_view_module": "@jupyter-widgets/base",
            "_view_module_version": "1.2.0",
            "_view_name": "StyleView",
            "description_width": ""
          }
        },
        "aff7435879594991948555b1906a0e01": {
          "model_module": "@jupyter-widgets/controls",
          "model_name": "HBoxModel",
          "model_module_version": "1.5.0",
          "state": {
            "_dom_classes": [],
            "_model_module": "@jupyter-widgets/controls",
            "_model_module_version": "1.5.0",
            "_model_name": "HBoxModel",
            "_view_count": null,
            "_view_module": "@jupyter-widgets/controls",
            "_view_module_version": "1.5.0",
            "_view_name": "HBoxView",
            "box_style": "",
            "children": [
              "IPY_MODEL_e8280f74ffaf47d49f55a34b607b5aa8",
              "IPY_MODEL_b84fb2dbfce74523a50c1e5db005d80a",
              "IPY_MODEL_72b85eb7e3464240b2f8f55872332f12"
            ],
            "layout": "IPY_MODEL_4f16fa8e8ed6461d9c992ee221e53c12"
          }
        },
        "e8280f74ffaf47d49f55a34b607b5aa8": {
          "model_module": "@jupyter-widgets/controls",
          "model_name": "HTMLModel",
          "model_module_version": "1.5.0",
          "state": {
            "_dom_classes": [],
            "_model_module": "@jupyter-widgets/controls",
            "_model_module_version": "1.5.0",
            "_model_name": "HTMLModel",
            "_view_count": null,
            "_view_module": "@jupyter-widgets/controls",
            "_view_module_version": "1.5.0",
            "_view_name": "HTMLView",
            "description": "",
            "description_tooltip": null,
            "layout": "IPY_MODEL_ec5799bede774b6aba466ce8a38c24f9",
            "placeholder": "​",
            "style": "IPY_MODEL_29fcc56f9d944c81a983275c8204b155",
            "value": "100%"
          }
        },
        "b84fb2dbfce74523a50c1e5db005d80a": {
          "model_module": "@jupyter-widgets/controls",
          "model_name": "FloatProgressModel",
          "model_module_version": "1.5.0",
          "state": {
            "_dom_classes": [],
            "_model_module": "@jupyter-widgets/controls",
            "_model_module_version": "1.5.0",
            "_model_name": "FloatProgressModel",
            "_view_count": null,
            "_view_module": "@jupyter-widgets/controls",
            "_view_module_version": "1.5.0",
            "_view_name": "ProgressView",
            "bar_style": "success",
            "description": "",
            "description_tooltip": null,
            "layout": "IPY_MODEL_91f87a291e9f4ae087552cf6259ea725",
            "max": 20000,
            "min": 0,
            "orientation": "horizontal",
            "style": "IPY_MODEL_d71199e579d6412e8841e9eada241389",
            "value": 20000
          }
        },
        "72b85eb7e3464240b2f8f55872332f12": {
          "model_module": "@jupyter-widgets/controls",
          "model_name": "HTMLModel",
          "model_module_version": "1.5.0",
          "state": {
            "_dom_classes": [],
            "_model_module": "@jupyter-widgets/controls",
            "_model_module_version": "1.5.0",
            "_model_name": "HTMLModel",
            "_view_count": null,
            "_view_module": "@jupyter-widgets/controls",
            "_view_module_version": "1.5.0",
            "_view_name": "HTMLView",
            "description": "",
            "description_tooltip": null,
            "layout": "IPY_MODEL_427b3452512e4ef99d485b4aa6a68818",
            "placeholder": "​",
            "style": "IPY_MODEL_e41d4266bd024e5e9dbc5d535140b556",
            "value": " 20000/20000 [09:31&lt;00:00, 36.70it/s]"
          }
        },
        "4f16fa8e8ed6461d9c992ee221e53c12": {
          "model_module": "@jupyter-widgets/base",
          "model_name": "LayoutModel",
          "model_module_version": "1.2.0",
          "state": {
            "_model_module": "@jupyter-widgets/base",
            "_model_module_version": "1.2.0",
            "_model_name": "LayoutModel",
            "_view_count": null,
            "_view_module": "@jupyter-widgets/base",
            "_view_module_version": "1.2.0",
            "_view_name": "LayoutView",
            "align_content": null,
            "align_items": null,
            "align_self": null,
            "border": null,
            "bottom": null,
            "display": null,
            "flex": null,
            "flex_flow": null,
            "grid_area": null,
            "grid_auto_columns": null,
            "grid_auto_flow": null,
            "grid_auto_rows": null,
            "grid_column": null,
            "grid_gap": null,
            "grid_row": null,
            "grid_template_areas": null,
            "grid_template_columns": null,
            "grid_template_rows": null,
            "height": null,
            "justify_content": null,
            "justify_items": null,
            "left": null,
            "margin": null,
            "max_height": null,
            "max_width": null,
            "min_height": null,
            "min_width": null,
            "object_fit": null,
            "object_position": null,
            "order": null,
            "overflow": null,
            "overflow_x": null,
            "overflow_y": null,
            "padding": null,
            "right": null,
            "top": null,
            "visibility": null,
            "width": null
          }
        },
        "ec5799bede774b6aba466ce8a38c24f9": {
          "model_module": "@jupyter-widgets/base",
          "model_name": "LayoutModel",
          "model_module_version": "1.2.0",
          "state": {
            "_model_module": "@jupyter-widgets/base",
            "_model_module_version": "1.2.0",
            "_model_name": "LayoutModel",
            "_view_count": null,
            "_view_module": "@jupyter-widgets/base",
            "_view_module_version": "1.2.0",
            "_view_name": "LayoutView",
            "align_content": null,
            "align_items": null,
            "align_self": null,
            "border": null,
            "bottom": null,
            "display": null,
            "flex": null,
            "flex_flow": null,
            "grid_area": null,
            "grid_auto_columns": null,
            "grid_auto_flow": null,
            "grid_auto_rows": null,
            "grid_column": null,
            "grid_gap": null,
            "grid_row": null,
            "grid_template_areas": null,
            "grid_template_columns": null,
            "grid_template_rows": null,
            "height": null,
            "justify_content": null,
            "justify_items": null,
            "left": null,
            "margin": null,
            "max_height": null,
            "max_width": null,
            "min_height": null,
            "min_width": null,
            "object_fit": null,
            "object_position": null,
            "order": null,
            "overflow": null,
            "overflow_x": null,
            "overflow_y": null,
            "padding": null,
            "right": null,
            "top": null,
            "visibility": null,
            "width": null
          }
        },
        "29fcc56f9d944c81a983275c8204b155": {
          "model_module": "@jupyter-widgets/controls",
          "model_name": "DescriptionStyleModel",
          "model_module_version": "1.5.0",
          "state": {
            "_model_module": "@jupyter-widgets/controls",
            "_model_module_version": "1.5.0",
            "_model_name": "DescriptionStyleModel",
            "_view_count": null,
            "_view_module": "@jupyter-widgets/base",
            "_view_module_version": "1.2.0",
            "_view_name": "StyleView",
            "description_width": ""
          }
        },
        "91f87a291e9f4ae087552cf6259ea725": {
          "model_module": "@jupyter-widgets/base",
          "model_name": "LayoutModel",
          "model_module_version": "1.2.0",
          "state": {
            "_model_module": "@jupyter-widgets/base",
            "_model_module_version": "1.2.0",
            "_model_name": "LayoutModel",
            "_view_count": null,
            "_view_module": "@jupyter-widgets/base",
            "_view_module_version": "1.2.0",
            "_view_name": "LayoutView",
            "align_content": null,
            "align_items": null,
            "align_self": null,
            "border": null,
            "bottom": null,
            "display": null,
            "flex": null,
            "flex_flow": null,
            "grid_area": null,
            "grid_auto_columns": null,
            "grid_auto_flow": null,
            "grid_auto_rows": null,
            "grid_column": null,
            "grid_gap": null,
            "grid_row": null,
            "grid_template_areas": null,
            "grid_template_columns": null,
            "grid_template_rows": null,
            "height": null,
            "justify_content": null,
            "justify_items": null,
            "left": null,
            "margin": null,
            "max_height": null,
            "max_width": null,
            "min_height": null,
            "min_width": null,
            "object_fit": null,
            "object_position": null,
            "order": null,
            "overflow": null,
            "overflow_x": null,
            "overflow_y": null,
            "padding": null,
            "right": null,
            "top": null,
            "visibility": null,
            "width": null
          }
        },
        "d71199e579d6412e8841e9eada241389": {
          "model_module": "@jupyter-widgets/controls",
          "model_name": "ProgressStyleModel",
          "model_module_version": "1.5.0",
          "state": {
            "_model_module": "@jupyter-widgets/controls",
            "_model_module_version": "1.5.0",
            "_model_name": "ProgressStyleModel",
            "_view_count": null,
            "_view_module": "@jupyter-widgets/base",
            "_view_module_version": "1.2.0",
            "_view_name": "StyleView",
            "bar_color": null,
            "description_width": ""
          }
        },
        "427b3452512e4ef99d485b4aa6a68818": {
          "model_module": "@jupyter-widgets/base",
          "model_name": "LayoutModel",
          "model_module_version": "1.2.0",
          "state": {
            "_model_module": "@jupyter-widgets/base",
            "_model_module_version": "1.2.0",
            "_model_name": "LayoutModel",
            "_view_count": null,
            "_view_module": "@jupyter-widgets/base",
            "_view_module_version": "1.2.0",
            "_view_name": "LayoutView",
            "align_content": null,
            "align_items": null,
            "align_self": null,
            "border": null,
            "bottom": null,
            "display": null,
            "flex": null,
            "flex_flow": null,
            "grid_area": null,
            "grid_auto_columns": null,
            "grid_auto_flow": null,
            "grid_auto_rows": null,
            "grid_column": null,
            "grid_gap": null,
            "grid_row": null,
            "grid_template_areas": null,
            "grid_template_columns": null,
            "grid_template_rows": null,
            "height": null,
            "justify_content": null,
            "justify_items": null,
            "left": null,
            "margin": null,
            "max_height": null,
            "max_width": null,
            "min_height": null,
            "min_width": null,
            "object_fit": null,
            "object_position": null,
            "order": null,
            "overflow": null,
            "overflow_x": null,
            "overflow_y": null,
            "padding": null,
            "right": null,
            "top": null,
            "visibility": null,
            "width": null
          }
        },
        "e41d4266bd024e5e9dbc5d535140b556": {
          "model_module": "@jupyter-widgets/controls",
          "model_name": "DescriptionStyleModel",
          "model_module_version": "1.5.0",
          "state": {
            "_model_module": "@jupyter-widgets/controls",
            "_model_module_version": "1.5.0",
            "_model_name": "DescriptionStyleModel",
            "_view_count": null,
            "_view_module": "@jupyter-widgets/base",
            "_view_module_version": "1.2.0",
            "_view_name": "StyleView",
            "description_width": ""
          }
        }
      }
    }
  },
  "nbformat": 4,
  "nbformat_minor": 0
}