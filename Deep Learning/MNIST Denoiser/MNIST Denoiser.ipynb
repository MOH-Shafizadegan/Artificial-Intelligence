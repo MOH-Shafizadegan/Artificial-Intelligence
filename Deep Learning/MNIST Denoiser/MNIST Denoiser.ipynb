{
  "cells": [
    {
      "cell_type": "markdown",
      "metadata": {
        "id": "dWuBPBS4vXvB"
      },
      "source": [
        "<center>\n",
        "In God We Trust\n",
        "</center>"
      ]
    },
    {
      "cell_type": "markdown",
      "metadata": {
        "id": "cSPwho1gvXvF"
      },
      "source": [
        "# CE417: Artificial Intelligence\n",
        "\n",
        "Dr. Mahdiyeh Soleymani Baghshah, Associate Professor\n",
        "\n",
        "Computer Engineering Department,\n",
        "Sharif University of Technology,\n",
        "Tehran, Tehran, Iran\n"
      ]
    },
    {
      "cell_type": "markdown",
      "metadata": {
        "id": "jpgWjr1YvXvG"
      },
      "source": [
        "# MNIST Autoencoder (20 Points)\n",
        "\n",
        "Corresponding TA: Aryan Ahadinia\n",
        "\n",
        "In this problem, we want to train an autoencoder. Autoencoder is a type of neural network which is used for unsupervised tasks. Figure below is showing a simple autoencoder.\n",
        "\n",
        "<center>\n",
        "<img src=\"./assets/autoencoder.png\" style=\"width: 50%\">\n",
        "</center>\n",
        "\n",
        "We want to train a neural network which get a noisy image as input and denoise it in the output. We focus on MNIST dataset. MNIST is a dataset containing 60000 images of hand-written digits. We artificially add a random noise to images and then we train our network to get the noisy image as input and give the cleared image in the output.\n",
        "\n",
        "<center>\n",
        "<img src=\"./assets/desc.png\" style=\"width: 50%\">\n",
        "</center>\n"
      ]
    },
    {
      "cell_type": "markdown",
      "metadata": {
        "id": "lE_j6KEOvXvH"
      },
      "source": [
        "If you have an nVidia CUDA-compatible GPU, you can proceed to install CUDA and a CUDA-compatible pytorch versions. You can also use Google Colaboratory or Kaggle.\n",
        " "
      ]
    },
    {
      "cell_type": "code",
      "execution_count": 1,
      "metadata": {
        "id": "1pUx82UtvXvI",
        "colab": {
          "base_uri": "https://localhost:8080/"
        },
        "outputId": "5e6c9968-87ae-4fea-e3d5-f4e29ab7968f"
      },
      "outputs": [
        {
          "output_type": "stream",
          "name": "stdout",
          "text": [
            "Looking in indexes: https://pypi.org/simple, https://us-python.pkg.dev/colab-wheels/public/simple/\n",
            "Requirement already satisfied: numpy in /usr/local/lib/python3.8/dist-packages (1.21.6)\n",
            "Looking in indexes: https://pypi.org/simple, https://us-python.pkg.dev/colab-wheels/public/simple/\n",
            "Requirement already satisfied: tqdm in /usr/local/lib/python3.8/dist-packages (4.64.1)\n",
            "Looking in indexes: https://pypi.org/simple, https://us-python.pkg.dev/colab-wheels/public/simple/\n",
            "Requirement already satisfied: matplotlib in /usr/local/lib/python3.8/dist-packages (3.2.2)\n",
            "Requirement already satisfied: numpy>=1.11 in /usr/local/lib/python3.8/dist-packages (from matplotlib) (1.21.6)\n",
            "Requirement already satisfied: python-dateutil>=2.1 in /usr/local/lib/python3.8/dist-packages (from matplotlib) (2.8.2)\n",
            "Requirement already satisfied: pyparsing!=2.0.4,!=2.1.2,!=2.1.6,>=2.0.1 in /usr/local/lib/python3.8/dist-packages (from matplotlib) (3.0.9)\n",
            "Requirement already satisfied: cycler>=0.10 in /usr/local/lib/python3.8/dist-packages (from matplotlib) (0.11.0)\n",
            "Requirement already satisfied: kiwisolver>=1.0.1 in /usr/local/lib/python3.8/dist-packages (from matplotlib) (1.4.4)\n",
            "Requirement already satisfied: six>=1.5 in /usr/local/lib/python3.8/dist-packages (from python-dateutil>=2.1->matplotlib) (1.15.0)\n",
            "Looking in indexes: https://pypi.org/simple, https://us-python.pkg.dev/colab-wheels/public/simple/\n",
            "Requirement already satisfied: torch in /usr/local/lib/python3.8/dist-packages (1.13.1+cu116)\n",
            "Requirement already satisfied: torchvision in /usr/local/lib/python3.8/dist-packages (0.14.1+cu116)\n",
            "Requirement already satisfied: torchaudio in /usr/local/lib/python3.8/dist-packages (0.13.1+cu116)\n",
            "Requirement already satisfied: typing-extensions in /usr/local/lib/python3.8/dist-packages (from torch) (4.4.0)\n",
            "Requirement already satisfied: pillow!=8.3.*,>=5.3.0 in /usr/local/lib/python3.8/dist-packages (from torchvision) (7.1.2)\n",
            "Requirement already satisfied: numpy in /usr/local/lib/python3.8/dist-packages (from torchvision) (1.21.6)\n",
            "Requirement already satisfied: requests in /usr/local/lib/python3.8/dist-packages (from torchvision) (2.25.1)\n",
            "Requirement already satisfied: chardet<5,>=3.0.2 in /usr/local/lib/python3.8/dist-packages (from requests->torchvision) (4.0.0)\n",
            "Requirement already satisfied: idna<3,>=2.5 in /usr/local/lib/python3.8/dist-packages (from requests->torchvision) (2.10)\n",
            "Requirement already satisfied: certifi>=2017.4.17 in /usr/local/lib/python3.8/dist-packages (from requests->torchvision) (2022.12.7)\n",
            "Requirement already satisfied: urllib3<1.27,>=1.21.1 in /usr/local/lib/python3.8/dist-packages (from requests->torchvision) (1.24.3)\n"
          ]
        }
      ],
      "source": [
        "# %pip install numpy\n",
        "# %pip install tqdm\n",
        "# %pip install matplotlib\n",
        "# %pip install torch torchvision torchaudio\n"
      ]
    },
    {
      "cell_type": "code",
      "execution_count": 2,
      "metadata": {
        "id": "tThp1qOTvXvJ"
      },
      "outputs": [],
      "source": [
        "import numpy as np\n",
        "import matplotlib.pyplot as plt\n",
        "\n",
        "import torch\n",
        "import torchvision.datasets as datasets\n",
        "import torchvision.transforms as transforms\n",
        "import torch.nn as nn\n",
        "\n",
        "from tqdm import tqdm\n"
      ]
    },
    {
      "cell_type": "markdown",
      "metadata": {
        "id": "kTzVEeE0vXvK"
      },
      "source": [
        "In cell below, we load our data."
      ]
    },
    {
      "cell_type": "code",
      "execution_count": 3,
      "metadata": {
        "id": "WS9Ud__bvXvK"
      },
      "outputs": [],
      "source": [
        "transform = transforms.Compose(\n",
        "    [\n",
        "        transforms.ToTensor(),\n",
        "        transforms.Normalize((0.5,), (0.5,)),\n",
        "    ]\n",
        ")\n",
        "\n",
        "mnist_train = datasets.MNIST(\n",
        "    root=\"./data\", train=True, download=True, transform=transform\n",
        ")\n",
        "mnist_test = datasets.MNIST(\n",
        "    root=\"./data\", train=False, download=True, transform=transform\n",
        ")\n"
      ]
    },
    {
      "cell_type": "code",
      "source": [
        "from keras.datasets import mnist\n",
        "(x_train, label_train), (x_test, label_test) = mnist.load_data()"
      ],
      "metadata": {
        "id": "P6zUieoUZe1x"
      },
      "execution_count": 4,
      "outputs": []
    },
    {
      "cell_type": "code",
      "source": [
        "x_train.shape"
      ],
      "metadata": {
        "colab": {
          "base_uri": "https://localhost:8080/"
        },
        "id": "AukjDXSZbweU",
        "outputId": "7c45b5b0-b86e-49a9-df9d-8e6a344ed2f8"
      },
      "execution_count": 5,
      "outputs": [
        {
          "output_type": "execute_result",
          "data": {
            "text/plain": [
              "(60000, 28, 28)"
            ]
          },
          "metadata": {},
          "execution_count": 5
        }
      ]
    },
    {
      "cell_type": "code",
      "source": [
        "x_train[0]"
      ],
      "metadata": {
        "colab": {
          "base_uri": "https://localhost:8080/"
        },
        "id": "mhO_Yjq5aJwe",
        "outputId": "4d278720-bf45-4e77-c334-a124ef5196b7"
      },
      "execution_count": 6,
      "outputs": [
        {
          "output_type": "execute_result",
          "data": {
            "text/plain": [
              "array([[  0,   0,   0,   0,   0,   0,   0,   0,   0,   0,   0,   0,   0,\n",
              "          0,   0,   0,   0,   0,   0,   0,   0,   0,   0,   0,   0,   0,\n",
              "          0,   0],\n",
              "       [  0,   0,   0,   0,   0,   0,   0,   0,   0,   0,   0,   0,   0,\n",
              "          0,   0,   0,   0,   0,   0,   0,   0,   0,   0,   0,   0,   0,\n",
              "          0,   0],\n",
              "       [  0,   0,   0,   0,   0,   0,   0,   0,   0,   0,   0,   0,   0,\n",
              "          0,   0,   0,   0,   0,   0,   0,   0,   0,   0,   0,   0,   0,\n",
              "          0,   0],\n",
              "       [  0,   0,   0,   0,   0,   0,   0,   0,   0,   0,   0,   0,   0,\n",
              "          0,   0,   0,   0,   0,   0,   0,   0,   0,   0,   0,   0,   0,\n",
              "          0,   0],\n",
              "       [  0,   0,   0,   0,   0,   0,   0,   0,   0,   0,   0,   0,   0,\n",
              "          0,   0,   0,   0,   0,   0,   0,   0,   0,   0,   0,   0,   0,\n",
              "          0,   0],\n",
              "       [  0,   0,   0,   0,   0,   0,   0,   0,   0,   0,   0,   0,   3,\n",
              "         18,  18,  18, 126, 136, 175,  26, 166, 255, 247, 127,   0,   0,\n",
              "          0,   0],\n",
              "       [  0,   0,   0,   0,   0,   0,   0,   0,  30,  36,  94, 154, 170,\n",
              "        253, 253, 253, 253, 253, 225, 172, 253, 242, 195,  64,   0,   0,\n",
              "          0,   0],\n",
              "       [  0,   0,   0,   0,   0,   0,   0,  49, 238, 253, 253, 253, 253,\n",
              "        253, 253, 253, 253, 251,  93,  82,  82,  56,  39,   0,   0,   0,\n",
              "          0,   0],\n",
              "       [  0,   0,   0,   0,   0,   0,   0,  18, 219, 253, 253, 253, 253,\n",
              "        253, 198, 182, 247, 241,   0,   0,   0,   0,   0,   0,   0,   0,\n",
              "          0,   0],\n",
              "       [  0,   0,   0,   0,   0,   0,   0,   0,  80, 156, 107, 253, 253,\n",
              "        205,  11,   0,  43, 154,   0,   0,   0,   0,   0,   0,   0,   0,\n",
              "          0,   0],\n",
              "       [  0,   0,   0,   0,   0,   0,   0,   0,   0,  14,   1, 154, 253,\n",
              "         90,   0,   0,   0,   0,   0,   0,   0,   0,   0,   0,   0,   0,\n",
              "          0,   0],\n",
              "       [  0,   0,   0,   0,   0,   0,   0,   0,   0,   0,   0, 139, 253,\n",
              "        190,   2,   0,   0,   0,   0,   0,   0,   0,   0,   0,   0,   0,\n",
              "          0,   0],\n",
              "       [  0,   0,   0,   0,   0,   0,   0,   0,   0,   0,   0,  11, 190,\n",
              "        253,  70,   0,   0,   0,   0,   0,   0,   0,   0,   0,   0,   0,\n",
              "          0,   0],\n",
              "       [  0,   0,   0,   0,   0,   0,   0,   0,   0,   0,   0,   0,  35,\n",
              "        241, 225, 160, 108,   1,   0,   0,   0,   0,   0,   0,   0,   0,\n",
              "          0,   0],\n",
              "       [  0,   0,   0,   0,   0,   0,   0,   0,   0,   0,   0,   0,   0,\n",
              "         81, 240, 253, 253, 119,  25,   0,   0,   0,   0,   0,   0,   0,\n",
              "          0,   0],\n",
              "       [  0,   0,   0,   0,   0,   0,   0,   0,   0,   0,   0,   0,   0,\n",
              "          0,  45, 186, 253, 253, 150,  27,   0,   0,   0,   0,   0,   0,\n",
              "          0,   0],\n",
              "       [  0,   0,   0,   0,   0,   0,   0,   0,   0,   0,   0,   0,   0,\n",
              "          0,   0,  16,  93, 252, 253, 187,   0,   0,   0,   0,   0,   0,\n",
              "          0,   0],\n",
              "       [  0,   0,   0,   0,   0,   0,   0,   0,   0,   0,   0,   0,   0,\n",
              "          0,   0,   0,   0, 249, 253, 249,  64,   0,   0,   0,   0,   0,\n",
              "          0,   0],\n",
              "       [  0,   0,   0,   0,   0,   0,   0,   0,   0,   0,   0,   0,   0,\n",
              "          0,  46, 130, 183, 253, 253, 207,   2,   0,   0,   0,   0,   0,\n",
              "          0,   0],\n",
              "       [  0,   0,   0,   0,   0,   0,   0,   0,   0,   0,   0,   0,  39,\n",
              "        148, 229, 253, 253, 253, 250, 182,   0,   0,   0,   0,   0,   0,\n",
              "          0,   0],\n",
              "       [  0,   0,   0,   0,   0,   0,   0,   0,   0,   0,  24, 114, 221,\n",
              "        253, 253, 253, 253, 201,  78,   0,   0,   0,   0,   0,   0,   0,\n",
              "          0,   0],\n",
              "       [  0,   0,   0,   0,   0,   0,   0,   0,  23,  66, 213, 253, 253,\n",
              "        253, 253, 198,  81,   2,   0,   0,   0,   0,   0,   0,   0,   0,\n",
              "          0,   0],\n",
              "       [  0,   0,   0,   0,   0,   0,  18, 171, 219, 253, 253, 253, 253,\n",
              "        195,  80,   9,   0,   0,   0,   0,   0,   0,   0,   0,   0,   0,\n",
              "          0,   0],\n",
              "       [  0,   0,   0,   0,  55, 172, 226, 253, 253, 253, 253, 244, 133,\n",
              "         11,   0,   0,   0,   0,   0,   0,   0,   0,   0,   0,   0,   0,\n",
              "          0,   0],\n",
              "       [  0,   0,   0,   0, 136, 253, 253, 253, 212, 135, 132,  16,   0,\n",
              "          0,   0,   0,   0,   0,   0,   0,   0,   0,   0,   0,   0,   0,\n",
              "          0,   0],\n",
              "       [  0,   0,   0,   0,   0,   0,   0,   0,   0,   0,   0,   0,   0,\n",
              "          0,   0,   0,   0,   0,   0,   0,   0,   0,   0,   0,   0,   0,\n",
              "          0,   0],\n",
              "       [  0,   0,   0,   0,   0,   0,   0,   0,   0,   0,   0,   0,   0,\n",
              "          0,   0,   0,   0,   0,   0,   0,   0,   0,   0,   0,   0,   0,\n",
              "          0,   0],\n",
              "       [  0,   0,   0,   0,   0,   0,   0,   0,   0,   0,   0,   0,   0,\n",
              "          0,   0,   0,   0,   0,   0,   0,   0,   0,   0,   0,   0,   0,\n",
              "          0,   0]], dtype=uint8)"
            ]
          },
          "metadata": {},
          "execution_count": 6
        }
      ]
    },
    {
      "cell_type": "code",
      "execution_count": 7,
      "metadata": {
        "id": "LjmY6VgIwmwl",
        "colab": {
          "base_uri": "https://localhost:8080/"
        },
        "outputId": "a99e3e45-a375-4222-e1cf-4cc7e1c70efa"
      },
      "outputs": [
        {
          "output_type": "execute_result",
          "data": {
            "text/plain": [
              "tensor([[[-1.0000, -1.0000, -1.0000, -1.0000, -1.0000, -1.0000, -1.0000,\n",
              "          -1.0000, -1.0000, -1.0000, -1.0000, -1.0000, -1.0000, -1.0000,\n",
              "          -1.0000, -1.0000, -1.0000, -1.0000, -1.0000, -1.0000, -1.0000,\n",
              "          -1.0000, -1.0000, -1.0000, -1.0000, -1.0000, -1.0000, -1.0000],\n",
              "         [-1.0000, -1.0000, -1.0000, -1.0000, -1.0000, -1.0000, -1.0000,\n",
              "          -1.0000, -1.0000, -1.0000, -1.0000, -1.0000, -1.0000, -1.0000,\n",
              "          -1.0000, -1.0000, -1.0000, -1.0000, -1.0000, -1.0000, -1.0000,\n",
              "          -1.0000, -1.0000, -1.0000, -1.0000, -1.0000, -1.0000, -1.0000],\n",
              "         [-1.0000, -1.0000, -1.0000, -1.0000, -1.0000, -1.0000, -1.0000,\n",
              "          -1.0000, -1.0000, -1.0000, -1.0000, -1.0000, -1.0000, -1.0000,\n",
              "          -1.0000, -1.0000, -1.0000, -1.0000, -1.0000, -1.0000, -1.0000,\n",
              "          -1.0000, -1.0000, -1.0000, -1.0000, -1.0000, -1.0000, -1.0000],\n",
              "         [-1.0000, -1.0000, -1.0000, -1.0000, -1.0000, -1.0000, -1.0000,\n",
              "          -1.0000, -1.0000, -1.0000, -1.0000, -1.0000, -1.0000, -1.0000,\n",
              "          -1.0000, -1.0000, -1.0000, -1.0000, -1.0000, -1.0000, -1.0000,\n",
              "          -1.0000, -1.0000, -1.0000, -1.0000, -1.0000, -1.0000, -1.0000],\n",
              "         [-1.0000, -1.0000, -1.0000, -1.0000, -1.0000, -1.0000, -1.0000,\n",
              "          -1.0000, -1.0000, -1.0000, -1.0000, -1.0000, -1.0000, -1.0000,\n",
              "          -1.0000, -1.0000, -1.0000, -1.0000, -1.0000, -1.0000, -1.0000,\n",
              "          -1.0000, -1.0000, -1.0000, -1.0000, -1.0000, -1.0000, -1.0000],\n",
              "         [-1.0000, -1.0000, -1.0000, -1.0000, -1.0000, -1.0000, -1.0000,\n",
              "          -1.0000, -1.0000, -1.0000,  0.1137, -0.1686, -0.9765, -1.0000,\n",
              "          -1.0000, -1.0000, -1.0000, -1.0000, -1.0000, -1.0000, -1.0000,\n",
              "          -1.0000, -1.0000, -1.0000, -1.0000, -1.0000, -1.0000, -1.0000],\n",
              "         [-1.0000, -1.0000, -1.0000, -1.0000, -1.0000, -1.0000, -1.0000,\n",
              "          -1.0000, -1.0000, -1.0000,  0.3020,  0.9843, -0.6000, -1.0000,\n",
              "          -1.0000, -1.0000, -1.0000, -1.0000, -0.5608, -0.7490, -1.0000,\n",
              "          -1.0000, -1.0000, -1.0000, -1.0000, -1.0000, -1.0000, -1.0000],\n",
              "         [-1.0000, -1.0000, -1.0000, -1.0000, -1.0000, -1.0000, -1.0000,\n",
              "          -1.0000, -1.0000, -1.0000,  0.3020,  0.9843,  0.8275,  0.6471,\n",
              "           0.6471,  0.6471,  0.6549,  0.6471,  0.9294,  0.8118,  0.6471,\n",
              "          -0.0275, -0.9294, -1.0000, -1.0000, -1.0000, -1.0000, -1.0000],\n",
              "         [-1.0000, -1.0000, -1.0000, -1.0000, -1.0000, -1.0000, -1.0000,\n",
              "          -1.0000, -1.0000, -0.9843,  0.3569,  0.9843,  0.9843,  0.9843,\n",
              "           0.9843,  0.9843,  0.8980,  0.8118,  0.8118,  0.3569,  0.3255,\n",
              "          -0.0510, -0.9137, -1.0000, -1.0000, -1.0000, -1.0000, -1.0000],\n",
              "         [-1.0000, -1.0000, -1.0000, -1.0000, -1.0000, -1.0000, -1.0000,\n",
              "          -1.0000, -1.0000, -0.8196,  0.9843,  0.5294, -0.3098, -0.3098,\n",
              "          -0.3098, -0.3098, -0.6941, -1.0000, -1.0000, -1.0000, -1.0000,\n",
              "          -1.0000, -1.0000, -1.0000, -1.0000, -1.0000, -1.0000, -1.0000],\n",
              "         [-1.0000, -1.0000, -1.0000, -1.0000, -1.0000, -1.0000, -1.0000,\n",
              "          -1.0000, -1.0000, -0.8196,  0.9843,  0.2941, -1.0000, -1.0000,\n",
              "          -1.0000, -1.0000, -1.0000, -1.0000, -1.0000, -1.0000, -1.0000,\n",
              "          -1.0000, -1.0000, -1.0000, -1.0000, -1.0000, -1.0000, -1.0000],\n",
              "         [-1.0000, -1.0000, -1.0000, -1.0000, -1.0000, -1.0000, -1.0000,\n",
              "          -1.0000, -1.0000, -0.0275,  0.9843,  0.2941, -1.0000, -1.0000,\n",
              "          -1.0000, -1.0000, -1.0000, -1.0000, -1.0000, -1.0000, -1.0000,\n",
              "          -1.0000, -1.0000, -1.0000, -1.0000, -1.0000, -1.0000, -1.0000],\n",
              "         [-1.0000, -1.0000, -1.0000, -1.0000, -1.0000, -1.0000, -1.0000,\n",
              "          -1.0000, -1.0000,  0.0431,  0.9843,  0.2941, -1.0000, -1.0000,\n",
              "          -1.0000, -1.0000, -1.0000, -1.0000, -1.0000, -1.0000, -1.0000,\n",
              "          -1.0000, -1.0000, -1.0000, -1.0000, -1.0000, -1.0000, -1.0000],\n",
              "         [-1.0000, -1.0000, -1.0000, -1.0000, -1.0000, -1.0000, -1.0000,\n",
              "          -1.0000, -1.0000,  0.0431,  0.9843,  0.2941, -1.0000, -1.0000,\n",
              "          -1.0000, -1.0000, -1.0000, -1.0000, -1.0000, -1.0000, -1.0000,\n",
              "          -1.0000, -1.0000, -1.0000, -1.0000, -1.0000, -1.0000, -1.0000],\n",
              "         [-1.0000, -1.0000, -1.0000, -1.0000, -1.0000, -1.0000, -1.0000,\n",
              "          -1.0000, -1.0000,  0.0431,  0.9843,  0.5922,  0.6627,  0.7333,\n",
              "           0.7333,  0.3569, -0.1216, -0.7333, -1.0000, -1.0000, -1.0000,\n",
              "          -1.0000, -1.0000, -1.0000, -1.0000, -1.0000, -1.0000, -1.0000],\n",
              "         [-1.0000, -1.0000, -1.0000, -1.0000, -1.0000, -1.0000, -1.0000,\n",
              "          -1.0000, -1.0000, -0.0588,  0.9922,  0.7882,  0.7333,  0.7333,\n",
              "           0.7333,  0.7333,  0.8902,  0.9922,  0.6549, -0.3412, -1.0000,\n",
              "          -1.0000, -1.0000, -1.0000, -1.0000, -1.0000, -1.0000, -1.0000],\n",
              "         [-1.0000, -1.0000, -1.0000, -1.0000, -1.0000, -1.0000, -1.0000,\n",
              "          -1.0000, -1.0000, -0.9451, -0.3961, -0.8667, -1.0000, -1.0000,\n",
              "          -1.0000, -1.0000, -0.6549, -0.1686,  0.8980,  0.9373, -0.2863,\n",
              "          -1.0000, -1.0000, -1.0000, -1.0000, -1.0000, -1.0000, -1.0000],\n",
              "         [-1.0000, -1.0000, -1.0000, -1.0000, -1.0000, -1.0000, -1.0000,\n",
              "          -1.0000, -1.0000, -1.0000, -1.0000, -1.0000, -1.0000, -1.0000,\n",
              "          -1.0000, -1.0000, -1.0000, -1.0000,  0.3098,  0.9843,  0.5529,\n",
              "          -1.0000, -1.0000, -1.0000, -1.0000, -1.0000, -1.0000, -1.0000],\n",
              "         [-1.0000, -1.0000, -1.0000, -1.0000, -1.0000, -1.0000, -1.0000,\n",
              "          -1.0000, -1.0000, -1.0000, -1.0000, -1.0000, -1.0000, -1.0000,\n",
              "          -1.0000, -1.0000, -1.0000, -1.0000, -0.2157,  0.9843,  0.5529,\n",
              "          -1.0000, -1.0000, -1.0000, -1.0000, -1.0000, -1.0000, -1.0000],\n",
              "         [-1.0000, -1.0000, -1.0000, -1.0000, -1.0000, -1.0000, -1.0000,\n",
              "          -1.0000, -1.0000, -1.0000, -0.7098, -0.7176, -1.0000, -1.0000,\n",
              "          -1.0000, -1.0000, -1.0000, -1.0000,  0.3490,  0.9843,  0.5529,\n",
              "          -1.0000, -1.0000, -1.0000, -1.0000, -1.0000, -1.0000, -1.0000],\n",
              "         [-1.0000, -1.0000, -1.0000, -1.0000, -1.0000, -1.0000, -1.0000,\n",
              "          -1.0000, -1.0000, -1.0000, -0.1843,  0.1059, -1.0000, -1.0000,\n",
              "          -1.0000, -1.0000, -1.0000, -0.5843,  0.9137,  0.9843, -0.1216,\n",
              "          -1.0000, -1.0000, -1.0000, -1.0000, -1.0000, -1.0000, -1.0000],\n",
              "         [-1.0000, -1.0000, -1.0000, -1.0000, -1.0000, -1.0000, -1.0000,\n",
              "          -1.0000, -1.0000, -1.0000,  0.1922,  0.6235, -0.8824, -1.0000,\n",
              "          -1.0000, -0.9608, -0.3020,  0.8667,  0.9843,  0.3725, -0.9373,\n",
              "          -1.0000, -1.0000, -1.0000, -1.0000, -1.0000, -1.0000, -1.0000],\n",
              "         [-1.0000, -1.0000, -1.0000, -1.0000, -1.0000, -1.0000, -1.0000,\n",
              "          -1.0000, -1.0000, -1.0000, -0.8275,  0.7255,  0.5765, -0.6471,\n",
              "          -0.3804,  0.5529,  1.0000,  0.9843,  0.3569, -0.9686, -1.0000,\n",
              "          -1.0000, -1.0000, -1.0000, -1.0000, -1.0000, -1.0000, -1.0000],\n",
              "         [-1.0000, -1.0000, -1.0000, -1.0000, -1.0000, -1.0000, -1.0000,\n",
              "          -1.0000, -1.0000, -1.0000, -1.0000, -0.0745,  0.9843,  0.9843,\n",
              "           0.9843,  0.9843,  0.9137, -0.2235, -0.9059, -1.0000, -1.0000,\n",
              "          -1.0000, -1.0000, -1.0000, -1.0000, -1.0000, -1.0000, -1.0000],\n",
              "         [-1.0000, -1.0000, -1.0000, -1.0000, -1.0000, -1.0000, -1.0000,\n",
              "          -1.0000, -1.0000, -1.0000, -1.0000, -0.9059, -0.3255,  0.6471,\n",
              "           0.7255,  0.1216, -0.7725, -1.0000, -1.0000, -1.0000, -1.0000,\n",
              "          -1.0000, -1.0000, -1.0000, -1.0000, -1.0000, -1.0000, -1.0000],\n",
              "         [-1.0000, -1.0000, -1.0000, -1.0000, -1.0000, -1.0000, -1.0000,\n",
              "          -1.0000, -1.0000, -1.0000, -1.0000, -1.0000, -1.0000, -1.0000,\n",
              "          -1.0000, -1.0000, -1.0000, -1.0000, -1.0000, -1.0000, -1.0000,\n",
              "          -1.0000, -1.0000, -1.0000, -1.0000, -1.0000, -1.0000, -1.0000],\n",
              "         [-1.0000, -1.0000, -1.0000, -1.0000, -1.0000, -1.0000, -1.0000,\n",
              "          -1.0000, -1.0000, -1.0000, -1.0000, -1.0000, -1.0000, -1.0000,\n",
              "          -1.0000, -1.0000, -1.0000, -1.0000, -1.0000, -1.0000, -1.0000,\n",
              "          -1.0000, -1.0000, -1.0000, -1.0000, -1.0000, -1.0000, -1.0000],\n",
              "         [-1.0000, -1.0000, -1.0000, -1.0000, -1.0000, -1.0000, -1.0000,\n",
              "          -1.0000, -1.0000, -1.0000, -1.0000, -1.0000, -1.0000, -1.0000,\n",
              "          -1.0000, -1.0000, -1.0000, -1.0000, -1.0000, -1.0000, -1.0000,\n",
              "          -1.0000, -1.0000, -1.0000, -1.0000, -1.0000, -1.0000, -1.0000]]])"
            ]
          },
          "metadata": {},
          "execution_count": 7
        }
      ],
      "source": [
        "mnist_train[1650][0]"
      ]
    },
    {
      "cell_type": "markdown",
      "metadata": {
        "id": "vK4BfVckvXvL"
      },
      "source": [
        "Now we want to wrap our dataset in torch datasets. Each item in our dataset must contain tree entities, the noisy image, the original image and the label. Apply a noise on the original image regarding the noise factor.\n",
        "\n",
        "Complete cell below. (3 Points)\n"
      ]
    },
    {
      "cell_type": "code",
      "execution_count": 8,
      "metadata": {
        "id": "Q9xqAUdAvXvL"
      },
      "outputs": [],
      "source": [
        "class NoisyDataset(torch.utils.data.Dataset):\n",
        "  def __init__(self, dataset, noise_factor=0.5):\n",
        "      # self.dataset = dataset + torch.randn_like(dataset) * noise_factor\n",
        "      self.dataset = []\n",
        "      for x in dataset:\n",
        "        # img = x[0] + torch.randn_like(x[0]) * noise_factor\n",
        "        img = x + noise_factor * (np.random.normal(loc=0.0, scale=60.0, size=x.shape))\n",
        "        # img = np.clip(img, 0., 1.)\n",
        "        self.dataset.append((img, x[1]))\n",
        "\n",
        "    #   noisy = inputs+torch.randn_like(inputs) * noise_factor\n",
        "    #  noisy = torch.clip(noisy,0.,1.)\n",
        "      self.noise_factor = noise_factor\n",
        "        ####################################\n",
        "        ###### Code Here (0.5 Points) ######\n",
        "        ####################################\n",
        "      # print(dataset)\n",
        "\n",
        "  def __getitem__(self, index):\n",
        "    indexed = self.dataset[index]\n",
        "    return indexed[0]\n",
        "\n",
        "        ####################################\n",
        "        ####### Code Here (2 Points) #######\n",
        "        ####################################\n",
        "\n",
        "  def __len__(self):\n",
        "        ####################################\n",
        "        ###### Code Here (0.5 Points) ######\n",
        "        ####################################\n",
        "        return len(self.dataset)\n"
      ]
    },
    {
      "cell_type": "code",
      "execution_count": 9,
      "metadata": {
        "id": "rbM9KKPLvXvM"
      },
      "outputs": [],
      "source": [
        "# noisy_mnist_train = NoisyDataset(mnist_train, 0.6)\n",
        "# noisy_mnist_test = NoisyDataset(mnist_test, 0.6)\n",
        "# mnist_train_loader = torch.utils.data.DataLoader(\n",
        "#     noisy_mnist_train, batch_size=60, shuffle=True\n",
        "# )\n",
        "# mnist_test_loader = torch.utils.data.DataLoader(\n",
        "#     noisy_mnist_test, batch_size=60, shuffle=True\n",
        "# )\n"
      ]
    },
    {
      "cell_type": "code",
      "source": [
        "noisy_mnist_train = np.array(NoisyDataset(x_train, 0.6)) / 255\n",
        "noisy_mnist_test = np.array(NoisyDataset(x_test, 0.6)) / 255\n",
        "mnist_train_loader = torch.utils.data.DataLoader(\n",
        "    noisy_mnist_train, batch_size=60, shuffle=True\n",
        ")\n",
        "mnist_test_loader = torch.utils.data.DataLoader(\n",
        "    noisy_mnist_test, batch_size=60, shuffle=True\n",
        ")"
      ],
      "metadata": {
        "id": "91bH1lBjaabX"
      },
      "execution_count": 10,
      "outputs": []
    },
    {
      "cell_type": "code",
      "source": [
        "x_train = x_train / 255\n",
        "x_test = x_test / 255"
      ],
      "metadata": {
        "id": "OMh2yc2TZ81q"
      },
      "execution_count": 11,
      "outputs": []
    },
    {
      "cell_type": "code",
      "source": [
        "plt.imshow(x_train[2], cmap = 'gray')"
      ],
      "metadata": {
        "colab": {
          "base_uri": "https://localhost:8080/",
          "height": 283
        },
        "id": "Jp5exVVxdoIx",
        "outputId": "97d7cb3f-9d3a-4d0a-8d23-2cfaea32fd6f"
      },
      "execution_count": 12,
      "outputs": [
        {
          "output_type": "execute_result",
          "data": {
            "text/plain": [
              "<matplotlib.image.AxesImage at 0x7f10c7761f10>"
            ]
          },
          "metadata": {},
          "execution_count": 12
        },
        {
          "output_type": "display_data",
          "data": {
            "text/plain": [
              "<Figure size 432x288 with 1 Axes>"
            ],
            "image/png": "[encoded data removed]"
          },
          "metadata": {
            "needs_background": "light"
          }
        }
      ]
    },
    {
      "cell_type": "code",
      "source": [
        "plt.imshow(noisy_mnist_train[2], cmap = 'gray')"
      ],
      "metadata": {
        "colab": {
          "base_uri": "https://localhost:8080/",
          "height": 283
        },
        "id": "0z2bMg_qaqRk",
        "outputId": "fe506568-f1e0-401f-bce3-b13b17e47cf0"
      },
      "execution_count": 13,
      "outputs": [
        {
          "output_type": "execute_result",
          "data": {
            "text/plain": [
              "<matplotlib.image.AxesImage at 0x7f10c7603b20>"
            ]
          },
          "metadata": {},
          "execution_count": 13
        },
        {
          "output_type": "display_data",
          "data": {
            "text/plain": [
              "<Figure size 432x288 with 1 Axes>"
            ],
            "image/png": "[encoded data removed]"
          },
          "metadata": {
            "needs_background": "light"
          }
        }
      ]
    },
    {
      "cell_type": "code",
      "source": [
        "len(noisy_mnist_train)"
      ],
      "metadata": {
        "colab": {
          "base_uri": "https://localhost:8080/"
        },
        "id": "xtqJt5QY4orQ",
        "outputId": "cd2ca541-beff-4846-d984-43ed5ab6e3e6"
      },
      "execution_count": 14,
      "outputs": [
        {
          "output_type": "execute_result",
          "data": {
            "text/plain": [
              "60000"
            ]
          },
          "metadata": {},
          "execution_count": 14
        }
      ]
    },
    {
      "cell_type": "markdown",
      "metadata": {
        "id": "lan6LbiavXvN"
      },
      "source": [
        "Now, design a proper network architecture. Complete cell below. (6 Points)"
      ]
    },
    {
      "cell_type": "code",
      "execution_count": 15,
      "metadata": {
        "id": "Ciw4IzpAvXvN"
      },
      "outputs": [],
      "source": [
        "# class Net(nn.Module):\n",
        "#     def __init__(self):\n",
        "#         super(Net, self).__init__()\n",
        "#         ############################\n",
        "#         ### Code Here (5 Points) ###\n",
        "#         ############################\n",
        "#         self.network = None\n",
        "#         pass\n",
        "\n",
        "#     def forward(self, img):\n",
        "#         ############################\n",
        "#         ### Code Here (1 Points) ###\n",
        "#         ############################\n",
        "#         pass\n",
        "# the autoencoder network\n",
        "\n",
        "# import torch.nn.functional as F\n",
        "# class Autoencoder(nn.Module):\n",
        "#     def __init__(self):\n",
        "#         super(Autoencoder, self).__init__()\n",
        "#         # encoder layers\n",
        "#         self.enc1 = nn.Conv2d(1, 64, kernel_size=3, padding=1)\n",
        "#         self.enc2 = nn.Conv2d(64, 32, kernel_size=3, padding=1)\n",
        "#         self.enc3 = nn.Conv2d(32, 16, kernel_size=3, padding=1)\n",
        "#         self.enc4 = nn.Conv2d(16, 8, kernel_size=3, padding=1)\n",
        "#         self.pool = nn.MaxPool2d(2, 2)\n",
        "        \n",
        "#         # decoder layers\n",
        "#         self.dec1 = nn.ConvTranspose2d(8, 8, kernel_size=3, stride=2)  \n",
        "#         self.dec2 = nn.ConvTranspose2d(8, 16, kernel_size=3, stride=2)\n",
        "#         self.dec3 = nn.ConvTranspose2d(16, 32, kernel_size=2, stride=2)\n",
        "#         self.dec4 = nn.ConvTranspose2d(32, 64, kernel_size=2, stride=2)\n",
        "#         self.out = nn.Conv2d(64, 1, kernel_size=3, padding=1)\n",
        "#     def forward(self, x):\n",
        "#         # encode\n",
        "#         x = F.relu(self.enc1(x))\n",
        "#         x = self.pool(x)\n",
        "#         x = F.relu(self.enc2(x))\n",
        "#         x = self.pool(x)\n",
        "#         x = F.relu(self.enc3(x))\n",
        "#         x = self.pool(x)\n",
        "#         x = F.relu(self.enc4(x))\n",
        "#         x = self.pool(x) # the latent space representation\n",
        "        \n",
        "#         # decode\n",
        "#         x = F.relu(self.dec1(x))\n",
        "#         x = F.relu(self.dec2(x))\n",
        "#         x = F.relu(self.dec3(x))\n",
        "#         x = F.relu(self.dec4(x))\n",
        "#         x = F.sigmoid(self.out(x))\n",
        "#         return x\n",
        "# net = Autoencoder()\n",
        "# print(net)\n",
        "\n",
        "# import torch.nn as nn\n",
        "# import torch.nn.functional as F\n",
        "\n",
        "# # define the NN architecture\n",
        "# class Net(nn.Module):\n",
        "#     def __init__(self, encoding_dim):\n",
        "#         super(Net, self).__init__()\n",
        "#         ## encoder ##\n",
        "#         # linear layer (784 -> encoding_dim)\n",
        "#         self.fc1 = nn.Linear(28 * 28, encoding_dim)\n",
        "        \n",
        "#         ## decoder ##\n",
        "#         # linear layer (encoding_dim -> input size)\n",
        "#         self.fc2 = nn.Linear(encoding_dim, 28*28)\n",
        "        \n",
        "\n",
        "#     def forward(self, x):\n",
        "#         # add layer, with relu activation function\n",
        "#         x = F.relu(self.fc1(x))\n",
        "#         # output layer (sigmoid for scaling from 0 to 1)\n",
        "#         x = F.sigmoid(self.fc2(x))\n",
        "#         return x\n",
        "\n",
        "# # initialize the NN\n",
        "# encoding_dim = 32\n",
        "# model = Net(encoding_dim)\n",
        "# print(model)"
      ]
    },
    {
      "cell_type": "code",
      "source": [
        "# ! pip install tensorflow"
      ],
      "metadata": {
        "id": "bZlydBeRoj2I"
      },
      "execution_count": 16,
      "outputs": []
    },
    {
      "cell_type": "markdown",
      "metadata": {
        "id": "kSAPL8Y9vXvN"
      },
      "source": [
        "Now, train the network. We recommend MSE Loss and Adam Optimizer. (6 Points)"
      ]
    },
    {
      "cell_type": "code",
      "source": [
        "from tensorflow.keras.layers import Dense, Input \n",
        "from tensorflow.keras.models import Sequential, Model \n",
        "import tensorflow as tf\n",
        "# input_image = Input(shape = (784, ) ) \n",
        " \n",
        "# encoded = Dense(512, activation = 'relu')(input_image) \n",
        "# encoded = Dense(512, activation = 'relu')(encoded) \n",
        "# encoded = Dense(256, activation = 'relu')(encoded) \n",
        "# encoded = Dense(256, activation = 'relu')(encoded) \n",
        "# encoded = Dense(64, activation = 'relu')(encoded) \n",
        " \n",
        "# decoded = Dense(512, activation = 'relu')(encoded) \n",
        "# decoded = Dense(784, activation = 'sigmoid')(decoded) \n",
        " \n",
        "# model = Model(input_image, decoded) \n",
        "# model.compile(loss = tf.keras.losses.MSE , optimizer = 'adam') \n",
        "# model.summary() \n",
        "\n",
        "# model = Sequential()\n",
        "# model.add(Dense(500, input_dim=784, activation='relu'))\n",
        "# model.add(Dense(300, activation='relu'))\n",
        "# model.add(Dense(100, activation='relu'))\n",
        "# model.add(Dense(300, activation='relu'))\n",
        "# model.add(Dense(500, activation='relu'))\n",
        "# model.add(Dense(784, activation='sigmoid'))\n",
        "# model.compile(loss='mean_squared_error', optimizer='adam')\n",
        "\n",
        "model = Sequential()\n",
        "model.add(Dense(512, input_dim=784, activation='relu'))\n",
        "model.add(Dense(256, activation='relu'))\n",
        "model.add(Dense(256, activation='relu'))\n",
        "model.add(Dense(64, activation='relu'))\n",
        "model.add(Dense(512, activation='relu'))\n",
        "model.add(Dense(784, activation='relu'))\n",
        "model.compile(loss=tf.keras.losses.MeanSquaredError(), optimizer=tf.keras.optimizers.Adam(learning_rate = 0.01))"
      ],
      "metadata": {
        "id": "TFer6SZooRyN"
      },
      "execution_count": 17,
      "outputs": []
    },
    {
      "cell_type": "code",
      "source": [
        "# x = np.array(noisy_mnist_train)\n",
        "# import torch.tensor as tf\n",
        "# x = tf.reshape(noisy_mnist_train, [60000, 28, 28])\n",
        "# x = torch.Tensor.squeeze\n",
        "# x = torch.Tensor(mnist_train)\n",
        "# X_train_noisy = np.zeros((60000, 28 * 28), dtype = 'float32')\n",
        "# X_train = np.zeros((60000, 28 * 28), dtype = 'float32')"
      ],
      "metadata": {
        "id": "7nfkMQJfp754"
      },
      "execution_count": 18,
      "outputs": []
    },
    {
      "cell_type": "code",
      "source": [
        "# for cont in range(len(noisy_mnist_train)):\n",
        "#   data = noisy_mnist_train[cont]\n",
        "#   new_ = np.array(data[0])\n",
        "#   X_train_noisy[cont] = new_.flatten()\n",
        "\n",
        "# for cont in range(len(mnist_train)):\n",
        "#   data = mnist_train[cont]\n",
        "#   new_ = np.array(data[0])\n",
        "#   X_train[cont] = new_.flatten()\n"
      ],
      "metadata": {
        "id": "N3v7cz2YwSoT"
      },
      "execution_count": 19,
      "outputs": []
    },
    {
      "cell_type": "code",
      "source": [
        "# X_test_noisy = np.zeros((10000, 28 * 28), dtype = 'float32')\n",
        "# X_test = np.zeros((10000, 28 * 28), dtype = 'float32')"
      ],
      "metadata": {
        "id": "lYBbCrQe0ur9"
      },
      "execution_count": 20,
      "outputs": []
    },
    {
      "cell_type": "code",
      "source": [
        "# for cont in range(len(noisy_mnist_test)):\n",
        "#   data = noisy_mnist_test[cont]\n",
        "#   new_ = np.array(data[0])\n",
        "#   X_test_noisy[cont] = new_.flatten()\n",
        "#   # plt.imshow(X_test_noisy[cont].reshape(28, 28))\n",
        "#   # break\n",
        "\n",
        "# for cont in range(len(mnist_test)):\n",
        "#   data = mnist_test[cont]\n",
        "#   new_ = np.array(data[0])\n",
        "#   X_test[cont] = new_.flatten()\n",
        "\n"
      ],
      "metadata": {
        "id": "N4O3PwFA09xH"
      },
      "execution_count": 21,
      "outputs": []
    },
    {
      "cell_type": "code",
      "source": [
        "# np.min(X_train)"
      ],
      "metadata": {
        "id": "T7YmT5fy83kL"
      },
      "execution_count": 22,
      "outputs": []
    },
    {
      "cell_type": "code",
      "source": [
        "# np.min(X_test)"
      ],
      "metadata": {
        "id": "n4TlBvJCJRT0"
      },
      "execution_count": 23,
      "outputs": []
    },
    {
      "cell_type": "code",
      "source": [
        "# np.max(X_train_noisy)"
      ],
      "metadata": {
        "id": "0Ywdkl50JUd2"
      },
      "execution_count": 24,
      "outputs": []
    },
    {
      "cell_type": "code",
      "source": [
        "# np.max(X_test_noisy)"
      ],
      "metadata": {
        "id": "LAYwTa_WJXhq"
      },
      "execution_count": 25,
      "outputs": []
    },
    {
      "cell_type": "code",
      "source": [
        "# X_train1 = X_train / 1\n",
        "# X_test1 = X_test / 1\n",
        "# X_train_noisy1 = X_train_noisy / 1\n",
        "# X_test_noisy1 = X_test_noisy / 1"
      ],
      "metadata": {
        "id": "vdOkA4izybLr"
      },
      "execution_count": 26,
      "outputs": []
    },
    {
      "cell_type": "code",
      "source": [
        "# import tensorflow as tf \n",
        "\n",
        "# y = mnist_train[:][0][0]\n",
        "# history = autoencoder.fit(new_dataset, new_dataset, epochs=100, batch_size=128, \n",
        "#  shuffle = True, validation_data=(new_dataset, new_dataset)) \n",
        "noisy_mnist_train = noisy_mnist_train.reshape(60000, 784)\n",
        "x_train = x_train.reshape(60000, 784)\n",
        "model.fit(noisy_mnist_train, x_train, epochs=2)"
      ],
      "metadata": {
        "colab": {
          "base_uri": "https://localhost:8080/"
        },
        "id": "LIqTpvMho-ET",
        "outputId": "90e03b58-fed3-4027-d150-5e23d80dccd7"
      },
      "execution_count": 27,
      "outputs": [
        {
          "output_type": "stream",
          "name": "stdout",
          "text": [
            "Epoch 1/2\n",
            "1875/1875 [==============================] - 46s 23ms/step - loss: 0.0479\n",
            "Epoch 2/2\n",
            "1875/1875 [==============================] - 24s 13ms/step - loss: 0.0313\n"
          ]
        },
        {
          "output_type": "execute_result",
          "data": {
            "text/plain": [
              "<keras.callbacks.History at 0x7f10bf2bdd30>"
            ]
          },
          "metadata": {},
          "execution_count": 27
        }
      ]
    },
    {
      "cell_type": "code",
      "source": [
        "pred = model.predict(noisy_mnist_test.reshape(10000, 784))"
      ],
      "metadata": {
        "id": "u4tY0Z-e1oqN",
        "colab": {
          "base_uri": "https://localhost:8080/"
        },
        "outputId": "e663d97d-22be-4719-f9cc-d4ef99dd5f6f"
      },
      "execution_count": 34,
      "outputs": [
        {
          "output_type": "stream",
          "name": "stdout",
          "text": [
            "313/313 [==============================] - 2s 5ms/step\n"
          ]
        }
      ]
    },
    {
      "cell_type": "code",
      "source": [
        "model.weights"
      ],
      "metadata": {
        "colab": {
          "base_uri": "https://localhost:8080/"
        },
        "id": "ERrRpk1k6_Q5",
        "outputId": "04145b06-163b-4203-99c3-b09c4a2eee0b"
      },
      "execution_count": 35,
      "outputs": [
        {
          "output_type": "execute_result",
          "data": {
            "text/plain": [
              "[<tf.Variable 'dense/kernel:0' shape=(784, 512) dtype=float32, numpy=\n",
              " array([[ 0.12061961,  0.02558202,  0.10687371, ...,  0.06132363,\n",
              "         -0.0051129 ,  0.04494111],\n",
              "        [ 0.09243535,  0.02773633,  0.07874851, ...,  0.11786804,\n",
              "          0.11739269,  0.09593419],\n",
              "        [-0.02440064,  0.05050724,  0.0974879 , ...,  0.06724516,\n",
              "         -0.00418661,  0.03512143],\n",
              "        ...,\n",
              "        [-0.08592514,  0.0833061 ,  0.02684952, ...,  0.0804372 ,\n",
              "          0.06447987,  0.00347822],\n",
              "        [-0.0896544 ,  0.10661611,  0.00043137, ..., -0.03115829,\n",
              "          0.08699265, -0.04367342],\n",
              "        [-0.08945801, -0.08618968,  0.08260529, ..., -0.00026429,\n",
              "          0.09880075, -0.08123092]], dtype=float32)>,\n",
              " <tf.Variable 'dense/bias:0' shape=(512,) dtype=float32, numpy=\n",
              " array([-0.06447487, -0.06086291, -0.04705682, -0.07735899, -0.04965639,\n",
              "        -0.05739007, -0.04777182, -0.06412522, -0.04660583, -0.04778945,\n",
              "        -0.04684025, -0.04681898, -0.06425316, -0.0469223 , -0.0533044 ,\n",
              "        -0.04679856, -0.17038703, -0.04587347, -0.04637475, -0.06086833,\n",
              "        -0.06569473, -0.0520177 , -0.06449051, -0.05063323, -0.43950045,\n",
              "        -0.04586168, -0.06379273, -0.06229952, -0.04703126, -0.06381001,\n",
              "        -0.04876535, -0.08904515, -0.04573129, -0.04578014, -0.04608839,\n",
              "        -0.06471389, -0.0640988 , -0.04742347, -0.0573598 , -0.17194891,\n",
              "        -0.04583262, -0.04660542, -0.06037912, -0.04620142, -0.04717648,\n",
              "        -0.0458248 , -0.05080854, -0.04982603, -0.04782949, -0.06490738,\n",
              "        -0.06210545, -0.18367663, -0.06517372, -0.0467715 , -0.04665469,\n",
              "        -0.04964656, -0.04984187, -0.05113609, -0.06393827, -0.06304681,\n",
              "        -0.91589564, -0.2309875 , -0.0575961 , -0.04640377, -0.06474307,\n",
              "        -0.04597196, -0.06152289, -0.05076125, -0.04624433, -0.06496492,\n",
              "        -0.0658159 , -0.04680917, -0.04710621, -0.06417459, -0.06040432,\n",
              "        -0.04690925, -0.0830363 , -0.04683318, -0.04610836, -0.04871391,\n",
              "        -0.06466139, -0.04594011, -0.04845621, -0.53811395, -0.04635937,\n",
              "        -0.06611764, -0.08377535, -0.04668155, -0.06162786, -0.06522588,\n",
              "        -0.04651494, -0.0235464 , -0.26782888, -0.05063994, -0.04970868,\n",
              "        -0.08174669, -0.04651563, -0.06414585, -0.15426931, -0.04666618,\n",
              "        -0.04675862, -0.04935869, -0.04736977, -0.04624382, -0.04885621,\n",
              "        -0.06494871, -0.04595564,  0.15647933, -0.04679968, -0.05012429,\n",
              "        -0.06010007, -0.05167323, -0.05487249, -0.048507  , -0.04745052,\n",
              "        -0.05556241, -0.07744349, -0.04773165, -0.0575525 , -0.04594437,\n",
              "        -0.04677035, -0.04791632, -0.06397426,  0.13515405, -0.04593212,\n",
              "        -0.06707375, -0.06775022, -0.04813145, -0.04802911, -0.05518764,\n",
              "        -0.04810376, -0.04762295, -0.04644248, -0.06062259, -0.0577539 ,\n",
              "        -0.05556503, -0.04729499, -0.04574836, -0.06294625, -0.28074974,\n",
              "        -0.04680002, -0.04873223, -0.06584045, -0.04710297, -0.06006593,\n",
              "        -0.06332521, -0.04715554, -0.19045115, -0.06466336, -0.0464308 ,\n",
              "        -0.04815337, -0.04641733, -0.06335107, -0.04715545, -0.06277754,\n",
              "        -0.08259638, -0.06464771, -0.04615496, -0.04617018, -0.05761611,\n",
              "        -0.06233722, -0.04680501, -0.04563669, -0.06193058, -0.04590173,\n",
              "        -0.04647336, -0.06518536, -0.04660456, -0.06489092, -0.05311424,\n",
              "        -0.04646892, -0.06473459, -0.03194495, -0.02459648, -0.04587948,\n",
              "        -0.06426501, -0.06339864, -0.05058288, -0.06023246,  0.06886527,\n",
              "        -0.04644821, -0.13672137, -0.04681535, -0.04671912, -0.04601359,\n",
              "        -0.04797179, -0.06399358, -0.06261644, -0.0661267 , -0.0604021 ,\n",
              "        -0.05739264, -0.04633923, -0.06175321, -0.05245687, -0.04696149,\n",
              "        -0.04579974, -0.06281421, -0.04851134, -0.04832035, -0.04883211,\n",
              "        -0.05079763, -0.0659632 , -0.04673582, -0.06225683, -0.04848935,\n",
              "        -0.05867543, -0.05951669, -0.06584895, -0.05183432, -0.04784564,\n",
              "        -0.04725586, -0.04847556, -0.06563951, -0.06339616, -0.04647346,\n",
              "        -0.05645038, -0.06506453, -0.04603694, -0.06639946, -0.04637617,\n",
              "        -0.05407765, -0.05507161,  0.07360803, -0.04614273, -0.04581004,\n",
              "        -0.04576658, -0.06389983, -0.0479137 , -0.0470545 , -0.04715249,\n",
              "        -0.06699344, -0.09934995, -0.04590224, -0.0653347 , -0.04645636,\n",
              "        -0.04615498, -0.04685033, -0.04634603, -0.04675383, -0.04674209,\n",
              "        -0.04633138, -0.06480105, -0.06383984, -0.06284313, -0.06107592,\n",
              "        -0.44591963, -0.05628436, -0.25490516, -0.04746448, -0.04651726,\n",
              "        -0.154364  , -0.04607378, -0.05137918, -0.05271746, -0.2008989 ,\n",
              "        -0.04837519, -0.0502292 , -0.02977223, -0.05412596,  0.06360199,\n",
              "        -0.04591081, -0.06588991,  0.14961603, -0.04587647, -0.06227178,\n",
              "        -0.05093179, -0.04625251, -0.05974496, -0.05049448, -0.04596496,\n",
              "        -0.05777697, -0.05046682, -0.05250954, -0.04634265, -0.05571692,\n",
              "        -0.04714458, -0.06446991, -0.03705884, -0.05327335, -0.04622407,\n",
              "        -0.5088904 , -0.06127055, -0.04740651, -0.04655335, -0.06092197,\n",
              "         0.12196317, -0.05411271, -0.1419386 , -0.05970239, -0.04872912,\n",
              "        -0.04889972, -0.0631597 , -0.04763013, -0.04663308, -0.04739767,\n",
              "        -0.06370112, -0.04775942, -0.04751965, -0.04657024, -0.06147831,\n",
              "        -0.04612845, -0.0641738 , -0.04877971, -0.04898296, -0.05107952,\n",
              "        -0.04796675, -0.05699164, -0.04639706, -0.04635463, -0.05005004,\n",
              "        -0.04983629, -0.04685115, -0.05568402, -0.04600626, -0.04700224,\n",
              "        -0.04739577, -0.04660844, -0.04603745, -0.07687409, -0.04646884,\n",
              "        -0.04632064,  0.2245675 , -0.04667218, -0.04648753, -0.0466541 ,\n",
              "        -0.07245547, -0.04901236, -0.0466145 , -0.04589684, -0.05462144,\n",
              "        -0.04999976, -0.0726585 , -0.04675406, -0.04603776, -0.04712555,\n",
              "        -0.0557946 , -0.04616993, -0.14897345, -0.06482929, -0.05914259,\n",
              "        -0.04927064, -0.06233373, -0.06429486, -0.04860582, -0.05856386,\n",
              "        -0.04594765, -0.04845932, -0.04642151, -0.04605376, -0.04654963,\n",
              "        -0.06397576, -0.0470967 , -0.04682178, -0.06383343, -0.04617994,\n",
              "        -0.04931111, -0.04835784, -0.04797009, -0.06305449, -0.0595811 ,\n",
              "        -0.04749216, -0.04676493,  0.02645981, -0.05893983, -0.04643726,\n",
              "        -0.05866047, -0.04634581, -0.05118204, -0.05158837, -0.06840494,\n",
              "        -0.05974118, -0.06507091, -0.04611873, -0.15913384, -0.04683724,\n",
              "        -0.0460538 , -0.04789131, -0.04658758, -0.04799197, -0.04646326,\n",
              "        -0.06645318, -0.05542132, -0.06336667, -0.04792129, -0.07119258,\n",
              "        -0.04610148, -0.04629748, -0.04722434, -0.17966875, -0.04827489,\n",
              "        -0.05209373, -0.04647294, -0.45833805, -0.05490325,  0.0406113 ,\n",
              "        -0.04646838, -0.04803834, -0.06408038, -0.04663873, -0.04724864,\n",
              "        -0.04679623, -0.05023775, -0.06483994, -0.04612938, -0.05812879,\n",
              "        -0.05310332, -0.04632664, -0.04917378, -0.04697253, -0.04695036,\n",
              "        -0.06330124, -0.03975078, -0.06275007, -0.05260625, -0.04587735,\n",
              "        -0.04887413, -0.06306801, -0.04743053, -0.05489471, -0.04651642,\n",
              "        -0.04595956, -0.16164294, -0.06243382, -0.04649833, -0.04602963,\n",
              "        -0.04626115, -0.04690681, -0.06306591, -0.414852  , -0.04649034,\n",
              "        -0.07437591, -0.04987529, -0.04763372, -0.04614289,  0.24340968,\n",
              "        -0.06575126, -0.04776541, -0.05984364, -0.2104408 , -0.04651096,\n",
              "        -0.3212455 , -0.06137489, -0.04779863,  0.07087389, -0.0461151 ,\n",
              "        -0.0595273 , -0.04667138, -0.04768807, -0.047905  , -0.05620777,\n",
              "        -0.04934728, -0.06675706, -0.05430952, -0.04639288, -0.04614631,\n",
              "        -0.0466589 , -0.04797285, -0.04883114, -0.04717518, -0.04709391,\n",
              "        -0.04601197, -0.06417049, -0.04640934, -0.0469453 , -0.06057618,\n",
              "        -0.04703265,  0.24088076, -0.06869096, -0.04614314, -0.04620073,\n",
              "        -0.04667124, -0.11707108, -0.04639698, -0.05554414, -0.08031807,\n",
              "        -0.05770058, -0.03211094, -0.06355771, -0.05535934, -0.06179574,\n",
              "        -0.04921354, -0.15415047, -0.05160144, -0.0479419 , -0.04619431,\n",
              "        -0.06279875, -0.05440784, -0.06198115, -0.04806014, -0.13197023,\n",
              "        -0.05583237, -0.04473807, -0.06260382, -0.04670299, -0.04663369,\n",
              "        -0.09168693, -0.04709436, -0.04616225, -0.04594665, -0.04725547,\n",
              "        -0.05189068, -0.0514815 , -0.00422272, -0.04768946, -0.04612163,\n",
              "        -0.04647169, -0.06937701, -0.05013011, -0.047089  , -0.04672771,\n",
              "        -0.06451222, -0.04641536], dtype=float32)>,\n",
              " <tf.Variable 'dense_1/kernel:0' shape=(512, 256) dtype=float32, numpy=\n",
              " array([[ 0.01246991, -0.05456634, -0.12535328, ..., -0.12332575,\n",
              "         -0.10783065, -0.01801692],\n",
              "        [-0.06717882,  0.07501223, -0.10574601, ..., -0.04451492,\n",
              "         -0.14144835, -0.06924155],\n",
              "        [ 0.0224816 ,  0.07292829, -0.07679637, ..., -0.09094402,\n",
              "          0.06406967, -0.11077099],\n",
              "        ...,\n",
              "        [-0.14391154,  0.09706379, -0.13150594, ..., -0.03123706,\n",
              "          0.0412963 ,  0.00556107],\n",
              "        [-0.00566152,  0.05645718, -0.11208288, ..., -0.01605633,\n",
              "         -0.11517166,  0.00101366],\n",
              "        [ 0.01257773,  0.11863787, -0.0809793 , ..., -0.13442917,\n",
              "         -0.07888687, -0.03898302]], dtype=float32)>,\n",
              " <tf.Variable 'dense_1/bias:0' shape=(256,) dtype=float32, numpy=\n",
              " array([-0.06362598,  0.25584584, -0.0757346 , -0.047336  , -0.04633221,\n",
              "        -0.6165684 , -0.03971418, -0.07286812, -0.04823991, -0.04623983,\n",
              "        -0.04775518, -0.42920107, -0.05589681,  0.04236141, -0.04659221,\n",
              "        -0.0727279 , -0.11919634, -0.08765582, -0.0468158 , -0.05077852,\n",
              "        -0.04599584, -0.07973886, -0.0613611 , -0.04524647, -0.13862838,\n",
              "        -0.04599364, -0.0470941 , -0.04701921, -0.04636772, -0.04778948,\n",
              "        -0.0576085 ,  0.18351194, -0.20168766, -0.06260569, -0.04588382,\n",
              "        -0.045716  , -0.04640606, -0.08986709, -0.04566241, -0.13601789,\n",
              "        -0.23503049, -0.0725555 , -0.04590397, -0.04598432, -0.04649967,\n",
              "        -0.04628617, -0.08027632,  0.02603502, -0.17646459, -0.04594861,\n",
              "        -0.04595323,  0.30834502, -0.06276631, -0.05782689, -0.04777192,\n",
              "        -0.04727603, -0.04632192, -0.04615339, -0.0666841 , -0.08645178,\n",
              "        -0.04628542, -0.27379426, -0.04680805, -0.04821232, -0.04597288,\n",
              "        -0.01104825, -0.08437551, -0.065535  , -0.04749394, -0.04558114,\n",
              "        -0.04922771, -0.04585296, -0.04570929, -0.08710366, -0.0682441 ,\n",
              "        -0.23965146, -0.12108018, -0.04689203, -0.21959753, -0.04844072,\n",
              "        -0.26533055, -0.04638263, -0.04584322, -0.26761147, -0.20497487,\n",
              "        -0.04593467, -0.04606865, -0.15665199, -0.04616715, -0.07897662,\n",
              "        -0.06603494, -0.04595532, -0.2684346 , -0.05205539, -0.06427415,\n",
              "        -0.07839782, -0.04686178, -0.06315158, -0.04558372, -0.04728122,\n",
              "        -0.06335244, -0.05990825, -0.04569391, -0.04662462,  0.04555485,\n",
              "        -0.1085723 , -0.04699791, -0.04582932, -0.04606727, -0.11502896,\n",
              "        -0.04681694, -0.04685698, -0.04577912, -0.04626217, -0.04638038,\n",
              "        -0.04617996, -0.04596242, -0.04638045, -0.06470068, -0.04575653,\n",
              "        -0.05842447, -0.04615242, -0.06499086,  0.09940955, -0.04992871,\n",
              "        -0.04682406, -0.07161018, -0.04640857, -0.04606669, -0.04663532,\n",
              "        -0.04721099, -0.41727427, -0.0652617 , -0.04555788, -0.11672572,\n",
              "        -0.04683392, -0.04967346, -0.04649584,  0.42585555, -0.08396833,\n",
              "        -0.06078595, -0.06005238, -0.01019414,  0.22425802, -0.04724947,\n",
              "         0.1383519 , -0.04578593, -0.29141864, -0.04623894, -0.05834246,\n",
              "        -0.05194224, -0.07059872, -0.04567418, -0.04547581, -0.04660193,\n",
              "        -0.04573612, -0.0753289 , -0.06624454, -0.03192019, -0.06249665,\n",
              "        -0.19294977, -0.04585453, -0.17280047, -0.08788912, -0.04675085,\n",
              "        -0.04593327, -0.04766438, -0.04663608, -0.0468916 , -0.04587745,\n",
              "        -0.06384249, -0.07108828, -0.0456527 , -0.04626001, -0.06328522,\n",
              "        -0.05168213, -0.05081746, -0.04645699, -0.04587914, -0.40798616,\n",
              "        -0.0458835 , -0.04615844, -0.04573692, -0.06198877, -0.0457557 ,\n",
              "        -0.04640122, -0.04633021, -0.05080098, -0.04711434, -0.04578225,\n",
              "        -0.04700622, -0.04559423, -0.24515669, -0.10904275, -0.04601273,\n",
              "        -0.30706608, -0.04716475, -0.04643123, -0.08351097, -0.06027494,\n",
              "        -0.16214287, -0.04639959, -0.22084767, -0.04614452, -0.04693464,\n",
              "        -0.04643204,  0.2496647 , -0.41832095, -0.04684904, -0.059207  ,\n",
              "        -0.04675112, -0.05205027, -0.04765529, -0.2285309 , -0.04606948,\n",
              "        -0.06483139, -0.06469136, -0.2344702 , -0.04577807, -0.04597335,\n",
              "        -0.04585918, -0.06539489, -0.06090427, -0.42362696, -0.04598084,\n",
              "        -0.06865297, -0.07522304, -0.06478263, -0.0461215 , -0.11386672,\n",
              "        -0.04587061, -0.2220071 , -0.0798996 , -0.06532048, -0.05043443,\n",
              "        -0.12858327, -0.05198962, -0.26260635, -0.08126079, -0.04717861,\n",
              "        -0.2500155 , -0.04045724, -0.04950719, -0.08718161, -0.04797539,\n",
              "        -0.04590652, -0.38256773, -0.04680691, -0.04090511, -0.04541615,\n",
              "        -0.04606742, -0.04599729, -0.07741779, -0.04624304,  0.0815994 ,\n",
              "        -0.04681725], dtype=float32)>,\n",
              " <tf.Variable 'dense_2/kernel:0' shape=(256, 256) dtype=float32, numpy=\n",
              " array([[-0.07787014,  0.09738997,  0.02856003, ..., -0.07705076,\n",
              "         -0.00659726, -0.0239528 ],\n",
              "        [-0.01722028,  0.06141624, -0.1954643 , ..., -0.04917875,\n",
              "         -0.28943628, -0.00801101],\n",
              "        [-0.09717819, -0.0200443 , -0.03966611, ...,  0.01970617,\n",
              "         -0.03954851, -0.00943379],\n",
              "        ...,\n",
              "        [ 0.0501017 , -0.0239933 , -0.13175312, ..., -0.06516012,\n",
              "         -0.01547565,  0.02867468],\n",
              "        [-0.08525664, -0.04508233, -0.05852053, ..., -0.04998391,\n",
              "         -0.07822537, -0.16858073],\n",
              "        [ 0.01567418, -0.06953451, -0.09184817, ...,  0.00342065,\n",
              "         -0.01464092,  0.04616504]], dtype=float32)>,\n",
              " <tf.Variable 'dense_2/bias:0' shape=(256,) dtype=float32, numpy=\n",
              " array([-7.89490789e-02, -3.32659185e-02, -4.58565764e-02, -1.03498265e-01,\n",
              "        -5.19197360e-02, -4.51834127e-02, -1.05806202e-01, -4.94307168e-02,\n",
              "        -2.41660476e-01, -4.99843284e-02,  1.78607717e-01,  1.26110082e-02,\n",
              "        -4.63182889e-02, -1.63152535e-02, -2.63722152e-01, -4.84617576e-02,\n",
              "        -1.13037519e-01, -2.81697456e-02, -1.38889560e-02, -5.79207717e-03,\n",
              "         1.93132497e-02, -6.35871440e-02, -4.81649376e-02, -1.48616686e-01,\n",
              "        -1.24034807e-01, -5.10539077e-02, -4.67138141e-02, -6.17863201e-02,\n",
              "        -4.77171876e-02, -1.89817891e-01, -4.55116183e-02, -5.20593561e-02,\n",
              "        -2.42575884e-01, -7.26911798e-02, -6.73114285e-02, -1.33355841e-01,\n",
              "        -8.76699761e-02, -5.36987893e-02,  8.69200304e-02, -5.67133874e-02,\n",
              "        -1.32019386e-01, -7.97483549e-02, -8.28323439e-02, -4.62694243e-02,\n",
              "        -8.63158256e-02, -4.64825928e-02, -4.63776290e-02, -1.88606363e-02,\n",
              "        -4.57911268e-02, -1.37013987e-01, -3.82487774e-01, -4.57700677e-02,\n",
              "        -4.79672514e-02, -6.07292689e-02,  5.35585463e-01, -4.39176634e-02,\n",
              "        -5.11215888e-02, -1.13752030e-01, -1.33979157e-01, -4.59361076e-02,\n",
              "        -3.02279323e-01, -7.45967105e-02, -4.59718779e-02, -7.24338293e-02,\n",
              "        -4.63311188e-02, -5.69362640e-02, -5.22035286e-02, -3.96466032e-02,\n",
              "        -4.61016260e-02,  2.25903273e-01, -1.01701356e-01,  1.04055218e-02,\n",
              "        -5.09346016e-02, -8.57638121e-02, -2.34932497e-01, -4.56117615e-02,\n",
              "        -6.61219060e-02, -4.59666587e-02, -1.37147591e-01, -2.97583103e-01,\n",
              "        -9.86084342e-02, -1.94450498e-01, -4.68032360e-02, -4.81090397e-02,\n",
              "        -1.04325563e-01, -2.76240736e-01, -1.49960130e-01, -4.63130772e-02,\n",
              "        -1.21276923e-01, -1.37564465e-01, -4.66754660e-02, -7.64944255e-02,\n",
              "        -4.68359254e-02, -6.07451424e-02, -6.21775724e-02, -4.59950939e-02,\n",
              "         2.89587751e-02, -4.76368032e-02, -8.98357257e-02, -4.68248166e-02,\n",
              "         1.52248859e-01, -4.80562337e-02,  1.42186265e-02, -4.62679155e-02,\n",
              "        -4.62403521e-02, -4.83849868e-02, -4.65975888e-02, -1.04371727e-01,\n",
              "        -1.62182935e-02, -2.07105830e-01, -4.57574949e-02, -2.49544516e-01,\n",
              "         9.93576646e-03, -6.33146465e-02, -4.71330583e-02, -4.52808701e-02,\n",
              "        -4.79430780e-02, -4.73962463e-02, -7.87150264e-02, -6.32018670e-02,\n",
              "        -4.69915643e-02, -4.55677174e-02, -4.78711501e-02, -4.80898321e-02,\n",
              "        -5.63017689e-02, -2.42227644e-01, -4.81958985e-02, -6.00110255e-02,\n",
              "        -5.13020530e-02, -1.00124955e-01, -4.58286554e-02, -3.86168003e-01,\n",
              "        -8.43056291e-02, -7.27737695e-02, -4.58893590e-02, -4.00599867e-01,\n",
              "        -6.57778382e-02, -4.59886566e-02, -5.91465458e-02, -1.91495925e-01,\n",
              "        -4.63651307e-02, -4.58359346e-02, -6.42472729e-02, -4.62920964e-02,\n",
              "        -8.66286233e-02, -4.76672202e-02, -4.59548794e-02, -1.96276322e-01,\n",
              "        -4.90712747e-02, -4.85768132e-02, -6.52720630e-02, -4.95924540e-02,\n",
              "         1.36705965e-01, -1.49310827e-01, -4.58074100e-02, -4.95912395e-02,\n",
              "        -4.70955297e-02, -3.36828321e-01, -4.75592613e-02,  2.92219758e-01,\n",
              "        -1.22489363e-01,  9.08330306e-02, -4.99413535e-02, -7.49737322e-02,\n",
              "        -6.20535091e-02, -4.58070301e-02, -6.43947050e-02, -4.55914848e-02,\n",
              "        -8.45442265e-02, -2.05599830e-01, -4.55527417e-02, -4.55531329e-02,\n",
              "        -4.61606756e-02, -4.66422923e-02, -1.15137435e-01, -7.94934407e-02,\n",
              "         9.35326889e-03, -4.72988635e-02, -3.04066956e-01, -9.94274691e-02,\n",
              "        -8.39471295e-02, -6.59192652e-02, -4.61434089e-02, -3.18651974e-01,\n",
              "        -8.94103348e-02, -1.46813139e-01,  1.08565636e-01,  3.56510356e-02,\n",
              "        -5.85690811e-02,  1.42475009e-01,  2.02439576e-02, -4.72228639e-02,\n",
              "        -4.79578376e-02, -4.66345511e-02, -6.59327358e-02, -9.87279862e-02,\n",
              "         8.44678432e-02, -1.39875725e-01,  4.44146395e-02, -4.61207815e-02,\n",
              "        -1.31752595e-01, -2.93205604e-02, -4.57502939e-02, -3.26029211e-02,\n",
              "        -4.63717543e-02, -4.89230268e-02, -4.58417572e-02,  2.28927238e-05,\n",
              "        -2.32623741e-01, -4.59390506e-02, -4.66005690e-02, -1.10532589e-01,\n",
              "        -4.73080911e-02, -4.82963286e-02, -1.50965396e-02, -4.58337627e-02,\n",
              "        -2.08232313e-01, -4.80799787e-02, -4.76746708e-02, -5.35954870e-02,\n",
              "        -5.34891933e-02, -4.85007465e-02, -4.57103252e-02, -4.70207185e-02,\n",
              "        -4.84683327e-02, -4.58033793e-02, -7.12515414e-02, -2.59901553e-01,\n",
              "        -4.56045307e-02, -9.20510888e-02, -4.65915427e-02, -7.84252435e-02,\n",
              "        -4.56261523e-02, -4.76151630e-02, -5.99843226e-02, -4.61138263e-02,\n",
              "        -1.11973591e-01, -4.65972200e-02,  2.15592936e-01, -6.82530999e-02,\n",
              "        -4.69906852e-02, -3.22308034e-01, -8.39806646e-02, -4.59513925e-02,\n",
              "        -4.77125645e-02, -8.19993094e-02, -1.07087925e-01, -1.17526136e-01,\n",
              "        -4.66043651e-02, -5.30370921e-02, -1.15295537e-01,  2.41895899e-01,\n",
              "        -4.55803759e-02, -4.65787202e-02, -6.46457523e-02, -4.59116474e-02],\n",
              "       dtype=float32)>,\n",
              " <tf.Variable 'dense_3/kernel:0' shape=(256, 64) dtype=float32, numpy=\n",
              " array([[-0.07623505, -0.04485567, -0.01769424, ..., -0.04272523,\n",
              "         -0.12024372,  0.00797343],\n",
              "        [-0.06447599,  0.0751184 , -0.08962601, ..., -0.06910907,\n",
              "          0.13498329, -0.12145286],\n",
              "        [ 0.04731777,  0.03549094, -0.02237831, ..., -0.08610297,\n",
              "         -0.15995474,  0.03408908],\n",
              "        ...,\n",
              "        [-0.02252157, -0.02348246,  0.11536053, ...,  0.00883952,\n",
              "         -0.13564336, -0.01240841],\n",
              "        [ 0.09051379, -0.13867818,  0.00119758, ...,  0.08022798,\n",
              "          0.08707073,  0.05203908],\n",
              "        [-0.13779144, -0.03010497,  0.01924706, ..., -0.13170376,\n",
              "          0.08740132,  0.03536025]], dtype=float32)>,\n",
              " <tf.Variable 'dense_3/bias:0' shape=(64,) dtype=float32, numpy=\n",
              " array([ 0.0362035 , -0.04535565, -0.1188665 , -0.05957326, -0.09205702,\n",
              "        -0.37096712, -0.04776916, -0.20231226, -0.05006605, -0.04964009,\n",
              "        -0.10024056, -0.0466617 , -0.05073739, -0.03959673, -0.05249233,\n",
              "         0.01154923,  0.12726665, -0.06090003, -0.04735478, -0.04660792,\n",
              "         0.09155171,  0.11326069, -0.42361438, -0.04623353, -0.27554888,\n",
              "        -0.05284292,  0.1147011 ,  0.14513364, -0.04662618, -0.04664585,\n",
              "        -0.25129193, -0.04586974,  0.0980752 , -0.04797379,  0.05395806,\n",
              "         0.06432459, -0.18495634,  0.10125273, -0.00399252, -0.04615194,\n",
              "        -0.10039604, -0.07984726, -0.04646437, -0.06237497,  0.2677764 ,\n",
              "         0.06581542, -0.0465114 , -0.11083526, -0.24793744,  0.05535734,\n",
              "        -0.048298  ,  0.7589803 , -0.02936815,  0.12982708, -0.14705282,\n",
              "        -0.22442275, -0.04555907,  0.351233  ,  0.12088802, -0.04732941,\n",
              "        -0.05905383, -0.04588858, -0.04601793, -0.04785809], dtype=float32)>,\n",
              " <tf.Variable 'dense_4/kernel:0' shape=(64, 512) dtype=float32, numpy=\n",
              " array([[-0.14041352,  0.00100432, -0.10312642, ..., -0.12035546,\n",
              "         -0.08443532, -0.08432318],\n",
              "        [-0.09496341, -0.06353084,  0.04142496, ..., -0.03504233,\n",
              "         -0.04886401,  0.03013202],\n",
              "        [-0.08683033, -0.09278846, -0.03647194, ..., -0.14401016,\n",
              "         -0.00622945, -0.02031542],\n",
              "        ...,\n",
              "        [ 0.07935689,  0.01056679,  0.0419675 , ..., -0.05809933,\n",
              "          0.00770462, -0.04643457],\n",
              "        [ 0.00165699, -0.08598934, -0.05628389, ..., -0.6808656 ,\n",
              "         -0.08533201,  0.05800501],\n",
              "        [-0.06034052, -0.04459463, -0.04826494, ...,  0.03903821,\n",
              "         -0.05110655,  0.087115  ]], dtype=float32)>,\n",
              " <tf.Variable 'dense_4/bias:0' shape=(512,) dtype=float32, numpy=\n",
              " array([-0.04950005, -0.09510291, -0.04461339, -0.0574871 , -0.15749286,\n",
              "         0.22043884, -0.09380124, -0.04549929, -0.03615671,  0.09157971,\n",
              "        -0.06525565, -0.13259405, -0.04551371, -0.04613309,  0.22535227,\n",
              "        -0.06787591, -0.05223599, -0.04298419, -0.06814351, -0.15595503,\n",
              "        -0.06478801, -0.04471725, -0.04544976, -0.04622142,  0.32469103,\n",
              "        -0.08053094, -0.04795849, -0.06267396, -0.10816967, -0.04628447,\n",
              "        -0.06469694, -0.04967535,  0.01671823, -0.02911979, -0.04554678,\n",
              "        -0.04361035,  0.62274903, -0.06510057, -0.06065367, -0.04504963,\n",
              "        -0.07996891,  0.02674734, -0.05101706, -0.00690737, -0.0416156 ,\n",
              "        -0.0743598 , -0.04784006, -0.189214  , -0.04490007, -0.06495062,\n",
              "        -0.05243168, -0.25213534, -0.1208353 , -0.05142359, -0.0458224 ,\n",
              "        -0.04544022, -0.1263515 , -0.08062097, -0.07056281, -0.06719533,\n",
              "        -0.04781376, -0.25272572, -0.050559  , -0.04647431,  0.04886241,\n",
              "         0.06113188, -0.06429438, -0.0668458 , -0.04790211, -0.12791628,\n",
              "        -0.0551177 , -0.05065448, -0.05407216, -0.03313937,  0.00194786,\n",
              "         0.26245907, -0.04539352, -0.09033529, -0.07495526, -0.05564116,\n",
              "         0.21779978, -0.0675605 , -0.04442975, -0.04598808, -0.06389149,\n",
              "        -0.04352457,  0.32935882, -0.04560607, -0.0652712 , -0.10993519,\n",
              "        -0.04538496, -0.04593499, -0.04685995, -0.04505796, -0.04562962,\n",
              "        -0.05867769, -0.07289696, -0.06610483, -0.0509629 , -0.04581928,\n",
              "        -0.06507155, -0.04553818, -0.05079946, -0.06624569, -0.04707362,\n",
              "        -0.33223358, -0.06071441,  0.24992567, -0.10271138, -0.04777646,\n",
              "        -0.06567386, -0.03903419, -0.04613385, -0.04636316, -0.04145724,\n",
              "         0.04967795, -0.04922175, -0.04553515, -0.04585744, -0.08980536,\n",
              "        -0.06226365, -0.04507293, -0.16826288,  0.20839712, -0.05795783,\n",
              "        -0.04704361, -0.06272727, -0.0651742 ,  0.03488488, -0.10543518,\n",
              "        -0.00889226,  0.15077983, -0.0941625 , -0.09354211, -0.15453538,\n",
              "         0.10643181, -0.04541102, -0.1033394 , -0.04546204, -0.04480294,\n",
              "        -0.04777486, -0.04597838, -0.18587808, -0.04536194, -0.07169743,\n",
              "        -0.2629457 , -0.19214955, -0.06553164, -0.06018328, -0.05662509,\n",
              "        -0.04808052,  0.04204912, -0.04527624, -0.14151224, -0.10802808,\n",
              "        -0.04593374, -0.04679474, -0.04574089,  0.09125634, -0.06456119,\n",
              "        -0.04739605, -0.12114638, -0.0481027 ,  0.09032135, -0.1941781 ,\n",
              "         0.05420219, -0.04594407, -0.04553397, -0.06582122, -0.08375373,\n",
              "        -0.0457507 ,  0.09371177, -0.13976993, -0.10472761, -0.04655633,\n",
              "        -0.12902476, -0.05083992,  0.48737773, -0.04820235, -0.04290344,\n",
              "        -0.15767549, -0.06481073, -0.04829613, -0.07174627, -0.24712102,\n",
              "        -0.09700789,  0.04962947, -0.15988018, -0.19183059, -0.04550968,\n",
              "        -0.06427138, -0.03056215, -0.04537917, -0.04564392, -0.06565722,\n",
              "        -0.06631333, -0.04594985, -0.04590411, -0.15774049,  0.18960705,\n",
              "        -0.04929952, -0.04556741,  0.06169486, -0.04621147, -0.07520492,\n",
              "        -0.07253166, -0.04611754, -0.01415262, -0.04909087, -0.23711422,\n",
              "        -0.04531593, -0.0492576 , -0.08099999,  0.04124716,  0.25135115,\n",
              "        -0.11584979, -0.04468698, -0.06610118, -0.09384781, -0.07505411,\n",
              "        -0.04720343, -0.08933355, -0.04474258,  0.04215557, -0.11208805,\n",
              "        -0.04691371, -0.06895597, -0.012882  , -0.08433653, -0.06648384,\n",
              "        -0.04374581, -0.04614363, -0.24032143, -0.10686119, -0.05253008,\n",
              "        -0.0617992 , -0.18429635, -0.04604837, -0.0452989 , -0.04621967,\n",
              "        -0.10083425, -0.04669287, -0.08179907,  0.07370432, -0.06060461,\n",
              "        -0.04576995, -0.00211609, -0.04455894, -0.06585436,  0.07440927,\n",
              "         0.3122898 , -0.04872267, -0.04643117, -0.01056081, -0.09641522,\n",
              "        -0.05077633, -0.05675574, -0.19571856, -0.05876734, -0.10229883,\n",
              "         0.01018158, -0.0457464 , -0.0666017 ,  0.093998  , -0.05313066,\n",
              "        -0.05934792, -0.04417854,  0.10244877, -0.06536157, -0.05927736,\n",
              "        -0.05056422, -0.05051468, -0.04623469, -0.0625849 , -0.07643683,\n",
              "        -0.04591312,  0.08954671, -0.04526065,  0.38483873, -0.02873208,\n",
              "        -0.0799978 ,  0.22758481, -0.14330006,  0.30689302, -0.29877374,\n",
              "        -0.0554896 , -0.0496585 , -0.10056593, -0.0672546 ,  0.2375151 ,\n",
              "         0.22449452, -0.06486563, -0.04636298, -0.05397191, -0.07160538,\n",
              "         0.61814165,  0.00303047, -0.31059176,  0.10816433,  0.20060205,\n",
              "        -0.06434578, -0.0298593 , -0.05913569,  0.04586054, -0.0722913 ,\n",
              "        -0.0467124 , -0.04646286, -0.05097193, -0.05169051, -0.05692939,\n",
              "        -0.06298792, -0.04713664, -0.04522783, -0.1445306 , -0.18778639,\n",
              "        -0.12094004,  0.08142888, -0.04395336, -0.1563245 , -0.13617186,\n",
              "        -0.0465687 , -0.04651691,  0.06190638, -0.07536385, -0.17047904,\n",
              "        -0.05679304, -0.04724899, -0.20534082, -0.04543977,  0.11853872,\n",
              "        -0.06773666, -0.04643608, -0.08156836, -0.05314595,  0.15564007,\n",
              "        -0.04567685, -0.06546892, -0.029488  , -0.05208804, -0.05463322,\n",
              "         0.06674492, -0.04553148, -0.01305772, -0.06565891, -0.06365217,\n",
              "        -0.04626187,  0.02959763, -0.11469366, -0.0497986 , -0.04481111,\n",
              "        -0.04848212, -0.07759597,  0.28418425, -0.08533555, -0.06630453,\n",
              "        -0.06311862, -0.06801187,  0.20989536, -0.04603702, -0.05027061,\n",
              "        -0.04611531, -0.05043343, -0.06506579,  0.08400247,  0.08186702,\n",
              "        -0.08699729, -0.2418064 ,  0.3192212 , -0.06736442,  0.18582289,\n",
              "        -0.04789935, -0.06985537, -0.06466721, -0.05522317,  0.30474302,\n",
              "         0.35016632, -0.3654393 , -0.19389115, -0.11933637, -0.0975112 ,\n",
              "        -0.04655524, -0.06661731,  0.1638784 , -0.07036524, -0.07734232,\n",
              "        -0.04539867, -0.04510931, -0.0476981 , -0.04651545, -0.04617199,\n",
              "         0.19161272, -0.38440046, -0.09479782, -0.05976956, -0.17289355,\n",
              "        -0.08694723, -0.04870278, -0.05991631, -0.04557402, -0.02772415,\n",
              "        -0.03377326, -0.03623557, -0.06763203, -0.0467024 ,  0.09058996,\n",
              "        -0.12798573, -0.03262476,  0.04222018, -0.04541454, -0.0517823 ,\n",
              "        -0.04576322,  0.2824708 , -0.06938517, -0.04487003, -0.04649762,\n",
              "         0.44969878, -0.04588014, -0.10229924, -0.04967573, -0.05002589,\n",
              "        -0.0461824 , -0.04570188, -0.0616342 , -0.04968756, -0.04594921,\n",
              "        -0.1126576 , -0.04540958,  0.10281939, -0.04669067, -0.05010112,\n",
              "        -0.05768285,  0.0597709 , -0.04447644, -0.065712  , -0.03206501,\n",
              "        -0.06171082, -0.00499706, -0.03713527, -0.13560006, -0.06775659,\n",
              "        -0.0523912 , -0.06583524, -0.25854874, -0.07265602, -0.10893077,\n",
              "        -0.0455838 , -0.04649904,  0.15808071, -0.04289933, -0.03941505,\n",
              "        -0.16707839, -0.23031768, -0.05323284, -0.06452747,  0.21754774,\n",
              "        -0.04583713, -0.09854401, -0.20739424, -0.04512355, -0.04563862,\n",
              "         0.2817153 , -0.05034827,  0.25937316, -0.06054258, -0.04701589,\n",
              "        -0.20956267, -0.08446538, -0.2845139 , -0.04890725, -0.17310514,\n",
              "        -0.07939235, -0.04560606, -0.12864842, -0.14291665, -0.0695053 ,\n",
              "        -0.07422528, -0.04684683, -0.11840484,  0.16402094, -0.18025339,\n",
              "        -0.07563343, -0.07277747, -0.06526355, -0.24981377, -0.02061897,\n",
              "        -0.05027833, -0.06597836, -0.04531235,  0.004544  , -0.06579134,\n",
              "        -0.04779775, -0.13504599, -0.04454038, -0.03473004, -0.07088696,\n",
              "        -0.06518369, -0.06226691, -0.04557188, -0.04622591, -0.04850487,\n",
              "        -0.0958189 , -0.12839705, -0.04700966, -0.04968094, -0.07631227,\n",
              "        -0.08286233, -0.06468354, -0.05311667,  0.00352568,  0.1266355 ,\n",
              "        -0.04646971, -0.10665649], dtype=float32)>,\n",
              " <tf.Variable 'dense_5/kernel:0' shape=(512, 784) dtype=float32, numpy=\n",
              " array([[ 5.5102617e-02, -1.1543438e-02, -2.1084115e-02, ...,\n",
              "         -4.9237937e-02,  3.1274870e-02,  1.7016187e-02],\n",
              "        [ 6.4825654e-02,  5.3007454e-02,  4.5261875e-02, ...,\n",
              "          1.5549950e-02,  5.8783054e-02, -6.2658474e-02],\n",
              "        [ 2.8759263e-02,  2.0018934e-04, -6.6370755e-02, ...,\n",
              "          2.0381806e-02, -7.4976288e-02, -5.9616100e-02],\n",
              "        ...,\n",
              "        [-6.0608018e-02,  1.3332246e-02, -4.5764670e-02, ...,\n",
              "         -1.4538195e-02, -4.6451315e-03,  3.1193456e-05],\n",
              "        [-7.5341128e-02, -2.2676904e-02,  7.7881664e-03, ...,\n",
              "         -3.1233903e-02, -1.6467489e-02, -2.9789982e-02],\n",
              "        [ 9.5838457e-03, -4.3662682e-02,  3.2090843e-02, ...,\n",
              "         -2.2648532e-02, -3.3399139e-02, -3.7908472e-02]], dtype=float32)>,\n",
              " <tf.Variable 'dense_5/bias:0' shape=(784,) dtype=float32, numpy=\n",
              " array([-1.07409179e-01, -6.22369312e-02, -8.15765336e-02, -6.53926581e-02,\n",
              "        -8.38399604e-02, -6.52643666e-02, -6.96070492e-02, -6.09041154e-02,\n",
              "        -6.90760538e-02, -1.84265226e-01, -7.69805238e-02, -8.26814994e-02,\n",
              "        -7.15954900e-02, -6.53058887e-02, -6.31966367e-02, -8.35658833e-02,\n",
              "        -6.07214533e-02, -6.36926442e-02, -6.82804957e-02, -8.18497092e-02,\n",
              "        -6.11859336e-02, -8.35838839e-02, -6.79198578e-02, -6.00587055e-02,\n",
              "        -5.90604544e-02, -6.24920577e-02, -6.88421428e-02, -7.77756050e-02,\n",
              "        -1.38457686e-01, -6.62909448e-02, -5.95277175e-02, -1.03524595e-01,\n",
              "        -7.95319602e-02, -1.06040597e-01, -7.40309283e-02, -1.01860739e-01,\n",
              "        -7.86513910e-02, -1.30040661e-01, -5.97412661e-02, -8.42389911e-02,\n",
              "        -1.01531491e-01, -8.34980160e-02, -8.80107880e-02, -6.53801709e-02,\n",
              "        -8.72431844e-02, -5.88123649e-02, -1.24839276e-01, -6.57811090e-02,\n",
              "        -6.59016147e-02, -6.37605190e-02, -1.13438502e-01, -7.46475607e-02,\n",
              "        -9.45871472e-02, -9.79525372e-02, -9.97892469e-02, -8.38820711e-02,\n",
              "        -9.60618854e-02, -7.98205361e-02, -7.41534680e-02, -6.18960746e-02,\n",
              "        -6.84256330e-02, -7.35399202e-02, -6.70800954e-02, -6.02303706e-02,\n",
              "        -6.34300113e-02, -5.49389422e-02, -1.05649732e-01, -1.06801242e-01,\n",
              "        -1.51448697e-01, -4.81654406e-02, -1.02056846e-01, -6.01103380e-02,\n",
              "        -7.29122460e-02, -8.02828744e-02, -1.25153109e-01, -8.12544897e-02,\n",
              "        -6.03009872e-02, -7.63517320e-02, -6.27931580e-02, -6.84434772e-02,\n",
              "        -8.03201497e-02, -1.01590700e-01, -6.27934188e-02, -6.14605248e-02,\n",
              "        -6.57070279e-02, -7.45851099e-02, -6.72025234e-02, -7.00865313e-02,\n",
              "        -7.21627921e-02, -5.87763414e-02, -8.04668963e-02, -6.45079613e-02,\n",
              "        -8.51200372e-02, -6.43763319e-02, -4.56671342e-02, -2.48261895e-02,\n",
              "        -4.58922833e-02, -1.15259632e-01, -4.64976430e-02,  7.67844096e-02,\n",
              "        -6.87093809e-02,  9.40150395e-02, -6.51686415e-02, -7.33225197e-02,\n",
              "         1.72929987e-02, -9.51510444e-02, -8.07830989e-02, -7.99235106e-02,\n",
              "        -7.53561705e-02, -9.06800777e-02, -7.15294480e-02, -6.91341758e-02,\n",
              "        -7.86466897e-02, -7.03102574e-02, -5.67431189e-02, -7.72598758e-02,\n",
              "        -8.85776281e-02, -8.31725672e-02, -9.10367966e-02, -1.49771929e-01,\n",
              "        -6.36863559e-02, -4.69528474e-02,  1.04893595e-01, -4.59827892e-02,\n",
              "         1.64208561e-01,  9.81229320e-02,  7.60592893e-02,  5.85850924e-02,\n",
              "         5.94848730e-02,  1.87045783e-02, -4.56343964e-02, -2.08419487e-02,\n",
              "        -8.86171907e-02, -6.16559163e-02, -2.66906992e-02, -8.17284063e-02,\n",
              "        -6.70521706e-02, -7.19147474e-02, -8.92690942e-02, -8.81892815e-02,\n",
              "        -1.46205097e-01, -5.99011295e-02, -8.89632925e-02, -8.04885849e-02,\n",
              "        -9.79325697e-02, -6.79615512e-02, -6.39277622e-02, -4.55570109e-02,\n",
              "        -4.56964858e-02, -4.69128191e-02, -2.63972767e-02,  2.43426636e-02,\n",
              "         6.60917312e-02,  7.12058544e-02,  7.54503831e-02,  8.18450749e-02,\n",
              "         8.00674856e-02,  6.78341929e-03, -7.79209211e-02, -1.19667038e-01,\n",
              "        -6.15299977e-02, -4.57642600e-02, -4.65923361e-02, -6.12913854e-02,\n",
              "        -6.49542287e-02, -1.96185350e-01, -6.49531037e-02, -6.41703904e-02,\n",
              "        -7.32865781e-02, -5.90151809e-02, -7.44749531e-02, -5.06712422e-02,\n",
              "        -1.27432197e-01, -3.56065892e-02, -8.73219296e-02, -4.76238616e-02,\n",
              "        -1.27458587e-01, -1.26271069e-01, -8.18550214e-02, -1.58682503e-02,\n",
              "         5.30551597e-02,  8.80796611e-02,  1.14289649e-01,  1.33561119e-01,\n",
              "         1.52693495e-01,  9.79562700e-02,  1.12735331e-02, -4.75692973e-02,\n",
              "        -4.51386571e-02,  7.37525756e-03,  3.71297114e-02, -1.20959580e-01,\n",
              "        -8.37314203e-02, -5.89104258e-02, -5.91586269e-02, -8.71953145e-02,\n",
              "        -6.19879812e-02, -7.26665184e-02, -9.75123495e-02, -1.58284858e-01,\n",
              "        -1.91694170e-01, -8.58858526e-02, -2.09502220e-01, -4.07355540e-02,\n",
              "        -1.79846033e-01, -1.30057767e-01, -7.72571564e-03,  1.02499366e-01,\n",
              "         1.61714688e-01,  2.06929967e-01,  2.11145222e-01,  2.23146573e-01,\n",
              "         2.39834264e-01,  2.15452030e-01,  1.42152861e-01,  7.16855004e-02,\n",
              "         2.58760676e-02,  4.79270667e-02,  9.28409249e-02,  1.86572403e-01,\n",
              "        -6.55661896e-02, -6.51985854e-02, -8.15486982e-02, -7.34510794e-02,\n",
              "        -5.22022136e-02, -6.32337630e-02, -6.00636825e-02, -6.34130910e-02,\n",
              "        -1.45087823e-01, -6.39200360e-02, -5.79475537e-02, -1.68557599e-01,\n",
              "        -1.33669272e-01,  1.52100418e-02,  1.70425430e-01,  2.71228254e-01,\n",
              "         3.21677923e-01,  3.21344942e-01,  3.13771069e-01,  2.97297329e-01,\n",
              "         2.57031322e-01,  2.52242416e-01,  2.36017197e-01,  1.73730433e-01,\n",
              "         8.96305144e-02,  7.20342696e-02, -2.31032651e-02, -5.50617762e-02,\n",
              "        -6.66956604e-02, -6.35450259e-02, -6.23613372e-02, -5.96221350e-02,\n",
              "        -8.92575458e-02, -5.87752312e-02, -1.01734646e-01, -6.20420799e-02,\n",
              "        -6.57109991e-02, -8.59964266e-02, -7.23740608e-02, -9.19797719e-02,\n",
              "        -5.54403337e-03,  1.91691190e-01,  3.05239409e-01,  3.54506999e-01,\n",
              "         3.66618037e-01,  2.87986070e-01,  2.24973127e-01,  1.96910560e-01,\n",
              "         1.95781812e-01,  2.38122091e-01,  2.42650539e-01,  2.02990308e-01,\n",
              "         1.07366472e-01, -7.07394183e-02,  3.76803651e-02,  7.32356235e-02,\n",
              "        -5.26333861e-02, -6.57374337e-02, -6.63041323e-02, -2.03909278e-01,\n",
              "        -6.97703362e-02, -8.02438483e-02, -1.53787538e-01, -7.79400244e-02,\n",
              "        -7.28292763e-02, -6.60123751e-02, -7.31483325e-02, -3.68998870e-02,\n",
              "         1.12997122e-01,  3.10729057e-01,  3.13479424e-01,  2.69394875e-01,\n",
              "         2.10902676e-01,  1.38360858e-01,  8.08781236e-02,  8.52173269e-02,\n",
              "         1.39694214e-01,  2.05698594e-01,  2.48068199e-01,  2.15025663e-01,\n",
              "         6.14894405e-02, -3.70732136e-02, -4.42097476e-03, -4.59816046e-02,\n",
              "        -6.74009696e-02, -8.80585164e-02, -7.42118955e-02, -6.37897477e-02,\n",
              "        -6.25515953e-02, -6.26262724e-02, -6.03936464e-02, -6.69768974e-02,\n",
              "        -6.24593385e-02, -6.90906346e-02, -5.01817279e-02, -2.37105004e-02,\n",
              "         1.56541690e-01,  2.51189470e-01,  2.10067898e-01,  1.10387132e-01,\n",
              "         3.94192375e-02,  7.06560561e-04,  3.77145335e-02,  1.09044246e-01,\n",
              "         1.67026326e-01,  2.22549468e-01,  2.44337723e-01,  1.55107677e-01,\n",
              "         3.13068740e-03, -9.14724246e-02, -3.58295478e-02,  3.85442972e-02,\n",
              "        -4.74348292e-02, -1.03229024e-01, -6.22122921e-02, -6.61516413e-02,\n",
              "        -9.17043537e-02, -7.33672976e-02, -8.54966864e-02, -6.62810504e-02,\n",
              "        -5.94334155e-02, -6.89040199e-02, -4.31004614e-02,  2.95085814e-02,\n",
              "         1.69395119e-01,  1.83658391e-01,  1.28835797e-01,  4.61765341e-02,\n",
              "         6.43938314e-04,  1.97418630e-02,  9.14335847e-02,  1.23503208e-01,\n",
              "         1.89872727e-01,  2.00629875e-01,  1.97277889e-01,  1.01311423e-01,\n",
              "        -2.99361553e-02, -7.05597997e-02, -4.45813686e-02, -4.57367375e-02,\n",
              "        -4.56235446e-02, -8.31099972e-02, -7.25556985e-02, -1.00812584e-01,\n",
              "        -6.90480620e-02, -5.64114638e-02, -8.06721747e-02, -6.07818775e-02,\n",
              "        -6.39017522e-02,  8.11777785e-02, -5.52653521e-02,  7.06975535e-02,\n",
              "         1.28451794e-01,  1.40466750e-01,  1.13662235e-01,  8.84555355e-02,\n",
              "         8.16734210e-02,  1.25538915e-01,  1.99931294e-01,  1.88071474e-01,\n",
              "         1.87094554e-01,  2.01043531e-01,  1.31638765e-01,  1.34763960e-02,\n",
              "        -3.44284028e-02, -6.40032440e-02, -1.35800662e-02, -2.66167498e-03,\n",
              "        -9.00620688e-03, -8.28784481e-02, -6.54430687e-02, -6.55750558e-02,\n",
              "        -7.44730532e-02, -1.16590656e-01, -7.38852993e-02, -1.11519083e-01,\n",
              "        -2.58953482e-01, -6.59405142e-02,  3.61788571e-02,  8.82115737e-02,\n",
              "         1.15779132e-01,  1.56705394e-01,  1.55652672e-01,  1.83560878e-01,\n",
              "         2.00238734e-01,  2.54950345e-01,  2.83971816e-01,  2.27372646e-01,\n",
              "         2.00516447e-01,  1.81222066e-01,  8.79527107e-02, -2.49084719e-02,\n",
              "        -4.49255891e-02, -3.71154360e-02, -7.49766678e-02,  1.19694984e-02,\n",
              "        -4.54335921e-02, -6.09322451e-02, -6.68020770e-02, -6.91077560e-02,\n",
              "        -7.37098977e-02, -9.29365978e-02, -7.81419873e-02, -6.08637445e-02,\n",
              "        -7.14546070e-02, -8.36203098e-02,  3.77507210e-02,  6.92809522e-02,\n",
              "         1.11771658e-01,  1.90533668e-01,  2.29034796e-01,  2.92301744e-01,\n",
              "         3.08749884e-01,  3.49471152e-01,  3.45870107e-01,  2.22240359e-01,\n",
              "         1.57641307e-01,  1.63350642e-01,  6.18227161e-02, -8.10406916e-03,\n",
              "        -3.55612673e-02, -4.06531468e-02, -1.99187174e-02,  1.58461574e-02,\n",
              "        -4.57225479e-02, -4.93663177e-02, -6.68906122e-02, -8.91398191e-02,\n",
              "        -8.77260268e-02, -6.48583546e-02, -8.04599077e-02, -5.24510704e-02,\n",
              "        -1.49922833e-01, -7.06269592e-02,  4.60895821e-02,  1.03257932e-01,\n",
              "         1.65198818e-01,  2.09085062e-01,  2.61377215e-01,  3.32964271e-01,\n",
              "         3.59043121e-01,  3.35902482e-01,  2.84769773e-01,  1.99319854e-01,\n",
              "         1.69186383e-01,  1.33543879e-01,  6.75061569e-02,  4.14632335e-02,\n",
              "         2.05794489e-03, -8.83638933e-02,  1.00742914e-02, -4.66912799e-02,\n",
              "        -4.60116416e-02, -8.98808241e-02, -6.25793561e-02, -8.04654285e-02,\n",
              "        -7.55491927e-02, -5.46248741e-02, -7.66222030e-02, -7.90619105e-02,\n",
              "        -7.56756440e-02, -8.78838152e-02,  9.91216525e-02,  9.93655995e-02,\n",
              "         1.45585895e-01,  1.92671388e-01,  2.46802747e-01,  2.47665018e-01,\n",
              "         2.46243268e-01,  2.35906914e-01,  2.10506186e-01,  1.88692033e-01,\n",
              "         1.48875758e-01,  1.18410669e-01,  1.13586612e-01,  1.07383057e-01,\n",
              "         5.68411238e-02,  4.19711741e-03,  1.93417631e-02, -5.47587797e-02,\n",
              "        -4.70241047e-02, -3.70352656e-01, -5.02002947e-02, -6.22421876e-02,\n",
              "        -2.05339015e-01, -7.61332884e-02, -6.22386858e-02, -6.51163235e-02,\n",
              "        -2.07481384e-01,  7.45913386e-02,  1.16873093e-01,  1.25978529e-01,\n",
              "         1.83297813e-01,  1.94758892e-01,  1.80296421e-01,  1.51364177e-01,\n",
              "         1.19015865e-01,  1.45336583e-01,  1.71913013e-01,  1.80445522e-01,\n",
              "         1.64621890e-01,  1.45066828e-01,  1.69818446e-01,  1.17321976e-01,\n",
              "         4.63819206e-02,  3.69429891e-03,  2.60480382e-02, -4.83969003e-02,\n",
              "        -6.90641925e-02, -6.29036799e-02, -6.95504248e-02, -8.88524652e-02,\n",
              "        -6.23993501e-02, -7.93993250e-02, -6.13881499e-02, -8.20045471e-02,\n",
              "        -6.88922703e-02, -4.79517318e-02,  8.31493586e-02,  1.41172841e-01,\n",
              "         1.90615401e-01,  2.09854811e-01,  1.69046342e-01,  9.09584090e-02,\n",
              "         1.01464227e-01,  8.83732885e-02,  1.72028944e-01,  2.10125491e-01,\n",
              "         1.95330739e-01,  1.90455124e-01,  1.87622204e-01,  9.80856046e-02,\n",
              "         3.91766848e-03, -2.13192161e-02,  1.20250257e-02, -6.68570921e-02,\n",
              "        -7.47109205e-02, -6.05709925e-02, -1.03925593e-01, -6.61458075e-02,\n",
              "        -7.27117509e-02, -6.93249851e-02, -7.19932020e-02, -5.45484088e-02,\n",
              "        -7.70291016e-02, -5.33119030e-02,  2.54016221e-02,  1.11711301e-01,\n",
              "         2.06665516e-01,  2.04960108e-01,  1.61735341e-01,  1.32381484e-01,\n",
              "         1.16064727e-01,  1.71137482e-01,  2.52178669e-01,  2.81147957e-01,\n",
              "         2.44162261e-01,  2.15364307e-01,  1.60233885e-01,  6.19270056e-02,\n",
              "        -2.98440747e-04, -2.12710239e-02, -8.97685140e-02, -6.69880286e-02,\n",
              "        -1.02060579e-01, -7.24037811e-02, -9.72668529e-02, -6.34107515e-02,\n",
              "        -6.83347285e-02, -7.00025633e-02, -6.30704835e-02, -7.93101788e-02,\n",
              "        -1.64733097e-01, -8.40272307e-02, -2.64467467e-02,  4.21386957e-02,\n",
              "         1.07349448e-01,  1.68160051e-01,  2.11830601e-01,  1.90688029e-01,\n",
              "         2.08583444e-01,  2.51796752e-01,  2.95853794e-01,  2.90543705e-01,\n",
              "         2.12708846e-01,  1.51617393e-01,  9.29408371e-02,  3.18293832e-02,\n",
              "         9.39583464e-04, -1.76408198e-02, -7.82090947e-02, -6.75493106e-02,\n",
              "        -8.97773206e-02, -6.10141009e-02, -6.33640364e-02, -9.02237222e-02,\n",
              "        -6.42233044e-02, -1.06642261e-01, -6.89677671e-02, -7.75748044e-02,\n",
              "        -6.30134344e-02, -6.23401329e-02, -9.77701992e-02, -6.61845952e-02,\n",
              "         3.57751781e-03,  6.06429428e-02,  1.36886626e-01,  2.05977455e-01,\n",
              "         2.72211432e-01,  3.14455658e-01,  3.08180630e-01,  2.47000456e-01,\n",
              "         1.34873614e-01,  5.21212034e-02,  1.38218133e-02,  9.55624320e-03,\n",
              "         5.68750799e-02, -4.82282043e-02, -4.73991297e-02, -6.04670011e-02,\n",
              "        -8.33558962e-02, -6.71359003e-02, -8.83418396e-02, -6.04004860e-02,\n",
              "        -7.52185658e-02, -5.96163459e-02, -6.45859241e-02, -1.05195470e-01,\n",
              "        -6.20373115e-02, -6.64308742e-02, -3.96837741e-02, -3.47398967e-02,\n",
              "        -9.16993394e-02, -5.59202395e-02,  2.66613509e-03,  8.43283758e-02,\n",
              "         1.91321015e-01,  2.53094345e-01,  2.16976359e-01,  1.20804876e-01,\n",
              "         2.31082551e-02, -5.13400696e-03,  2.83234436e-02,  5.73675781e-02,\n",
              "         6.27984181e-02, -6.15887642e-02, -6.93413988e-02, -8.91595632e-02,\n",
              "        -7.68903047e-02, -6.13421127e-02, -8.74665827e-02, -8.57481584e-02,\n",
              "        -6.47079796e-02, -7.83949494e-02, -6.13077693e-02, -7.39844665e-02,\n",
              "        -8.23592395e-02, -6.22072145e-02, -6.58649057e-02, -4.50160652e-02,\n",
              "        -6.79715052e-02, -4.41129543e-02, -3.36905234e-02,  3.47110070e-02,\n",
              "         9.31384191e-02,  7.73537979e-02,  6.25982136e-02,  3.16392407e-02,\n",
              "         2.66005490e-02,  8.25037062e-03, -7.49781132e-02, -1.12580016e-01,\n",
              "        -5.98782673e-02, -6.45447299e-02, -8.55525956e-02, -6.66652620e-02,\n",
              "        -1.72320604e-01, -1.08076259e-01, -6.62048012e-02, -6.65942580e-02,\n",
              "        -7.60190561e-02, -8.80030543e-02, -1.00603685e-01, -7.86084607e-02,\n",
              "        -7.03141540e-02, -7.90716559e-02, -7.41938055e-02, -4.64126542e-02,\n",
              "        -4.60599922e-02, -9.94803905e-02, -6.98640570e-02, -2.88907606e-02,\n",
              "        -6.47699311e-02, -5.53417653e-02,  1.04285270e-01, -6.30216897e-02,\n",
              "        -1.99118525e-01, -6.60675857e-03, -1.83249652e-01, -9.34262946e-02,\n",
              "        -9.10600647e-02, -7.19166696e-02, -6.01602383e-02, -7.46280029e-02,\n",
              "        -4.90124747e-02, -1.68493971e-01, -1.10931300e-01, -7.44555220e-02,\n",
              "        -7.39899054e-02, -9.49954614e-02, -6.94266632e-02, -6.19218871e-02,\n",
              "        -1.35723963e-01, -7.24719614e-02, -7.89923072e-02, -1.13636337e-01,\n",
              "        -6.97138906e-02, -5.12088612e-02, -4.96135838e-02,  8.33359808e-02,\n",
              "        -7.13668391e-02, -1.19511701e-01, -7.38115460e-02, -8.17479342e-02,\n",
              "        -6.37291595e-02, -6.12407103e-02, -6.25519976e-02, -7.55619332e-02,\n",
              "        -1.85031027e-01, -6.16227835e-02, -7.85790682e-02, -1.03498369e-01,\n",
              "        -7.30167329e-02, -1.37506634e-01, -6.59193397e-02, -8.14065859e-02,\n",
              "        -6.79713786e-02, -7.11467564e-02, -7.92121068e-02, -6.13271520e-02,\n",
              "        -8.80948156e-02, -5.58560975e-02, -8.27244148e-02, -1.03524297e-01,\n",
              "        -7.83844367e-02, -6.92483634e-02, -8.56043622e-02, -6.76427633e-02,\n",
              "        -1.23305552e-01, -5.68342879e-02, -7.15403333e-02, -6.60316944e-02,\n",
              "        -6.29895031e-02, -4.25495096e-02, -7.93462992e-02, -6.07694834e-02,\n",
              "        -6.74224198e-02, -9.84196514e-02, -7.44412839e-02, -7.03042597e-02,\n",
              "        -6.50643855e-02, -7.40274563e-02, -6.32667094e-02, -6.85600415e-02],\n",
              "       dtype=float32)>]"
            ]
          },
          "metadata": {},
          "execution_count": 35
        }
      ]
    },
    {
      "cell_type": "markdown",
      "metadata": {
        "id": "EMO6IzwkvXvO"
      },
      "source": [
        "Now, plot the results like figure above. (5 Points)"
      ]
    },
    {
      "cell_type": "code",
      "source": [
        "X_test = np.reshape(x_test, (10000,28,28)) *255 \n",
        "pred = np.reshape(pred, (10000,28,28)) *255\n",
        "X_test_noisy1 = np.reshape(noisy_mnist_test, (-1,28,28)) *255\n",
        "plt.figure(figsize=(20, 4))\n",
        "print(\"Real\")\n",
        "for i in range(10,20,1):\n",
        "    plt.subplot(2, 10, i+1)\n",
        "    plt.imshow(x_test[i,:,:], cmap='gray')\n",
        "plt.show()    \n",
        "plt.figure(figsize=(20, 4))\n",
        "print(\"Noised\")\n",
        "for i in range(10,20,1):\n",
        "    plt.subplot(2, 10, i+1)\n",
        "    plt.imshow(noisy_mnist_test[i,:,:], cmap='gray')\n",
        "plt.show()    \n",
        "plt.figure(figsize=(20, 4))\n",
        "print(\"Denoised\")\n",
        "for i in range(10,20,1):\n",
        "    plt.subplot(2, 10, i+1)\n",
        "    plt.imshow(pred[i,:,:], cmap='gray')  \n",
        "plt.show()"
      ],
      "metadata": {
        "colab": {
          "base_uri": "https://localhost:8080/",
          "height": 455
        },
        "id": "VnELane4_H9o",
        "outputId": "b0c67ba4-7fb5-4af1-e6c5-cd38557195be"
      },
      "execution_count": 37,
      "outputs": [
        {
          "output_type": "stream",
          "name": "stdout",
          "text": [
            "Real\n"
          ]
        },
        {
          "output_type": "display_data",
          "data": {
            "text/plain": [
              "<Figure size 1440x288 with 10 Axes>"
            ],
            "image/png": "[encoded data removed]"
          },
          "metadata": {
            "needs_background": "light"
          }
        },
        {
          "output_type": "stream",
          "name": "stdout",
          "text": [
            "Noised\n"
          ]
        },
        {
          "output_type": "display_data",
          "data": {
            "text/plain": [
              "<Figure size 1440x288 with 10 Axes>"
            ],
            "image/png": "[encoded data removed]"
          },
          "metadata": {
            "needs_background": "light"
          }
        },
        {
          "output_type": "stream",
          "name": "stdout",
          "text": [
            "Denoised\n"
          ]
        },
        {
          "output_type": "display_data",
          "data": {
            "text/plain": [
              "<Figure size 1440x288 with 10 Axes>"
            ],
            "image/png": "[encoded data removed]"
          },
          "metadata": {
            "needs_background": "light"
          }
        }
      ]
    },
    {
      "cell_type": "code",
      "execution_count": null,
      "metadata": {
        "id": "lCFY9tS2vXvO"
      },
      "outputs": [],
      "source": [
        "############################\n",
        "### Code Here (6 Points) ###\n",
        "############################\n",
        "\n",
        "# the loss function\n",
        "# import torch.optim as optim\n",
        "# criterion = nn.MSELoss()\n",
        "# # the optimizer\n",
        "# optimizer = optim.Adam(net.parameters(), lr=0.1)\n",
        "\n",
        "# specify loss function\n",
        "# criterion = nn.MSELoss()\n",
        "\n",
        "# # specify loss function\n",
        "# optimizer = torch.optim.Adam(model.parameters(), lr=0.001)\n",
        "\n",
        "\n"
      ]
    },
    {
      "cell_type": "code",
      "source": [
        "# # number of epochs to train the model\n",
        "# n_epochs = 3\n",
        "\n",
        "# for epoch in range(1, n_epochs+1):\n",
        "#     # monitor training loss\n",
        "#     train_loss = 0.0\n",
        "    \n",
        "#     ###################\n",
        "#     # train the model #\n",
        "#     ###################\n",
        "#     for data in noisy_mnist_train:\n",
        "#         # _ stands in for labels, here\n",
        "#         images, _ = data\n",
        "#         # flatten images\n",
        "#         images = images.view(images.size(0), -1)\n",
        "#         # clear the gradients of all optimized variables\n",
        "#         optimizer.zero_grad()\n",
        "#         # forward pass: compute predicted outputs by passing inputs to the model\n",
        "#         outputs = model(images)\n",
        "#         # print(outputs)\n",
        "#         # calculate the loss\n",
        "#         loss = criterion(outputs, images)\n",
        "#         # backward pass: compute gradient of the loss with respect to model parameters\n",
        "#         loss.backward()\n",
        "#         # perform a single optimization step (parameter update)\n",
        "#         optimizer.step()\n",
        "#         # update running training loss\n",
        "#         train_loss += loss.item()*images.size(0)\n",
        "            \n",
        "#     # print avg training statistics \n",
        "#     train_loss = train_loss/len(noisy_mnist_train)\n",
        "#     print('Epoch: {} \\tTraining Loss: {:.6f}'.format(\n",
        "#         epoch, \n",
        "#         train_loss\n",
        "#         ))"
      ],
      "metadata": {
        "id": "kq2ICJhUBBtR"
      },
      "execution_count": null,
      "outputs": []
    },
    {
      "cell_type": "code",
      "source": [
        "# plt.imshow(noisy_mnist_train[320][0][0])"
      ],
      "metadata": {
        "id": "sxowdi0PKM36"
      },
      "execution_count": null,
      "outputs": []
    },
    {
      "cell_type": "code",
      "source": [],
      "metadata": {
        "id": "GhLvla63MsCE"
      },
      "execution_count": null,
      "outputs": []
    },
    {
      "cell_type": "code",
      "source": [
        "# batch_size = 60\n",
        "\n",
        "# # obtain one batch of test images\n",
        "# # image = noisy_mnist_train\n",
        "\n",
        "# # images_flatten = images.view(images.size(0), -1)\n",
        "# # get sample outputs\n",
        "# output = model(torch.tensor(mnist_train))\n",
        "# # prep images for display\n",
        "# images = images.numpy()\n",
        "\n",
        "# # output is resized into a batch of images\n",
        "# output = output.view(batch_size, 1, 28, 28)\n",
        "# # use detach when it's an output that requires_grad\n",
        "# output = output.detach().numpy()\n",
        "\n",
        "# # plot the first ten input images and then reconstructed images\n",
        "# fig, axes = plt.subplots(nrows=2, ncols=10, sharex=True, sharey=True, figsize=(25,4))\n",
        "\n",
        "# # input images on top row, reconstructions on bottom\n",
        "# for images, row in zip([images, output], axes):\n",
        "#     for img, ax in zip(images, row):\n",
        "#         ax.imshow(np.squeeze(img), cmap='gray')\n",
        "#         ax.get_xaxis().set_visible(False)\n",
        "#         ax.get_yaxis().set_visible(False)"
      ],
      "metadata": {
        "id": "KXB9hlu6BU9e"
      },
      "execution_count": null,
      "outputs": []
    }
  ],
  "metadata": {
    "colab": {
      "provenance": []
    },
    "kernelspec": {
      "display_name": "Python 3 (ipykernel)",
      "language": "python",
      "name": "python3"
    },
    "language_info": {
      "codemirror_mode": {
        "name": "ipython",
        "version": 3
      },
      "file_extension": ".py",
      "mimetype": "text/x-python",
      "name": "python",
      "nbconvert_exporter": "python",
      "pygments_lexer": "ipython3",
      "version": "3.9.7"
    },
    "vscode": {
      "interpreter": {
        "hash": "aee8b7b246df8f9039afb4144a1f6fd8d2ca17a180786b69acc140d282b71a49"
      }
    }
  },
  "nbformat": 4,
  "nbformat_minor": 0
}