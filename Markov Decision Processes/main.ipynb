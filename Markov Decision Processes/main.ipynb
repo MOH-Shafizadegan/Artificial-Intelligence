{
 "cells": [
  {
   "cell_type": "markdown",
   "metadata": {},
   "source": [
    "<center>\n",
    "In God We Trust\n",
    "</center>"
   ]
  },
  {
   "cell_type": "markdown",
   "metadata": {},
   "source": [
    "# CE417: Artificial Intelligence\n",
    "\n",
    "Dr. Mahdiyeh Soleymani Baghshah\n",
    "\n",
    "Computer Engineering Department,\n",
    "Sharif University of Technology,\n",
    "Tehran, Tehran, Iran\n"
   ]
  },
  {
   "cell_type": "markdown",
   "metadata": {},
   "source": [
    "## Markov Decision Process (30 Points)\n",
    "\n",
    "HW3 :: Practical Question 2\n",
    "\n",
    "<br>\n",
    "\n",
    "Corresponding TA: Aryan Ahadinia, Saeed Hedayatiyan\n"
   ]
  },
  {
   "cell_type": "markdown",
   "metadata": {},
   "source": [
    "In this question, We're going to implement a generic MDP solver, so we can solve every question by passing transition and reward functions. We use an example to test our implementation but it's important to write MDP solver functions in a generic form. So it's important to maintain notebook structure and only write codes and comment in annotated areas."
   ]
  },
  {
   "cell_type": "markdown",
   "metadata": {},
   "source": [
    "### Modeling a Problem (5 Points)\n",
    "\n",
    "In a TV quiz show, there are several levels. At each level, if the participant answers the question correctly, they will receive some prize. If the participant's answer is wrong, they leave the competition empty-handed. Before each stage begins, the participant can decide whether to continue or withdraw and leave the game with the reward which they already earned.\n",
    "\n",
    "Beside states representing each level, There are three terminal states of Win, Lost and Quit in the game. Actions in each state are quit and play. The player will go to the quit state with probability of 1 if they decide to take action quit. otherwise they will pass the level i by probability of win_ratio[i] and go to the state which represents the next level.\n",
    "\n",
    "So the play / quit decision problem can be modeled as an MDP as below.\n",
    "\n",
    "<p align=\"center\">\n",
    "<image src=\"./assets/quiz_problem.png\">\n",
    "</p>\n",
    "\n",
    "Considering $100, $200, $300, $400 and $500 as rewards and 0.9, 0.7, 0.6, 0.3, 0.1 as win ratio for levels 0 to 4 respectively.\n",
    "\n",
    "Complete two cells below to model the problem as an MDP. Write levels and actions as an str.\n"
   ]
  },
  {
   "cell_type": "code",
   "execution_count": 1,
   "metadata": {},
   "outputs": [],
   "source": [
    "quiz_levels = [\n",
    "    \"0\", \"1\", \"2\", \"3\", \"4\"\n",
    "    ####### Complete this list (0.25 Point) #######\n",
    "]\n",
    "quiz_terminals = [\n",
    "    \"lost\", \"win\", \"quit\"\n",
    "    ####### Complete this list (0.25 Point) #######\n",
    "]\n",
    "\n",
    "quiz_states = quiz_levels + quiz_terminals\n",
    "quiz_actions = [\n",
    "    \"play\", \"quit\"\n",
    "    ####### Complete this list (0.5 Point) #######\n",
    "]\n"
   ]
  },
  {
   "cell_type": "code",
   "execution_count": 2,
   "metadata": {},
   "outputs": [],
   "source": [
    "from typing import Callable\n",
    "from typing import List\n",
    "from typing import Tuple\n",
    "from typing import Union\n"
   ]
  },
  {
   "cell_type": "code",
   "execution_count": 10,
   "metadata": {},
   "outputs": [],
   "source": [
    "def quiz_transition(state: str, action: str, next_state: str) -> float:\n",
    "    if state == \"0\":\n",
    "        if next_state == \"1\" and action == \"play\":\n",
    "            return 0.9\n",
    "        elif next_state == \"lost\" and action == \"play\":\n",
    "            return 1.0 - 0.9    \n",
    "        elif next_state == \"quit\" and action == \"quit\":\n",
    "            return 1.0\n",
    "        else:\n",
    "            return 0.0    \n",
    "\n",
    "    elif state == \"1\":\n",
    "        if next_state == \"2\" and action == \"play\":\n",
    "            return 0.7\n",
    "        elif next_state == \"lost\" and action == \"play\":\n",
    "            return 1.0 - 0.7 \n",
    "        elif next_state == \"quit\" and action == \"quit\":\n",
    "            return 1.0\n",
    "        else:\n",
    "            return 0.0\n",
    "    elif state == \"2\":\n",
    "        if next_state == \"3\" and action == \"play\":\n",
    "            return 0.6\n",
    "        elif next_state == \"lost\" and action == \"play\":\n",
    "            return 1.0 - 0.6 \n",
    "        elif next_state == \"quit\" and action == \"quit\":\n",
    "            return 1.0\n",
    "        else:\n",
    "            return 0.0\n",
    "\n",
    "    elif state == \"3\":\n",
    "        if next_state == \"4\" and action == \"play\":\n",
    "            return 0.3\n",
    "        elif next_state == \"lost\" and action == \"play\":\n",
    "            return 1.0 - 0.3\n",
    "        elif next_state == \"quit\" and action == \"quit\":\n",
    "            return 1.0\n",
    "        else:\n",
    "            return 0.0\n",
    "\n",
    "    elif state == \"4\":\n",
    "        if next_state == \"win\" and action == \"play\":\n",
    "            return 0.1\n",
    "        elif next_state == \"lost\" and action == \"play\":\n",
    "            return 1.0 - 0.1\n",
    "        elif next_state == \"quit\" and action == \"quit\":\n",
    "            return 1.0\n",
    "        else:\n",
    "            return 0.0\n",
    "\n",
    "    elif state == \"win\":\n",
    "        if next_state == \"win\":\n",
    "            return 1.0\n",
    "        return 0.0\n",
    "\n",
    "    elif state == \"lost\":\n",
    "        if next_state == \"lost\":\n",
    "            return 1.0\n",
    "        return 0.0\n",
    "\n",
    "    elif state == \"quit\":\n",
    "        if next_state == \"quit\":\n",
    "            return 1.0\n",
    "        return 0.0\n",
    "\n",
    "    else:\n",
    "        print(\"Invalid Start State!\")\n",
    "        return 0.0\n",
    "\n",
    "\n",
    "def quiz_reward(state: str, action: str, next_state: str) -> Union[float, int]:\n",
    "    if state == \"0\":\n",
    "        if next_state == \"1\":\n",
    "            return 0.0\n",
    "        elif next_state == \"lost\":\n",
    "            return 0.0\n",
    "        elif next_state == \"quit\":\n",
    "            return 0.0\n",
    "        else:\n",
    "            return 0.0\n",
    "    elif state == \"1\"        :\n",
    "        if next_state == \"2\":\n",
    "            return 0.0\n",
    "        elif next_state == \"lost\":\n",
    "            return -100.0\n",
    "        elif next_state == \"quit\":\n",
    "            return 100.0\n",
    "        else:\n",
    "            return 0.0\n",
    "    elif state == \"2\":\n",
    "        if next_state == \"3\":\n",
    "            return 0.0\n",
    "        elif next_state == \"lost\":\n",
    "            return -300.0\n",
    "        elif next_state == \"quit\":\n",
    "            return 300.0\n",
    "        else:\n",
    "            return 0.0\n",
    "    elif state == \"3\":\n",
    "        if next_state == \"4\":\n",
    "            return 0.0\n",
    "        elif next_state == \"lost\":\n",
    "            return -600.0\n",
    "        elif next_state == \"quit\":\n",
    "            return 600.0\n",
    "        else:\n",
    "            return 0.0\n",
    "    elif state == \"4\":\n",
    "        if next_state == \"win\":\n",
    "            return 1500.0\n",
    "        elif next_state == \"lost\":\n",
    "            return -1000.0\n",
    "        elif next_state == \"quit\":\n",
    "            return 1000.0\n",
    "        else:\n",
    "            return 0.0\n",
    "    else:\n",
    "        print(\"Invalid start state!\")    \n",
    "        return 0.0\n",
    "    ###########################################\n",
    "    ########## Code Here! (2 Points) ##########\n",
    "    ###########################################\n"
   ]
  },
  {
   "cell_type": "markdown",
   "metadata": {},
   "source": [
    "### Value Iteration (10 Points)\n",
    "\n",
    "Now we want to implement a function which does the value iteration process. Consider that this function must be a generic function to all MDP problems. So any internal reference to global variables is forbidden.\n",
    "\n",
    "This function gets transition function, reward function, discounting factor (gamma), list of states, list of terminal states, list of all possible actions and current value of each state as input and must return two lists: (1) updated values of each state and (2) list of best action which can be taken in each state regarding current values.\n"
   ]
  },
  {
   "cell_type": "code",
   "execution_count": 11,
   "metadata": {},
   "outputs": [],
   "source": [
    "def mdp_iterate(\n",
    "    transition_function: Callable[[str, str, str], float],\n",
    "    reward_function: Callable[[str, str, str], float],\n",
    "    gamma: float,\n",
    "    states: List[str],\n",
    "    terminals: List[str],\n",
    "    actions: List[str],\n",
    "    current_values: List[Union[float, int]],\n",
    ") -> Tuple[List[Union[float, int]]]:\n",
    "    new_values = []\n",
    "    best_actions = []\n",
    "    # print(current_values)\n",
    "    # print(states)\n",
    "    for i in range(len(states)):\n",
    "        current_state = states[i]\n",
    "        max_value = -float(\"inf\")\n",
    "        max_action = \"\"\n",
    "        if current_state not in terminals:\n",
    "            for action in actions:\n",
    "                new_value = 0\n",
    "                for j in range(len(states)):\n",
    "                    next_state = states[j]\n",
    "                    probablity = transition_function(current_state, action, next_state)\n",
    "                    reward = reward_function(current_state, action, next_state)\n",
    "                    if probablity > 0: # or equal?\n",
    "                        new_value += probablity * (reward + (gamma * current_values[j]))\n",
    "                if new_value > max_value:\n",
    "                    max_value = new_value\n",
    "                    max_action = action\n",
    "            new_values.append(max_value)\n",
    "            best_actions.append(max_action)\n",
    "        else:\n",
    "            new_values.append(0)\n",
    "            best_actions.append(\"\")\n",
    "\n",
    "    ###########################################\n",
    "    ########## Code Here! (10 Points) #########\n",
    "    ###########################################\n",
    "    return new_values, best_actions\n"
   ]
  },
  {
   "cell_type": "code",
   "execution_count": 13,
   "metadata": {},
   "outputs": [
    {
     "data": {
      "text/plain": [
       "([0.0, 100.0, 300.0, 600.0, 1000.0, 0, 0, 0],\n",
       " ['play', 'quit', 'quit', 'quit', 'quit', '', '', ''])"
      ]
     },
     "execution_count": 13,
     "metadata": {},
     "output_type": "execute_result"
    }
   ],
   "source": [
    "# My Test\n",
    "mdp_iterate(quiz_transition, quiz_reward, 0.01, quiz_states, quiz_terminals, quiz_actions, [0, 0, 0, 0, 0, 0, 0, 0])"
   ]
  },
  {
   "cell_type": "markdown",
   "metadata": {},
   "source": [
    "### MDP Solving (5 Points)\n",
    "\n",
    "Now write a function to use the iterative approach to calculate values of each state and solve the MDP problem.\n",
    "\n",
    "This function gets transition function, reward function, discounting factor (gamma), list of states, list of terminal states, list of all possible actions and number of iterations as input and must return a dictionary which maps states to best action can be taken. For example:\n",
    "\n",
    "```Python\n",
    "{\n",
    "    'S1': 'A1',\n",
    "    'S2': 'A2',\n",
    "    ...\n",
    "}\n",
    "```\n"
   ]
  },
  {
   "cell_type": "code",
   "execution_count": 14,
   "metadata": {},
   "outputs": [],
   "source": [
    "from typing import Dict\n",
    "\n",
    "\n",
    "def mdp_solve(\n",
    "    transition_function: Callable[[str, str, str], float],\n",
    "    reward_function: Callable[[str, str, str], float],\n",
    "    gamma: float,\n",
    "    states: List[str],\n",
    "    terminals: List[str],\n",
    "    actions: List[str],\n",
    "    iter: int,\n",
    ") -> Dict['str', 'str']:\n",
    "    current_values = [0 for i in range(len(states))]\n",
    "    best_actions = [\"\" for i in range(len(states))]\n",
    "    for i in range(iter):\n",
    "        answer = mdp_iterate(transition_function, reward_function, gamma, states, terminals, actions, current_values)\n",
    "        current_values = answer[0]\n",
    "        best_actions = answer[1]\n",
    "\n",
    "    return_dictionary = {}\n",
    "    for j in range(len(current_values)):\n",
    "        return_dictionary[states[j]] = best_actions[j]\n",
    "\n",
    "    return return_dictionary\n"
   ]
  },
  {
   "cell_type": "markdown",
   "metadata": {},
   "source": [
    "By now, running this code must solve the problem described above.\n"
   ]
  },
  {
   "cell_type": "code",
   "execution_count": 15,
   "metadata": {},
   "outputs": [
    {
     "data": {
      "text/plain": [
       "{'0': 'play',\n",
       " '1': 'quit',\n",
       " '2': 'quit',\n",
       " '3': 'quit',\n",
       " '4': 'quit',\n",
       " 'lost': '',\n",
       " 'win': '',\n",
       " 'quit': ''}"
      ]
     },
     "execution_count": 15,
     "metadata": {},
     "output_type": "execute_result"
    }
   ],
   "source": [
    "mdp_solve(\n",
    "    quiz_transition,\n",
    "    quiz_reward,\n",
    "    0.5,\n",
    "    quiz_states,\n",
    "    quiz_terminals,\n",
    "    quiz_actions,\n",
    "    1000,\n",
    ")\n"
   ]
  },
  {
   "cell_type": "markdown",
   "metadata": {},
   "source": [
    "### Analyzing effect of discounting factor (10 Points)"
   ]
  },
  {
   "cell_type": "markdown",
   "metadata": {},
   "source": [
    "Now, solve the problem for different values of discounting factor. Then draw a plot to show how increasing discounting factor effect on best decision that should be take. Then write a paragraph about the result."
   ]
  },
  {
   "cell_type": "code",
   "execution_count": 39,
   "metadata": {},
   "outputs": [
    {
     "data": {
      "image/png": "[encoded data removed]",
      "text/plain": [
       "<Figure size 432x288 with 1 Axes>"
      ]
     },
     "metadata": {
      "needs_background": "light"
     },
     "output_type": "display_data"
    },
    {
     "data": {
      "image/png": "[encoded data removed]",
      "text/plain": [
       "<Figure size 432x288 with 1 Axes>"
      ]
     },
     "metadata": {
      "needs_background": "light"
     },
     "output_type": "display_data"
    },
    {
     "data": {
      "image/png": "[encoded data removed]",
      "text/plain": [
       "<Figure size 432x288 with 1 Axes>"
      ]
     },
     "metadata": {
      "needs_background": "light"
     },
     "output_type": "display_data"
    },
    {
     "data": {
      "image/png": "[encoded data removed]",
      "text/plain": [
       "<Figure size 432x288 with 1 Axes>"
      ]
     },
     "metadata": {
      "needs_background": "light"
     },
     "output_type": "display_data"
    },
    {
     "data": {
      "image/png": "[encoded data removed]",
      "text/plain": [
       "<Figure size 432x288 with 1 Axes>"
      ]
     },
     "metadata": {
      "needs_background": "light"
     },
     "output_type": "display_data"
    }
   ],
   "source": [
    "import numpy as np\n",
    "import matplotlib.pyplot as plt\n",
    "\n",
    "xpoints = [[0.0 for i in range(101)] for j in range(5)]\n",
    "ypoints = [[0.0 for i in range(101)] for j in range(5)]\n",
    "for i in range(101):\n",
    "    gamma = float(i / 100)\n",
    "    answer = mdp_solve(\n",
    "        quiz_transition,\n",
    "        quiz_reward,\n",
    "        gamma,\n",
    "        quiz_states,\n",
    "        quiz_terminals,\n",
    "        quiz_actions,\n",
    "        1000,\n",
    "    )\n",
    "    xpoints[0][i] = gamma\n",
    "    ypoints[0][i] = answer[\"0\"]\n",
    "    xpoints[1][i] = gamma\n",
    "    ypoints[1][i] = answer[\"1\"]\n",
    "    xpoints[2][i] = gamma\n",
    "    ypoints[2][i] = answer[\"2\"]\n",
    "    xpoints[3][i] = gamma\n",
    "    ypoints[3][i] = answer[\"3\"]\n",
    "    xpoints[4][i] = gamma\n",
    "    ypoints[4][i] = answer[\"4\"]\n",
    "\n",
    "plt.title(\"State 0\")\n",
    "plt.plot(np.array(xpoints[0]), np.array(ypoints[0]))\n",
    "plt.xlabel('Gamma')\n",
    "plt.ylabel('Best Action')\n",
    "plt.show()\n",
    "\n",
    "plt.title(\"State 1\")\n",
    "plt.plot(np.array(xpoints[1]), np.array(ypoints[1]))\n",
    "plt.xlabel('Gamma')\n",
    "plt.ylabel('Best Action')\n",
    "plt.show()\n",
    "\n",
    "plt.title(\"State 2\")\n",
    "plt.plot(np.array(xpoints[2]), np.array(ypoints[2]))\n",
    "plt.xlabel('Gamma')\n",
    "plt.ylabel('Best Action')\n",
    "plt.show()\n",
    "\n",
    "plt.title(\"State 3\")\n",
    "plt.plot(np.array(xpoints[3]), np.array(ypoints[3]))\n",
    "plt.xlabel('Gamma')\n",
    "plt.ylabel('Best Action')\n",
    "plt.show()\n",
    "\n",
    "plt.title(\"State 4\")\n",
    "plt.plot(np.array(xpoints[4]), np.array(ypoints[4]))\n",
    "plt.xlabel('Gamma')\n",
    "plt.ylabel('Best Action')\n",
    "plt.show()"
   ]
  },
  {
   "cell_type": "markdown",
   "metadata": {},
   "source": [
    "######### Write Here (5 Points) ###########\n",
    "\n",
    "مطابق با نمودارهای بالا، هرچه گاما زیادتر شود، دوربین تر میشویم و هر چه گاما کوچکتر باشد نزدیکبین تریم.\n",
    "\n",
    "یعنی وقتی گاما زیاد شود، به جوایزی که در ادامه می آید نیز خوشبین میشویم.\n",
    "\n",
    "یعنی جوایز آینده نیز برایمان ارزشمند میشود\n",
    "\n",
    "اما وقتی گاما کوچک است جوایز آینده بی ارزش است و همین جوایز دم دستی برایمان ارزشمند است\n",
    "\n",
    "برای همین در استیت 2 از حدود گامای 0.6 به بعد، بازی کردن ارزشمند است\n"
   ]
  }
 ],
 "metadata": {
  "interpreter": {
   "hash": "ad2bdc8ecc057115af97d19610ffacc2b4e99fae6737bb82f5d7fb13d2f2c186"
  },
  "kernelspec": {
   "display_name": "Python 3.8.8 ('base')",
   "language": "python",
   "name": "python3"
  },
  "language_info": {
   "codemirror_mode": {
    "name": "ipython",
    "version": 3
   },
   "file_extension": ".py",
   "mimetype": "text/x-python",
   "name": "python",
   "nbconvert_exporter": "python",
   "pygments_lexer": "ipython3",
   "version": "3.8.8"
  },
  "orig_nbformat": 4,
  "vscode": {
   "interpreter": {
    "hash": "aee8b7b246df8f9039afb4144a1f6fd8d2ca17a180786b69acc140d282b71a49"
   }
  }
 },
 "nbformat": 4,
 "nbformat_minor": 2
}
